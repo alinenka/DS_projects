{
  "cells": [
    {
      "cell_type": "markdown",
      "metadata": {
        "toc": true,
        "id": "GGYJ2MJcN7Bt"
      },
      "source": [
        "<h1>Содержание<span class=\"tocSkip\"></span></h1>\n",
        "<div class=\"toc\"><ul class=\"toc-item\"><li><span><a href=\"#Подготовка\" data-toc-modified-id=\"Подготовка-1\"><span class=\"toc-item-num\">1&nbsp;&nbsp;</span>Подготовка</a></span></li><li><span><a href=\"#Обучение\" data-toc-modified-id=\"Обучение-2\"><span class=\"toc-item-num\">2&nbsp;&nbsp;</span>Обучение</a></span><ul class=\"toc-item\"><li><span><a href=\"#Логистическая-регрессия\" data-toc-modified-id=\"Логистическая-регрессия-2.1\"><span class=\"toc-item-num\">2.1&nbsp;&nbsp;</span>Логистическая регрессия</a></span></li><li><span><a href=\"#Дерево-решений\" data-toc-modified-id=\"Дерево-решений-2.2\"><span class=\"toc-item-num\">2.2&nbsp;&nbsp;</span>Дерево решений</a></span></li><li><span><a href=\"#Случайный-лес\" data-toc-modified-id=\"Случайный-лес-2.3\"><span class=\"toc-item-num\">2.3&nbsp;&nbsp;</span>Случайный лес</a></span></li><li><span><a href=\"#CatBoost\" data-toc-modified-id=\"CatBoost-2.4\"><span class=\"toc-item-num\">2.4&nbsp;&nbsp;</span>CatBoost</a></span></li></ul></li><li><span><a href=\"#Выводы\" data-toc-modified-id=\"Выводы-3\"><span class=\"toc-item-num\">3&nbsp;&nbsp;</span>Выводы</a></span></li><li><span><a href=\"#Чек-лист-проверки\" data-toc-modified-id=\"Чек-лист-проверки-4\"><span class=\"toc-item-num\">4&nbsp;&nbsp;</span>Чек-лист проверки</a></span></li></ul></div>"
      ]
    },
    {
      "cell_type": "markdown",
      "metadata": {
        "id": "Lb3JcOP8N7Bw"
      },
      "source": [
        "# Проект для «Викишоп»"
      ]
    },
    {
      "cell_type": "markdown",
      "metadata": {
        "id": "_BdGxX9WN7Bw"
      },
      "source": [
        "Интернет-магазин «Викишоп» запускает новый сервис. Теперь пользователи могут редактировать и дополнять описания товаров, как в вики-сообществах. То есть клиенты предлагают свои правки и комментируют изменения других. Магазину нужен инструмент, который будет искать токсичные комментарии и отправлять их на модерацию.\n",
        "\n",
        "Обучите модель классифицировать комментарии на позитивные и негативные. В вашем распоряжении набор данных с разметкой о токсичности правок.\n",
        "\n",
        "Постройте модель со значением метрики качества *F1* не меньше 0.75.\n",
        "\n",
        "**Инструкция по выполнению проекта**\n",
        "\n",
        "1. Загрузите и подготовьте данные.\n",
        "2. Обучите разные модели.\n",
        "3. Сделайте выводы.\n",
        "\n",
        "Для выполнения проекта применять *BERT* необязательно, но вы можете попробовать.\n",
        "\n",
        "**Описание данных**\n",
        "\n",
        "Данные находятся в файле `toxic_comments.csv`. Столбец *text* в нём содержит текст комментария, а *toxic* — целевой признак."
      ]
    },
    {
      "cell_type": "markdown",
      "metadata": {
        "id": "pbSZkMZvN7Bw"
      },
      "source": [
        "## Подготовка"
      ]
    },
    {
      "cell_type": "markdown",
      "metadata": {
        "id": "0vHp-53LN7Bw"
      },
      "source": [
        "Подключение и установка бибилиотек -проект выполнялся на локальном компьютере в среде Anaconda и дополнительно были установлены:\n",
        "\n",
        "python -m spacy download en_core_web_lg\n",
        "\n",
        "python -m spacy download en_core_web_sm"
      ]
    },
    {
      "cell_type": "code",
      "execution_count": null,
      "metadata": {
        "collapsed": true,
        "id": "sPXyow4pN7Bx",
        "outputId": "40743c1c-3866-46cd-e056-60e415ce38f3"
      },
      "outputs": [
        {
          "name": "stdout",
          "output_type": "stream",
          "text": [
            "Requirement already satisfied: pandarallel in /opt/conda/lib/python3.9/site-packages (1.6.5)\n",
            "Requirement already satisfied: psutil in /opt/conda/lib/python3.9/site-packages (from pandarallel) (5.9.5)\n",
            "Requirement already satisfied: dill>=0.3.1 in /opt/conda/lib/python3.9/site-packages (from pandarallel) (0.3.6)\n",
            "Requirement already satisfied: pandas>=1 in /opt/conda/lib/python3.9/site-packages (from pandarallel) (1.2.4)\n",
            "Requirement already satisfied: python-dateutil>=2.7.3 in /opt/conda/lib/python3.9/site-packages (from pandas>=1->pandarallel) (2.8.1)\n",
            "Requirement already satisfied: pytz>=2017.3 in /opt/conda/lib/python3.9/site-packages (from pandas>=1->pandarallel) (2021.1)\n",
            "Requirement already satisfied: numpy>=1.16.5 in /opt/conda/lib/python3.9/site-packages (from pandas>=1->pandarallel) (1.21.1)\n",
            "Requirement already satisfied: six>=1.5 in /opt/conda/lib/python3.9/site-packages (from python-dateutil>=2.7.3->pandas>=1->pandarallel) (1.16.0)\n",
            "Requirement already satisfied: spacy in /opt/conda/lib/python3.9/site-packages (3.2.0)\n",
            "Requirement already satisfied: tqdm<5.0.0,>=4.38.0 in /opt/conda/lib/python3.9/site-packages (from spacy) (4.61.2)\n",
            "Requirement already satisfied: spacy-legacy<3.1.0,>=3.0.8 in /opt/conda/lib/python3.9/site-packages (from spacy) (3.0.10)\n",
            "Requirement already satisfied: spacy-loggers<2.0.0,>=1.0.0 in /opt/conda/lib/python3.9/site-packages (from spacy) (1.0.3)\n",
            "Requirement already satisfied: requests<3.0.0,>=2.13.0 in /opt/conda/lib/python3.9/site-packages (from spacy) (2.25.1)\n",
            "Requirement already satisfied: preshed<3.1.0,>=3.0.2 in /opt/conda/lib/python3.9/site-packages (from spacy) (3.0.7)\n",
            "Requirement already satisfied: wasabi<1.1.0,>=0.8.1 in /opt/conda/lib/python3.9/site-packages (from spacy) (0.10.1)\n",
            "Requirement already satisfied: blis<0.8.0,>=0.4.0 in /opt/conda/lib/python3.9/site-packages (from spacy) (0.7.8)\n",
            "Requirement already satisfied: langcodes<4.0.0,>=3.2.0 in /opt/conda/lib/python3.9/site-packages (from spacy) (3.3.0)\n",
            "Requirement already satisfied: thinc<8.1.0,>=8.0.12 in /opt/conda/lib/python3.9/site-packages (from spacy) (8.0.17)\n",
            "Requirement already satisfied: murmurhash<1.1.0,>=0.28.0 in /opt/conda/lib/python3.9/site-packages (from spacy) (1.0.8)\n",
            "Requirement already satisfied: packaging>=20.0 in /opt/conda/lib/python3.9/site-packages (from spacy) (21.3)\n",
            "Requirement already satisfied: cymem<2.1.0,>=2.0.2 in /opt/conda/lib/python3.9/site-packages (from spacy) (2.0.6)\n",
            "Requirement already satisfied: setuptools in /opt/conda/lib/python3.9/site-packages (from spacy) (49.6.0.post20210108)\n",
            "Requirement already satisfied: jinja2 in /opt/conda/lib/python3.9/site-packages (from spacy) (3.0.1)\n",
            "Requirement already satisfied: srsly<3.0.0,>=2.4.1 in /opt/conda/lib/python3.9/site-packages (from spacy) (2.4.4)\n",
            "Requirement already satisfied: pathy>=0.3.5 in /opt/conda/lib/python3.9/site-packages (from spacy) (0.6.2)\n",
            "Requirement already satisfied: pydantic!=1.8,!=1.8.1,<1.9.0,>=1.7.4 in /opt/conda/lib/python3.9/site-packages (from spacy) (1.8.2)\n",
            "Requirement already satisfied: numpy>=1.15.0 in /opt/conda/lib/python3.9/site-packages (from spacy) (1.21.1)\n",
            "Requirement already satisfied: catalogue<2.1.0,>=2.0.6 in /opt/conda/lib/python3.9/site-packages (from spacy) (2.0.8)\n",
            "Requirement already satisfied: typer<0.5.0,>=0.3.0 in /opt/conda/lib/python3.9/site-packages (from spacy) (0.4.2)\n",
            "Requirement already satisfied: pyparsing!=3.0.5,>=2.0.2 in /opt/conda/lib/python3.9/site-packages (from packaging>=20.0->spacy) (2.4.7)\n",
            "Requirement already satisfied: smart-open<6.0.0,>=5.2.1 in /opt/conda/lib/python3.9/site-packages (from pathy>=0.3.5->spacy) (5.2.1)\n",
            "Requirement already satisfied: typing-extensions>=3.7.4.3 in /opt/conda/lib/python3.9/site-packages (from pydantic!=1.8,!=1.8.1,<1.9.0,>=1.7.4->spacy) (4.3.0)\n",
            "Requirement already satisfied: certifi>=2017.4.17 in /opt/conda/lib/python3.9/site-packages (from requests<3.0.0,>=2.13.0->spacy) (2022.6.15)\n",
            "Requirement already satisfied: chardet<5,>=3.0.2 in /opt/conda/lib/python3.9/site-packages (from requests<3.0.0,>=2.13.0->spacy) (4.0.0)\n",
            "Requirement already satisfied: urllib3<1.27,>=1.21.1 in /opt/conda/lib/python3.9/site-packages (from requests<3.0.0,>=2.13.0->spacy) (1.26.6)\n",
            "Requirement already satisfied: idna<3,>=2.5 in /opt/conda/lib/python3.9/site-packages (from requests<3.0.0,>=2.13.0->spacy) (2.10)\n",
            "Requirement already satisfied: click<9.0.0,>=7.1.1 in /opt/conda/lib/python3.9/site-packages (from typer<0.5.0,>=0.3.0->spacy) (8.1.3)\n",
            "Requirement already satisfied: MarkupSafe>=2.0 in /opt/conda/lib/python3.9/site-packages (from jinja2->spacy) (2.1.1)\n",
            "Requirement already satisfied: catboost in /opt/conda/lib/python3.9/site-packages (1.0.3)\n",
            "Requirement already satisfied: six in /opt/conda/lib/python3.9/site-packages (from catboost) (1.16.0)\n",
            "Requirement already satisfied: pandas>=0.24.0 in /opt/conda/lib/python3.9/site-packages (from catboost) (1.2.4)\n",
            "Requirement already satisfied: scipy in /opt/conda/lib/python3.9/site-packages (from catboost) (1.9.1)\n",
            "Requirement already satisfied: graphviz in /opt/conda/lib/python3.9/site-packages (from catboost) (0.20.1)\n",
            "Requirement already satisfied: plotly in /opt/conda/lib/python3.9/site-packages (from catboost) (5.4.0)\n",
            "Requirement already satisfied: matplotlib in /opt/conda/lib/python3.9/site-packages (from catboost) (3.3.4)\n",
            "Requirement already satisfied: numpy>=1.16.0 in /opt/conda/lib/python3.9/site-packages (from catboost) (1.21.1)\n",
            "Requirement already satisfied: python-dateutil>=2.7.3 in /opt/conda/lib/python3.9/site-packages (from pandas>=0.24.0->catboost) (2.8.1)\n",
            "Requirement already satisfied: pytz>=2017.3 in /opt/conda/lib/python3.9/site-packages (from pandas>=0.24.0->catboost) (2021.1)\n",
            "Requirement already satisfied: pillow>=6.2.0 in /opt/conda/lib/python3.9/site-packages (from matplotlib->catboost) (9.5.0)\n",
            "Requirement already satisfied: pyparsing!=2.0.4,!=2.1.2,!=2.1.6,>=2.0.3 in /opt/conda/lib/python3.9/site-packages (from matplotlib->catboost) (2.4.7)\n",
            "Requirement already satisfied: cycler>=0.10 in /opt/conda/lib/python3.9/site-packages (from matplotlib->catboost) (0.11.0)\n",
            "Requirement already satisfied: kiwisolver>=1.0.1 in /opt/conda/lib/python3.9/site-packages (from matplotlib->catboost) (1.4.4)\n",
            "Requirement already satisfied: tenacity>=6.2.0 in /opt/conda/lib/python3.9/site-packages (from plotly->catboost) (8.0.1)\n",
            "Requirement already satisfied: wordcloud==1.8.2.2 in /opt/conda/lib/python3.9/site-packages (1.8.2.2)\n",
            "Requirement already satisfied: numpy>=1.6.1 in /opt/conda/lib/python3.9/site-packages (from wordcloud==1.8.2.2) (1.21.1)\n",
            "Requirement already satisfied: matplotlib in /opt/conda/lib/python3.9/site-packages (from wordcloud==1.8.2.2) (3.3.4)\n",
            "Requirement already satisfied: pillow in /opt/conda/lib/python3.9/site-packages (from wordcloud==1.8.2.2) (9.5.0)\n",
            "Requirement already satisfied: cycler>=0.10 in /opt/conda/lib/python3.9/site-packages (from matplotlib->wordcloud==1.8.2.2) (0.11.0)\n",
            "Requirement already satisfied: pyparsing!=2.0.4,!=2.1.2,!=2.1.6,>=2.0.3 in /opt/conda/lib/python3.9/site-packages (from matplotlib->wordcloud==1.8.2.2) (2.4.7)\n",
            "Requirement already satisfied: python-dateutil>=2.1 in /opt/conda/lib/python3.9/site-packages (from matplotlib->wordcloud==1.8.2.2) (2.8.1)\n",
            "Requirement already satisfied: kiwisolver>=1.0.1 in /opt/conda/lib/python3.9/site-packages (from matplotlib->wordcloud==1.8.2.2) (1.4.4)\n",
            "Requirement already satisfied: six>=1.5 in /opt/conda/lib/python3.9/site-packages (from python-dateutil>=2.1->matplotlib->wordcloud==1.8.2.2) (1.16.0)\n",
            "Requirement already satisfied: Pillow in /opt/conda/lib/python3.9/site-packages (9.5.0)\n"
          ]
        }
      ],
      "source": [
        "#python -m spacy download en_core_web_lg\n",
        "#python -m spacy download en_core_web_sm\n",
        "!pip install pandarallel\n",
        "!pip install spacy\n",
        "!pip install catboost\n",
        "#!pip install regex\n",
        "!/opt/conda/bin/python -m pip install wordcloud==1.8.2.2\n",
        "!pip install --upgrade Pillow"
      ]
    },
    {
      "cell_type": "code",
      "execution_count": null,
      "metadata": {
        "id": "LoultOvlN7By",
        "outputId": "c507c01e-c760-4a1a-b1c2-6910a8a3d2ed"
      },
      "outputs": [
        {
          "name": "stdout",
          "output_type": "stream",
          "text": [
            "INFO: Pandarallel will run on 4 workers.\n",
            "INFO: Pandarallel will use Memory file system to transfer data between the main process and workers.\n"
          ]
        },
        {
          "name": "stderr",
          "output_type": "stream",
          "text": [
            "[nltk_data] Downloading package stopwords to /home/jovyan/nltk_data...\n",
            "[nltk_data]   Package stopwords is already up-to-date!\n",
            "[nltk_data] Downloading package wordnet to /home/jovyan/nltk_data...\n",
            "[nltk_data]   Package wordnet is already up-to-date!\n",
            "[nltk_data] Downloading package punkt to /home/jovyan/nltk_data...\n",
            "[nltk_data]   Package punkt is already up-to-date!\n",
            "[nltk_data] Downloading package averaged_perceptron_tagger to\n",
            "[nltk_data]     /home/jovyan/nltk_data...\n",
            "[nltk_data]   Unzipping taggers/averaged_perceptron_tagger.zip.\n",
            "[nltk_data] Downloading package omw-1.4 to /home/jovyan/nltk_data...\n"
          ]
        },
        {
          "data": {
            "text/plain": [
              "True"
            ]
          },
          "execution_count": 2,
          "metadata": {},
          "output_type": "execute_result"
        }
      ],
      "source": [
        "import pandas as pd\n",
        "import re\n",
        "import warnings\n",
        "from sklearn.linear_model import LogisticRegression\n",
        "from sklearn.tree import DecisionTreeClassifier\n",
        "from sklearn.ensemble import RandomForestClassifier\n",
        "from sklearn.model_selection import train_test_split, cross_val_score, GridSearchCV\n",
        "import numpy as np\n",
        "import torch\n",
        "import transformers as ppb\n",
        "from sklearn.pipeline import Pipeline\n",
        "from sklearn.feature_extraction.text import TfidfVectorizer, CountVectorizer\n",
        "from sklearn.metrics import f1_score\n",
        "import matplotlib.pyplot as plt\n",
        "import nltk\n",
        "from nltk.probability import FreqDist\n",
        "from nltk import word_tokenize\n",
        "from nltk.corpus import stopwords as nltk_stopwords, wordnet\n",
        "from nltk.stem import WordNetLemmatizer\n",
        "from tqdm import tqdm\n",
        "\n",
        "import spacy\n",
        "from pandarallel import pandarallel\n",
        "from catboost import CatBoostClassifier\n",
        "from wordcloud import WordCloud\n",
        "\n",
        "warnings.filterwarnings('ignore')\n",
        "tqdm.pandas(desc=\"progress\")\n",
        "pandarallel.initialize(progress_bar = True)\n",
        "nlp = spacy.load(\"en_core_web_sm\")\n",
        "stopwords = set(nltk_stopwords.words('english'))\n",
        "%matplotlib inline\n",
        "nltk.download('stopwords')\n",
        "nltk.download('wordnet')\n",
        "nltk.download('punkt')\n",
        "nltk.download('averaged_perceptron_tagger')\n",
        "nltk.download('omw-1.4')"
      ]
    },
    {
      "cell_type": "markdown",
      "metadata": {
        "id": "0lzdQWzQN7B0"
      },
      "source": [
        "Открытие файла"
      ]
    },
    {
      "cell_type": "code",
      "execution_count": null,
      "metadata": {
        "id": "nKEJInBAN7B0",
        "outputId": "d5c064c0-3764-4e28-877a-c17343b11bec"
      },
      "outputs": [
        {
          "data": {
            "text/html": [
              "<div>\n",
              "<style scoped>\n",
              "    .dataframe tbody tr th:only-of-type {\n",
              "        vertical-align: middle;\n",
              "    }\n",
              "\n",
              "    .dataframe tbody tr th {\n",
              "        vertical-align: top;\n",
              "    }\n",
              "\n",
              "    .dataframe thead th {\n",
              "        text-align: right;\n",
              "    }\n",
              "</style>\n",
              "<table border=\"1\" class=\"dataframe\">\n",
              "  <thead>\n",
              "    <tr style=\"text-align: right;\">\n",
              "      <th></th>\n",
              "      <th>Unnamed: 0</th>\n",
              "      <th>text</th>\n",
              "      <th>toxic</th>\n",
              "    </tr>\n",
              "  </thead>\n",
              "  <tbody>\n",
              "    <tr>\n",
              "      <th>0</th>\n",
              "      <td>0</td>\n",
              "      <td>Explanation\\nWhy the edits made under my usern...</td>\n",
              "      <td>0</td>\n",
              "    </tr>\n",
              "    <tr>\n",
              "      <th>1</th>\n",
              "      <td>1</td>\n",
              "      <td>D'aww! He matches this background colour I'm s...</td>\n",
              "      <td>0</td>\n",
              "    </tr>\n",
              "    <tr>\n",
              "      <th>2</th>\n",
              "      <td>2</td>\n",
              "      <td>Hey man, I'm really not trying to edit war. It...</td>\n",
              "      <td>0</td>\n",
              "    </tr>\n",
              "    <tr>\n",
              "      <th>3</th>\n",
              "      <td>3</td>\n",
              "      <td>\"\\nMore\\nI can't make any real suggestions on ...</td>\n",
              "      <td>0</td>\n",
              "    </tr>\n",
              "    <tr>\n",
              "      <th>4</th>\n",
              "      <td>4</td>\n",
              "      <td>You, sir, are my hero. Any chance you remember...</td>\n",
              "      <td>0</td>\n",
              "    </tr>\n",
              "    <tr>\n",
              "      <th>5</th>\n",
              "      <td>5</td>\n",
              "      <td>\"\\n\\nCongratulations from me as well, use the ...</td>\n",
              "      <td>0</td>\n",
              "    </tr>\n",
              "    <tr>\n",
              "      <th>6</th>\n",
              "      <td>6</td>\n",
              "      <td>COCKSUCKER BEFORE YOU PISS AROUND ON MY WORK</td>\n",
              "      <td>1</td>\n",
              "    </tr>\n",
              "    <tr>\n",
              "      <th>7</th>\n",
              "      <td>7</td>\n",
              "      <td>Your vandalism to the Matt Shirvington article...</td>\n",
              "      <td>0</td>\n",
              "    </tr>\n",
              "    <tr>\n",
              "      <th>8</th>\n",
              "      <td>8</td>\n",
              "      <td>Sorry if the word 'nonsense' was offensive to ...</td>\n",
              "      <td>0</td>\n",
              "    </tr>\n",
              "    <tr>\n",
              "      <th>9</th>\n",
              "      <td>9</td>\n",
              "      <td>alignment on this subject and which are contra...</td>\n",
              "      <td>0</td>\n",
              "    </tr>\n",
              "  </tbody>\n",
              "</table>\n",
              "</div>"
            ],
            "text/plain": [
              "   Unnamed: 0                                               text  toxic\n",
              "0           0  Explanation\\nWhy the edits made under my usern...      0\n",
              "1           1  D'aww! He matches this background colour I'm s...      0\n",
              "2           2  Hey man, I'm really not trying to edit war. It...      0\n",
              "3           3  \"\\nMore\\nI can't make any real suggestions on ...      0\n",
              "4           4  You, sir, are my hero. Any chance you remember...      0\n",
              "5           5  \"\\n\\nCongratulations from me as well, use the ...      0\n",
              "6           6       COCKSUCKER BEFORE YOU PISS AROUND ON MY WORK      1\n",
              "7           7  Your vandalism to the Matt Shirvington article...      0\n",
              "8           8  Sorry if the word 'nonsense' was offensive to ...      0\n",
              "9           9  alignment on this subject and which are contra...      0"
            ]
          },
          "execution_count": 3,
          "metadata": {},
          "output_type": "execute_result"
        }
      ],
      "source": [
        "df = pd.read_csv(\"/datasets/toxic_comments.csv\")\n",
        "df.head(10)"
      ]
    },
    {
      "cell_type": "code",
      "execution_count": null,
      "metadata": {
        "id": "c3ZVPIgYN7B1",
        "outputId": "3fa9b9fa-a63d-43db-c384-b242137250c5"
      },
      "outputs": [
        {
          "name": "stdout",
          "output_type": "stream",
          "text": [
            "<class 'pandas.core.frame.DataFrame'>\n",
            "RangeIndex: 159292 entries, 0 to 159291\n",
            "Data columns (total 3 columns):\n",
            " #   Column      Non-Null Count   Dtype \n",
            "---  ------      --------------   ----- \n",
            " 0   Unnamed: 0  159292 non-null  int64 \n",
            " 1   text        159292 non-null  object\n",
            " 2   toxic       159292 non-null  int64 \n",
            "dtypes: int64(2), object(1)\n",
            "memory usage: 3.6+ MB\n"
          ]
        }
      ],
      "source": [
        "df.info()"
      ]
    },
    {
      "cell_type": "markdown",
      "metadata": {
        "id": "lpEc71KtN7B1"
      },
      "source": [
        "Колонка 0 дублирует индекс и не несет смысловой нагрузки"
      ]
    },
    {
      "cell_type": "code",
      "execution_count": null,
      "metadata": {
        "id": "lxp4n0YBN7B1",
        "outputId": "b2d90b70-3489-4c78-c4a9-f7a3e9e47e5e"
      },
      "outputs": [
        {
          "name": "stdout",
          "output_type": "stream",
          "text": [
            "<class 'pandas.core.frame.DataFrame'>\n",
            "RangeIndex: 159292 entries, 0 to 159291\n",
            "Data columns (total 2 columns):\n",
            " #   Column  Non-Null Count   Dtype \n",
            "---  ------  --------------   ----- \n",
            " 0   text    159292 non-null  object\n",
            " 1   toxic   159292 non-null  int64 \n",
            "dtypes: int64(1), object(1)\n",
            "memory usage: 2.4+ MB\n"
          ]
        }
      ],
      "source": [
        "df = df.drop(['Unnamed: 0'], axis = 1)\n",
        "df.info()"
      ]
    },
    {
      "cell_type": "markdown",
      "metadata": {
        "id": "ya7nFLk2N7B2"
      },
      "source": [
        "Посомтрим, какое соотношение токсичных и обычных комментариев"
      ]
    },
    {
      "cell_type": "code",
      "execution_count": null,
      "metadata": {
        "id": "JQu2h25YN7B2",
        "outputId": "7d543fa9-cb54-43df-dec4-6bba31d13dea"
      },
      "outputs": [
        {
          "data": {
            "text/plain": [
              "0    143106\n",
              "1     16186\n",
              "Name: toxic, dtype: int64"
            ]
          },
          "execution_count": 6,
          "metadata": {},
          "output_type": "execute_result"
        }
      ],
      "source": [
        "df['toxic'].value_counts()"
      ]
    },
    {
      "cell_type": "markdown",
      "metadata": {
        "id": "N6TK44KsN7B2"
      },
      "source": [
        "Классы несбалансированы, это нужно будет учесть либо в балансе весов, либо при подборе обучающей выборки"
      ]
    },
    {
      "cell_type": "markdown",
      "metadata": {
        "id": "MRA0gxqTN7B2"
      },
      "source": [
        "Проверим на наличие дубликатов"
      ]
    },
    {
      "cell_type": "code",
      "execution_count": null,
      "metadata": {
        "id": "9FrJbOEiN7B2",
        "outputId": "bcced0cc-c7c8-4511-e2ad-5ef8a0bc03ac"
      },
      "outputs": [
        {
          "data": {
            "text/plain": [
              "0"
            ]
          },
          "execution_count": 7,
          "metadata": {},
          "output_type": "execute_result"
        }
      ],
      "source": [
        "df['text'].duplicated().sum()"
      ]
    },
    {
      "cell_type": "markdown",
      "metadata": {
        "id": "iBnw4Bz3N7B3"
      },
      "source": [
        "Дубликаты отсутствуют"
      ]
    },
    {
      "cell_type": "code",
      "execution_count": null,
      "metadata": {
        "id": "nuYTSK8GN7B3"
      },
      "outputs": [],
      "source": [
        "lemmatizer = WordNetLemmatizer()\n",
        "\n",
        "def clear_text(text):\n",
        "    text = text.lower()\n",
        "    cleared = re.sub(r'[^a-zA-Z]', ' ', text)\n",
        "    return \" \".join(cleared.split())\n",
        "\n",
        "def get_wordnet_pos(word):\n",
        "    \"\"\"Map POS tag to first character lemmatize() accepts\"\"\"\n",
        "    tag = nltk.pos_tag([word])[0][1][0].upper()\n",
        "    tag_dict = {\"J\": wordnet.ADJ,\n",
        "                \"N\": wordnet.NOUN,\n",
        "                \"V\": wordnet.VERB,\n",
        "                \"R\": wordnet.ADV}\n",
        "    return tag_dict.get(tag, wordnet.NOUN)\n",
        "\n",
        "\n",
        "def lemmatize_text(text):\n",
        "        lematized = [lemmatizer.lemmatize(w, get_wordnet_pos(w)) for w in nltk.word_tokenize(text)]\n",
        "        return  \" \".join(lematized)"
      ]
    },
    {
      "cell_type": "code",
      "execution_count": null,
      "metadata": {
        "id": "GRpX3QhdN7B3"
      },
      "outputs": [],
      "source": [
        "#df['text'] = df['text'].apply(clear_text)\n",
        "#df['lemm_text'] = df['text'].apply(lemmatize_text)\n",
        "#df = df.drop(['text'], axis=1)\n",
        "#df.to_csv('toxic_comments_lemms.csv')"
      ]
    },
    {
      "cell_type": "code",
      "execution_count": null,
      "metadata": {
        "id": "u84Qvc7tN7B4",
        "outputId": "e586bba0-3669-4556-9011-e8f0c8f57a66"
      },
      "outputs": [
        {
          "data": {
            "text/html": [
              "<div>\n",
              "<style scoped>\n",
              "    .dataframe tbody tr th:only-of-type {\n",
              "        vertical-align: middle;\n",
              "    }\n",
              "\n",
              "    .dataframe tbody tr th {\n",
              "        vertical-align: top;\n",
              "    }\n",
              "\n",
              "    .dataframe thead th {\n",
              "        text-align: right;\n",
              "    }\n",
              "</style>\n",
              "<table border=\"1\" class=\"dataframe\">\n",
              "  <thead>\n",
              "    <tr style=\"text-align: right;\">\n",
              "      <th></th>\n",
              "      <th>text</th>\n",
              "      <th>toxic</th>\n",
              "    </tr>\n",
              "  </thead>\n",
              "  <tbody>\n",
              "    <tr>\n",
              "      <th>79807</th>\n",
              "      <td>Are you Andy Greenwald? Because it'd make a lo...</td>\n",
              "      <td>1</td>\n",
              "    </tr>\n",
              "    <tr>\n",
              "      <th>107229</th>\n",
              "      <td>THE GODS \\n\\nIt's because I have sold my soul ...</td>\n",
              "      <td>0</td>\n",
              "    </tr>\n",
              "    <tr>\n",
              "      <th>153936</th>\n",
              "      <td>\"\\nI think the existence of the tags is a text...</td>\n",
              "      <td>0</td>\n",
              "    </tr>\n",
              "    <tr>\n",
              "      <th>119062</th>\n",
              "      <td>\"\\nSupport. This is the full RM case i made at...</td>\n",
              "      <td>0</td>\n",
              "    </tr>\n",
              "    <tr>\n",
              "      <th>45575</th>\n",
              "      <td>Hot 100 number-one hits of 2007 (USA)\\nPlease ...</td>\n",
              "      <td>0</td>\n",
              "    </tr>\n",
              "    <tr>\n",
              "      <th>69699</th>\n",
              "      <td>\"\\n\\n Redirecting \\n\\nYeah, \"\"Prison Break\"\" i...</td>\n",
              "      <td>0</td>\n",
              "    </tr>\n",
              "    <tr>\n",
              "      <th>32139</th>\n",
              "      <td>Fuck me in my asshole</td>\n",
              "      <td>1</td>\n",
              "    </tr>\n",
              "    <tr>\n",
              "      <th>65626</th>\n",
              "      <td>\"\\n\\n\"\"Alternative hip hop, like all genres of...</td>\n",
              "      <td>0</td>\n",
              "    </tr>\n",
              "    <tr>\n",
              "      <th>33315</th>\n",
              "      <td>.\\n\\n Jesus' a Jew? \\nSo JEW or NOT a JEW?  Se...</td>\n",
              "      <td>0</td>\n",
              "    </tr>\n",
              "    <tr>\n",
              "      <th>126784</th>\n",
              "      <td>\"\\n\\nWhich part did you find to be false? I am...</td>\n",
              "      <td>1</td>\n",
              "    </tr>\n",
              "  </tbody>\n",
              "</table>\n",
              "</div>"
            ],
            "text/plain": [
              "                                                     text  toxic\n",
              "79807   Are you Andy Greenwald? Because it'd make a lo...      1\n",
              "107229  THE GODS \\n\\nIt's because I have sold my soul ...      0\n",
              "153936  \"\\nI think the existence of the tags is a text...      0\n",
              "119062  \"\\nSupport. This is the full RM case i made at...      0\n",
              "45575   Hot 100 number-one hits of 2007 (USA)\\nPlease ...      0\n",
              "69699   \"\\n\\n Redirecting \\n\\nYeah, \"\"Prison Break\"\" i...      0\n",
              "32139                               Fuck me in my asshole      1\n",
              "65626   \"\\n\\n\"\"Alternative hip hop, like all genres of...      0\n",
              "33315   .\\n\\n Jesus' a Jew? \\nSo JEW or NOT a JEW?  Se...      0\n",
              "126784  \"\\n\\nWhich part did you find to be false? I am...      1"
            ]
          },
          "execution_count": 10,
          "metadata": {},
          "output_type": "execute_result"
        }
      ],
      "source": [
        "df.sample(10)"
      ]
    },
    {
      "cell_type": "markdown",
      "metadata": {
        "id": "smspdzvXN7B4"
      },
      "source": [
        "Очистим текст: переведем в нижний регистр, уберем все лишние символы кроме букв латинского алфавита, проведем лемматизацию."
      ]
    },
    {
      "cell_type": "code",
      "execution_count": null,
      "metadata": {
        "id": "KoToRZ2mN7B5",
        "outputId": "57d4c959-5332-475c-e5ba-66683b6e640f"
      },
      "outputs": [
        {
          "data": {
            "text/html": [
              "<div>\n",
              "<style scoped>\n",
              "    .dataframe tbody tr th:only-of-type {\n",
              "        vertical-align: middle;\n",
              "    }\n",
              "\n",
              "    .dataframe tbody tr th {\n",
              "        vertical-align: top;\n",
              "    }\n",
              "\n",
              "    .dataframe thead th {\n",
              "        text-align: right;\n",
              "    }\n",
              "</style>\n",
              "<table border=\"1\" class=\"dataframe\">\n",
              "  <thead>\n",
              "    <tr style=\"text-align: right;\">\n",
              "      <th></th>\n",
              "      <th>Unnamed: 0</th>\n",
              "      <th>toxic</th>\n",
              "      <th>lemm_text</th>\n",
              "    </tr>\n",
              "  </thead>\n",
              "  <tbody>\n",
              "    <tr>\n",
              "      <th>21752</th>\n",
              "      <td>21752</td>\n",
              "      <td>0</td>\n",
              "      <td>assistance request hello again if you have som...</td>\n",
              "    </tr>\n",
              "    <tr>\n",
              "      <th>85882</th>\n",
              "      <td>85882</td>\n",
              "      <td>1</td>\n",
              "      <td>newsflash schuminweb be gay</td>\n",
              "    </tr>\n",
              "    <tr>\n",
              "      <th>138633</th>\n",
              "      <td>138633</td>\n",
              "      <td>0</td>\n",
              "      <td>removal of the ancient history and after the f...</td>\n",
              "    </tr>\n",
              "    <tr>\n",
              "      <th>50397</th>\n",
              "      <td>50397</td>\n",
              "      <td>0</td>\n",
              "      <td>proper use the adjustable spanner proper use s...</td>\n",
              "    </tr>\n",
              "    <tr>\n",
              "      <th>129409</th>\n",
              "      <td>129409</td>\n",
              "      <td>0</td>\n",
              "      <td>july utc there be a poll earlier in the year t...</td>\n",
              "    </tr>\n",
              "    <tr>\n",
              "      <th>99262</th>\n",
              "      <td>99262</td>\n",
              "      <td>0</td>\n",
              "      <td>i ain t do nothing wrong</td>\n",
              "    </tr>\n",
              "    <tr>\n",
              "      <th>58263</th>\n",
              "      <td>58263</td>\n",
              "      <td>0</td>\n",
              "      <td>utc someone should update the article to refle...</td>\n",
              "    </tr>\n",
              "    <tr>\n",
              "      <th>107143</th>\n",
              "      <td>107143</td>\n",
              "      <td>0</td>\n",
              "      <td>look what i just add onto the article i write ...</td>\n",
              "    </tr>\n",
              "    <tr>\n",
              "      <th>64782</th>\n",
              "      <td>64782</td>\n",
              "      <td>0</td>\n",
              "      <td>it s seem less and less likely that cc be first</td>\n",
              "    </tr>\n",
              "    <tr>\n",
              "      <th>112141</th>\n",
              "      <td>112141</td>\n",
              "      <td>0</td>\n",
              "      <td>unblock me on e now</td>\n",
              "    </tr>\n",
              "  </tbody>\n",
              "</table>\n",
              "</div>"
            ],
            "text/plain": [
              "        Unnamed: 0  toxic                                          lemm_text\n",
              "21752        21752      0  assistance request hello again if you have som...\n",
              "85882        85882      1                        newsflash schuminweb be gay\n",
              "138633      138633      0  removal of the ancient history and after the f...\n",
              "50397        50397      0  proper use the adjustable spanner proper use s...\n",
              "129409      129409      0  july utc there be a poll earlier in the year t...\n",
              "99262        99262      0                           i ain t do nothing wrong\n",
              "58263        58263      0  utc someone should update the article to refle...\n",
              "107143      107143      0  look what i just add onto the article i write ...\n",
              "64782        64782      0    it s seem less and less likely that cc be first\n",
              "112141      112141      0                                unblock me on e now"
            ]
          },
          "execution_count": 11,
          "metadata": {},
          "output_type": "execute_result"
        }
      ],
      "source": [
        "#%%time\n",
        "#df['text'] = df['text'].apply(clear_text)\n",
        "#df['lemm_text'] = df['text'].parallel_apply(lambda x, nlp=nlp: \" \".join([token.lemma_ for token in nlp(x)]))\n",
        "#df = df.drop(['text'], axis=1)\n",
        "df = pd.read_csv(\"toxic_comments_lemms.csv\")\n",
        "df.sample(10)"
      ]
    },
    {
      "cell_type": "markdown",
      "metadata": {
        "id": "a6sPppGsN7B5"
      },
      "source": [
        "В среде Практикума не хватает места на выполнение((  Иногда хватало, но сейчас видимо нагрузка большая. Поэтому гружу локально обработанный файл.\n",
        "![image.png](attachment:image.png)"
      ]
    },
    {
      "cell_type": "markdown",
      "metadata": {
        "id": "wwnhhWVhN7B5"
      },
      "source": [
        "Уберем пустые строки"
      ]
    },
    {
      "cell_type": "code",
      "execution_count": null,
      "metadata": {
        "id": "grYtXkeCN7B5"
      },
      "outputs": [],
      "source": [
        "df = df.dropna()"
      ]
    },
    {
      "cell_type": "markdown",
      "metadata": {
        "id": "Fi3sVtmdN7B6"
      },
      "source": [
        "Посмотрим на датасет"
      ]
    },
    {
      "cell_type": "code",
      "execution_count": null,
      "metadata": {
        "id": "IJ09X94wN7B6",
        "outputId": "c9e105ad-76a2-450a-b77f-56354c52e343"
      },
      "outputs": [
        {
          "name": "stdout",
          "output_type": "stream",
          "text": [
            "<class 'pandas.core.frame.DataFrame'>\n",
            "Int64Index: 159281 entries, 0 to 159291\n",
            "Data columns (total 3 columns):\n",
            " #   Column      Non-Null Count   Dtype \n",
            "---  ------      --------------   ----- \n",
            " 0   Unnamed: 0  159281 non-null  int64 \n",
            " 1   toxic       159281 non-null  int64 \n",
            " 2   lemm_text   159281 non-null  object\n",
            "dtypes: int64(2), object(1)\n",
            "memory usage: 4.9+ MB\n"
          ]
        }
      ],
      "source": [
        "df.info()"
      ]
    },
    {
      "cell_type": "markdown",
      "metadata": {
        "id": "sqY4CqO6N7B6"
      },
      "source": [
        "Проведем частотный анализ слов в текстах, признанных токсичными. Отберем только токсичные комментарии и соберем их в единый текст."
      ]
    },
    {
      "cell_type": "code",
      "execution_count": null,
      "metadata": {
        "id": "jJAKLWYGN7B6"
      },
      "outputs": [],
      "source": [
        "toxic_array = list((df[df['toxic']>0]['lemm_text']))\n",
        "corpus = \" \".join(toxic_array)"
      ]
    },
    {
      "cell_type": "markdown",
      "metadata": {
        "id": "ECrTAVSAN7B7"
      },
      "source": [
        "Проведем токенизацию, уберем стоп-слова и отберем наиболее употребляемые"
      ]
    },
    {
      "cell_type": "code",
      "execution_count": null,
      "metadata": {
        "id": "eFTXO_wsN7B7",
        "outputId": "07e15dff-9cc8-459b-9709-cfa8c7ed46f7"
      },
      "outputs": [
        {
          "data": {
            "text/plain": [
              "[('fuck', 13527),\n",
              " ('suck', 4820),\n",
              " ('go', 4321),\n",
              " ('like', 3949),\n",
              " ('wikipedia', 3927),\n",
              " ('shit', 3721),\n",
              " ('u', 3493),\n",
              " ('nigger', 3434),\n",
              " ('get', 3379),\n",
              " ('page', 2858)]"
            ]
          },
          "execution_count": 15,
          "metadata": {},
          "output_type": "execute_result"
        }
      ],
      "source": [
        "tokens = word_tokenize(corpus)\n",
        "tokens = [token for token in tokens if token not in stopwords]  # filter stopwords\n",
        "fdist = FreqDist(tokens)\n",
        "common = fdist.most_common(10)\n",
        "common"
      ]
    },
    {
      "cell_type": "markdown",
      "metadata": {
        "id": "kBzbedx5N7B7"
      },
      "source": [
        "Отобразим их на графике"
      ]
    },
    {
      "cell_type": "code",
      "execution_count": null,
      "metadata": {
        "id": "HS8jzDt_N7B7",
        "outputId": "fdcce932-2313-43f5-aa2d-c43298f8f277"
      },
      "outputs": [
        {
          "data": {
            "image/png": "[encoded data removed]",
            "text/plain": [
              "<Figure size 1080x576 with 1 Axes>"
            ]
          },
          "metadata": {
            "needs_background": "light"
          },
          "output_type": "display_data"
        }
      ],
      "source": [
        "plt.figure(figsize=(15,8))\n",
        "plt.title(\"Наиболее употребляемые слова\")\n",
        "fdist.plot(50,cumulative=False);"
      ]
    },
    {
      "cell_type": "markdown",
      "metadata": {
        "id": "QTWjxXclN7B7"
      },
      "source": [
        "Создадим облако наиболее употребляемых слов и отобразим его"
      ]
    },
    {
      "cell_type": "code",
      "execution_count": null,
      "metadata": {
        "id": "H0Hltul2N7B8"
      },
      "outputs": [],
      "source": [
        "wordcloud = WordCloud(collocations=False).generate(corpus)"
      ]
    },
    {
      "cell_type": "code",
      "execution_count": null,
      "metadata": {
        "id": "2VUbojB1N7B8",
        "outputId": "e6054c65-af4b-49e8-faa0-78bc58ee7b31"
      },
      "outputs": [
        {
          "data": {
            "image/png": "[encoded data removed]",
            "text/plain": [
              "<Figure size 864x1080 with 1 Axes>"
            ]
          },
          "metadata": {
            "needs_background": "light"
          },
          "output_type": "display_data"
        }
      ],
      "source": [
        "plt.figure(figsize=(12,15))\n",
        "plt.title(\"Наиболее употребляемые слова\")\n",
        "plt.imshow(wordcloud);"
      ]
    },
    {
      "cell_type": "markdown",
      "metadata": {
        "id": "-PpP3OiMN7B8"
      },
      "source": [
        "Разобьем выборку на обучающий, валидационный и тестовый наборы в соотношениии 60-20-20 с учетом стратификации выборки"
      ]
    },
    {
      "cell_type": "code",
      "execution_count": null,
      "metadata": {
        "id": "XeKKxY4PN7B9",
        "outputId": "635768c5-1dfd-4a6a-f52a-37a51b364b9e"
      },
      "outputs": [
        {
          "name": "stdout",
          "output_type": "stream",
          "text": [
            "(95568, 2)\n",
            "(31856, 2)\n",
            "(31857, 2)\n"
          ]
        }
      ],
      "source": [
        "features = df.drop(['toxic'], axis=1)\n",
        "target = df['toxic']\n",
        "\n",
        "features_train, features_valid, target_train, target_valid = train_test_split(features,\n",
        "                                                                              target,\n",
        "                                                                              test_size=0.4,\n",
        "                                                                              random_state=12345, stratify = target)\n",
        "features_valid, features_test, target_valid, target_test = train_test_split(features_valid,\n",
        "                                                                            target_valid,\n",
        "                                                                            test_size=0.5,\n",
        "                                                                            random_state=12345, stratify = target_valid)\n",
        "\n",
        "print(features_train.shape)\n",
        "print(features_valid.shape)\n",
        "print(features_test.shape)"
      ]
    },
    {
      "cell_type": "code",
      "execution_count": null,
      "metadata": {
        "id": "liRe7geLN7B9",
        "outputId": "1cc68f4d-463f-4663-e0c8-2f44ee256ad7"
      },
      "outputs": [
        {
          "data": {
            "text/html": [
              "<div>\n",
              "<style scoped>\n",
              "    .dataframe tbody tr th:only-of-type {\n",
              "        vertical-align: middle;\n",
              "    }\n",
              "\n",
              "    .dataframe tbody tr th {\n",
              "        vertical-align: top;\n",
              "    }\n",
              "\n",
              "    .dataframe thead th {\n",
              "        text-align: right;\n",
              "    }\n",
              "</style>\n",
              "<table border=\"1\" class=\"dataframe\">\n",
              "  <thead>\n",
              "    <tr style=\"text-align: right;\">\n",
              "      <th></th>\n",
              "      <th>Unnamed: 0</th>\n",
              "      <th>lemm_text</th>\n",
              "    </tr>\n",
              "  </thead>\n",
              "  <tbody>\n",
              "    <tr>\n",
              "      <th>104059</th>\n",
              "      <td>104059</td>\n",
              "      <td>it be list at the minor planet center a lose c...</td>\n",
              "    </tr>\n",
              "    <tr>\n",
              "      <th>149914</th>\n",
              "      <td>149914</td>\n",
              "      <td>warn yourself impersonate somebody else to war...</td>\n",
              "    </tr>\n",
              "    <tr>\n",
              "      <th>136334</th>\n",
              "      <td>136334</td>\n",
              "      <td>i don t know where you get the idea that mt ai...</td>\n",
              "    </tr>\n",
              "    <tr>\n",
              "      <th>3901</th>\n",
              "      <td>3901</td>\n",
              "      <td>you be a fuck head i m not a vandal so suck co...</td>\n",
              "    </tr>\n",
              "    <tr>\n",
              "      <th>153865</th>\n",
              "      <td>153865</td>\n",
              "      <td>yeah well i m half italian and not british</td>\n",
              "    </tr>\n",
              "  </tbody>\n",
              "</table>\n",
              "</div>"
            ],
            "text/plain": [
              "        Unnamed: 0                                          lemm_text\n",
              "104059      104059  it be list at the minor planet center a lose c...\n",
              "149914      149914  warn yourself impersonate somebody else to war...\n",
              "136334      136334  i don t know where you get the idea that mt ai...\n",
              "3901          3901  you be a fuck head i m not a vandal so suck co...\n",
              "153865      153865         yeah well i m half italian and not british"
            ]
          },
          "execution_count": 20,
          "metadata": {},
          "output_type": "execute_result"
        }
      ],
      "source": [
        "features_train.head()"
      ]
    },
    {
      "cell_type": "markdown",
      "metadata": {
        "id": "-w3b5n-hN7B-"
      },
      "source": [
        "Проведем tf-idf векторизацию"
      ]
    },
    {
      "cell_type": "code",
      "execution_count": null,
      "metadata": {
        "id": "kEFltmuHN7B-"
      },
      "outputs": [],
      "source": [
        "count_tf_idf = TfidfVectorizer(stop_words=list(stopwords))"
      ]
    },
    {
      "cell_type": "code",
      "execution_count": null,
      "metadata": {
        "id": "x8UY5bxoN7B_"
      },
      "outputs": [],
      "source": [
        "features_train_tf = count_tf_idf.fit_transform(features_train['lemm_text'].values)\n",
        "features_valid_tf = count_tf_idf.transform(features_valid['lemm_text'].values)\n",
        "features_test_tf = count_tf_idf.transform(features_test['lemm_text'].values)"
      ]
    },
    {
      "cell_type": "code",
      "execution_count": null,
      "metadata": {
        "id": "WbHOx0VRN7CA",
        "outputId": "f5ae6a7b-2845-4ff3-eebf-246ee1ddf89b"
      },
      "outputs": [
        {
          "data": {
            "text/plain": [
              "95568"
            ]
          },
          "execution_count": 23,
          "metadata": {},
          "output_type": "execute_result"
        }
      ],
      "source": [
        "features_train.shape[0]"
      ]
    },
    {
      "cell_type": "markdown",
      "metadata": {
        "id": "l3aUzw_lN7CA"
      },
      "source": [
        "## Обучение"
      ]
    },
    {
      "cell_type": "markdown",
      "metadata": {
        "id": "Q5yWvOFtN7CA"
      },
      "source": [
        "### Логистическая регрессия ###"
      ]
    },
    {
      "cell_type": "markdown",
      "metadata": {
        "id": "Vcg5d1XkN7CB"
      },
      "source": [
        "Подберем параметры для логистической регресси на обучающей выборке с tf-idf"
      ]
    },
    {
      "cell_type": "code",
      "execution_count": null,
      "metadata": {
        "id": "ikC8cT0yN7CB",
        "outputId": "f3b54288-219f-4ec8-aa57-bbdbb05c977d"
      },
      "outputs": [
        {
          "name": "stdout",
          "output_type": "stream",
          "text": [
            "Fitting 3 folds for each of 6 candidates, totalling 18 fits\n",
            "Лучшие параметры {'model__C': 4, 'model__penalty': 'l1'}\n",
            "Лучший результат F1: 0.7644446474456824\n",
            "CPU times: user 44.1 s, sys: 36.7 s, total: 1min 20s\n",
            "Wall time: 1min 20s\n"
          ]
        }
      ],
      "source": [
        "%%time\n",
        "#pipe = Pipeline([\n",
        "#    ('vect', CountVectorizer(ngram_range=(1,1))),\n",
        "#    ('tfidf', TfidfVectorizer(stop_words=stopwords)),\n",
        "#    ('model',LogisticRegression(random_state=12345, solver='liblinear', max_iter=100))])\n",
        "\n",
        "pipe = Pipeline([\n",
        "    ('model', LogisticRegression(random_state=12345, solver='liblinear', max_iter=100))\n",
        "    ])\n",
        "\n",
        "\n",
        "param_grid = [\n",
        "        {   'model__penalty' : ['l1', 'l2'],\n",
        "            'model__C': list(range(1,10,3))\n",
        "        }\n",
        "]\n",
        "log_grid = GridSearchCV(pipe, param_grid=param_grid, scoring='f1', cv=3, verbose=True, n_jobs=-1)\n",
        "best_grid = log_grid.fit(features_train_tf, target_train) #['lemm_text'].values\n",
        "print('Лучшие параметры', log_grid.best_params_)\n",
        "print('Лучший результат F1:', log_grid.best_score_)"
      ]
    },
    {
      "cell_type": "markdown",
      "metadata": {
        "id": "Sw2_lUdWN7CC"
      },
      "source": [
        "![image.png](attachment:image.png)"
      ]
    },
    {
      "cell_type": "markdown",
      "metadata": {
        "id": "EcAWSqjpN7CC"
      },
      "source": [
        "![image.png](attachment:image.png)"
      ]
    },
    {
      "cell_type": "markdown",
      "metadata": {
        "id": "S6U5hkSfN7CD"
      },
      "source": [
        "F1 для логистической регрессии при кросс валидации с TF IDF =  0.764"
      ]
    },
    {
      "cell_type": "markdown",
      "metadata": {
        "id": "LdD4wr__N7CD"
      },
      "source": [
        "### Дерево решений ###"
      ]
    },
    {
      "cell_type": "code",
      "execution_count": null,
      "metadata": {
        "id": "VOONm_LkN7CE"
      },
      "outputs": [],
      "source": [
        "%%time\n",
        "\n",
        "classificator_tree = DecisionTreeClassifier(random_state=12345,\n",
        "                                            class_weight = 'balanced')\n",
        "parameters = {'max_depth':range(1,11,2)}\n",
        "model_tree = GridSearchCV(classificator_tree, cv=3, param_grid=parameters, scoring='f1')\n",
        "model_tree.fit(features_train_tf, target_train)\n",
        "tree_rmse = model_tree.best_score_\n",
        "print(f'Лучший RMSE :{-1*model_tree.best_score_}, лучшая модель: {model_tree.best_estimator_}')"
      ]
    },
    {
      "cell_type": "markdown",
      "metadata": {
        "id": "m9FdYqWkN7CE"
      },
      "source": [
        "F1 для дерева решений на валидационной выборке с TF IDF =  0.56"
      ]
    },
    {
      "cell_type": "markdown",
      "metadata": {
        "id": "y5wBvdYWN7CE"
      },
      "source": [
        "### Случайный лес ###"
      ]
    },
    {
      "cell_type": "markdown",
      "metadata": {
        "id": "XF0MXIVyN7CE"
      },
      "source": [
        "Подберем наилучшие параметры для модели"
      ]
    },
    {
      "cell_type": "code",
      "execution_count": null,
      "metadata": {
        "id": "kv3MmMfKN7CF"
      },
      "outputs": [],
      "source": [
        "%%time\n",
        "classificator_tree = RandomForestClassifier(random_state=12345,\n",
        "                                            class_weight = 'balanced')\n",
        "parameters = {'n_estimators':range(50,100,10), 'max_depth':range(1,15,2)}\n",
        "model_forest = GridSearchCV(estimator=classificator_tree, cv=3, param_grid=parameters, scoring='f1')\n",
        "model_forest.fit(features_train_tf, target_train)\n",
        "forest_rmse = model_forest.best_score_\n",
        "print(f'Лучший RMSE :{-1*model_forest.best_score_}, лучшая модель: {model_forest.best_estimator_}')"
      ]
    },
    {
      "cell_type": "markdown",
      "metadata": {
        "id": "H82tS79-N7CF"
      },
      "source": [
        "F1 для случайного леса при кросс-валидации с TF IDF = 0.375"
      ]
    },
    {
      "cell_type": "markdown",
      "metadata": {
        "id": "oVu6scgwN7CF"
      },
      "source": [
        "### CatBoost ###"
      ]
    },
    {
      "cell_type": "markdown",
      "metadata": {
        "id": "diTOurLWN7CG"
      },
      "source": [
        "Подберем наилучшие параметры для модели"
      ]
    },
    {
      "cell_type": "code",
      "execution_count": null,
      "metadata": {
        "id": "vfY8cAXEN7CG"
      },
      "outputs": [],
      "source": [
        "#%%time\n",
        "#from tqdm import notebook\n",
        "\n",
        "#model = CatBoostClassifier(learning_rate=0.4,random_state=12345,  verbose=50)\n",
        "#parameters = {'n_estimators':range(60,100,10), 'depth':range(1,10,2)}\n",
        "\n",
        "#model_cat = GridSearchCV(model, cv=3, param_grid=parameters, scoring='f1')\n",
        "#notebook.tqdm(model_cat.fit(features_train_tf, target_train))\n",
        "#cat_rmse= model_cat.best_score_\n",
        "#print(f'Лучший RMSE :{-1*model_cat.best_score_}, лучшая модель: {model_cat.best_params_}')"
      ]
    },
    {
      "cell_type": "markdown",
      "metadata": {
        "id": "TsklOOP6N7CG"
      },
      "source": [
        "Результат представлен ниже, код выполнялся свыше 8 часов."
      ]
    },
    {
      "cell_type": "markdown",
      "metadata": {
        "id": "2hfLiBW7N7CG"
      },
      "source": [
        "![image.png](attachment:image.png)"
      ]
    },
    {
      "cell_type": "code",
      "execution_count": null,
      "metadata": {
        "id": "C6BTTzXIN7CG"
      },
      "outputs": [],
      "source": [
        "#%%time\n",
        "#model = CatBoostClassifier(learning_rate=0.4,random_state=12345,  verbose=50, depth = 9, n_estimators = 90)\n",
        "#model.fit(features_train_tf, target_train)\n",
        "\n",
        "#cat_f1_cvs = cross_val_score(model, features_train_tf, target_train, cv=3, scoring='f1').mean()\n",
        "\n",
        "#print('F1  при кросс валидации', cat_f1_cvs)"
      ]
    },
    {
      "cell_type": "markdown",
      "metadata": {
        "id": "KFmBQ19CN7CH"
      },
      "source": [
        "Значение метрики F1 при кросс-валидации для модели CatBoost с наилучшими параметрами = 0.74"
      ]
    },
    {
      "cell_type": "markdown",
      "metadata": {
        "id": "5020Y28JN7CH"
      },
      "source": [
        "Таким образом, наилучшее значение F1 на валидации показала логистическая регрессия. Применим эту модель к тестовой выборке и вычислим знаечние метрики F1:"
      ]
    },
    {
      "cell_type": "code",
      "execution_count": null,
      "metadata": {
        "id": "4CJ9r0bAN7CH",
        "outputId": "953175bf-39b3-4c41-ed01-e35e053e1e4e"
      },
      "outputs": [
        {
          "name": "stdout",
          "output_type": "stream",
          "text": [
            "F1 для логистической регрессии на TF IDF =  0.780355630821338\n"
          ]
        }
      ],
      "source": [
        "predicted_tf = log_grid.best_estimator_.predict(features_test_tf)\n",
        "f1_linear_tf = f1_score(target_test, predicted_tf)\n",
        "print('F1 для логистической регрессии на TF IDF = ', f1_linear_tf)"
      ]
    },
    {
      "cell_type": "markdown",
      "metadata": {
        "id": "YfAo2d5jN7CH"
      },
      "source": [
        "Значение метрики F1 на тестовой выборке для модели логистической регрессии = 0.78"
      ]
    },
    {
      "cell_type": "markdown",
      "metadata": {
        "id": "zurdE29gN7CJ"
      },
      "source": [
        "## Выводы"
      ]
    },
    {
      "cell_type": "markdown",
      "metadata": {
        "id": "pvm9i84DN7CJ"
      },
      "source": [
        "Таким образом, после лемматизации и вычиcления tf-idf мы подобрали наилучшие параметры для следующих моделей с целью получения максимального знаечния метрики F1:\n",
        "- Логистическая регрессия\n",
        "- Дерево решений\n",
        "- Случайный лес\n",
        "- CatBoost\n",
        "\n",
        "В результате кросс-вавлидации были получены следующие значения метрики F1 на моделях:\n",
        "- Логистическая регрессия F1 = 0.76\n",
        "- Дерево решений F1 = 0.55\n",
        "- Случайный лес F1 = 0.38\n",
        "- CatBoost F1 =0.74\n",
        "\n",
        "В связи с чем наиболее точной оказывается построенная модель логистической регрессии.\n",
        "Применив данную модель к тестовой выборке мы получили значение метрики F1 = 0.78, что превышает требуемое знаечние в 0.75."
      ]
    },
    {
      "cell_type": "markdown",
      "metadata": {
        "id": "pJIlIVNaN7CL"
      },
      "source": [
        "## Чек-лист проверки"
      ]
    },
    {
      "cell_type": "markdown",
      "metadata": {
        "id": "EdDD-dPBN7CM"
      },
      "source": [
        "- [x]  Jupyter Notebook открыт\n",
        "- [ ]  Весь код выполняется без ошибок\n",
        "- [ ]  Ячейки с кодом расположены в порядке исполнения\n",
        "- [ ]  Данные загружены и подготовлены\n",
        "- [ ]  Модели обучены\n",
        "- [ ]  Значение метрики *F1* не меньше 0.75\n",
        "- [ ]  Выводы написаны"
      ]
    },
    {
      "cell_type": "code",
      "execution_count": null,
      "metadata": {
        "id": "71ROnYGTN7CM"
      },
      "outputs": [],
      "source": []
    }
  ],
  "metadata": {
    "ExecuteTimeLog": [
      {
        "duration": 154,
        "start_time": "2023-06-19T17:47:09.500Z"
      },
      {
        "duration": 1864,
        "start_time": "2023-06-19T17:47:33.896Z"
      },
      {
        "duration": 2365,
        "start_time": "2023-06-19T17:48:12.186Z"
      },
      {
        "duration": 813,
        "start_time": "2023-06-19T17:48:25.417Z"
      },
      {
        "duration": 34,
        "start_time": "2023-06-19T17:48:30.374Z"
      },
      {
        "duration": 476,
        "start_time": "2023-06-19T17:49:17.444Z"
      },
      {
        "duration": 5,
        "start_time": "2023-06-19T17:49:45.308Z"
      },
      {
        "duration": 811,
        "start_time": "2023-06-19T17:58:07.973Z"
      },
      {
        "duration": 817,
        "start_time": "2023-06-19T17:58:13.078Z"
      },
      {
        "duration": 5,
        "start_time": "2023-06-19T17:58:25.191Z"
      },
      {
        "duration": 22,
        "start_time": "2023-06-19T17:58:44.932Z"
      },
      {
        "duration": 21,
        "start_time": "2023-06-19T17:58:49.523Z"
      },
      {
        "duration": 162,
        "start_time": "2023-06-19T17:58:55.498Z"
      },
      {
        "duration": 783,
        "start_time": "2023-06-19T17:59:04.053Z"
      },
      {
        "duration": 40,
        "start_time": "2023-06-19T17:59:06.470Z"
      },
      {
        "duration": 13,
        "start_time": "2023-06-19T17:59:50.661Z"
      },
      {
        "duration": 7,
        "start_time": "2023-06-19T17:59:55.412Z"
      },
      {
        "duration": 4,
        "start_time": "2023-06-19T18:02:02.783Z"
      },
      {
        "duration": 13,
        "start_time": "2023-06-19T18:04:48.709Z"
      },
      {
        "duration": 8100,
        "start_time": "2023-06-19T18:05:18.620Z"
      },
      {
        "duration": 6,
        "start_time": "2023-06-19T18:05:47.977Z"
      },
      {
        "duration": 9,
        "start_time": "2023-06-19T18:05:53.798Z"
      },
      {
        "duration": 202965,
        "start_time": "2023-06-19T18:06:32.350Z"
      },
      {
        "duration": 15,
        "start_time": "2023-06-19T18:09:55.318Z"
      },
      {
        "duration": 10,
        "start_time": "2023-06-19T18:10:43.995Z"
      },
      {
        "duration": 325,
        "start_time": "2023-06-19T18:12:55.151Z"
      },
      {
        "duration": 8076,
        "start_time": "2023-06-19T18:13:05.780Z"
      },
      {
        "duration": 4,
        "start_time": "2023-06-19T18:14:32.467Z"
      },
      {
        "duration": 516,
        "start_time": "2023-06-19T18:14:58.440Z"
      },
      {
        "duration": 3,
        "start_time": "2023-06-19T18:15:29.964Z"
      },
      {
        "duration": 98919,
        "start_time": "2023-06-19T18:15:31.298Z"
      },
      {
        "duration": 120,
        "start_time": "2023-06-19T18:20:56.140Z"
      },
      {
        "duration": 145,
        "start_time": "2023-06-19T18:21:00.654Z"
      },
      {
        "duration": 3105,
        "start_time": "2023-06-20T06:31:49.445Z"
      },
      {
        "duration": 3625,
        "start_time": "2023-06-20T06:31:52.553Z"
      },
      {
        "duration": 30,
        "start_time": "2023-06-20T06:31:56.179Z"
      },
      {
        "duration": 39,
        "start_time": "2023-06-20T06:31:56.211Z"
      },
      {
        "duration": 5,
        "start_time": "2023-06-20T06:31:56.252Z"
      },
      {
        "duration": 7,
        "start_time": "2023-06-20T06:31:56.259Z"
      },
      {
        "duration": 90361,
        "start_time": "2023-06-20T06:31:56.268Z"
      },
      {
        "duration": 92,
        "start_time": "2023-06-20T06:33:26.631Z"
      },
      {
        "duration": 139,
        "start_time": "2023-06-20T06:33:26.725Z"
      },
      {
        "duration": 0,
        "start_time": "2023-06-20T06:33:26.866Z"
      },
      {
        "duration": 12845,
        "start_time": "2023-06-20T07:48:20.197Z"
      },
      {
        "duration": 33,
        "start_time": "2023-06-20T14:10:12.857Z"
      },
      {
        "duration": 7,
        "start_time": "2023-06-20T14:12:28.864Z"
      },
      {
        "duration": 12,
        "start_time": "2023-06-20T14:24:10.987Z"
      },
      {
        "duration": 195,
        "start_time": "2023-06-20T14:24:45.854Z"
      },
      {
        "duration": 21,
        "start_time": "2023-06-20T14:24:51.994Z"
      },
      {
        "duration": 42,
        "start_time": "2023-06-20T14:24:57.918Z"
      },
      {
        "duration": 11,
        "start_time": "2023-06-20T14:25:16.779Z"
      },
      {
        "duration": 42,
        "start_time": "2023-06-20T14:25:43.582Z"
      },
      {
        "duration": 35,
        "start_time": "2023-06-20T14:26:25.588Z"
      },
      {
        "duration": 4,
        "start_time": "2023-06-20T14:26:45.234Z"
      },
      {
        "duration": 72,
        "start_time": "2023-06-20T14:27:12.962Z"
      },
      {
        "duration": 33,
        "start_time": "2023-06-20T14:27:24.391Z"
      },
      {
        "duration": 30,
        "start_time": "2023-06-20T14:27:31.508Z"
      },
      {
        "duration": 32,
        "start_time": "2023-06-20T14:30:21.647Z"
      },
      {
        "duration": 12,
        "start_time": "2023-06-20T15:02:56.835Z"
      },
      {
        "duration": 15,
        "start_time": "2023-06-20T15:03:33.089Z"
      },
      {
        "duration": 130887,
        "start_time": "2023-06-20T15:03:37.507Z"
      },
      {
        "duration": 84110,
        "start_time": "2023-06-20T15:05:48.401Z"
      },
      {
        "duration": 26,
        "start_time": "2023-06-20T15:47:39.470Z"
      },
      {
        "duration": 21,
        "start_time": "2023-06-20T15:47:45.948Z"
      },
      {
        "duration": 75761,
        "start_time": "2023-06-20T15:47:49.294Z"
      },
      {
        "duration": 107257,
        "start_time": "2023-06-20T16:25:24.698Z"
      },
      {
        "duration": 115,
        "start_time": "2023-06-20T16:39:35.215Z"
      },
      {
        "duration": 135405,
        "start_time": "2023-06-20T16:39:40.411Z"
      },
      {
        "duration": 3004,
        "start_time": "2023-06-21T04:50:14.361Z"
      },
      {
        "duration": 3648,
        "start_time": "2023-06-21T04:50:17.367Z"
      },
      {
        "duration": 33,
        "start_time": "2023-06-21T04:50:21.016Z"
      },
      {
        "duration": 51,
        "start_time": "2023-06-21T04:50:21.052Z"
      },
      {
        "duration": 26,
        "start_time": "2023-06-21T04:50:21.104Z"
      },
      {
        "duration": 3,
        "start_time": "2023-06-21T04:50:21.132Z"
      },
      {
        "duration": 110104,
        "start_time": "2023-06-21T04:50:21.138Z"
      },
      {
        "duration": 109,
        "start_time": "2023-06-21T04:52:11.243Z"
      },
      {
        "duration": 11864,
        "start_time": "2023-06-21T04:52:11.354Z"
      },
      {
        "duration": 0,
        "start_time": "2023-06-21T04:52:23.220Z"
      },
      {
        "duration": 0,
        "start_time": "2023-06-21T04:52:23.222Z"
      },
      {
        "duration": 0,
        "start_time": "2023-06-21T04:52:23.223Z"
      },
      {
        "duration": 0,
        "start_time": "2023-06-21T04:52:23.224Z"
      },
      {
        "duration": 0,
        "start_time": "2023-06-21T04:52:23.225Z"
      },
      {
        "duration": 0,
        "start_time": "2023-06-21T04:52:23.226Z"
      },
      {
        "duration": 31,
        "start_time": "2023-06-21T04:59:12.467Z"
      },
      {
        "duration": 15,
        "start_time": "2023-06-21T04:59:24.886Z"
      },
      {
        "duration": 21,
        "start_time": "2023-06-21T05:00:03.500Z"
      },
      {
        "duration": 4,
        "start_time": "2023-06-21T05:01:20.654Z"
      },
      {
        "duration": 19,
        "start_time": "2023-06-21T05:01:24.853Z"
      },
      {
        "duration": 6,
        "start_time": "2023-06-21T05:01:47.974Z"
      },
      {
        "duration": 852,
        "start_time": "2023-06-21T05:01:47.982Z"
      },
      {
        "duration": 32,
        "start_time": "2023-06-21T05:01:48.836Z"
      },
      {
        "duration": 91,
        "start_time": "2023-06-21T05:01:48.870Z"
      },
      {
        "duration": 15,
        "start_time": "2023-06-21T05:01:48.963Z"
      },
      {
        "duration": 67,
        "start_time": "2023-06-21T05:01:48.980Z"
      },
      {
        "duration": 108122,
        "start_time": "2023-06-21T05:01:49.050Z"
      },
      {
        "duration": 129,
        "start_time": "2023-06-21T05:03:37.174Z"
      },
      {
        "duration": 22,
        "start_time": "2023-06-21T05:03:37.304Z"
      },
      {
        "duration": 11967,
        "start_time": "2023-06-21T05:03:37.330Z"
      },
      {
        "duration": 4,
        "start_time": "2023-06-21T05:03:49.299Z"
      },
      {
        "duration": 68,
        "start_time": "2023-06-21T05:03:49.305Z"
      },
      {
        "duration": 0,
        "start_time": "2023-06-21T05:03:49.374Z"
      },
      {
        "duration": 1,
        "start_time": "2023-06-21T05:03:49.375Z"
      },
      {
        "duration": 0,
        "start_time": "2023-06-21T05:03:49.377Z"
      },
      {
        "duration": 0,
        "start_time": "2023-06-21T05:03:49.378Z"
      },
      {
        "duration": 2155,
        "start_time": "2023-06-21T09:04:52.176Z"
      },
      {
        "duration": 3571,
        "start_time": "2023-06-21T09:04:54.334Z"
      },
      {
        "duration": 28,
        "start_time": "2023-06-21T09:04:57.907Z"
      },
      {
        "duration": 62,
        "start_time": "2023-06-21T09:04:57.936Z"
      },
      {
        "duration": 5,
        "start_time": "2023-06-21T09:04:58.001Z"
      },
      {
        "duration": 3,
        "start_time": "2023-06-21T09:04:58.007Z"
      },
      {
        "duration": 96085,
        "start_time": "2023-06-21T09:04:58.011Z"
      },
      {
        "duration": 86,
        "start_time": "2023-06-21T09:06:34.098Z"
      },
      {
        "duration": 6,
        "start_time": "2023-06-21T09:06:34.186Z"
      },
      {
        "duration": 11137,
        "start_time": "2023-06-21T09:06:34.193Z"
      },
      {
        "duration": 4,
        "start_time": "2023-06-21T09:06:45.331Z"
      },
      {
        "duration": 168,
        "start_time": "2023-06-21T09:06:45.337Z"
      },
      {
        "duration": 0,
        "start_time": "2023-06-21T09:06:45.507Z"
      },
      {
        "duration": 0,
        "start_time": "2023-06-21T09:06:45.509Z"
      },
      {
        "duration": 339,
        "start_time": "2023-06-21T12:04:26.147Z"
      },
      {
        "duration": 1383,
        "start_time": "2023-06-21T12:04:26.498Z"
      },
      {
        "duration": 67,
        "start_time": "2023-06-21T12:04:27.886Z"
      },
      {
        "duration": 61,
        "start_time": "2023-06-21T12:04:27.959Z"
      },
      {
        "duration": 12,
        "start_time": "2023-06-21T12:04:28.026Z"
      },
      {
        "duration": 57,
        "start_time": "2023-06-21T12:04:28.043Z"
      },
      {
        "duration": 146658,
        "start_time": "2023-06-21T12:04:28.114Z"
      },
      {
        "duration": 177,
        "start_time": "2023-06-21T12:06:54.774Z"
      },
      {
        "duration": 33,
        "start_time": "2023-06-21T12:06:54.958Z"
      },
      {
        "duration": 2126,
        "start_time": "2023-06-21T12:06:54.997Z"
      },
      {
        "duration": 16847,
        "start_time": "2023-06-21T12:07:03.534Z"
      },
      {
        "duration": 87,
        "start_time": "2023-06-21T12:07:20.385Z"
      },
      {
        "duration": 23,
        "start_time": "2023-06-21T12:10:05.102Z"
      },
      {
        "duration": 2364,
        "start_time": "2023-06-21T12:10:11.482Z"
      },
      {
        "duration": 6,
        "start_time": "2023-06-21T12:10:36.139Z"
      },
      {
        "duration": 2700,
        "start_time": "2023-06-21T12:10:43.640Z"
      },
      {
        "duration": 73,
        "start_time": "2023-06-21T12:10:52.432Z"
      },
      {
        "duration": 140,
        "start_time": "2023-06-21T12:11:51.248Z"
      },
      {
        "duration": 15,
        "start_time": "2023-06-21T12:12:06.646Z"
      },
      {
        "duration": 45,
        "start_time": "2023-06-21T12:12:10.302Z"
      },
      {
        "duration": 14,
        "start_time": "2023-06-21T12:12:35.913Z"
      },
      {
        "duration": 28,
        "start_time": "2023-06-21T12:12:38.503Z"
      },
      {
        "duration": 40,
        "start_time": "2023-06-21T12:12:41.928Z"
      },
      {
        "duration": 54,
        "start_time": "2023-06-21T12:12:48.359Z"
      },
      {
        "duration": 90014,
        "start_time": "2023-06-21T12:13:40.105Z"
      },
      {
        "duration": 89307,
        "start_time": "2023-06-21T12:15:10.124Z"
      },
      {
        "duration": 19,
        "start_time": "2023-06-21T12:17:12.492Z"
      },
      {
        "duration": 12,
        "start_time": "2023-06-21T12:17:21.813Z"
      },
      {
        "duration": 19,
        "start_time": "2023-06-21T12:18:06.801Z"
      },
      {
        "duration": 8,
        "start_time": "2023-06-21T12:18:20.230Z"
      },
      {
        "duration": 8,
        "start_time": "2023-06-21T12:18:35.912Z"
      },
      {
        "duration": 23,
        "start_time": "2023-06-21T12:19:28.955Z"
      },
      {
        "duration": 23,
        "start_time": "2023-06-21T12:19:47.607Z"
      },
      {
        "duration": 16,
        "start_time": "2023-06-21T12:20:38.916Z"
      },
      {
        "duration": 26,
        "start_time": "2023-06-21T12:21:16.011Z"
      },
      {
        "duration": 16191,
        "start_time": "2023-06-21T12:21:52.110Z"
      },
      {
        "duration": 2156,
        "start_time": "2023-06-21T12:23:27.315Z"
      },
      {
        "duration": 1806,
        "start_time": "2023-06-21T12:24:09.032Z"
      },
      {
        "duration": 22,
        "start_time": "2023-06-21T12:24:25.986Z"
      },
      {
        "duration": 0,
        "start_time": "2023-06-21T12:27:13.863Z"
      },
      {
        "duration": 0,
        "start_time": "2023-06-21T12:27:13.864Z"
      },
      {
        "duration": 13020,
        "start_time": "2023-06-21T12:27:20.026Z"
      },
      {
        "duration": 303625,
        "start_time": "2023-06-21T12:27:37.422Z"
      },
      {
        "duration": 153,
        "start_time": "2023-06-21T12:32:41.049Z"
      },
      {
        "duration": 119892,
        "start_time": "2023-06-21T12:34:17.300Z"
      },
      {
        "duration": 22,
        "start_time": "2023-06-21T12:36:17.201Z"
      },
      {
        "duration": 137,
        "start_time": "2023-06-21T12:40:16.220Z"
      },
      {
        "duration": 132,
        "start_time": "2023-06-21T17:09:38.602Z"
      },
      {
        "duration": 3653,
        "start_time": "2023-06-21T17:09:50.141Z"
      },
      {
        "duration": 233,
        "start_time": "2023-06-21T17:09:55.803Z"
      },
      {
        "duration": 6,
        "start_time": "2023-06-21T17:10:47.115Z"
      },
      {
        "duration": 3594,
        "start_time": "2023-06-21T17:10:47.124Z"
      },
      {
        "duration": 43,
        "start_time": "2023-06-21T17:10:50.720Z"
      },
      {
        "duration": 50,
        "start_time": "2023-06-21T17:10:50.768Z"
      },
      {
        "duration": 18,
        "start_time": "2023-06-21T17:10:50.821Z"
      },
      {
        "duration": 10,
        "start_time": "2023-06-21T17:10:50.840Z"
      },
      {
        "duration": 0,
        "start_time": "2023-06-21T17:14:13.288Z"
      },
      {
        "duration": 0,
        "start_time": "2023-06-21T17:14:13.289Z"
      },
      {
        "duration": 0,
        "start_time": "2023-06-21T17:14:13.290Z"
      },
      {
        "duration": 0,
        "start_time": "2023-06-21T17:14:13.291Z"
      },
      {
        "duration": 0,
        "start_time": "2023-06-21T17:14:13.292Z"
      },
      {
        "duration": 0,
        "start_time": "2023-06-21T17:14:13.293Z"
      },
      {
        "duration": 0,
        "start_time": "2023-06-21T17:14:13.294Z"
      },
      {
        "duration": 0,
        "start_time": "2023-06-21T17:14:13.295Z"
      },
      {
        "duration": 0,
        "start_time": "2023-06-21T17:14:13.296Z"
      },
      {
        "duration": 0,
        "start_time": "2023-06-21T17:14:13.298Z"
      },
      {
        "duration": 0,
        "start_time": "2023-06-21T17:14:13.299Z"
      },
      {
        "duration": 0,
        "start_time": "2023-06-21T17:14:13.300Z"
      },
      {
        "duration": 0,
        "start_time": "2023-06-21T17:14:13.301Z"
      },
      {
        "duration": 0,
        "start_time": "2023-06-21T17:14:13.302Z"
      },
      {
        "duration": 0,
        "start_time": "2023-06-21T17:14:13.303Z"
      },
      {
        "duration": 0,
        "start_time": "2023-06-21T17:14:13.304Z"
      },
      {
        "duration": 0,
        "start_time": "2023-06-21T17:14:13.305Z"
      },
      {
        "duration": 0,
        "start_time": "2023-06-21T17:14:13.306Z"
      },
      {
        "duration": 0,
        "start_time": "2023-06-21T17:14:13.308Z"
      },
      {
        "duration": 0,
        "start_time": "2023-06-21T17:14:13.309Z"
      },
      {
        "duration": 6,
        "start_time": "2023-06-21T17:39:29.745Z"
      },
      {
        "duration": 815,
        "start_time": "2023-06-21T17:39:29.753Z"
      },
      {
        "duration": 37,
        "start_time": "2023-06-21T17:39:30.569Z"
      },
      {
        "duration": 74,
        "start_time": "2023-06-21T17:39:30.609Z"
      },
      {
        "duration": 29,
        "start_time": "2023-06-21T17:39:30.685Z"
      },
      {
        "duration": 58,
        "start_time": "2023-06-21T17:39:30.716Z"
      },
      {
        "duration": 119241,
        "start_time": "2023-06-21T17:39:30.777Z"
      },
      {
        "duration": 184,
        "start_time": "2023-06-21T17:41:30.021Z"
      },
      {
        "duration": 19,
        "start_time": "2023-06-21T17:41:30.208Z"
      },
      {
        "duration": 12506,
        "start_time": "2023-06-21T17:41:30.230Z"
      },
      {
        "duration": 5,
        "start_time": "2023-06-21T17:41:42.738Z"
      },
      {
        "duration": 78818,
        "start_time": "2023-06-21T17:41:42.760Z"
      },
      {
        "duration": 15,
        "start_time": "2023-06-21T17:43:01.580Z"
      },
      {
        "duration": 80,
        "start_time": "2023-06-21T17:43:01.597Z"
      },
      {
        "duration": 0,
        "start_time": "2023-06-21T17:43:01.679Z"
      },
      {
        "duration": 0,
        "start_time": "2023-06-21T17:43:01.681Z"
      },
      {
        "duration": 0,
        "start_time": "2023-06-21T17:43:01.683Z"
      },
      {
        "duration": 0,
        "start_time": "2023-06-21T17:43:01.684Z"
      },
      {
        "duration": 0,
        "start_time": "2023-06-21T17:43:01.686Z"
      },
      {
        "duration": 0,
        "start_time": "2023-06-21T17:43:01.687Z"
      },
      {
        "duration": 81869,
        "start_time": "2023-06-21T17:44:58.467Z"
      },
      {
        "duration": 28,
        "start_time": "2023-06-21T17:46:20.339Z"
      },
      {
        "duration": 27,
        "start_time": "2023-06-21T17:46:20.372Z"
      },
      {
        "duration": 0,
        "start_time": "2023-06-21T17:46:20.401Z"
      },
      {
        "duration": 0,
        "start_time": "2023-06-21T17:46:20.402Z"
      },
      {
        "duration": 731284,
        "start_time": "2023-06-21T17:48:40.116Z"
      },
      {
        "duration": 64,
        "start_time": "2023-06-21T18:00:51.402Z"
      },
      {
        "duration": 832,
        "start_time": "2023-06-21T18:00:51.469Z"
      },
      {
        "duration": 1407,
        "start_time": "2023-06-21T18:01:21.595Z"
      },
      {
        "duration": 15661,
        "start_time": "2023-06-21T18:01:37.586Z"
      },
      {
        "duration": 3396,
        "start_time": "2023-06-21T18:19:54.494Z"
      },
      {
        "duration": 848,
        "start_time": "2023-06-21T18:19:57.893Z"
      },
      {
        "duration": 43,
        "start_time": "2023-06-21T18:19:58.743Z"
      },
      {
        "duration": 42,
        "start_time": "2023-06-21T18:19:58.788Z"
      },
      {
        "duration": 9,
        "start_time": "2023-06-21T18:19:58.833Z"
      },
      {
        "duration": 24,
        "start_time": "2023-06-21T18:19:58.843Z"
      },
      {
        "duration": 107231,
        "start_time": "2023-06-21T18:19:58.869Z"
      },
      {
        "duration": 109,
        "start_time": "2023-06-21T18:21:46.102Z"
      },
      {
        "duration": 4,
        "start_time": "2023-06-21T18:21:46.213Z"
      },
      {
        "duration": 12745,
        "start_time": "2023-06-21T18:21:46.219Z"
      },
      {
        "duration": 4,
        "start_time": "2023-06-21T18:21:58.965Z"
      },
      {
        "duration": 87815,
        "start_time": "2023-06-21T18:21:58.976Z"
      },
      {
        "duration": 16,
        "start_time": "2023-06-21T18:23:26.795Z"
      },
      {
        "duration": 86613,
        "start_time": "2023-06-21T18:23:26.814Z"
      },
      {
        "duration": 36,
        "start_time": "2023-06-21T18:24:53.429Z"
      },
      {
        "duration": 605241,
        "start_time": "2023-06-21T18:24:53.469Z"
      },
      {
        "duration": 508,
        "start_time": "2023-06-21T18:34:58.712Z"
      },
      {
        "duration": 3263,
        "start_time": "2023-06-22T05:16:11.224Z"
      },
      {
        "duration": 2269,
        "start_time": "2023-06-22T05:16:14.489Z"
      },
      {
        "duration": 29,
        "start_time": "2023-06-22T05:16:16.759Z"
      },
      {
        "duration": 37,
        "start_time": "2023-06-22T05:16:16.790Z"
      },
      {
        "duration": 5,
        "start_time": "2023-06-22T05:16:16.828Z"
      },
      {
        "duration": 9,
        "start_time": "2023-06-22T05:16:16.834Z"
      },
      {
        "duration": 90548,
        "start_time": "2023-06-22T05:16:16.845Z"
      },
      {
        "duration": 99,
        "start_time": "2023-06-22T05:17:47.395Z"
      },
      {
        "duration": 4,
        "start_time": "2023-06-22T05:17:47.496Z"
      },
      {
        "duration": 10882,
        "start_time": "2023-06-22T05:17:47.502Z"
      },
      {
        "duration": 4,
        "start_time": "2023-06-22T05:17:58.385Z"
      },
      {
        "duration": 86335,
        "start_time": "2023-06-22T05:17:58.391Z"
      },
      {
        "duration": 15,
        "start_time": "2023-06-22T05:19:24.728Z"
      },
      {
        "duration": 78832,
        "start_time": "2023-06-22T05:19:24.745Z"
      },
      {
        "duration": 25,
        "start_time": "2023-06-22T05:20:43.579Z"
      },
      {
        "duration": 571570,
        "start_time": "2023-06-22T05:20:43.606Z"
      },
      {
        "duration": 411,
        "start_time": "2023-06-22T05:30:15.178Z"
      },
      {
        "duration": 6347263,
        "start_time": "2023-06-22T05:30:15.590Z"
      },
      {
        "duration": 23,
        "start_time": "2023-06-22T07:47:06.192Z"
      },
      {
        "duration": 0,
        "start_time": "2023-06-22T07:47:06.217Z"
      },
      {
        "duration": 0,
        "start_time": "2023-06-22T07:47:06.218Z"
      },
      {
        "duration": 0,
        "start_time": "2023-06-22T07:47:06.223Z"
      },
      {
        "duration": 0,
        "start_time": "2023-06-22T07:47:06.224Z"
      },
      {
        "duration": 1750084,
        "start_time": "2023-06-22T08:08:13.654Z"
      },
      {
        "duration": 6042,
        "start_time": "2023-06-23T12:40:40.712Z"
      },
      {
        "duration": 6924,
        "start_time": "2023-06-23T12:40:46.756Z"
      },
      {
        "duration": 20622,
        "start_time": "2023-06-23T12:40:53.681Z"
      },
      {
        "duration": 380,
        "start_time": "2023-06-23T12:41:14.305Z"
      },
      {
        "duration": 0,
        "start_time": "2023-06-23T12:41:14.687Z"
      },
      {
        "duration": 0,
        "start_time": "2023-06-23T12:41:14.688Z"
      },
      {
        "duration": 0,
        "start_time": "2023-06-23T12:41:14.689Z"
      },
      {
        "duration": 0,
        "start_time": "2023-06-23T12:41:14.690Z"
      },
      {
        "duration": 0,
        "start_time": "2023-06-23T12:41:14.691Z"
      },
      {
        "duration": 0,
        "start_time": "2023-06-23T12:41:14.691Z"
      },
      {
        "duration": 0,
        "start_time": "2023-06-23T12:41:14.692Z"
      },
      {
        "duration": 0,
        "start_time": "2023-06-23T12:41:14.693Z"
      },
      {
        "duration": 0,
        "start_time": "2023-06-23T12:41:14.700Z"
      },
      {
        "duration": 0,
        "start_time": "2023-06-23T12:41:14.700Z"
      },
      {
        "duration": 0,
        "start_time": "2023-06-23T12:41:14.701Z"
      },
      {
        "duration": 0,
        "start_time": "2023-06-23T12:41:14.702Z"
      },
      {
        "duration": 0,
        "start_time": "2023-06-23T12:41:14.703Z"
      },
      {
        "duration": 0,
        "start_time": "2023-06-23T12:41:14.704Z"
      },
      {
        "duration": 0,
        "start_time": "2023-06-23T12:41:14.705Z"
      },
      {
        "duration": 0,
        "start_time": "2023-06-23T12:41:14.706Z"
      },
      {
        "duration": 0,
        "start_time": "2023-06-23T12:41:14.707Z"
      },
      {
        "duration": 0,
        "start_time": "2023-06-23T12:41:14.708Z"
      },
      {
        "duration": 0,
        "start_time": "2023-06-23T12:41:14.708Z"
      },
      {
        "duration": 0,
        "start_time": "2023-06-23T12:41:14.710Z"
      },
      {
        "duration": 6095,
        "start_time": "2023-06-23T12:42:23.577Z"
      },
      {
        "duration": 6,
        "start_time": "2023-06-23T12:42:29.674Z"
      },
      {
        "duration": 4599,
        "start_time": "2023-06-23T12:42:29.681Z"
      },
      {
        "duration": 2416,
        "start_time": "2023-06-23T12:42:34.283Z"
      },
      {
        "duration": 26,
        "start_time": "2023-06-23T12:42:36.700Z"
      },
      {
        "duration": 41,
        "start_time": "2023-06-23T12:42:36.727Z"
      },
      {
        "duration": 8,
        "start_time": "2023-06-23T12:42:36.769Z"
      },
      {
        "duration": 22,
        "start_time": "2023-06-23T12:42:36.778Z"
      },
      {
        "duration": 6,
        "start_time": "2023-06-23T12:42:36.802Z"
      },
      {
        "duration": 6902,
        "start_time": "2023-06-24T06:52:59.413Z"
      },
      {
        "duration": 3339,
        "start_time": "2023-06-24T06:53:06.317Z"
      },
      {
        "duration": 9463,
        "start_time": "2023-06-24T06:53:09.658Z"
      },
      {
        "duration": 2679,
        "start_time": "2023-06-24T06:53:19.123Z"
      },
      {
        "duration": 30,
        "start_time": "2023-06-24T06:53:21.803Z"
      },
      {
        "duration": 60,
        "start_time": "2023-06-24T06:53:21.835Z"
      },
      {
        "duration": 6,
        "start_time": "2023-06-24T06:53:21.897Z"
      },
      {
        "duration": 20,
        "start_time": "2023-06-24T06:53:21.905Z"
      },
      {
        "duration": 3564482,
        "start_time": "2023-06-24T06:53:21.927Z"
      },
      {
        "duration": 211,
        "start_time": "2023-06-24T07:52:46.412Z"
      },
      {
        "duration": 21,
        "start_time": "2023-06-24T07:52:46.625Z"
      },
      {
        "duration": 53,
        "start_time": "2023-06-24T07:52:46.650Z"
      },
      {
        "duration": 2986,
        "start_time": "2023-06-24T07:52:46.706Z"
      },
      {
        "duration": 0,
        "start_time": "2023-06-24T07:52:49.694Z"
      },
      {
        "duration": 0,
        "start_time": "2023-06-24T07:52:49.696Z"
      },
      {
        "duration": 0,
        "start_time": "2023-06-24T07:52:49.697Z"
      },
      {
        "duration": 0,
        "start_time": "2023-06-24T07:52:49.699Z"
      },
      {
        "duration": 0,
        "start_time": "2023-06-24T07:52:49.700Z"
      },
      {
        "duration": 0,
        "start_time": "2023-06-24T07:52:49.701Z"
      },
      {
        "duration": 0,
        "start_time": "2023-06-24T07:52:49.703Z"
      },
      {
        "duration": 0,
        "start_time": "2023-06-24T07:52:49.704Z"
      },
      {
        "duration": 0,
        "start_time": "2023-06-24T07:52:49.710Z"
      },
      {
        "duration": 0,
        "start_time": "2023-06-24T07:52:49.711Z"
      },
      {
        "duration": 8125,
        "start_time": "2023-06-24T08:48:32.751Z"
      },
      {
        "duration": 4162,
        "start_time": "2023-06-24T08:48:40.878Z"
      },
      {
        "duration": 7668,
        "start_time": "2023-06-24T08:48:45.049Z"
      },
      {
        "duration": 880,
        "start_time": "2023-06-24T08:48:52.719Z"
      },
      {
        "duration": 39,
        "start_time": "2023-06-24T08:48:53.601Z"
      },
      {
        "duration": 61,
        "start_time": "2023-06-24T08:48:53.644Z"
      },
      {
        "duration": 10,
        "start_time": "2023-06-24T08:48:53.706Z"
      },
      {
        "duration": 9,
        "start_time": "2023-06-24T08:48:53.717Z"
      },
      {
        "duration": 3312580,
        "start_time": "2023-06-24T08:48:53.728Z"
      },
      {
        "duration": 190,
        "start_time": "2023-06-24T09:44:06.311Z"
      },
      {
        "duration": 7,
        "start_time": "2023-06-24T09:44:06.503Z"
      },
      {
        "duration": 8,
        "start_time": "2023-06-24T09:44:06.511Z"
      },
      {
        "duration": 2115,
        "start_time": "2023-06-24T09:44:06.532Z"
      },
      {
        "duration": 0,
        "start_time": "2023-06-24T09:44:08.650Z"
      },
      {
        "duration": 0,
        "start_time": "2023-06-24T09:44:08.651Z"
      },
      {
        "duration": 0,
        "start_time": "2023-06-24T09:44:08.651Z"
      },
      {
        "duration": 0,
        "start_time": "2023-06-24T09:44:08.652Z"
      },
      {
        "duration": 0,
        "start_time": "2023-06-24T09:44:08.653Z"
      },
      {
        "duration": 0,
        "start_time": "2023-06-24T09:44:08.654Z"
      },
      {
        "duration": 0,
        "start_time": "2023-06-24T09:44:08.655Z"
      },
      {
        "duration": 0,
        "start_time": "2023-06-24T09:44:08.656Z"
      },
      {
        "duration": 0,
        "start_time": "2023-06-24T09:44:08.657Z"
      },
      {
        "duration": 0,
        "start_time": "2023-06-24T09:44:08.658Z"
      },
      {
        "duration": 6464,
        "start_time": "2023-06-24T09:50:25.519Z"
      },
      {
        "duration": 3254,
        "start_time": "2023-06-24T09:50:31.986Z"
      },
      {
        "duration": 7626,
        "start_time": "2023-06-24T09:50:35.248Z"
      },
      {
        "duration": 883,
        "start_time": "2023-06-24T09:50:42.876Z"
      },
      {
        "duration": 32,
        "start_time": "2023-06-24T09:50:43.761Z"
      },
      {
        "duration": 107,
        "start_time": "2023-06-24T09:50:43.795Z"
      },
      {
        "duration": 9,
        "start_time": "2023-06-24T09:50:43.904Z"
      },
      {
        "duration": 4,
        "start_time": "2023-06-24T09:50:43.914Z"
      },
      {
        "duration": 3240593,
        "start_time": "2023-06-24T09:50:43.919Z"
      },
      {
        "duration": 230,
        "start_time": "2023-06-24T10:44:44.517Z"
      },
      {
        "duration": 12,
        "start_time": "2023-06-24T10:44:44.748Z"
      },
      {
        "duration": 15,
        "start_time": "2023-06-24T10:44:44.762Z"
      },
      {
        "duration": 2277,
        "start_time": "2023-06-24T10:44:44.779Z"
      },
      {
        "duration": 0,
        "start_time": "2023-06-24T10:44:47.058Z"
      },
      {
        "duration": 0,
        "start_time": "2023-06-24T10:44:47.059Z"
      },
      {
        "duration": 0,
        "start_time": "2023-06-24T10:44:47.060Z"
      },
      {
        "duration": 0,
        "start_time": "2023-06-24T10:44:47.061Z"
      },
      {
        "duration": 0,
        "start_time": "2023-06-24T10:44:47.062Z"
      },
      {
        "duration": 0,
        "start_time": "2023-06-24T10:44:47.063Z"
      },
      {
        "duration": 0,
        "start_time": "2023-06-24T10:44:47.064Z"
      },
      {
        "duration": 0,
        "start_time": "2023-06-24T10:44:47.066Z"
      },
      {
        "duration": 0,
        "start_time": "2023-06-24T10:44:47.067Z"
      },
      {
        "duration": 0,
        "start_time": "2023-06-24T10:44:47.068Z"
      },
      {
        "duration": 25,
        "start_time": "2023-06-24T10:49:07.359Z"
      },
      {
        "duration": 35,
        "start_time": "2023-06-24T10:50:09.247Z"
      },
      {
        "duration": 62,
        "start_time": "2023-06-24T10:50:15.888Z"
      },
      {
        "duration": 24,
        "start_time": "2023-06-24T10:50:34.176Z"
      },
      {
        "duration": 64,
        "start_time": "2023-06-24T10:50:43.552Z"
      },
      {
        "duration": 32,
        "start_time": "2023-06-24T10:50:50.346Z"
      },
      {
        "duration": 65,
        "start_time": "2023-06-24T10:51:31.492Z"
      },
      {
        "duration": 19,
        "start_time": "2023-06-24T11:00:50.443Z"
      },
      {
        "duration": 4,
        "start_time": "2023-06-24T11:00:55.615Z"
      },
      {
        "duration": 24,
        "start_time": "2023-06-24T11:01:25.877Z"
      },
      {
        "duration": 73,
        "start_time": "2023-06-24T11:01:39.120Z"
      },
      {
        "duration": 32,
        "start_time": "2023-06-24T11:01:42.734Z"
      },
      {
        "duration": 111,
        "start_time": "2023-06-24T11:22:29.588Z"
      },
      {
        "duration": 1171,
        "start_time": "2023-06-24T11:22:54.418Z"
      },
      {
        "duration": 7359,
        "start_time": "2023-06-24T11:24:30.034Z"
      },
      {
        "duration": 224,
        "start_time": "2023-06-24T11:24:37.395Z"
      },
      {
        "duration": 5237,
        "start_time": "2023-06-24T11:24:37.621Z"
      },
      {
        "duration": 910,
        "start_time": "2023-06-24T11:24:42.861Z"
      },
      {
        "duration": 30,
        "start_time": "2023-06-24T11:24:43.773Z"
      },
      {
        "duration": 90,
        "start_time": "2023-06-24T11:24:43.805Z"
      },
      {
        "duration": 7,
        "start_time": "2023-06-24T11:24:43.897Z"
      },
      {
        "duration": 8,
        "start_time": "2023-06-24T11:24:43.905Z"
      },
      {
        "duration": 1429,
        "start_time": "2023-06-24T11:24:43.914Z"
      },
      {
        "duration": 118,
        "start_time": "2023-06-24T11:24:45.347Z"
      },
      {
        "duration": 6,
        "start_time": "2023-06-24T11:24:45.467Z"
      },
      {
        "duration": 72,
        "start_time": "2023-06-24T11:24:45.474Z"
      },
      {
        "duration": 11293,
        "start_time": "2023-06-24T11:24:45.547Z"
      },
      {
        "duration": 6,
        "start_time": "2023-06-24T11:24:56.843Z"
      },
      {
        "duration": 85116,
        "start_time": "2023-06-24T11:24:56.850Z"
      },
      {
        "duration": 13,
        "start_time": "2023-06-24T11:26:21.967Z"
      },
      {
        "duration": 80245,
        "start_time": "2023-06-24T11:26:21.982Z"
      },
      {
        "duration": 36,
        "start_time": "2023-06-24T11:27:42.228Z"
      },
      {
        "duration": 588648,
        "start_time": "2023-06-24T11:27:42.269Z"
      },
      {
        "duration": 406,
        "start_time": "2023-06-24T11:37:30.918Z"
      },
      {
        "duration": 8,
        "start_time": "2023-06-24T11:37:31.325Z"
      },
      {
        "duration": 51,
        "start_time": "2023-06-24T11:37:31.335Z"
      },
      {
        "duration": 80,
        "start_time": "2023-06-24T11:37:31.388Z"
      },
      {
        "duration": 6488,
        "start_time": "2023-06-24T11:48:25.515Z"
      },
      {
        "duration": 3363,
        "start_time": "2023-06-24T11:48:32.005Z"
      },
      {
        "duration": 7841,
        "start_time": "2023-06-24T11:48:35.370Z"
      },
      {
        "duration": 2533,
        "start_time": "2023-06-24T11:48:43.213Z"
      },
      {
        "duration": 31,
        "start_time": "2023-06-24T11:48:45.748Z"
      },
      {
        "duration": 53,
        "start_time": "2023-06-24T11:48:45.780Z"
      },
      {
        "duration": 9,
        "start_time": "2023-06-24T11:48:45.835Z"
      },
      {
        "duration": 10,
        "start_time": "2023-06-24T11:48:45.846Z"
      },
      {
        "duration": 1219,
        "start_time": "2023-06-24T11:48:45.857Z"
      },
      {
        "duration": 98,
        "start_time": "2023-06-24T11:48:47.078Z"
      },
      {
        "duration": 6,
        "start_time": "2023-06-24T11:48:47.177Z"
      },
      {
        "duration": 26,
        "start_time": "2023-06-24T11:48:47.185Z"
      },
      {
        "duration": 11019,
        "start_time": "2023-06-24T11:48:47.212Z"
      },
      {
        "duration": 5,
        "start_time": "2023-06-24T11:48:58.234Z"
      },
      {
        "duration": 82516,
        "start_time": "2023-06-24T11:48:58.241Z"
      },
      {
        "duration": 14,
        "start_time": "2023-06-24T11:50:20.758Z"
      },
      {
        "duration": 74060,
        "start_time": "2023-06-24T11:50:20.773Z"
      },
      {
        "duration": 29,
        "start_time": "2023-06-24T11:51:34.836Z"
      },
      {
        "duration": 616234,
        "start_time": "2023-06-24T11:51:34.867Z"
      },
      {
        "duration": 411,
        "start_time": "2023-06-24T12:01:51.103Z"
      },
      {
        "duration": 2,
        "start_time": "2023-06-24T12:01:51.516Z"
      },
      {
        "duration": 184,
        "start_time": "2023-06-24T12:03:09.307Z"
      },
      {
        "duration": 7396,
        "start_time": "2023-06-24T12:03:14.306Z"
      },
      {
        "duration": 4092,
        "start_time": "2023-06-24T12:03:21.705Z"
      },
      {
        "duration": 7665,
        "start_time": "2023-06-24T12:03:25.799Z"
      },
      {
        "duration": 3255,
        "start_time": "2023-06-24T12:03:33.466Z"
      },
      {
        "duration": 45,
        "start_time": "2023-06-24T12:03:36.724Z"
      },
      {
        "duration": 51,
        "start_time": "2023-06-24T12:03:36.771Z"
      },
      {
        "duration": 33,
        "start_time": "2023-06-24T12:03:36.823Z"
      },
      {
        "duration": 29,
        "start_time": "2023-06-24T12:03:36.858Z"
      },
      {
        "duration": 1534,
        "start_time": "2023-06-24T12:03:36.889Z"
      },
      {
        "duration": 135,
        "start_time": "2023-06-24T12:03:38.425Z"
      },
      {
        "duration": 474,
        "start_time": "2023-06-24T12:03:38.562Z"
      },
      {
        "duration": 56,
        "start_time": "2023-06-24T12:03:39.038Z"
      },
      {
        "duration": 12390,
        "start_time": "2023-06-24T12:03:39.096Z"
      },
      {
        "duration": 3,
        "start_time": "2023-06-24T12:03:51.489Z"
      },
      {
        "duration": 89496,
        "start_time": "2023-06-24T12:03:51.494Z"
      },
      {
        "duration": 15,
        "start_time": "2023-06-24T12:05:20.992Z"
      },
      {
        "duration": 81458,
        "start_time": "2023-06-24T12:05:21.009Z"
      },
      {
        "duration": 22,
        "start_time": "2023-06-24T12:06:42.468Z"
      },
      {
        "duration": 624790,
        "start_time": "2023-06-24T12:06:42.492Z"
      },
      {
        "duration": 412,
        "start_time": "2023-06-24T12:17:07.284Z"
      },
      {
        "duration": 3,
        "start_time": "2023-06-24T12:17:07.698Z"
      },
      {
        "duration": 6314,
        "start_time": "2023-06-24T14:46:38.743Z"
      },
      {
        "duration": 2797,
        "start_time": "2023-06-24T14:46:45.059Z"
      },
      {
        "duration": 8702,
        "start_time": "2023-06-24T14:46:47.857Z"
      },
      {
        "duration": 2987,
        "start_time": "2023-06-24T14:46:56.561Z"
      },
      {
        "duration": 30,
        "start_time": "2023-06-24T14:46:59.549Z"
      },
      {
        "duration": 34,
        "start_time": "2023-06-24T14:46:59.580Z"
      },
      {
        "duration": 10,
        "start_time": "2023-06-24T14:46:59.616Z"
      },
      {
        "duration": 316,
        "start_time": "2023-06-24T14:47:12.322Z"
      },
      {
        "duration": 6,
        "start_time": "2023-06-24T14:47:18.501Z"
      },
      {
        "duration": 18,
        "start_time": "2023-06-24T14:49:21.605Z"
      },
      {
        "duration": 21,
        "start_time": "2023-06-24T14:51:53.945Z"
      },
      {
        "duration": 68,
        "start_time": "2023-06-24T14:52:06.926Z"
      },
      {
        "duration": 5,
        "start_time": "2023-06-24T14:58:09.653Z"
      },
      {
        "duration": 66,
        "start_time": "2023-06-24T15:01:49.215Z"
      },
      {
        "duration": 60,
        "start_time": "2023-06-24T15:02:24.259Z"
      },
      {
        "duration": 4465,
        "start_time": "2023-06-24T15:03:36.509Z"
      },
      {
        "duration": 3,
        "start_time": "2023-06-24T15:04:41.685Z"
      },
      {
        "duration": 3369,
        "start_time": "2023-06-24T15:04:43.314Z"
      },
      {
        "duration": 27,
        "start_time": "2023-06-24T15:05:24.185Z"
      },
      {
        "duration": 3561,
        "start_time": "2023-06-24T15:05:31.771Z"
      },
      {
        "duration": 3398,
        "start_time": "2023-06-24T15:11:53.188Z"
      },
      {
        "duration": 1572,
        "start_time": "2023-06-24T17:43:47.910Z"
      },
      {
        "duration": 15563,
        "start_time": "2023-06-24T18:07:04.201Z"
      },
      {
        "duration": 94,
        "start_time": "2023-06-24T18:07:57.095Z"
      },
      {
        "duration": 38,
        "start_time": "2023-06-24T18:09:20.859Z"
      },
      {
        "duration": 12063,
        "start_time": "2023-06-24T18:13:48.854Z"
      },
      {
        "duration": 35,
        "start_time": "2023-06-24T18:14:00.919Z"
      },
      {
        "duration": 0,
        "start_time": "2023-06-24T18:14:00.956Z"
      },
      {
        "duration": 0,
        "start_time": "2023-06-24T18:14:00.957Z"
      },
      {
        "duration": 0,
        "start_time": "2023-06-24T18:14:00.959Z"
      },
      {
        "duration": 0,
        "start_time": "2023-06-24T18:14:00.960Z"
      },
      {
        "duration": 0,
        "start_time": "2023-06-24T18:14:00.961Z"
      },
      {
        "duration": 0,
        "start_time": "2023-06-24T18:14:00.963Z"
      },
      {
        "duration": 0,
        "start_time": "2023-06-24T18:14:00.965Z"
      },
      {
        "duration": 0,
        "start_time": "2023-06-24T18:14:00.966Z"
      },
      {
        "duration": 0,
        "start_time": "2023-06-24T18:14:00.967Z"
      },
      {
        "duration": 0,
        "start_time": "2023-06-24T18:14:00.968Z"
      },
      {
        "duration": 0,
        "start_time": "2023-06-24T18:14:00.969Z"
      },
      {
        "duration": 0,
        "start_time": "2023-06-24T18:14:00.970Z"
      },
      {
        "duration": 0,
        "start_time": "2023-06-24T18:14:00.971Z"
      },
      {
        "duration": 0,
        "start_time": "2023-06-24T18:14:00.972Z"
      },
      {
        "duration": 0,
        "start_time": "2023-06-24T18:14:00.972Z"
      },
      {
        "duration": 0,
        "start_time": "2023-06-24T18:14:00.973Z"
      },
      {
        "duration": 0,
        "start_time": "2023-06-24T18:14:00.974Z"
      },
      {
        "duration": 0,
        "start_time": "2023-06-24T18:14:00.982Z"
      },
      {
        "duration": 0,
        "start_time": "2023-06-24T18:14:00.984Z"
      },
      {
        "duration": 0,
        "start_time": "2023-06-24T18:14:00.986Z"
      },
      {
        "duration": 0,
        "start_time": "2023-06-24T18:14:00.987Z"
      },
      {
        "duration": 0,
        "start_time": "2023-06-24T18:14:00.988Z"
      },
      {
        "duration": 0,
        "start_time": "2023-06-24T18:14:00.990Z"
      },
      {
        "duration": 0,
        "start_time": "2023-06-24T18:14:00.991Z"
      },
      {
        "duration": 0,
        "start_time": "2023-06-24T18:14:00.991Z"
      },
      {
        "duration": 0,
        "start_time": "2023-06-24T18:14:00.993Z"
      },
      {
        "duration": 0,
        "start_time": "2023-06-24T18:14:00.994Z"
      },
      {
        "duration": 0,
        "start_time": "2023-06-24T18:14:00.995Z"
      },
      {
        "duration": 11191,
        "start_time": "2023-06-24T18:15:35.876Z"
      },
      {
        "duration": 5017,
        "start_time": "2023-06-24T18:15:47.069Z"
      },
      {
        "duration": 6701,
        "start_time": "2023-06-24T18:15:52.089Z"
      },
      {
        "duration": 766,
        "start_time": "2023-06-24T18:15:58.792Z"
      },
      {
        "duration": 35,
        "start_time": "2023-06-24T18:15:59.559Z"
      },
      {
        "duration": 33,
        "start_time": "2023-06-24T18:15:59.595Z"
      },
      {
        "duration": 5,
        "start_time": "2023-06-24T18:15:59.630Z"
      },
      {
        "duration": 85,
        "start_time": "2023-06-24T18:15:59.636Z"
      },
      {
        "duration": 6,
        "start_time": "2023-06-24T18:15:59.723Z"
      },
      {
        "duration": 5,
        "start_time": "2023-06-24T18:15:59.731Z"
      },
      {
        "duration": 15,
        "start_time": "2023-06-24T18:15:59.737Z"
      },
      {
        "duration": 377,
        "start_time": "2023-06-24T18:15:59.754Z"
      },
      {
        "duration": 0,
        "start_time": "2023-06-24T18:16:00.132Z"
      },
      {
        "duration": 0,
        "start_time": "2023-06-24T18:16:00.134Z"
      },
      {
        "duration": 0,
        "start_time": "2023-06-24T18:16:00.134Z"
      },
      {
        "duration": 0,
        "start_time": "2023-06-24T18:16:00.135Z"
      },
      {
        "duration": 0,
        "start_time": "2023-06-24T18:16:00.136Z"
      },
      {
        "duration": 0,
        "start_time": "2023-06-24T18:16:00.137Z"
      },
      {
        "duration": 0,
        "start_time": "2023-06-24T18:16:00.138Z"
      },
      {
        "duration": 0,
        "start_time": "2023-06-24T18:16:00.139Z"
      },
      {
        "duration": 0,
        "start_time": "2023-06-24T18:16:00.140Z"
      },
      {
        "duration": 0,
        "start_time": "2023-06-24T18:16:00.141Z"
      },
      {
        "duration": 0,
        "start_time": "2023-06-24T18:16:00.142Z"
      },
      {
        "duration": 0,
        "start_time": "2023-06-24T18:16:00.143Z"
      },
      {
        "duration": 0,
        "start_time": "2023-06-24T18:16:00.144Z"
      },
      {
        "duration": 0,
        "start_time": "2023-06-24T18:16:00.145Z"
      },
      {
        "duration": 0,
        "start_time": "2023-06-24T18:16:00.168Z"
      },
      {
        "duration": 0,
        "start_time": "2023-06-24T18:16:00.170Z"
      },
      {
        "duration": 0,
        "start_time": "2023-06-24T18:16:00.170Z"
      },
      {
        "duration": 0,
        "start_time": "2023-06-24T18:16:00.172Z"
      },
      {
        "duration": 78,
        "start_time": "2023-06-24T18:16:47.446Z"
      },
      {
        "duration": 1364,
        "start_time": "2023-06-24T18:16:50.028Z"
      },
      {
        "duration": 30,
        "start_time": "2023-06-24T18:16:59.009Z"
      },
      {
        "duration": 19,
        "start_time": "2023-06-24T18:17:11.345Z"
      },
      {
        "duration": 22,
        "start_time": "2023-06-24T18:17:25.446Z"
      },
      {
        "duration": 26,
        "start_time": "2023-06-24T18:17:28.658Z"
      },
      {
        "duration": 21,
        "start_time": "2023-06-24T18:17:42.975Z"
      },
      {
        "duration": 5,
        "start_time": "2023-06-24T18:17:55.738Z"
      },
      {
        "duration": 855,
        "start_time": "2023-06-24T18:18:03.713Z"
      },
      {
        "duration": 5,
        "start_time": "2023-06-24T18:18:15.757Z"
      },
      {
        "duration": 8,
        "start_time": "2023-06-24T18:18:36.433Z"
      },
      {
        "duration": 35,
        "start_time": "2023-06-24T18:18:39.641Z"
      },
      {
        "duration": 23,
        "start_time": "2023-06-24T18:18:59.761Z"
      },
      {
        "duration": 26,
        "start_time": "2023-06-24T18:20:01.961Z"
      },
      {
        "duration": 17,
        "start_time": "2023-06-24T18:20:05.613Z"
      },
      {
        "duration": 5,
        "start_time": "2023-06-24T18:20:23.505Z"
      },
      {
        "duration": 30,
        "start_time": "2023-06-24T18:21:42.159Z"
      },
      {
        "duration": 27,
        "start_time": "2023-06-24T18:21:48.240Z"
      },
      {
        "duration": 21,
        "start_time": "2023-06-24T18:21:49.722Z"
      },
      {
        "duration": 18,
        "start_time": "2023-06-24T18:21:54.371Z"
      },
      {
        "duration": 973,
        "start_time": "2023-06-24T18:22:00.819Z"
      },
      {
        "duration": 40,
        "start_time": "2023-06-24T18:22:06.301Z"
      },
      {
        "duration": 31,
        "start_time": "2023-06-24T18:22:07.710Z"
      },
      {
        "duration": 36,
        "start_time": "2023-06-24T18:22:14.801Z"
      },
      {
        "duration": 29,
        "start_time": "2023-06-24T18:22:18.403Z"
      },
      {
        "duration": 4,
        "start_time": "2023-06-24T18:22:34.305Z"
      },
      {
        "duration": 11,
        "start_time": "2023-06-24T18:22:44.612Z"
      },
      {
        "duration": 80,
        "start_time": "2023-06-24T18:22:50.997Z"
      },
      {
        "duration": 13,
        "start_time": "2023-06-24T18:23:07.174Z"
      },
      {
        "duration": 1673,
        "start_time": "2023-06-24T18:23:17.143Z"
      },
      {
        "duration": 2097,
        "start_time": "2023-06-24T18:23:29.608Z"
      },
      {
        "duration": 2127,
        "start_time": "2023-06-24T18:23:36.493Z"
      },
      {
        "duration": 249,
        "start_time": "2023-06-24T18:23:53.914Z"
      },
      {
        "duration": 181,
        "start_time": "2023-06-24T18:24:00.364Z"
      },
      {
        "duration": 28,
        "start_time": "2023-06-24T18:24:54.033Z"
      },
      {
        "duration": 182,
        "start_time": "2023-06-24T18:25:02.556Z"
      },
      {
        "duration": 139,
        "start_time": "2023-06-24T18:25:05.659Z"
      },
      {
        "duration": 166,
        "start_time": "2023-06-24T18:25:09.343Z"
      },
      {
        "duration": 232,
        "start_time": "2023-06-24T18:25:17.315Z"
      },
      {
        "duration": 5,
        "start_time": "2023-06-24T18:26:03.509Z"
      },
      {
        "duration": 5,
        "start_time": "2023-06-24T18:26:07.478Z"
      },
      {
        "duration": 4,
        "start_time": "2023-06-24T18:26:12.801Z"
      },
      {
        "duration": 4,
        "start_time": "2023-06-24T18:26:15.063Z"
      },
      {
        "duration": 63,
        "start_time": "2023-06-24T18:26:37.354Z"
      },
      {
        "duration": 12,
        "start_time": "2023-06-24T18:26:48.955Z"
      },
      {
        "duration": 1663,
        "start_time": "2023-06-24T18:26:51.106Z"
      },
      {
        "duration": 185,
        "start_time": "2023-06-24T18:26:54.809Z"
      },
      {
        "duration": 12,
        "start_time": "2023-06-24T18:27:11.737Z"
      },
      {
        "duration": 12,
        "start_time": "2023-06-24T18:27:31.108Z"
      },
      {
        "duration": 1702,
        "start_time": "2023-06-24T18:27:34.253Z"
      },
      {
        "duration": 5412,
        "start_time": "2023-06-24T18:31:55.504Z"
      },
      {
        "duration": 33,
        "start_time": "2023-06-24T18:32:19.285Z"
      },
      {
        "duration": 32,
        "start_time": "2023-06-24T18:33:08.265Z"
      },
      {
        "duration": 15,
        "start_time": "2023-06-24T18:33:26.441Z"
      },
      {
        "duration": 41,
        "start_time": "2023-06-24T18:33:32.905Z"
      },
      {
        "duration": 4660,
        "start_time": "2023-06-24T18:33:52.330Z"
      },
      {
        "duration": 2032,
        "start_time": "2023-06-24T18:34:06.437Z"
      },
      {
        "duration": 77,
        "start_time": "2023-06-24T18:34:30.505Z"
      },
      {
        "duration": 4189,
        "start_time": "2023-06-24T18:36:12.667Z"
      },
      {
        "duration": 770,
        "start_time": "2023-06-24T18:36:40.742Z"
      },
      {
        "duration": 584,
        "start_time": "2023-06-24T18:36:55.511Z"
      },
      {
        "duration": 460,
        "start_time": "2023-06-24T18:37:02.892Z"
      },
      {
        "duration": 163,
        "start_time": "2023-06-24T18:38:33.006Z"
      },
      {
        "duration": 470,
        "start_time": "2023-06-24T18:38:56.114Z"
      },
      {
        "duration": 482,
        "start_time": "2023-06-24T18:39:13.043Z"
      },
      {
        "duration": 477,
        "start_time": "2023-06-24T18:39:25.869Z"
      },
      {
        "duration": 249,
        "start_time": "2023-06-24T18:39:52.606Z"
      },
      {
        "duration": 105,
        "start_time": "2023-06-24T18:40:49.244Z"
      },
      {
        "duration": 7,
        "start_time": "2023-06-24T18:40:51.217Z"
      },
      {
        "duration": 4,
        "start_time": "2023-06-24T18:40:52.452Z"
      },
      {
        "duration": 5955,
        "start_time": "2023-06-24T18:40:55.556Z"
      },
      {
        "duration": 3,
        "start_time": "2023-06-24T18:41:01.513Z"
      },
      {
        "duration": 451,
        "start_time": "2023-06-24T18:41:01.518Z"
      },
      {
        "duration": 276,
        "start_time": "2023-06-24T18:41:59.611Z"
      },
      {
        "duration": 86,
        "start_time": "2023-06-24T18:44:18.289Z"
      },
      {
        "duration": 19,
        "start_time": "2023-06-24T18:45:07.305Z"
      },
      {
        "duration": 91,
        "start_time": "2023-06-24T18:45:13.809Z"
      },
      {
        "duration": 277,
        "start_time": "2023-06-24T18:45:27.126Z"
      },
      {
        "duration": 86947,
        "start_time": "2023-06-24T18:47:54.086Z"
      },
      {
        "duration": 16,
        "start_time": "2023-06-24T18:49:21.035Z"
      },
      {
        "duration": 74024,
        "start_time": "2023-06-24T18:49:21.053Z"
      },
      {
        "duration": 31,
        "start_time": "2023-06-24T18:50:35.080Z"
      },
      {
        "duration": 576058,
        "start_time": "2023-06-24T18:50:35.113Z"
      },
      {
        "duration": 322,
        "start_time": "2023-06-24T19:00:11.173Z"
      },
      {
        "duration": 47,
        "start_time": "2023-06-24T19:01:01.892Z"
      },
      {
        "duration": 11038,
        "start_time": "2023-06-24T19:01:06.734Z"
      },
      {
        "duration": 5193,
        "start_time": "2023-06-24T19:01:17.774Z"
      },
      {
        "duration": 1516,
        "start_time": "2023-06-24T19:01:24.381Z"
      },
      {
        "duration": 40,
        "start_time": "2023-06-24T19:01:28.185Z"
      },
      {
        "duration": 93,
        "start_time": "2023-06-24T19:01:35.531Z"
      },
      {
        "duration": 123,
        "start_time": "2023-06-24T19:01:39.296Z"
      },
      {
        "duration": 6753,
        "start_time": "2023-06-24T19:01:47.897Z"
      },
      {
        "duration": 3,
        "start_time": "2023-06-24T19:01:59.101Z"
      },
      {
        "duration": 6046,
        "start_time": "2023-06-24T19:02:03.662Z"
      },
      {
        "duration": 5,
        "start_time": "2023-06-24T19:02:09.710Z"
      },
      {
        "duration": 10885,
        "start_time": "2023-06-24T19:07:59.700Z"
      },
      {
        "duration": 8838,
        "start_time": "2023-06-24T19:08:24.446Z"
      },
      {
        "duration": 15,
        "start_time": "2023-06-24T19:08:33.546Z"
      },
      {
        "duration": 15251,
        "start_time": "2023-06-24T19:09:01.227Z"
      },
      {
        "duration": 4322,
        "start_time": "2023-06-24T19:09:30.945Z"
      },
      {
        "duration": 3204,
        "start_time": "2023-06-24T19:09:46.639Z"
      },
      {
        "duration": 1363,
        "start_time": "2023-06-24T19:09:59.742Z"
      },
      {
        "duration": 42,
        "start_time": "2023-06-24T19:10:03.048Z"
      },
      {
        "duration": 89,
        "start_time": "2023-06-24T19:10:08.054Z"
      },
      {
        "duration": 177,
        "start_time": "2023-06-24T19:10:14.939Z"
      },
      {
        "duration": 3,
        "start_time": "2023-06-24T19:10:27.377Z"
      },
      {
        "duration": 6809,
        "start_time": "2023-06-24T19:10:30.120Z"
      },
      {
        "duration": 7855,
        "start_time": "2023-06-24T19:18:17.545Z"
      },
      {
        "duration": 1091,
        "start_time": "2023-06-24T19:18:45.692Z"
      },
      {
        "duration": 37,
        "start_time": "2023-06-24T19:18:48.744Z"
      },
      {
        "duration": 85,
        "start_time": "2023-06-24T19:18:55.091Z"
      },
      {
        "duration": 3,
        "start_time": "2023-06-24T19:18:58.430Z"
      },
      {
        "duration": 5976,
        "start_time": "2023-06-24T19:19:00.619Z"
      },
      {
        "duration": 16825,
        "start_time": "2023-06-24T20:11:57.377Z"
      },
      {
        "duration": 8020,
        "start_time": "2023-06-24T20:12:14.205Z"
      },
      {
        "duration": 3493,
        "start_time": "2023-06-24T20:12:22.226Z"
      },
      {
        "duration": 31,
        "start_time": "2023-06-24T20:12:25.721Z"
      },
      {
        "duration": 44,
        "start_time": "2023-06-24T20:12:25.753Z"
      },
      {
        "duration": 7,
        "start_time": "2023-06-24T20:12:25.800Z"
      },
      {
        "duration": 102,
        "start_time": "2023-06-24T20:12:25.809Z"
      },
      {
        "duration": 7,
        "start_time": "2023-06-24T20:12:25.913Z"
      },
      {
        "duration": 6,
        "start_time": "2023-06-24T20:12:25.922Z"
      },
      {
        "duration": 41,
        "start_time": "2023-06-24T20:12:25.931Z"
      },
      {
        "duration": 1175,
        "start_time": "2023-06-24T20:12:25.974Z"
      },
      {
        "duration": 54,
        "start_time": "2023-06-24T20:12:27.151Z"
      },
      {
        "duration": 31,
        "start_time": "2023-06-24T20:12:27.207Z"
      },
      {
        "duration": 11,
        "start_time": "2023-06-24T20:12:27.240Z"
      },
      {
        "duration": 4344,
        "start_time": "2023-06-24T20:12:27.252Z"
      },
      {
        "duration": 549,
        "start_time": "2023-06-24T20:12:31.598Z"
      },
      {
        "duration": 2613,
        "start_time": "2023-06-24T20:12:32.149Z"
      },
      {
        "duration": 281,
        "start_time": "2023-06-24T20:12:34.764Z"
      },
      {
        "duration": 107,
        "start_time": "2023-06-24T20:12:35.047Z"
      },
      {
        "duration": 6,
        "start_time": "2023-06-24T20:12:35.156Z"
      },
      {
        "duration": 5,
        "start_time": "2023-06-24T20:12:35.172Z"
      },
      {
        "duration": 6945,
        "start_time": "2023-06-24T20:12:35.178Z"
      },
      {
        "duration": 4,
        "start_time": "2023-06-24T20:12:42.124Z"
      },
      {
        "duration": 80271,
        "start_time": "2023-06-24T20:12:42.130Z"
      },
      {
        "duration": 20,
        "start_time": "2023-06-24T20:14:02.404Z"
      },
      {
        "duration": 78200,
        "start_time": "2023-06-24T20:14:02.426Z"
      },
      {
        "duration": 24,
        "start_time": "2023-06-24T20:15:20.627Z"
      },
      {
        "duration": 637277,
        "start_time": "2023-06-24T20:15:20.655Z"
      },
      {
        "duration": 393,
        "start_time": "2023-06-24T20:25:57.933Z"
      },
      {
        "duration": 2,
        "start_time": "2023-06-24T20:25:58.327Z"
      },
      {
        "duration": 6,
        "start_time": "2023-06-24T20:25:58.331Z"
      },
      {
        "duration": 7,
        "start_time": "2023-06-24T20:25:58.338Z"
      },
      {
        "duration": 5447,
        "start_time": "2023-06-25T05:51:54.393Z"
      },
      {
        "duration": 78,
        "start_time": "2023-06-25T06:23:54.418Z"
      },
      {
        "duration": 17203,
        "start_time": "2023-06-25T06:27:12.889Z"
      },
      {
        "duration": 97,
        "start_time": "2023-06-25T06:27:30.095Z"
      },
      {
        "duration": 0,
        "start_time": "2023-06-25T06:27:30.195Z"
      },
      {
        "duration": 0,
        "start_time": "2023-06-25T06:27:30.196Z"
      },
      {
        "duration": 0,
        "start_time": "2023-06-25T06:27:30.197Z"
      },
      {
        "duration": 0,
        "start_time": "2023-06-25T06:27:30.198Z"
      },
      {
        "duration": 0,
        "start_time": "2023-06-25T06:27:30.199Z"
      },
      {
        "duration": 0,
        "start_time": "2023-06-25T06:27:30.201Z"
      },
      {
        "duration": 0,
        "start_time": "2023-06-25T06:27:30.202Z"
      },
      {
        "duration": 0,
        "start_time": "2023-06-25T06:27:30.203Z"
      },
      {
        "duration": 0,
        "start_time": "2023-06-25T06:27:30.205Z"
      },
      {
        "duration": 0,
        "start_time": "2023-06-25T06:27:30.206Z"
      },
      {
        "duration": 0,
        "start_time": "2023-06-25T06:27:30.207Z"
      },
      {
        "duration": 0,
        "start_time": "2023-06-25T06:27:30.208Z"
      },
      {
        "duration": 0,
        "start_time": "2023-06-25T06:27:30.209Z"
      },
      {
        "duration": 0,
        "start_time": "2023-06-25T06:27:30.210Z"
      },
      {
        "duration": 0,
        "start_time": "2023-06-25T06:27:30.212Z"
      },
      {
        "duration": 0,
        "start_time": "2023-06-25T06:27:30.213Z"
      },
      {
        "duration": 0,
        "start_time": "2023-06-25T06:27:30.214Z"
      },
      {
        "duration": 0,
        "start_time": "2023-06-25T06:27:30.215Z"
      },
      {
        "duration": 0,
        "start_time": "2023-06-25T06:27:30.216Z"
      },
      {
        "duration": 0,
        "start_time": "2023-06-25T06:27:30.218Z"
      },
      {
        "duration": 0,
        "start_time": "2023-06-25T06:27:30.259Z"
      },
      {
        "duration": 0,
        "start_time": "2023-06-25T06:27:30.260Z"
      },
      {
        "duration": 0,
        "start_time": "2023-06-25T06:27:30.261Z"
      },
      {
        "duration": 0,
        "start_time": "2023-06-25T06:27:30.262Z"
      },
      {
        "duration": 0,
        "start_time": "2023-06-25T06:27:30.263Z"
      },
      {
        "duration": 0,
        "start_time": "2023-06-25T06:27:30.265Z"
      },
      {
        "duration": 0,
        "start_time": "2023-06-25T06:27:30.266Z"
      },
      {
        "duration": 12173,
        "start_time": "2023-06-25T06:28:25.148Z"
      },
      {
        "duration": 42,
        "start_time": "2023-06-25T06:28:45.088Z"
      },
      {
        "duration": 12346,
        "start_time": "2023-06-25T06:33:07.172Z"
      },
      {
        "duration": 40,
        "start_time": "2023-06-25T06:33:25.735Z"
      },
      {
        "duration": 12534,
        "start_time": "2023-06-25T06:34:04.993Z"
      },
      {
        "duration": 10106,
        "start_time": "2023-06-25T06:34:21.362Z"
      },
      {
        "duration": 3449,
        "start_time": "2023-06-25T06:34:35.196Z"
      },
      {
        "duration": 36,
        "start_time": "2023-06-25T06:34:38.647Z"
      },
      {
        "duration": 39,
        "start_time": "2023-06-25T06:34:40.874Z"
      },
      {
        "duration": 6,
        "start_time": "2023-06-25T06:34:42.426Z"
      },
      {
        "duration": 74,
        "start_time": "2023-06-25T06:34:43.985Z"
      },
      {
        "duration": 6,
        "start_time": "2023-06-25T06:34:47.916Z"
      },
      {
        "duration": 3,
        "start_time": "2023-06-25T06:34:49.763Z"
      },
      {
        "duration": 12,
        "start_time": "2023-06-25T06:34:50.796Z"
      },
      {
        "duration": 1481,
        "start_time": "2023-06-25T06:34:54.420Z"
      },
      {
        "duration": 314,
        "start_time": "2023-06-25T06:34:56.049Z"
      },
      {
        "duration": 31,
        "start_time": "2023-06-25T06:34:59.382Z"
      },
      {
        "duration": 11,
        "start_time": "2023-06-25T06:35:02.022Z"
      },
      {
        "duration": 4182,
        "start_time": "2023-06-25T06:35:03.667Z"
      },
      {
        "duration": 544,
        "start_time": "2023-06-25T06:35:07.851Z"
      },
      {
        "duration": 1119,
        "start_time": "2023-06-25T06:35:08.397Z"
      },
      {
        "duration": 288,
        "start_time": "2023-06-25T06:35:09.519Z"
      },
      {
        "duration": 93,
        "start_time": "2023-06-25T06:35:36.845Z"
      },
      {
        "duration": 8,
        "start_time": "2023-06-25T06:35:38.304Z"
      },
      {
        "duration": 3,
        "start_time": "2023-06-25T06:35:40.253Z"
      },
      {
        "duration": 6667,
        "start_time": "2023-06-25T06:35:42.550Z"
      },
      {
        "duration": 4,
        "start_time": "2023-06-25T06:35:49.219Z"
      },
      {
        "duration": 635,
        "start_time": "2023-06-25T06:35:49.224Z"
      },
      {
        "duration": 286,
        "start_time": "2023-06-25T06:36:33.736Z"
      },
      {
        "duration": 329,
        "start_time": "2023-06-25T06:36:46.465Z"
      },
      {
        "duration": 314,
        "start_time": "2023-06-25T06:37:28.197Z"
      },
      {
        "duration": 136,
        "start_time": "2023-06-25T06:40:04.116Z"
      },
      {
        "duration": 59929,
        "start_time": "2023-06-25T06:59:32.849Z"
      },
      {
        "duration": 60055,
        "start_time": "2023-06-25T07:00:57.618Z"
      },
      {
        "duration": 80993,
        "start_time": "2023-06-25T07:44:44.670Z"
      },
      {
        "duration": 52,
        "start_time": "2023-06-25T07:46:59.812Z"
      },
      {
        "duration": 36,
        "start_time": "2023-06-25T07:47:22.607Z"
      },
      {
        "duration": 17,
        "start_time": "2023-06-25T07:47:31.020Z"
      }
    ],
    "kernelspec": {
      "display_name": "Python 3 (ipykernel)",
      "language": "python",
      "name": "python3"
    },
    "language_info": {
      "codemirror_mode": {
        "name": "ipython",
        "version": 3
      },
      "file_extension": ".py",
      "mimetype": "text/x-python",
      "name": "python",
      "nbconvert_exporter": "python",
      "pygments_lexer": "ipython3",
      "version": "3.9.5"
    },
    "toc": {
      "base_numbering": 1,
      "nav_menu": {},
      "number_sections": true,
      "sideBar": true,
      "skip_h1_title": true,
      "title_cell": "Содержание",
      "title_sidebar": "Contents",
      "toc_cell": true,
      "toc_position": {
        "height": "calc(100% - 180px)",
        "left": "10px",
        "top": "150px",
        "width": "302.391px"
      },
      "toc_section_display": true,
      "toc_window_display": false
    },
    "colab": {
      "provenance": []
    }
  },
  "nbformat": 4,
  "nbformat_minor": 0
}