{
  "cells": [
    {
      "cell_type": "markdown",
      "metadata": {
        "toc": true,
        "id": "aGWhM6z3Ro5A"
      },
      "source": [
        "<h1>Содержание<span class=\"tocSkip\"></span></h1>\n",
        "<div class=\"toc\"><ul class=\"toc-item\"><li><span><a href=\"#Подготовка-данных\" data-toc-modified-id=\"Подготовка-данных-1\"><span class=\"toc-item-num\">1&nbsp;&nbsp;</span>Подготовка данных</a></span></li><li><span><a href=\"#Исследование-задачи\" data-toc-modified-id=\"Исследование-задачи-2\"><span class=\"toc-item-num\">2&nbsp;&nbsp;</span>Исследование задачи</a></span><ul class=\"toc-item\"><li><span><a href=\"#Логистическая-регрессия\" data-toc-modified-id=\"Логистическая-регрессия-2.1\"><span class=\"toc-item-num\">2.1&nbsp;&nbsp;</span>Логистическая регрессия</a></span></li><li><span><a href=\"#Дерево-решений\" data-toc-modified-id=\"Дерево-решений-2.2\"><span class=\"toc-item-num\">2.2&nbsp;&nbsp;</span>Дерево решений</a></span></li><li><span><a href=\"#Случайный-лес\" data-toc-modified-id=\"Случайный-лес-2.3\"><span class=\"toc-item-num\">2.3&nbsp;&nbsp;</span>Случайный лес</a></span></li><li><span><a href=\"#Константная-модель\" data-toc-modified-id=\"Константная-модель-2.4\"><span class=\"toc-item-num\">2.4&nbsp;&nbsp;</span>Константная модель</a></span></li></ul></li><li><span><a href=\"#Борьба-с-дисбалансом\" data-toc-modified-id=\"Борьба-с-дисбалансом-3\"><span class=\"toc-item-num\">3&nbsp;&nbsp;</span>Борьба с дисбалансом</a></span><ul class=\"toc-item\"><li><span><a href=\"#Upsampling\" data-toc-modified-id=\"Upsampling-3.1\"><span class=\"toc-item-num\">3.1&nbsp;&nbsp;</span>Upsampling</a></span><ul class=\"toc-item\"><li><span><a href=\"#Логистическая-регрессия\" data-toc-modified-id=\"Логистическая-регрессия-3.1.1\"><span class=\"toc-item-num\">3.1.1&nbsp;&nbsp;</span>Логистическая регрессия</a></span></li><li><span><a href=\"#Дерево-решений\" data-toc-modified-id=\"Дерево-решений-3.1.2\"><span class=\"toc-item-num\">3.1.2&nbsp;&nbsp;</span>Дерево решений</a></span></li><li><span><a href=\"#Случайный-лес\" data-toc-modified-id=\"Случайный-лес-3.1.3\"><span class=\"toc-item-num\">3.1.3&nbsp;&nbsp;</span>Случайный лес</a></span></li></ul></li><li><span><a href=\"#Downsampling\" data-toc-modified-id=\"Downsampling-3.2\"><span class=\"toc-item-num\">3.2&nbsp;&nbsp;</span>Downsampling</a></span><ul class=\"toc-item\"><li><span><a href=\"#Логистическая-регрессия\" data-toc-modified-id=\"Логистическая-регрессия-3.2.1\"><span class=\"toc-item-num\">3.2.1&nbsp;&nbsp;</span>Логистическая регрессия</a></span></li><li><span><a href=\"#Дерево-решений\" data-toc-modified-id=\"Дерево-решений-3.2.2\"><span class=\"toc-item-num\">3.2.2&nbsp;&nbsp;</span>Дерево решений</a></span></li><li><span><a href=\"#Случайный-лес\" data-toc-modified-id=\"Случайный-лес-3.2.3\"><span class=\"toc-item-num\">3.2.3&nbsp;&nbsp;</span>Случайный лес</a></span></li></ul></li></ul></li><li><span><a href=\"#Тестирование-модели\" data-toc-modified-id=\"Тестирование-модели-4\"><span class=\"toc-item-num\">4&nbsp;&nbsp;</span>Тестирование модели</a></span></li><li><span><a href=\"#Общий-вывод\" data-toc-modified-id=\"Общий-вывод-5\"><span class=\"toc-item-num\">5&nbsp;&nbsp;</span>Общий вывод</a></span></li><li><span><a href=\"#Чек-лист-готовности-проекта\" data-toc-modified-id=\"Чек-лист-готовности-проекта-6\"><span class=\"toc-item-num\">6&nbsp;&nbsp;</span>Чек-лист готовности проекта</a></span></li><li><span><a href=\"#Общий-вывод-по-проекту\" data-toc-modified-id=\"Общий-вывод-по-проекту-7\"><span class=\"toc-item-num\">7&nbsp;&nbsp;</span><b>Общий вывод по проекту</b></a></span></li><li><span><a href=\"#Общий-вывод-по-проекту-В2\" data-toc-modified-id=\"Общий-вывод-по-проекту-В2-8\"><span class=\"toc-item-num\">8&nbsp;&nbsp;</span><b>Общий вывод по проекту В2</b></a></span></li></ul></div>"
      ]
    },
    {
      "cell_type": "markdown",
      "metadata": {
        "id": "XbjpXrx5Ro5B"
      },
      "source": [
        "# Отток клиентов банка - Обучение с учителем"
      ]
    },
    {
      "cell_type": "markdown",
      "metadata": {
        "id": "cNIhdTp7Ro5C"
      },
      "source": [
        "Из «Бета-Банка» стали уходить клиенты. Каждый месяц. Немного, но заметно. Банковские маркетологи посчитали: сохранять текущих клиентов дешевле, чем привлекать новых.\n",
        "\n",
        "Нужно спрогнозировать, уйдёт клиент из банка в ближайшее время или нет. Вам предоставлены исторические данные о поведении клиентов и расторжении договоров с банком.\n",
        "\n",
        "Постройте модель с предельно большим значением *F1*-меры. Чтобы сдать проект успешно, нужно довести метрику до 0.59. Проверьте *F1*-меру на тестовой выборке самостоятельно.\n",
        "\n",
        "Дополнительно измеряйте *AUC-ROC*, сравнивайте её значение с *F1*-мерой.\n",
        "\n",
        "Источник данных: [https://www.kaggle.com/barelydedicated/bank-customer-churn-modeling](https://www.kaggle.com/barelydedicated/bank-customer-churn-modeling)"
      ]
    },
    {
      "cell_type": "markdown",
      "metadata": {
        "id": "slLnShx0Ro5C"
      },
      "source": [
        "Для выполнения проекта, а конкретно прогнозирования того, уйдет ли клиент из банка в ближайшее время или нет, я собираюсь выполнить следующие этапы:\n",
        "\n",
        "**1. Подготовка данных:**\n",
        "- открою файл и ознакомлюсь с данными\n",
        "- выделю целевой признак, определю его тип\n",
        "- посмотрю на типы данных признаков, приведу данные к нужным типам, если это необходимо\n",
        "- посмотрю на наличие пропусков и удалю такие данные (если их менее 10%) или заполню пропуски подходящими знаечниями\n",
        "- выделю интересующие нас для предсказания целевого признака столбцы, прочие удалю из выборки\n",
        "- приведу категориальные признаки к числовому типу с помощью OHE с учетом избегания дамми ловушки\n",
        "- разделю данные на обучающую, тестовую и валидационную выборки в соотношении 60\\20\\20\n",
        "- сделаю выводы\n",
        "\n",
        "**2. Иследование задачи:**\n",
        "- исследую баланс классов в обучающей выборке\n",
        "- исследую модели без учета дисбаланса классов: модель линейной регрессии, дерева решений, случайного леса, найду оптимальные параметры для данных моделей, оценю показатели качества моделей:\n",
        "-- матрицу ошибок\n",
        "-- полноту\n",
        "-- точность\n",
        "-- f1-меру\n",
        "-- auc -roc\n",
        "- проверю модели на адекватность\n",
        "- сделаю выводы\n",
        "\n",
        "**3. Борьба с дисбалансом:**\n",
        "- попробую прмиенить\n",
        "- попробую применить upsampling и оценю показатели качества моделей на новой обучающей выборке\n",
        "- попробую применить downsampling и оценю показатели качества моделей на новой обучающей выборке\n",
        "- сделаю выводы\n",
        "\n",
        "**4. Тестирование модели:**\n",
        "- получу предсказания на валидационной выборке\n",
        "- оценю показатели метрик качества модели на валидационной выборке\n",
        "- проверю модель на адекватность\n",
        "- сделаю выводы"
      ]
    },
    {
      "cell_type": "markdown",
      "metadata": {
        "id": "0eKn8fZVRo5D"
      },
      "source": [
        "## Подготовка данных"
      ]
    },
    {
      "cell_type": "code",
      "execution_count": null,
      "metadata": {
        "id": "9c1MkKrPRo5D"
      },
      "outputs": [],
      "source": [
        "import pandas as pd\n",
        "from sklearn.utils import shuffle\n",
        "from sklearn.preprocessing import StandardScaler\n",
        "from sklearn.model_selection import train_test_split\n",
        "import matplotlib.pyplot as plt\n",
        "from sklearn.metrics import precision_recall_curve\n",
        "from sklearn.linear_model import LogisticRegression\n",
        "from sklearn.tree import DecisionTreeClassifier\n",
        "from sklearn.ensemble import RandomForestClassifier\n",
        "from sklearn.metrics import confusion_matrix\n",
        "from sklearn.metrics import accuracy_score\n",
        "from sklearn.metrics import precision_score\n",
        "from sklearn.metrics import recall_score\n",
        "from sklearn.metrics import f1_score\n",
        "from sklearn.metrics import roc_curve\n",
        "from sklearn.metrics import roc_auc_score\n",
        "from sklearn.metrics import classification_report\n",
        "from sklearn.utils import shuffle\n",
        "from sklearn.preprocessing import OneHotEncoder"
      ]
    },
    {
      "cell_type": "code",
      "execution_count": null,
      "metadata": {
        "id": "SGydlNHNRo5F",
        "outputId": "8e8c5974-5015-428c-9139-77641ea299fe"
      },
      "outputs": [
        {
          "data": {
            "text/html": [
              "<div>\n",
              "<style scoped>\n",
              "    .dataframe tbody tr th:only-of-type {\n",
              "        vertical-align: middle;\n",
              "    }\n",
              "\n",
              "    .dataframe tbody tr th {\n",
              "        vertical-align: top;\n",
              "    }\n",
              "\n",
              "    .dataframe thead th {\n",
              "        text-align: right;\n",
              "    }\n",
              "</style>\n",
              "<table border=\"1\" class=\"dataframe\">\n",
              "  <thead>\n",
              "    <tr style=\"text-align: right;\">\n",
              "      <th></th>\n",
              "      <th>RowNumber</th>\n",
              "      <th>CustomerId</th>\n",
              "      <th>Surname</th>\n",
              "      <th>CreditScore</th>\n",
              "      <th>Geography</th>\n",
              "      <th>Gender</th>\n",
              "      <th>Age</th>\n",
              "      <th>Tenure</th>\n",
              "      <th>Balance</th>\n",
              "      <th>NumOfProducts</th>\n",
              "      <th>HasCrCard</th>\n",
              "      <th>IsActiveMember</th>\n",
              "      <th>EstimatedSalary</th>\n",
              "      <th>Exited</th>\n",
              "    </tr>\n",
              "  </thead>\n",
              "  <tbody>\n",
              "    <tr>\n",
              "      <th>0</th>\n",
              "      <td>1</td>\n",
              "      <td>15634602</td>\n",
              "      <td>Hargrave</td>\n",
              "      <td>619</td>\n",
              "      <td>France</td>\n",
              "      <td>Female</td>\n",
              "      <td>42</td>\n",
              "      <td>2.0</td>\n",
              "      <td>0.00</td>\n",
              "      <td>1</td>\n",
              "      <td>1</td>\n",
              "      <td>1</td>\n",
              "      <td>101348.88</td>\n",
              "      <td>1</td>\n",
              "    </tr>\n",
              "    <tr>\n",
              "      <th>1</th>\n",
              "      <td>2</td>\n",
              "      <td>15647311</td>\n",
              "      <td>Hill</td>\n",
              "      <td>608</td>\n",
              "      <td>Spain</td>\n",
              "      <td>Female</td>\n",
              "      <td>41</td>\n",
              "      <td>1.0</td>\n",
              "      <td>83807.86</td>\n",
              "      <td>1</td>\n",
              "      <td>0</td>\n",
              "      <td>1</td>\n",
              "      <td>112542.58</td>\n",
              "      <td>0</td>\n",
              "    </tr>\n",
              "    <tr>\n",
              "      <th>2</th>\n",
              "      <td>3</td>\n",
              "      <td>15619304</td>\n",
              "      <td>Onio</td>\n",
              "      <td>502</td>\n",
              "      <td>France</td>\n",
              "      <td>Female</td>\n",
              "      <td>42</td>\n",
              "      <td>8.0</td>\n",
              "      <td>159660.80</td>\n",
              "      <td>3</td>\n",
              "      <td>1</td>\n",
              "      <td>0</td>\n",
              "      <td>113931.57</td>\n",
              "      <td>1</td>\n",
              "    </tr>\n",
              "    <tr>\n",
              "      <th>3</th>\n",
              "      <td>4</td>\n",
              "      <td>15701354</td>\n",
              "      <td>Boni</td>\n",
              "      <td>699</td>\n",
              "      <td>France</td>\n",
              "      <td>Female</td>\n",
              "      <td>39</td>\n",
              "      <td>1.0</td>\n",
              "      <td>0.00</td>\n",
              "      <td>2</td>\n",
              "      <td>0</td>\n",
              "      <td>0</td>\n",
              "      <td>93826.63</td>\n",
              "      <td>0</td>\n",
              "    </tr>\n",
              "    <tr>\n",
              "      <th>4</th>\n",
              "      <td>5</td>\n",
              "      <td>15737888</td>\n",
              "      <td>Mitchell</td>\n",
              "      <td>850</td>\n",
              "      <td>Spain</td>\n",
              "      <td>Female</td>\n",
              "      <td>43</td>\n",
              "      <td>2.0</td>\n",
              "      <td>125510.82</td>\n",
              "      <td>1</td>\n",
              "      <td>1</td>\n",
              "      <td>1</td>\n",
              "      <td>79084.10</td>\n",
              "      <td>0</td>\n",
              "    </tr>\n",
              "    <tr>\n",
              "      <th>5</th>\n",
              "      <td>6</td>\n",
              "      <td>15574012</td>\n",
              "      <td>Chu</td>\n",
              "      <td>645</td>\n",
              "      <td>Spain</td>\n",
              "      <td>Male</td>\n",
              "      <td>44</td>\n",
              "      <td>8.0</td>\n",
              "      <td>113755.78</td>\n",
              "      <td>2</td>\n",
              "      <td>1</td>\n",
              "      <td>0</td>\n",
              "      <td>149756.71</td>\n",
              "      <td>1</td>\n",
              "    </tr>\n",
              "    <tr>\n",
              "      <th>6</th>\n",
              "      <td>7</td>\n",
              "      <td>15592531</td>\n",
              "      <td>Bartlett</td>\n",
              "      <td>822</td>\n",
              "      <td>France</td>\n",
              "      <td>Male</td>\n",
              "      <td>50</td>\n",
              "      <td>7.0</td>\n",
              "      <td>0.00</td>\n",
              "      <td>2</td>\n",
              "      <td>1</td>\n",
              "      <td>1</td>\n",
              "      <td>10062.80</td>\n",
              "      <td>0</td>\n",
              "    </tr>\n",
              "    <tr>\n",
              "      <th>7</th>\n",
              "      <td>8</td>\n",
              "      <td>15656148</td>\n",
              "      <td>Obinna</td>\n",
              "      <td>376</td>\n",
              "      <td>Germany</td>\n",
              "      <td>Female</td>\n",
              "      <td>29</td>\n",
              "      <td>4.0</td>\n",
              "      <td>115046.74</td>\n",
              "      <td>4</td>\n",
              "      <td>1</td>\n",
              "      <td>0</td>\n",
              "      <td>119346.88</td>\n",
              "      <td>1</td>\n",
              "    </tr>\n",
              "    <tr>\n",
              "      <th>8</th>\n",
              "      <td>9</td>\n",
              "      <td>15792365</td>\n",
              "      <td>He</td>\n",
              "      <td>501</td>\n",
              "      <td>France</td>\n",
              "      <td>Male</td>\n",
              "      <td>44</td>\n",
              "      <td>4.0</td>\n",
              "      <td>142051.07</td>\n",
              "      <td>2</td>\n",
              "      <td>0</td>\n",
              "      <td>1</td>\n",
              "      <td>74940.50</td>\n",
              "      <td>0</td>\n",
              "    </tr>\n",
              "    <tr>\n",
              "      <th>9</th>\n",
              "      <td>10</td>\n",
              "      <td>15592389</td>\n",
              "      <td>H?</td>\n",
              "      <td>684</td>\n",
              "      <td>France</td>\n",
              "      <td>Male</td>\n",
              "      <td>27</td>\n",
              "      <td>2.0</td>\n",
              "      <td>134603.88</td>\n",
              "      <td>1</td>\n",
              "      <td>1</td>\n",
              "      <td>1</td>\n",
              "      <td>71725.73</td>\n",
              "      <td>0</td>\n",
              "    </tr>\n",
              "  </tbody>\n",
              "</table>\n",
              "</div>"
            ],
            "text/plain": [
              "   RowNumber  CustomerId   Surname  CreditScore Geography  Gender  Age  \\\n",
              "0          1    15634602  Hargrave          619    France  Female   42   \n",
              "1          2    15647311      Hill          608     Spain  Female   41   \n",
              "2          3    15619304      Onio          502    France  Female   42   \n",
              "3          4    15701354      Boni          699    France  Female   39   \n",
              "4          5    15737888  Mitchell          850     Spain  Female   43   \n",
              "5          6    15574012       Chu          645     Spain    Male   44   \n",
              "6          7    15592531  Bartlett          822    France    Male   50   \n",
              "7          8    15656148    Obinna          376   Germany  Female   29   \n",
              "8          9    15792365        He          501    France    Male   44   \n",
              "9         10    15592389        H?          684    France    Male   27   \n",
              "\n",
              "   Tenure    Balance  NumOfProducts  HasCrCard  IsActiveMember  \\\n",
              "0     2.0       0.00              1          1               1   \n",
              "1     1.0   83807.86              1          0               1   \n",
              "2     8.0  159660.80              3          1               0   \n",
              "3     1.0       0.00              2          0               0   \n",
              "4     2.0  125510.82              1          1               1   \n",
              "5     8.0  113755.78              2          1               0   \n",
              "6     7.0       0.00              2          1               1   \n",
              "7     4.0  115046.74              4          1               0   \n",
              "8     4.0  142051.07              2          0               1   \n",
              "9     2.0  134603.88              1          1               1   \n",
              "\n",
              "   EstimatedSalary  Exited  \n",
              "0        101348.88       1  \n",
              "1        112542.58       0  \n",
              "2        113931.57       1  \n",
              "3         93826.63       0  \n",
              "4         79084.10       0  \n",
              "5        149756.71       1  \n",
              "6         10062.80       0  \n",
              "7        119346.88       1  \n",
              "8         74940.50       0  \n",
              "9         71725.73       0  "
            ]
          },
          "execution_count": 2,
          "metadata": {},
          "output_type": "execute_result"
        }
      ],
      "source": [
        "data = pd.read_csv('/datasets/Churn.csv')\n",
        "data.head(10)"
      ]
    },
    {
      "cell_type": "markdown",
      "metadata": {
        "id": "-_d8bjzURo5H"
      },
      "source": [
        "Посмотрим на количество строк, пропусков, типы данных:"
      ]
    },
    {
      "cell_type": "code",
      "execution_count": null,
      "metadata": {
        "id": "u4KSp5ouRo5H",
        "outputId": "f1e549a6-8ba1-4e18-d8f1-68e905e35c53"
      },
      "outputs": [
        {
          "name": "stdout",
          "output_type": "stream",
          "text": [
            "<class 'pandas.core.frame.DataFrame'>\n",
            "RangeIndex: 10000 entries, 0 to 9999\n",
            "Data columns (total 14 columns):\n",
            " #   Column           Non-Null Count  Dtype  \n",
            "---  ------           --------------  -----  \n",
            " 0   RowNumber        10000 non-null  int64  \n",
            " 1   CustomerId       10000 non-null  int64  \n",
            " 2   Surname          10000 non-null  object \n",
            " 3   CreditScore      10000 non-null  int64  \n",
            " 4   Geography        10000 non-null  object \n",
            " 5   Gender           10000 non-null  object \n",
            " 6   Age              10000 non-null  int64  \n",
            " 7   Tenure           9091 non-null   float64\n",
            " 8   Balance          10000 non-null  float64\n",
            " 9   NumOfProducts    10000 non-null  int64  \n",
            " 10  HasCrCard        10000 non-null  int64  \n",
            " 11  IsActiveMember   10000 non-null  int64  \n",
            " 12  EstimatedSalary  10000 non-null  float64\n",
            " 13  Exited           10000 non-null  int64  \n",
            "dtypes: float64(3), int64(8), object(3)\n",
            "memory usage: 1.1+ MB\n"
          ]
        }
      ],
      "source": [
        "data.info()"
      ]
    },
    {
      "cell_type": "markdown",
      "metadata": {
        "id": "2nsPwB2ZRo5H"
      },
      "source": [
        "Рассмотрим содержимое категориальных и целевого признака"
      ]
    },
    {
      "cell_type": "code",
      "execution_count": null,
      "metadata": {
        "id": "HBvo5cu5Ro5H",
        "outputId": "23f72ef4-0362-4dd9-c0fd-61271fa0583b"
      },
      "outputs": [
        {
          "data": {
            "text/plain": [
              "0    7963\n",
              "1    2037\n",
              "Name: Exited, dtype: int64"
            ]
          },
          "execution_count": 4,
          "metadata": {},
          "output_type": "execute_result"
        }
      ],
      "source": [
        "data['Exited'].value_counts()"
      ]
    },
    {
      "cell_type": "code",
      "execution_count": null,
      "metadata": {
        "id": "1PRVfD6JRo5H",
        "outputId": "5d74a211-6377-4981-e690-dd59080c3b57"
      },
      "outputs": [
        {
          "data": {
            "text/plain": [
              "France     5014\n",
              "Germany    2509\n",
              "Spain      2477\n",
              "Name: Geography, dtype: int64"
            ]
          },
          "execution_count": 5,
          "metadata": {},
          "output_type": "execute_result"
        }
      ],
      "source": [
        "data['Geography'].value_counts()"
      ]
    },
    {
      "cell_type": "code",
      "execution_count": null,
      "metadata": {
        "id": "Yemc6Yh9Ro5I",
        "outputId": "e5cfbc39-d585-4795-e9a2-4fc5143031ae"
      },
      "outputs": [
        {
          "data": {
            "text/plain": [
              "Male      5457\n",
              "Female    4543\n",
              "Name: Gender, dtype: int64"
            ]
          },
          "execution_count": 6,
          "metadata": {},
          "output_type": "execute_result"
        }
      ],
      "source": [
        "data['Gender'].value_counts()"
      ]
    },
    {
      "cell_type": "markdown",
      "metadata": {
        "id": "H0frq9brRo5I"
      },
      "source": [
        "Также обратим внимание на то, нет ли дубликатов в строке ID клиента и явных дубликатов в датасете"
      ]
    },
    {
      "cell_type": "code",
      "execution_count": null,
      "metadata": {
        "id": "hxct5vw8Ro5K",
        "outputId": "eea2e1d4-837c-44b9-bad8-52d11d02b20d"
      },
      "outputs": [
        {
          "data": {
            "text/plain": [
              "0"
            ]
          },
          "execution_count": 7,
          "metadata": {},
          "output_type": "execute_result"
        }
      ],
      "source": [
        "data.duplicated().sum()"
      ]
    },
    {
      "cell_type": "code",
      "execution_count": null,
      "metadata": {
        "id": "3ogTelxBRo5K",
        "outputId": "beb0b564-edc0-4642-ae6f-a52c4e968d85"
      },
      "outputs": [
        {
          "data": {
            "text/plain": [
              "10000"
            ]
          },
          "execution_count": 8,
          "metadata": {},
          "output_type": "execute_result"
        }
      ],
      "source": [
        "len(data['CustomerId'].unique())"
      ]
    },
    {
      "cell_type": "markdown",
      "metadata": {
        "id": "zIL0s1nnRo5K"
      },
      "source": [
        "В файле 10000 строк. Явные дубликаты отсутствуют. Дубликаты по столбцу CustomerId отсутствуют.  \n",
        "\n",
        "Столбцы RowNumber, CustomerId, Surname  не несут полезной информации с точки зрения того, уйдет ли клиент банка, т.к это номер строки датасета, ид клиента и фамилия, они могут быть удалены из выборки.\n",
        "\n",
        "Явные пропуски есть только в столбце Tenure - количество лет, какое человек является клиентом банка. проанализируем баланс классов, и по возможности удалим эти строки, если они не окажутся критичными для целей исследования. В противном случае заполним 0, но если это действительно отсутствующая информация и у человека куча продуктов, то такое заполнение может запутать модель и плохо сказаться на рехультатах прогнозирования.\n",
        "\n",
        "Целевой признак - Exited принмиает только два знаечния и является категориальным, будем использовать методы классификации.\n",
        "\n",
        "В категориальных признаках Пол и Страна по 2 и 3 знаечния соответственно - преобразуем их с помощью OHE кодирования.\n",
        "\n",
        "Зарплату, баланс и кредитный рейтинг  проверим на наличие явных выбросов и стандартизируем."
      ]
    },
    {
      "cell_type": "markdown",
      "metadata": {
        "id": "EKb-hwP9Ro5K"
      },
      "source": [
        "Посмотрим,как распределны данные по целевом признаку в датасете:"
      ]
    },
    {
      "cell_type": "code",
      "execution_count": null,
      "metadata": {
        "id": "vCwJVzylRo5L",
        "outputId": "f635d514-6101-4548-8d34-2ab13a375abe"
      },
      "outputs": [
        {
          "data": {
            "text/plain": [
              "20.369999999999997"
            ]
          },
          "execution_count": 9,
          "metadata": {},
          "output_type": "execute_result"
        }
      ],
      "source": [
        "len(data[data['Exited']==1])/len(data)*100"
      ]
    },
    {
      "cell_type": "code",
      "execution_count": null,
      "metadata": {
        "id": "sMuxUoxoRo5L",
        "outputId": "56f332ab-92cb-4100-cbdb-3706175525a9"
      },
      "outputs": [
        {
          "data": {
            "text/plain": [
              "79.63"
            ]
          },
          "execution_count": 10,
          "metadata": {},
          "output_type": "execute_result"
        }
      ],
      "source": [
        "len(data[data['Exited']==0])/len(data)*100"
      ]
    },
    {
      "cell_type": "markdown",
      "metadata": {
        "id": "ptKAP9k8Ro5L"
      },
      "source": [
        "Почти 80% данных относятся к отрицательному классу (0, клиент остался) и 20.4% к положительному (1, клиент ушел), наблюдается явный дисбаланс классов, нужно будет учесть это в дальнейшем и провести балансировку."
      ]
    },
    {
      "cell_type": "markdown",
      "metadata": {
        "id": "6MJJaRL5Ro5L"
      },
      "source": [
        "Посмотрим, сколько процентов от общего датасета составляют данные с пропусками в столбце Tenure:"
      ]
    },
    {
      "cell_type": "code",
      "execution_count": null,
      "metadata": {
        "id": "owRvk-UQRo5L",
        "outputId": "cb24e2a5-87b4-407c-ff3d-e378842ad8e6"
      },
      "outputs": [
        {
          "data": {
            "text/plain": [
              "9.09"
            ]
          },
          "execution_count": 11,
          "metadata": {},
          "output_type": "execute_result"
        }
      ],
      "source": [
        "len(data[data['Tenure'].isnull()])/len(data)*100"
      ]
    },
    {
      "cell_type": "code",
      "execution_count": null,
      "metadata": {
        "id": "8PVkohOVRo5M",
        "outputId": "130121e7-61f3-4faf-caef-b75a99fe2ccf"
      },
      "outputs": [
        {
          "data": {
            "text/plain": [
              "183"
            ]
          },
          "execution_count": 12,
          "metadata": {},
          "output_type": "execute_result"
        }
      ],
      "source": [
        "len(data[(data['Tenure'].isnull()) & (data['Exited']>0)])"
      ]
    },
    {
      "cell_type": "code",
      "execution_count": null,
      "metadata": {
        "id": "FMXzC4_XRo5M",
        "outputId": "155e6c71-7ea1-4bcf-9462-a89130c4cf97"
      },
      "outputs": [
        {
          "data": {
            "text/plain": [
              "726"
            ]
          },
          "execution_count": 13,
          "metadata": {},
          "output_type": "execute_result"
        }
      ],
      "source": [
        "len(data[(data['Tenure'].isnull()) & (data['Exited']==0)])"
      ]
    },
    {
      "cell_type": "code",
      "execution_count": null,
      "metadata": {
        "id": "rwm6nSUxRo5M",
        "outputId": "f64822b5-4d52-4f8f-b0e7-5ef5ba885273"
      },
      "outputs": [
        {
          "data": {
            "text/plain": [
              "1    467\n",
              "2    406\n",
              "3     32\n",
              "4      4\n",
              "Name: NumOfProducts, dtype: int64"
            ]
          },
          "execution_count": 14,
          "metadata": {},
          "output_type": "execute_result"
        }
      ],
      "source": [
        "data[data['Tenure'].isnull()]['NumOfProducts'].value_counts()"
      ]
    },
    {
      "cell_type": "markdown",
      "metadata": {
        "id": "kF8_DT4pRo5M"
      },
      "source": [
        "Данные с пропусками составляют менее 10% исходных данных, самих данных в выборке достаточно, пропуски распределны так же, как и сами классы, поэтому считаю целесообразным их удалить, тем более, что среди них есть клиенты с 3 и 4 продуктами банка, что может говорить в пользу технического пропуска в данной ячейке,а не 0 лет в качестве клиента.\n",
        "Заодно удалим и лишние столбцы."
      ]
    },
    {
      "cell_type": "code",
      "execution_count": null,
      "metadata": {
        "id": "nvYVHym4Ro5M",
        "outputId": "40d90263-0598-4b3e-9af7-d953d362d72f"
      },
      "outputs": [
        {
          "name": "stdout",
          "output_type": "stream",
          "text": [
            "<class 'pandas.core.frame.DataFrame'>\n",
            "Int64Index: 9091 entries, 0 to 9998\n",
            "Data columns (total 11 columns):\n",
            " #   Column           Non-Null Count  Dtype  \n",
            "---  ------           --------------  -----  \n",
            " 0   CreditScore      9091 non-null   int64  \n",
            " 1   Geography        9091 non-null   object \n",
            " 2   Gender           9091 non-null   object \n",
            " 3   Age              9091 non-null   int64  \n",
            " 4   Tenure           9091 non-null   float64\n",
            " 5   Balance          9091 non-null   float64\n",
            " 6   NumOfProducts    9091 non-null   int64  \n",
            " 7   HasCrCard        9091 non-null   int64  \n",
            " 8   IsActiveMember   9091 non-null   int64  \n",
            " 9   EstimatedSalary  9091 non-null   float64\n",
            " 10  Exited           9091 non-null   int64  \n",
            "dtypes: float64(3), int64(6), object(2)\n",
            "memory usage: 852.3+ KB\n"
          ]
        }
      ],
      "source": [
        "data = data[~data['Tenure'].isnull()]\n",
        "data.drop([\"RowNumber\", \"CustomerId\", \"Surname\"], axis=1, inplace=True)\n",
        "data.info()"
      ]
    },
    {
      "cell_type": "code",
      "execution_count": null,
      "metadata": {
        "id": "u0e9GsTDRo5N",
        "outputId": "6a9d9266-3438-4ad2-8f16-8c0f597d14f6"
      },
      "outputs": [
        {
          "data": {
            "text/plain": [
              "20.393796062039378"
            ]
          },
          "execution_count": 16,
          "metadata": {},
          "output_type": "execute_result"
        }
      ],
      "source": [
        "len(data[data['Exited']==1])/len(data)*100"
      ]
    },
    {
      "cell_type": "markdown",
      "metadata": {
        "id": "i4KyDl7ORo5N"
      },
      "source": [
        "Распределение классов в датасете осталось прежним."
      ]
    },
    {
      "cell_type": "markdown",
      "metadata": {
        "id": "8KJKNYbTRo5N"
      },
      "source": [
        "Проверим числовые столбцы на явные выбросы"
      ]
    },
    {
      "cell_type": "code",
      "execution_count": null,
      "metadata": {
        "id": "T3kw1wEBRo5R",
        "outputId": "49be2b69-4c4f-4d68-d032-8b482503e8ca"
      },
      "outputs": [
        {
          "data": {
            "text/html": [
              "<div>\n",
              "<style scoped>\n",
              "    .dataframe tbody tr th:only-of-type {\n",
              "        vertical-align: middle;\n",
              "    }\n",
              "\n",
              "    .dataframe tbody tr th {\n",
              "        vertical-align: top;\n",
              "    }\n",
              "\n",
              "    .dataframe thead th {\n",
              "        text-align: right;\n",
              "    }\n",
              "</style>\n",
              "<table border=\"1\" class=\"dataframe\">\n",
              "  <thead>\n",
              "    <tr style=\"text-align: right;\">\n",
              "      <th></th>\n",
              "      <th>CreditScore</th>\n",
              "      <th>Age</th>\n",
              "      <th>Tenure</th>\n",
              "      <th>Balance</th>\n",
              "      <th>NumOfProducts</th>\n",
              "      <th>HasCrCard</th>\n",
              "      <th>IsActiveMember</th>\n",
              "      <th>EstimatedSalary</th>\n",
              "      <th>Exited</th>\n",
              "    </tr>\n",
              "  </thead>\n",
              "  <tbody>\n",
              "    <tr>\n",
              "      <th>count</th>\n",
              "      <td>9091.000000</td>\n",
              "      <td>9091.000000</td>\n",
              "      <td>9091.000000</td>\n",
              "      <td>9091.000000</td>\n",
              "      <td>9091.000000</td>\n",
              "      <td>9091.000000</td>\n",
              "      <td>9091.000000</td>\n",
              "      <td>9091.000000</td>\n",
              "      <td>9091.000000</td>\n",
              "    </tr>\n",
              "    <tr>\n",
              "      <th>mean</th>\n",
              "      <td>650.736553</td>\n",
              "      <td>38.949181</td>\n",
              "      <td>4.997690</td>\n",
              "      <td>76522.740015</td>\n",
              "      <td>1.530195</td>\n",
              "      <td>0.704983</td>\n",
              "      <td>0.515565</td>\n",
              "      <td>100181.214924</td>\n",
              "      <td>0.203938</td>\n",
              "    </tr>\n",
              "    <tr>\n",
              "      <th>std</th>\n",
              "      <td>96.410471</td>\n",
              "      <td>10.555581</td>\n",
              "      <td>2.894723</td>\n",
              "      <td>62329.528576</td>\n",
              "      <td>0.581003</td>\n",
              "      <td>0.456076</td>\n",
              "      <td>0.499785</td>\n",
              "      <td>57624.755647</td>\n",
              "      <td>0.402946</td>\n",
              "    </tr>\n",
              "    <tr>\n",
              "      <th>min</th>\n",
              "      <td>350.000000</td>\n",
              "      <td>18.000000</td>\n",
              "      <td>0.000000</td>\n",
              "      <td>0.000000</td>\n",
              "      <td>1.000000</td>\n",
              "      <td>0.000000</td>\n",
              "      <td>0.000000</td>\n",
              "      <td>11.580000</td>\n",
              "      <td>0.000000</td>\n",
              "    </tr>\n",
              "    <tr>\n",
              "      <th>25%</th>\n",
              "      <td>584.000000</td>\n",
              "      <td>32.000000</td>\n",
              "      <td>2.000000</td>\n",
              "      <td>0.000000</td>\n",
              "      <td>1.000000</td>\n",
              "      <td>0.000000</td>\n",
              "      <td>0.000000</td>\n",
              "      <td>51227.745000</td>\n",
              "      <td>0.000000</td>\n",
              "    </tr>\n",
              "    <tr>\n",
              "      <th>50%</th>\n",
              "      <td>652.000000</td>\n",
              "      <td>37.000000</td>\n",
              "      <td>5.000000</td>\n",
              "      <td>97318.250000</td>\n",
              "      <td>1.000000</td>\n",
              "      <td>1.000000</td>\n",
              "      <td>1.000000</td>\n",
              "      <td>100240.200000</td>\n",
              "      <td>0.000000</td>\n",
              "    </tr>\n",
              "    <tr>\n",
              "      <th>75%</th>\n",
              "      <td>717.000000</td>\n",
              "      <td>44.000000</td>\n",
              "      <td>7.000000</td>\n",
              "      <td>127561.890000</td>\n",
              "      <td>2.000000</td>\n",
              "      <td>1.000000</td>\n",
              "      <td>1.000000</td>\n",
              "      <td>149567.210000</td>\n",
              "      <td>0.000000</td>\n",
              "    </tr>\n",
              "    <tr>\n",
              "      <th>max</th>\n",
              "      <td>850.000000</td>\n",
              "      <td>92.000000</td>\n",
              "      <td>10.000000</td>\n",
              "      <td>250898.090000</td>\n",
              "      <td>4.000000</td>\n",
              "      <td>1.000000</td>\n",
              "      <td>1.000000</td>\n",
              "      <td>199992.480000</td>\n",
              "      <td>1.000000</td>\n",
              "    </tr>\n",
              "  </tbody>\n",
              "</table>\n",
              "</div>"
            ],
            "text/plain": [
              "       CreditScore          Age       Tenure        Balance  NumOfProducts  \\\n",
              "count  9091.000000  9091.000000  9091.000000    9091.000000    9091.000000   \n",
              "mean    650.736553    38.949181     4.997690   76522.740015       1.530195   \n",
              "std      96.410471    10.555581     2.894723   62329.528576       0.581003   \n",
              "min     350.000000    18.000000     0.000000       0.000000       1.000000   \n",
              "25%     584.000000    32.000000     2.000000       0.000000       1.000000   \n",
              "50%     652.000000    37.000000     5.000000   97318.250000       1.000000   \n",
              "75%     717.000000    44.000000     7.000000  127561.890000       2.000000   \n",
              "max     850.000000    92.000000    10.000000  250898.090000       4.000000   \n",
              "\n",
              "         HasCrCard  IsActiveMember  EstimatedSalary       Exited  \n",
              "count  9091.000000     9091.000000      9091.000000  9091.000000  \n",
              "mean      0.704983        0.515565    100181.214924     0.203938  \n",
              "std       0.456076        0.499785     57624.755647     0.402946  \n",
              "min       0.000000        0.000000        11.580000     0.000000  \n",
              "25%       0.000000        0.000000     51227.745000     0.000000  \n",
              "50%       1.000000        1.000000    100240.200000     0.000000  \n",
              "75%       1.000000        1.000000    149567.210000     0.000000  \n",
              "max       1.000000        1.000000    199992.480000     1.000000  "
            ]
          },
          "execution_count": 17,
          "metadata": {},
          "output_type": "execute_result"
        }
      ],
      "source": [
        "data.describe()"
      ]
    },
    {
      "cell_type": "markdown",
      "metadata": {
        "id": "sxbQUmnzRo5S"
      },
      "source": [
        "Из всех значений смущает значение минимальной предполагаемой зарплаты. На всякий случай посмотрим на данные поближе, на графике"
      ]
    },
    {
      "cell_type": "code",
      "execution_count": null,
      "metadata": {
        "id": "58IEKS42Ro5S",
        "outputId": "b94cbd37-4791-484f-a6fc-9cf186b6cb29"
      },
      "outputs": [
        {
          "data": {
            "text/plain": [
              "<AxesSubplot:>"
            ]
          },
          "execution_count": 18,
          "metadata": {},
          "output_type": "execute_result"
        },
        {
          "data": {
            "image/png": "[encoded data removed]",
            "text/plain": [
              "<Figure size 432x288 with 1 Axes>"
            ]
          },
          "metadata": {
            "needs_background": "light"
          },
          "output_type": "display_data"
        }
      ],
      "source": [
        "data['CreditScore'].plot(kind='box')"
      ]
    },
    {
      "cell_type": "markdown",
      "metadata": {
        "id": "j6qREdnhRo5S"
      },
      "source": [
        "Посмотрим вживую на данные за пределами первого квантиля"
      ]
    },
    {
      "cell_type": "code",
      "execution_count": null,
      "metadata": {
        "id": "uEGikFcbRo5S",
        "outputId": "85c8cfdd-1f6f-48bd-a4c0-ba473c977604"
      },
      "outputs": [
        {
          "data": {
            "text/html": [
              "<div>\n",
              "<style scoped>\n",
              "    .dataframe tbody tr th:only-of-type {\n",
              "        vertical-align: middle;\n",
              "    }\n",
              "\n",
              "    .dataframe tbody tr th {\n",
              "        vertical-align: top;\n",
              "    }\n",
              "\n",
              "    .dataframe thead th {\n",
              "        text-align: right;\n",
              "    }\n",
              "</style>\n",
              "<table border=\"1\" class=\"dataframe\">\n",
              "  <thead>\n",
              "    <tr style=\"text-align: right;\">\n",
              "      <th></th>\n",
              "      <th>CreditScore</th>\n",
              "      <th>Geography</th>\n",
              "      <th>Gender</th>\n",
              "      <th>Age</th>\n",
              "      <th>Tenure</th>\n",
              "      <th>Balance</th>\n",
              "      <th>NumOfProducts</th>\n",
              "      <th>HasCrCard</th>\n",
              "      <th>IsActiveMember</th>\n",
              "      <th>EstimatedSalary</th>\n",
              "      <th>Exited</th>\n",
              "    </tr>\n",
              "  </thead>\n",
              "  <tbody>\n",
              "    <tr>\n",
              "      <th>7</th>\n",
              "      <td>376</td>\n",
              "      <td>Germany</td>\n",
              "      <td>Female</td>\n",
              "      <td>29</td>\n",
              "      <td>4.0</td>\n",
              "      <td>115046.74</td>\n",
              "      <td>4</td>\n",
              "      <td>1</td>\n",
              "      <td>0</td>\n",
              "      <td>119346.88</td>\n",
              "      <td>1</td>\n",
              "    </tr>\n",
              "    <tr>\n",
              "      <th>1193</th>\n",
              "      <td>363</td>\n",
              "      <td>Spain</td>\n",
              "      <td>Female</td>\n",
              "      <td>28</td>\n",
              "      <td>6.0</td>\n",
              "      <td>146098.43</td>\n",
              "      <td>3</td>\n",
              "      <td>1</td>\n",
              "      <td>0</td>\n",
              "      <td>100615.14</td>\n",
              "      <td>1</td>\n",
              "    </tr>\n",
              "    <tr>\n",
              "      <th>1201</th>\n",
              "      <td>399</td>\n",
              "      <td>Germany</td>\n",
              "      <td>Male</td>\n",
              "      <td>46</td>\n",
              "      <td>2.0</td>\n",
              "      <td>127655.22</td>\n",
              "      <td>1</td>\n",
              "      <td>1</td>\n",
              "      <td>0</td>\n",
              "      <td>139994.68</td>\n",
              "      <td>1</td>\n",
              "    </tr>\n",
              "    <tr>\n",
              "      <th>1631</th>\n",
              "      <td>350</td>\n",
              "      <td>Spain</td>\n",
              "      <td>Male</td>\n",
              "      <td>54</td>\n",
              "      <td>1.0</td>\n",
              "      <td>152677.48</td>\n",
              "      <td>1</td>\n",
              "      <td>1</td>\n",
              "      <td>1</td>\n",
              "      <td>191973.49</td>\n",
              "      <td>1</td>\n",
              "    </tr>\n",
              "    <tr>\n",
              "      <th>1838</th>\n",
              "      <td>350</td>\n",
              "      <td>Germany</td>\n",
              "      <td>Male</td>\n",
              "      <td>39</td>\n",
              "      <td>0.0</td>\n",
              "      <td>109733.20</td>\n",
              "      <td>2</td>\n",
              "      <td>0</td>\n",
              "      <td>0</td>\n",
              "      <td>123602.11</td>\n",
              "      <td>1</td>\n",
              "    </tr>\n",
              "    <tr>\n",
              "      <th>1962</th>\n",
              "      <td>358</td>\n",
              "      <td>Spain</td>\n",
              "      <td>Female</td>\n",
              "      <td>52</td>\n",
              "      <td>8.0</td>\n",
              "      <td>143542.36</td>\n",
              "      <td>3</td>\n",
              "      <td>1</td>\n",
              "      <td>0</td>\n",
              "      <td>141959.11</td>\n",
              "      <td>1</td>\n",
              "    </tr>\n",
              "    <tr>\n",
              "      <th>2473</th>\n",
              "      <td>351</td>\n",
              "      <td>Germany</td>\n",
              "      <td>Female</td>\n",
              "      <td>57</td>\n",
              "      <td>4.0</td>\n",
              "      <td>163146.46</td>\n",
              "      <td>1</td>\n",
              "      <td>1</td>\n",
              "      <td>0</td>\n",
              "      <td>169621.69</td>\n",
              "      <td>1</td>\n",
              "    </tr>\n",
              "    <tr>\n",
              "      <th>2579</th>\n",
              "      <td>365</td>\n",
              "      <td>Germany</td>\n",
              "      <td>Male</td>\n",
              "      <td>30</td>\n",
              "      <td>0.0</td>\n",
              "      <td>127760.07</td>\n",
              "      <td>1</td>\n",
              "      <td>1</td>\n",
              "      <td>0</td>\n",
              "      <td>81537.85</td>\n",
              "      <td>1</td>\n",
              "    </tr>\n",
              "    <tr>\n",
              "      <th>5285</th>\n",
              "      <td>386</td>\n",
              "      <td>Spain</td>\n",
              "      <td>Female</td>\n",
              "      <td>53</td>\n",
              "      <td>1.0</td>\n",
              "      <td>131955.07</td>\n",
              "      <td>1</td>\n",
              "      <td>1</td>\n",
              "      <td>1</td>\n",
              "      <td>62514.65</td>\n",
              "      <td>1</td>\n",
              "    </tr>\n",
              "    <tr>\n",
              "      <th>5494</th>\n",
              "      <td>383</td>\n",
              "      <td>Spain</td>\n",
              "      <td>Female</td>\n",
              "      <td>48</td>\n",
              "      <td>8.0</td>\n",
              "      <td>95808.19</td>\n",
              "      <td>1</td>\n",
              "      <td>0</td>\n",
              "      <td>0</td>\n",
              "      <td>137702.01</td>\n",
              "      <td>1</td>\n",
              "    </tr>\n",
              "    <tr>\n",
              "      <th>6253</th>\n",
              "      <td>395</td>\n",
              "      <td>Germany</td>\n",
              "      <td>Female</td>\n",
              "      <td>34</td>\n",
              "      <td>5.0</td>\n",
              "      <td>106011.59</td>\n",
              "      <td>1</td>\n",
              "      <td>1</td>\n",
              "      <td>1</td>\n",
              "      <td>17376.57</td>\n",
              "      <td>1</td>\n",
              "    </tr>\n",
              "    <tr>\n",
              "      <th>8154</th>\n",
              "      <td>367</td>\n",
              "      <td>Spain</td>\n",
              "      <td>Male</td>\n",
              "      <td>42</td>\n",
              "      <td>6.0</td>\n",
              "      <td>93608.28</td>\n",
              "      <td>1</td>\n",
              "      <td>1</td>\n",
              "      <td>0</td>\n",
              "      <td>168816.73</td>\n",
              "      <td>1</td>\n",
              "    </tr>\n",
              "    <tr>\n",
              "      <th>8723</th>\n",
              "      <td>350</td>\n",
              "      <td>France</td>\n",
              "      <td>Male</td>\n",
              "      <td>51</td>\n",
              "      <td>10.0</td>\n",
              "      <td>0.00</td>\n",
              "      <td>1</td>\n",
              "      <td>1</td>\n",
              "      <td>1</td>\n",
              "      <td>125823.79</td>\n",
              "      <td>1</td>\n",
              "    </tr>\n",
              "    <tr>\n",
              "      <th>8762</th>\n",
              "      <td>350</td>\n",
              "      <td>France</td>\n",
              "      <td>Female</td>\n",
              "      <td>60</td>\n",
              "      <td>3.0</td>\n",
              "      <td>0.00</td>\n",
              "      <td>1</td>\n",
              "      <td>0</td>\n",
              "      <td>0</td>\n",
              "      <td>113796.15</td>\n",
              "      <td>1</td>\n",
              "    </tr>\n",
              "    <tr>\n",
              "      <th>9210</th>\n",
              "      <td>382</td>\n",
              "      <td>Spain</td>\n",
              "      <td>Male</td>\n",
              "      <td>36</td>\n",
              "      <td>0.0</td>\n",
              "      <td>0.00</td>\n",
              "      <td>1</td>\n",
              "      <td>1</td>\n",
              "      <td>1</td>\n",
              "      <td>179540.73</td>\n",
              "      <td>1</td>\n",
              "    </tr>\n",
              "    <tr>\n",
              "      <th>9356</th>\n",
              "      <td>373</td>\n",
              "      <td>France</td>\n",
              "      <td>Male</td>\n",
              "      <td>42</td>\n",
              "      <td>7.0</td>\n",
              "      <td>0.00</td>\n",
              "      <td>1</td>\n",
              "      <td>1</td>\n",
              "      <td>0</td>\n",
              "      <td>77786.37</td>\n",
              "      <td>1</td>\n",
              "    </tr>\n",
              "    <tr>\n",
              "      <th>9624</th>\n",
              "      <td>350</td>\n",
              "      <td>France</td>\n",
              "      <td>Female</td>\n",
              "      <td>40</td>\n",
              "      <td>0.0</td>\n",
              "      <td>111098.85</td>\n",
              "      <td>1</td>\n",
              "      <td>1</td>\n",
              "      <td>1</td>\n",
              "      <td>172321.21</td>\n",
              "      <td>1</td>\n",
              "    </tr>\n",
              "  </tbody>\n",
              "</table>\n",
              "</div>"
            ],
            "text/plain": [
              "      CreditScore Geography  Gender  Age  Tenure    Balance  NumOfProducts  \\\n",
              "7             376   Germany  Female   29     4.0  115046.74              4   \n",
              "1193          363     Spain  Female   28     6.0  146098.43              3   \n",
              "1201          399   Germany    Male   46     2.0  127655.22              1   \n",
              "1631          350     Spain    Male   54     1.0  152677.48              1   \n",
              "1838          350   Germany    Male   39     0.0  109733.20              2   \n",
              "1962          358     Spain  Female   52     8.0  143542.36              3   \n",
              "2473          351   Germany  Female   57     4.0  163146.46              1   \n",
              "2579          365   Germany    Male   30     0.0  127760.07              1   \n",
              "5285          386     Spain  Female   53     1.0  131955.07              1   \n",
              "5494          383     Spain  Female   48     8.0   95808.19              1   \n",
              "6253          395   Germany  Female   34     5.0  106011.59              1   \n",
              "8154          367     Spain    Male   42     6.0   93608.28              1   \n",
              "8723          350    France    Male   51    10.0       0.00              1   \n",
              "8762          350    France  Female   60     3.0       0.00              1   \n",
              "9210          382     Spain    Male   36     0.0       0.00              1   \n",
              "9356          373    France    Male   42     7.0       0.00              1   \n",
              "9624          350    France  Female   40     0.0  111098.85              1   \n",
              "\n",
              "      HasCrCard  IsActiveMember  EstimatedSalary  Exited  \n",
              "7             1               0        119346.88       1  \n",
              "1193          1               0        100615.14       1  \n",
              "1201          1               0        139994.68       1  \n",
              "1631          1               1        191973.49       1  \n",
              "1838          0               0        123602.11       1  \n",
              "1962          1               0        141959.11       1  \n",
              "2473          1               0        169621.69       1  \n",
              "2579          1               0         81537.85       1  \n",
              "5285          1               1         62514.65       1  \n",
              "5494          0               0        137702.01       1  \n",
              "6253          1               1         17376.57       1  \n",
              "8154          1               0        168816.73       1  \n",
              "8723          1               1        125823.79       1  \n",
              "8762          0               0        113796.15       1  \n",
              "9210          1               1        179540.73       1  \n",
              "9356          1               0         77786.37       1  \n",
              "9624          1               1        172321.21       1  "
            ]
          },
          "execution_count": 19,
          "metadata": {},
          "output_type": "execute_result"
        }
      ],
      "source": [
        "data[data['CreditScore']<400]"
      ]
    },
    {
      "cell_type": "markdown",
      "metadata": {
        "id": "IA4q7wFlRo5S"
      },
      "source": [
        "Выглядит убедительно. Посмотрим на зарплату"
      ]
    },
    {
      "cell_type": "code",
      "execution_count": null,
      "metadata": {
        "id": "sYG9MMz6Ro5T",
        "outputId": "4afd5d29-e780-430d-dc90-bbef9b69ed5f"
      },
      "outputs": [
        {
          "data": {
            "text/plain": [
              "<AxesSubplot:>"
            ]
          },
          "execution_count": 20,
          "metadata": {},
          "output_type": "execute_result"
        },
        {
          "data": {
            "image/png": "[encoded data removed]",
            "text/plain": [
              "<Figure size 432x288 with 1 Axes>"
            ]
          },
          "metadata": {
            "needs_background": "light"
          },
          "output_type": "display_data"
        }
      ],
      "source": [
        "data['EstimatedSalary'].plot(kind='box')"
      ]
    },
    {
      "cell_type": "markdown",
      "metadata": {
        "id": "joDh0GqPRo5T"
      },
      "source": [
        "Ящик у усами проблемы не видит, но хочется все-таки взглянуть как много подозрительных данных, хотя бы с предполагаемой зарплатой меньше 100, возможно,они имели в виду какую-то валюту"
      ]
    },
    {
      "cell_type": "code",
      "execution_count": null,
      "metadata": {
        "id": "4B1Zf_8YRo5T",
        "outputId": "99a42e6b-120f-4e45-e0ba-d726fbaa7a8f"
      },
      "outputs": [
        {
          "data": {
            "text/html": [
              "<div>\n",
              "<style scoped>\n",
              "    .dataframe tbody tr th:only-of-type {\n",
              "        vertical-align: middle;\n",
              "    }\n",
              "\n",
              "    .dataframe tbody tr th {\n",
              "        vertical-align: top;\n",
              "    }\n",
              "\n",
              "    .dataframe thead th {\n",
              "        text-align: right;\n",
              "    }\n",
              "</style>\n",
              "<table border=\"1\" class=\"dataframe\">\n",
              "  <thead>\n",
              "    <tr style=\"text-align: right;\">\n",
              "      <th></th>\n",
              "      <th>CreditScore</th>\n",
              "      <th>Geography</th>\n",
              "      <th>Gender</th>\n",
              "      <th>Age</th>\n",
              "      <th>Tenure</th>\n",
              "      <th>Balance</th>\n",
              "      <th>NumOfProducts</th>\n",
              "      <th>HasCrCard</th>\n",
              "      <th>IsActiveMember</th>\n",
              "      <th>EstimatedSalary</th>\n",
              "      <th>Exited</th>\n",
              "    </tr>\n",
              "  </thead>\n",
              "  <tbody>\n",
              "    <tr>\n",
              "      <th>2362</th>\n",
              "      <td>709</td>\n",
              "      <td>Germany</td>\n",
              "      <td>Male</td>\n",
              "      <td>45</td>\n",
              "      <td>4.0</td>\n",
              "      <td>122917.71</td>\n",
              "      <td>1</td>\n",
              "      <td>1</td>\n",
              "      <td>1</td>\n",
              "      <td>11.58</td>\n",
              "      <td>1</td>\n",
              "    </tr>\n",
              "    <tr>\n",
              "      <th>5548</th>\n",
              "      <td>710</td>\n",
              "      <td>France</td>\n",
              "      <td>Male</td>\n",
              "      <td>38</td>\n",
              "      <td>2.0</td>\n",
              "      <td>0.00</td>\n",
              "      <td>2</td>\n",
              "      <td>1</td>\n",
              "      <td>0</td>\n",
              "      <td>96.27</td>\n",
              "      <td>0</td>\n",
              "    </tr>\n",
              "    <tr>\n",
              "      <th>9010</th>\n",
              "      <td>645</td>\n",
              "      <td>Germany</td>\n",
              "      <td>Female</td>\n",
              "      <td>59</td>\n",
              "      <td>8.0</td>\n",
              "      <td>121669.93</td>\n",
              "      <td>2</td>\n",
              "      <td>0</td>\n",
              "      <td>0</td>\n",
              "      <td>91.75</td>\n",
              "      <td>1</td>\n",
              "    </tr>\n",
              "    <tr>\n",
              "      <th>9647</th>\n",
              "      <td>625</td>\n",
              "      <td>France</td>\n",
              "      <td>Male</td>\n",
              "      <td>31</td>\n",
              "      <td>5.0</td>\n",
              "      <td>0.00</td>\n",
              "      <td>2</td>\n",
              "      <td>0</td>\n",
              "      <td>1</td>\n",
              "      <td>90.07</td>\n",
              "      <td>0</td>\n",
              "    </tr>\n",
              "  </tbody>\n",
              "</table>\n",
              "</div>"
            ],
            "text/plain": [
              "      CreditScore Geography  Gender  Age  Tenure    Balance  NumOfProducts  \\\n",
              "2362          709   Germany    Male   45     4.0  122917.71              1   \n",
              "5548          710    France    Male   38     2.0       0.00              2   \n",
              "9010          645   Germany  Female   59     8.0  121669.93              2   \n",
              "9647          625    France    Male   31     5.0       0.00              2   \n",
              "\n",
              "      HasCrCard  IsActiveMember  EstimatedSalary  Exited  \n",
              "2362          1               1            11.58       1  \n",
              "5548          1               0            96.27       0  \n",
              "9010          0               0            91.75       1  \n",
              "9647          0               1            90.07       0  "
            ]
          },
          "execution_count": 21,
          "metadata": {},
          "output_type": "execute_result"
        }
      ],
      "source": [
        "data[data['EstimatedSalary']<100]"
      ]
    },
    {
      "cell_type": "markdown",
      "metadata": {
        "id": "UPX4oCDvRo5T"
      },
      "source": [
        "Ну совсем крошечные цифры. Удалим, незачем смущать модель."
      ]
    },
    {
      "cell_type": "code",
      "execution_count": null,
      "metadata": {
        "id": "JBTFZtZiRo5T"
      },
      "outputs": [],
      "source": [
        "data = data[data['EstimatedSalary']>=100]"
      ]
    },
    {
      "cell_type": "code",
      "execution_count": null,
      "metadata": {
        "id": "3Dr2bgzGRo5T",
        "outputId": "e3ce312c-0c97-408c-e7ab-c12ce438423e"
      },
      "outputs": [
        {
          "data": {
            "text/html": [
              "<div>\n",
              "<style scoped>\n",
              "    .dataframe tbody tr th:only-of-type {\n",
              "        vertical-align: middle;\n",
              "    }\n",
              "\n",
              "    .dataframe tbody tr th {\n",
              "        vertical-align: top;\n",
              "    }\n",
              "\n",
              "    .dataframe thead th {\n",
              "        text-align: right;\n",
              "    }\n",
              "</style>\n",
              "<table border=\"1\" class=\"dataframe\">\n",
              "  <thead>\n",
              "    <tr style=\"text-align: right;\">\n",
              "      <th></th>\n",
              "      <th>CreditScore</th>\n",
              "      <th>Age</th>\n",
              "      <th>Tenure</th>\n",
              "      <th>Balance</th>\n",
              "      <th>NumOfProducts</th>\n",
              "      <th>HasCrCard</th>\n",
              "      <th>IsActiveMember</th>\n",
              "      <th>EstimatedSalary</th>\n",
              "      <th>Exited</th>\n",
              "    </tr>\n",
              "  </thead>\n",
              "  <tbody>\n",
              "    <tr>\n",
              "      <th>count</th>\n",
              "      <td>9087.000000</td>\n",
              "      <td>9087.000000</td>\n",
              "      <td>9087.000000</td>\n",
              "      <td>9087.000000</td>\n",
              "      <td>9087.000000</td>\n",
              "      <td>9087.000000</td>\n",
              "      <td>9087.000000</td>\n",
              "      <td>9087.000000</td>\n",
              "      <td>9087.000000</td>\n",
              "    </tr>\n",
              "    <tr>\n",
              "      <th>mean</th>\n",
              "      <td>650.727083</td>\n",
              "      <td>38.947287</td>\n",
              "      <td>4.997799</td>\n",
              "      <td>76529.508291</td>\n",
              "      <td>1.530098</td>\n",
              "      <td>0.705073</td>\n",
              "      <td>0.515572</td>\n",
              "      <td>100225.281743</td>\n",
              "      <td>0.203808</td>\n",
              "    </tr>\n",
              "    <tr>\n",
              "      <th>std</th>\n",
              "      <td>96.427351</td>\n",
              "      <td>10.555284</td>\n",
              "      <td>2.894999</td>\n",
              "      <td>62329.208303</td>\n",
              "      <td>0.581042</td>\n",
              "      <td>0.456035</td>\n",
              "      <td>0.499785</td>\n",
              "      <td>57599.135565</td>\n",
              "      <td>0.402850</td>\n",
              "    </tr>\n",
              "    <tr>\n",
              "      <th>min</th>\n",
              "      <td>350.000000</td>\n",
              "      <td>18.000000</td>\n",
              "      <td>0.000000</td>\n",
              "      <td>0.000000</td>\n",
              "      <td>1.000000</td>\n",
              "      <td>0.000000</td>\n",
              "      <td>0.000000</td>\n",
              "      <td>123.070000</td>\n",
              "      <td>0.000000</td>\n",
              "    </tr>\n",
              "    <tr>\n",
              "      <th>25%</th>\n",
              "      <td>584.000000</td>\n",
              "      <td>32.000000</td>\n",
              "      <td>2.000000</td>\n",
              "      <td>0.000000</td>\n",
              "      <td>1.000000</td>\n",
              "      <td>0.000000</td>\n",
              "      <td>0.000000</td>\n",
              "      <td>51326.965000</td>\n",
              "      <td>0.000000</td>\n",
              "    </tr>\n",
              "    <tr>\n",
              "      <th>50%</th>\n",
              "      <td>652.000000</td>\n",
              "      <td>37.000000</td>\n",
              "      <td>5.000000</td>\n",
              "      <td>97318.250000</td>\n",
              "      <td>1.000000</td>\n",
              "      <td>1.000000</td>\n",
              "      <td>1.000000</td>\n",
              "      <td>100324.010000</td>\n",
              "      <td>0.000000</td>\n",
              "    </tr>\n",
              "    <tr>\n",
              "      <th>75%</th>\n",
              "      <td>717.500000</td>\n",
              "      <td>44.000000</td>\n",
              "      <td>7.000000</td>\n",
              "      <td>127578.455000</td>\n",
              "      <td>2.000000</td>\n",
              "      <td>1.000000</td>\n",
              "      <td>1.000000</td>\n",
              "      <td>149579.630000</td>\n",
              "      <td>0.000000</td>\n",
              "    </tr>\n",
              "    <tr>\n",
              "      <th>max</th>\n",
              "      <td>850.000000</td>\n",
              "      <td>92.000000</td>\n",
              "      <td>10.000000</td>\n",
              "      <td>250898.090000</td>\n",
              "      <td>4.000000</td>\n",
              "      <td>1.000000</td>\n",
              "      <td>1.000000</td>\n",
              "      <td>199992.480000</td>\n",
              "      <td>1.000000</td>\n",
              "    </tr>\n",
              "  </tbody>\n",
              "</table>\n",
              "</div>"
            ],
            "text/plain": [
              "       CreditScore          Age       Tenure        Balance  NumOfProducts  \\\n",
              "count  9087.000000  9087.000000  9087.000000    9087.000000    9087.000000   \n",
              "mean    650.727083    38.947287     4.997799   76529.508291       1.530098   \n",
              "std      96.427351    10.555284     2.894999   62329.208303       0.581042   \n",
              "min     350.000000    18.000000     0.000000       0.000000       1.000000   \n",
              "25%     584.000000    32.000000     2.000000       0.000000       1.000000   \n",
              "50%     652.000000    37.000000     5.000000   97318.250000       1.000000   \n",
              "75%     717.500000    44.000000     7.000000  127578.455000       2.000000   \n",
              "max     850.000000    92.000000    10.000000  250898.090000       4.000000   \n",
              "\n",
              "         HasCrCard  IsActiveMember  EstimatedSalary       Exited  \n",
              "count  9087.000000     9087.000000      9087.000000  9087.000000  \n",
              "mean      0.705073        0.515572    100225.281743     0.203808  \n",
              "std       0.456035        0.499785     57599.135565     0.402850  \n",
              "min       0.000000        0.000000       123.070000     0.000000  \n",
              "25%       0.000000        0.000000     51326.965000     0.000000  \n",
              "50%       1.000000        1.000000    100324.010000     0.000000  \n",
              "75%       1.000000        1.000000    149579.630000     0.000000  \n",
              "max       1.000000        1.000000    199992.480000     1.000000  "
            ]
          },
          "execution_count": 23,
          "metadata": {},
          "output_type": "execute_result"
        }
      ],
      "source": [
        "data.describe()"
      ]
    },
    {
      "cell_type": "markdown",
      "metadata": {
        "id": "Yemv1PLdRo5U"
      },
      "source": [
        "Минимум все равно подозрителен, напоминает валютные знаечния... но бесконечно резать датасет тоже не хочется, раз такие данные поступают из банка, но и учиться придется с их использованием. Поделим данные на выборки и приступим к кодированию OHE"
      ]
    },
    {
      "cell_type": "code",
      "execution_count": null,
      "metadata": {
        "id": "wTekdfNMRo5U",
        "outputId": "c632ea7b-6c19-4ca3-cd7f-383817466560"
      },
      "outputs": [
        {
          "data": {
            "text/plain": [
              "(9087, 11)"
            ]
          },
          "execution_count": 24,
          "metadata": {},
          "output_type": "execute_result"
        }
      ],
      "source": [
        "data.shape"
      ]
    },
    {
      "cell_type": "markdown",
      "metadata": {
        "id": "WbwNAa0lRo5U"
      },
      "source": [
        "Итак, у нас 12 столбцов, 9087 строк, пора разделить выборку на обучающую, валидационную и тестовую в соотношении 60-20-20. Стратифицируем для сохранения исходного соотношения классов в выборках."
      ]
    },
    {
      "cell_type": "code",
      "execution_count": null,
      "metadata": {
        "id": "Nn9Bm3e-Ro5U",
        "outputId": "20f43d97-7772-4716-a555-411878be6ef0"
      },
      "outputs": [
        {
          "data": {
            "text/plain": [
              "0    1\n",
              "1    0\n",
              "2    1\n",
              "3    0\n",
              "4    0\n",
              "Name: Exited, dtype: int64"
            ]
          },
          "execution_count": 25,
          "metadata": {},
          "output_type": "execute_result"
        }
      ],
      "source": [
        "target = data['Exited']\n",
        "target.head()"
      ]
    },
    {
      "cell_type": "code",
      "execution_count": null,
      "metadata": {
        "id": "TALap_MARo5V",
        "outputId": "2ea5aaa1-0efa-4bdf-f123-cb9ff8a2b57e"
      },
      "outputs": [
        {
          "data": {
            "text/html": [
              "<div>\n",
              "<style scoped>\n",
              "    .dataframe tbody tr th:only-of-type {\n",
              "        vertical-align: middle;\n",
              "    }\n",
              "\n",
              "    .dataframe tbody tr th {\n",
              "        vertical-align: top;\n",
              "    }\n",
              "\n",
              "    .dataframe thead th {\n",
              "        text-align: right;\n",
              "    }\n",
              "</style>\n",
              "<table border=\"1\" class=\"dataframe\">\n",
              "  <thead>\n",
              "    <tr style=\"text-align: right;\">\n",
              "      <th></th>\n",
              "      <th>CreditScore</th>\n",
              "      <th>Geography</th>\n",
              "      <th>Gender</th>\n",
              "      <th>Age</th>\n",
              "      <th>Tenure</th>\n",
              "      <th>Balance</th>\n",
              "      <th>NumOfProducts</th>\n",
              "      <th>HasCrCard</th>\n",
              "      <th>IsActiveMember</th>\n",
              "      <th>EstimatedSalary</th>\n",
              "    </tr>\n",
              "  </thead>\n",
              "  <tbody>\n",
              "    <tr>\n",
              "      <th>0</th>\n",
              "      <td>619</td>\n",
              "      <td>France</td>\n",
              "      <td>Female</td>\n",
              "      <td>42</td>\n",
              "      <td>2.0</td>\n",
              "      <td>0.00</td>\n",
              "      <td>1</td>\n",
              "      <td>1</td>\n",
              "      <td>1</td>\n",
              "      <td>101348.88</td>\n",
              "    </tr>\n",
              "    <tr>\n",
              "      <th>1</th>\n",
              "      <td>608</td>\n",
              "      <td>Spain</td>\n",
              "      <td>Female</td>\n",
              "      <td>41</td>\n",
              "      <td>1.0</td>\n",
              "      <td>83807.86</td>\n",
              "      <td>1</td>\n",
              "      <td>0</td>\n",
              "      <td>1</td>\n",
              "      <td>112542.58</td>\n",
              "    </tr>\n",
              "    <tr>\n",
              "      <th>2</th>\n",
              "      <td>502</td>\n",
              "      <td>France</td>\n",
              "      <td>Female</td>\n",
              "      <td>42</td>\n",
              "      <td>8.0</td>\n",
              "      <td>159660.80</td>\n",
              "      <td>3</td>\n",
              "      <td>1</td>\n",
              "      <td>0</td>\n",
              "      <td>113931.57</td>\n",
              "    </tr>\n",
              "    <tr>\n",
              "      <th>3</th>\n",
              "      <td>699</td>\n",
              "      <td>France</td>\n",
              "      <td>Female</td>\n",
              "      <td>39</td>\n",
              "      <td>1.0</td>\n",
              "      <td>0.00</td>\n",
              "      <td>2</td>\n",
              "      <td>0</td>\n",
              "      <td>0</td>\n",
              "      <td>93826.63</td>\n",
              "    </tr>\n",
              "    <tr>\n",
              "      <th>4</th>\n",
              "      <td>850</td>\n",
              "      <td>Spain</td>\n",
              "      <td>Female</td>\n",
              "      <td>43</td>\n",
              "      <td>2.0</td>\n",
              "      <td>125510.82</td>\n",
              "      <td>1</td>\n",
              "      <td>1</td>\n",
              "      <td>1</td>\n",
              "      <td>79084.10</td>\n",
              "    </tr>\n",
              "  </tbody>\n",
              "</table>\n",
              "</div>"
            ],
            "text/plain": [
              "   CreditScore Geography  Gender  Age  Tenure    Balance  NumOfProducts  \\\n",
              "0          619    France  Female   42     2.0       0.00              1   \n",
              "1          608     Spain  Female   41     1.0   83807.86              1   \n",
              "2          502    France  Female   42     8.0  159660.80              3   \n",
              "3          699    France  Female   39     1.0       0.00              2   \n",
              "4          850     Spain  Female   43     2.0  125510.82              1   \n",
              "\n",
              "   HasCrCard  IsActiveMember  EstimatedSalary  \n",
              "0          1               1        101348.88  \n",
              "1          0               1        112542.58  \n",
              "2          1               0        113931.57  \n",
              "3          0               0         93826.63  \n",
              "4          1               1         79084.10  "
            ]
          },
          "execution_count": 26,
          "metadata": {},
          "output_type": "execute_result"
        }
      ],
      "source": [
        "features = data.drop('Exited', axis = 1)\n",
        "features.head()"
      ]
    },
    {
      "cell_type": "code",
      "execution_count": null,
      "metadata": {
        "id": "HGgEaLDtRo5V",
        "outputId": "be890172-928e-4b66-eb98-e9fea5af7a38"
      },
      "outputs": [
        {
          "name": "stdout",
          "output_type": "stream",
          "text": [
            "(5452, 10)\n",
            "(5452,)\n"
          ]
        }
      ],
      "source": [
        "features_train, features_other, target_train, target_other = train_test_split(features, target,train_size=0.6,\n",
        "                                                                              random_state=12345, stratify=target)\n",
        "print(features_train.shape)\n",
        "print(target_train.shape)"
      ]
    },
    {
      "cell_type": "code",
      "execution_count": null,
      "metadata": {
        "id": "z6234UkkRo5V",
        "outputId": "387a7847-a591-41f0-9670-bd91a320c848"
      },
      "outputs": [
        {
          "name": "stdout",
          "output_type": "stream",
          "text": [
            "(1817, 10)\n",
            "(1818, 10)\n",
            "(1817,)\n",
            "(1818,)\n"
          ]
        }
      ],
      "source": [
        "features_valid, features_test, target_valid, target_test = train_test_split(features_other, target_other,train_size=0.5,\n",
        "                                                                              random_state=12345, stratify=target_other)\n",
        "print(features_valid.shape)\n",
        "print(features_test.shape)\n",
        "print(target_valid.shape)\n",
        "print(target_test.shape)"
      ]
    },
    {
      "cell_type": "markdown",
      "metadata": {
        "id": "Yc2Y8lz-Ro5V"
      },
      "source": [
        "Итого в обучающей выборке 5452 строки, в валидационной 1817 строк, в тестовой 1818 строк."
      ]
    },
    {
      "cell_type": "markdown",
      "metadata": {
        "id": "KzXh9fwtRo5V"
      },
      "source": [
        "Перейдем к OHE кодированию столбцов Gender, Geography"
      ]
    },
    {
      "cell_type": "code",
      "execution_count": null,
      "metadata": {
        "id": "lluLCmnZRo5W",
        "outputId": "b53cefed-f62e-41b1-9980-c1e6795da2a0"
      },
      "outputs": [
        {
          "data": {
            "text/html": [
              "<div>\n",
              "<style scoped>\n",
              "    .dataframe tbody tr th:only-of-type {\n",
              "        vertical-align: middle;\n",
              "    }\n",
              "\n",
              "    .dataframe tbody tr th {\n",
              "        vertical-align: top;\n",
              "    }\n",
              "\n",
              "    .dataframe thead th {\n",
              "        text-align: right;\n",
              "    }\n",
              "</style>\n",
              "<table border=\"1\" class=\"dataframe\">\n",
              "  <thead>\n",
              "    <tr style=\"text-align: right;\">\n",
              "      <th></th>\n",
              "      <th>CreditScore</th>\n",
              "      <th>Geography</th>\n",
              "      <th>Gender</th>\n",
              "      <th>Age</th>\n",
              "      <th>Tenure</th>\n",
              "      <th>Balance</th>\n",
              "      <th>NumOfProducts</th>\n",
              "      <th>HasCrCard</th>\n",
              "      <th>IsActiveMember</th>\n",
              "      <th>EstimatedSalary</th>\n",
              "    </tr>\n",
              "  </thead>\n",
              "  <tbody>\n",
              "    <tr>\n",
              "      <th>1567</th>\n",
              "      <td>713</td>\n",
              "      <td>France</td>\n",
              "      <td>Male</td>\n",
              "      <td>53</td>\n",
              "      <td>6.0</td>\n",
              "      <td>115029.40</td>\n",
              "      <td>1</td>\n",
              "      <td>0</td>\n",
              "      <td>0</td>\n",
              "      <td>191521.32</td>\n",
              "    </tr>\n",
              "    <tr>\n",
              "      <th>8824</th>\n",
              "      <td>643</td>\n",
              "      <td>Spain</td>\n",
              "      <td>Female</td>\n",
              "      <td>35</td>\n",
              "      <td>6.0</td>\n",
              "      <td>0.00</td>\n",
              "      <td>2</td>\n",
              "      <td>1</td>\n",
              "      <td>1</td>\n",
              "      <td>41549.64</td>\n",
              "    </tr>\n",
              "    <tr>\n",
              "      <th>2596</th>\n",
              "      <td>833</td>\n",
              "      <td>France</td>\n",
              "      <td>Female</td>\n",
              "      <td>28</td>\n",
              "      <td>4.0</td>\n",
              "      <td>136674.51</td>\n",
              "      <td>2</td>\n",
              "      <td>0</td>\n",
              "      <td>0</td>\n",
              "      <td>5278.78</td>\n",
              "    </tr>\n",
              "    <tr>\n",
              "      <th>4822</th>\n",
              "      <td>745</td>\n",
              "      <td>France</td>\n",
              "      <td>Female</td>\n",
              "      <td>32</td>\n",
              "      <td>2.0</td>\n",
              "      <td>0.00</td>\n",
              "      <td>4</td>\n",
              "      <td>0</td>\n",
              "      <td>1</td>\n",
              "      <td>179705.13</td>\n",
              "    </tr>\n",
              "    <tr>\n",
              "      <th>7212</th>\n",
              "      <td>711</td>\n",
              "      <td>France</td>\n",
              "      <td>Female</td>\n",
              "      <td>25</td>\n",
              "      <td>5.0</td>\n",
              "      <td>190066.54</td>\n",
              "      <td>1</td>\n",
              "      <td>0</td>\n",
              "      <td>0</td>\n",
              "      <td>51345.39</td>\n",
              "    </tr>\n",
              "    <tr>\n",
              "      <th>1490</th>\n",
              "      <td>797</td>\n",
              "      <td>Spain</td>\n",
              "      <td>Female</td>\n",
              "      <td>31</td>\n",
              "      <td>8.0</td>\n",
              "      <td>0.00</td>\n",
              "      <td>2</td>\n",
              "      <td>1</td>\n",
              "      <td>0</td>\n",
              "      <td>117916.63</td>\n",
              "    </tr>\n",
              "    <tr>\n",
              "      <th>7837</th>\n",
              "      <td>850</td>\n",
              "      <td>Spain</td>\n",
              "      <td>Male</td>\n",
              "      <td>48</td>\n",
              "      <td>2.0</td>\n",
              "      <td>0.00</td>\n",
              "      <td>1</td>\n",
              "      <td>1</td>\n",
              "      <td>0</td>\n",
              "      <td>169425.30</td>\n",
              "    </tr>\n",
              "    <tr>\n",
              "      <th>7538</th>\n",
              "      <td>601</td>\n",
              "      <td>Spain</td>\n",
              "      <td>Male</td>\n",
              "      <td>28</td>\n",
              "      <td>6.0</td>\n",
              "      <td>0.00</td>\n",
              "      <td>2</td>\n",
              "      <td>1</td>\n",
              "      <td>0</td>\n",
              "      <td>14665.28</td>\n",
              "    </tr>\n",
              "    <tr>\n",
              "      <th>3455</th>\n",
              "      <td>842</td>\n",
              "      <td>France</td>\n",
              "      <td>Male</td>\n",
              "      <td>29</td>\n",
              "      <td>8.0</td>\n",
              "      <td>0.00</td>\n",
              "      <td>2</td>\n",
              "      <td>1</td>\n",
              "      <td>1</td>\n",
              "      <td>123437.05</td>\n",
              "    </tr>\n",
              "    <tr>\n",
              "      <th>9011</th>\n",
              "      <td>775</td>\n",
              "      <td>France</td>\n",
              "      <td>Male</td>\n",
              "      <td>42</td>\n",
              "      <td>6.0</td>\n",
              "      <td>133970.22</td>\n",
              "      <td>2</td>\n",
              "      <td>0</td>\n",
              "      <td>1</td>\n",
              "      <td>187839.90</td>\n",
              "    </tr>\n",
              "  </tbody>\n",
              "</table>\n",
              "</div>"
            ],
            "text/plain": [
              "      CreditScore Geography  Gender  Age  Tenure    Balance  NumOfProducts  \\\n",
              "1567          713    France    Male   53     6.0  115029.40              1   \n",
              "8824          643     Spain  Female   35     6.0       0.00              2   \n",
              "2596          833    France  Female   28     4.0  136674.51              2   \n",
              "4822          745    France  Female   32     2.0       0.00              4   \n",
              "7212          711    France  Female   25     5.0  190066.54              1   \n",
              "1490          797     Spain  Female   31     8.0       0.00              2   \n",
              "7837          850     Spain    Male   48     2.0       0.00              1   \n",
              "7538          601     Spain    Male   28     6.0       0.00              2   \n",
              "3455          842    France    Male   29     8.0       0.00              2   \n",
              "9011          775    France    Male   42     6.0  133970.22              2   \n",
              "\n",
              "      HasCrCard  IsActiveMember  EstimatedSalary  \n",
              "1567          0               0        191521.32  \n",
              "8824          1               1         41549.64  \n",
              "2596          0               0          5278.78  \n",
              "4822          0               1        179705.13  \n",
              "7212          0               0         51345.39  \n",
              "1490          1               0        117916.63  \n",
              "7837          1               0        169425.30  \n",
              "7538          1               0         14665.28  \n",
              "3455          1               1        123437.05  \n",
              "9011          0               1        187839.90  "
            ]
          },
          "execution_count": 29,
          "metadata": {},
          "output_type": "execute_result"
        }
      ],
      "source": [
        "#data = pd.get_dummies(data, drop_first = True)\n",
        "features_train.head(10)"
      ]
    },
    {
      "cell_type": "code",
      "execution_count": null,
      "metadata": {
        "id": "jfvAsclVRo5W"
      },
      "outputs": [],
      "source": [
        "ohe_columns = ['Gender', 'Geography']\n",
        "pd.options.mode.chained_assignment = None\n",
        "# вызовем функцию OneHotEncoder() для обработки категориальных признаков\n",
        "encoder = OneHotEncoder(sparse=False, drop='first')"
      ]
    },
    {
      "cell_type": "code",
      "execution_count": null,
      "metadata": {
        "id": "K9RTiEXLRo5W",
        "outputId": "124d87be-52ae-42e0-83e6-1b580229fdf7"
      },
      "outputs": [
        {
          "data": {
            "text/html": [
              "<div>\n",
              "<style scoped>\n",
              "    .dataframe tbody tr th:only-of-type {\n",
              "        vertical-align: middle;\n",
              "    }\n",
              "\n",
              "    .dataframe tbody tr th {\n",
              "        vertical-align: top;\n",
              "    }\n",
              "\n",
              "    .dataframe thead th {\n",
              "        text-align: right;\n",
              "    }\n",
              "</style>\n",
              "<table border=\"1\" class=\"dataframe\">\n",
              "  <thead>\n",
              "    <tr style=\"text-align: right;\">\n",
              "      <th></th>\n",
              "      <th>CreditScore</th>\n",
              "      <th>Age</th>\n",
              "      <th>Tenure</th>\n",
              "      <th>Balance</th>\n",
              "      <th>NumOfProducts</th>\n",
              "      <th>HasCrCard</th>\n",
              "      <th>IsActiveMember</th>\n",
              "      <th>EstimatedSalary</th>\n",
              "      <th>Gender_Male</th>\n",
              "      <th>Geography_Germany</th>\n",
              "      <th>Geography_Spain</th>\n",
              "    </tr>\n",
              "  </thead>\n",
              "  <tbody>\n",
              "    <tr>\n",
              "      <th>1567</th>\n",
              "      <td>713</td>\n",
              "      <td>53</td>\n",
              "      <td>6.0</td>\n",
              "      <td>115029.40</td>\n",
              "      <td>1</td>\n",
              "      <td>0</td>\n",
              "      <td>0</td>\n",
              "      <td>191521.32</td>\n",
              "      <td>1.0</td>\n",
              "      <td>0.0</td>\n",
              "      <td>0.0</td>\n",
              "    </tr>\n",
              "    <tr>\n",
              "      <th>8824</th>\n",
              "      <td>643</td>\n",
              "      <td>35</td>\n",
              "      <td>6.0</td>\n",
              "      <td>0.00</td>\n",
              "      <td>2</td>\n",
              "      <td>1</td>\n",
              "      <td>1</td>\n",
              "      <td>41549.64</td>\n",
              "      <td>0.0</td>\n",
              "      <td>0.0</td>\n",
              "      <td>1.0</td>\n",
              "    </tr>\n",
              "    <tr>\n",
              "      <th>2596</th>\n",
              "      <td>833</td>\n",
              "      <td>28</td>\n",
              "      <td>4.0</td>\n",
              "      <td>136674.51</td>\n",
              "      <td>2</td>\n",
              "      <td>0</td>\n",
              "      <td>0</td>\n",
              "      <td>5278.78</td>\n",
              "      <td>0.0</td>\n",
              "      <td>0.0</td>\n",
              "      <td>0.0</td>\n",
              "    </tr>\n",
              "    <tr>\n",
              "      <th>4822</th>\n",
              "      <td>745</td>\n",
              "      <td>32</td>\n",
              "      <td>2.0</td>\n",
              "      <td>0.00</td>\n",
              "      <td>4</td>\n",
              "      <td>0</td>\n",
              "      <td>1</td>\n",
              "      <td>179705.13</td>\n",
              "      <td>0.0</td>\n",
              "      <td>0.0</td>\n",
              "      <td>0.0</td>\n",
              "    </tr>\n",
              "    <tr>\n",
              "      <th>7212</th>\n",
              "      <td>711</td>\n",
              "      <td>25</td>\n",
              "      <td>5.0</td>\n",
              "      <td>190066.54</td>\n",
              "      <td>1</td>\n",
              "      <td>0</td>\n",
              "      <td>0</td>\n",
              "      <td>51345.39</td>\n",
              "      <td>0.0</td>\n",
              "      <td>0.0</td>\n",
              "      <td>0.0</td>\n",
              "    </tr>\n",
              "  </tbody>\n",
              "</table>\n",
              "</div>"
            ],
            "text/plain": [
              "      CreditScore  Age  Tenure    Balance  NumOfProducts  HasCrCard  \\\n",
              "1567          713   53     6.0  115029.40              1          0   \n",
              "8824          643   35     6.0       0.00              2          1   \n",
              "2596          833   28     4.0  136674.51              2          0   \n",
              "4822          745   32     2.0       0.00              4          0   \n",
              "7212          711   25     5.0  190066.54              1          0   \n",
              "\n",
              "      IsActiveMember  EstimatedSalary  Gender_Male  Geography_Germany  \\\n",
              "1567               0        191521.32          1.0                0.0   \n",
              "8824               1         41549.64          0.0                0.0   \n",
              "2596               0          5278.78          0.0                0.0   \n",
              "4822               1        179705.13          0.0                0.0   \n",
              "7212               0         51345.39          0.0                0.0   \n",
              "\n",
              "      Geography_Spain  \n",
              "1567              0.0  \n",
              "8824              1.0  \n",
              "2596              0.0  \n",
              "4822              0.0  \n",
              "7212              0.0  "
            ]
          },
          "execution_count": 31,
          "metadata": {},
          "output_type": "execute_result"
        }
      ],
      "source": [
        "#Обработаем обучающий датасет\n",
        "encoder.fit(features_train.loc[:, ohe_columns])\n",
        "array_encoded = encoder.transform(features_train.loc[:, ohe_columns])\n",
        "# перезапишем значения признаков в исходном наборе данных\n",
        "data_encoded = pd.DataFrame(array_encoded, columns=encoder.get_feature_names(ohe_columns), index=features_train.index)\n",
        "features_train = pd.concat([features_train, data_encoded], axis=1)\n",
        " # удалим \"лишние\" признаки\n",
        "features_train.drop(labels=ohe_columns, axis=1, inplace=True)\n",
        "features_train.head()"
      ]
    },
    {
      "cell_type": "code",
      "execution_count": null,
      "metadata": {
        "id": "2u2IxKJJRo5W",
        "outputId": "b2e91b99-6dbd-4ad0-ce9a-62f9d9e7b1e6"
      },
      "outputs": [
        {
          "data": {
            "text/html": [
              "<div>\n",
              "<style scoped>\n",
              "    .dataframe tbody tr th:only-of-type {\n",
              "        vertical-align: middle;\n",
              "    }\n",
              "\n",
              "    .dataframe tbody tr th {\n",
              "        vertical-align: top;\n",
              "    }\n",
              "\n",
              "    .dataframe thead th {\n",
              "        text-align: right;\n",
              "    }\n",
              "</style>\n",
              "<table border=\"1\" class=\"dataframe\">\n",
              "  <thead>\n",
              "    <tr style=\"text-align: right;\">\n",
              "      <th></th>\n",
              "      <th>CreditScore</th>\n",
              "      <th>Age</th>\n",
              "      <th>Tenure</th>\n",
              "      <th>Balance</th>\n",
              "      <th>NumOfProducts</th>\n",
              "      <th>HasCrCard</th>\n",
              "      <th>IsActiveMember</th>\n",
              "      <th>EstimatedSalary</th>\n",
              "      <th>Gender_Male</th>\n",
              "      <th>Geography_Germany</th>\n",
              "      <th>Geography_Spain</th>\n",
              "    </tr>\n",
              "  </thead>\n",
              "  <tbody>\n",
              "    <tr>\n",
              "      <th>8905</th>\n",
              "      <td>557</td>\n",
              "      <td>36</td>\n",
              "      <td>3.0</td>\n",
              "      <td>0.00</td>\n",
              "      <td>1</td>\n",
              "      <td>0</td>\n",
              "      <td>1</td>\n",
              "      <td>144078.02</td>\n",
              "      <td>1.0</td>\n",
              "      <td>0.0</td>\n",
              "      <td>0.0</td>\n",
              "    </tr>\n",
              "    <tr>\n",
              "      <th>5883</th>\n",
              "      <td>495</td>\n",
              "      <td>38</td>\n",
              "      <td>2.0</td>\n",
              "      <td>63093.01</td>\n",
              "      <td>1</td>\n",
              "      <td>1</td>\n",
              "      <td>1</td>\n",
              "      <td>47089.72</td>\n",
              "      <td>0.0</td>\n",
              "      <td>0.0</td>\n",
              "      <td>0.0</td>\n",
              "    </tr>\n",
              "    <tr>\n",
              "      <th>4099</th>\n",
              "      <td>696</td>\n",
              "      <td>34</td>\n",
              "      <td>9.0</td>\n",
              "      <td>150856.79</td>\n",
              "      <td>1</td>\n",
              "      <td>0</td>\n",
              "      <td>1</td>\n",
              "      <td>8236.78</td>\n",
              "      <td>1.0</td>\n",
              "      <td>0.0</td>\n",
              "      <td>0.0</td>\n",
              "    </tr>\n",
              "    <tr>\n",
              "      <th>7963</th>\n",
              "      <td>630</td>\n",
              "      <td>37</td>\n",
              "      <td>6.0</td>\n",
              "      <td>0.00</td>\n",
              "      <td>2</td>\n",
              "      <td>1</td>\n",
              "      <td>1</td>\n",
              "      <td>82647.65</td>\n",
              "      <td>1.0</td>\n",
              "      <td>0.0</td>\n",
              "      <td>0.0</td>\n",
              "    </tr>\n",
              "    <tr>\n",
              "      <th>4752</th>\n",
              "      <td>659</td>\n",
              "      <td>54</td>\n",
              "      <td>8.0</td>\n",
              "      <td>133436.52</td>\n",
              "      <td>1</td>\n",
              "      <td>1</td>\n",
              "      <td>0</td>\n",
              "      <td>56787.80</td>\n",
              "      <td>1.0</td>\n",
              "      <td>0.0</td>\n",
              "      <td>0.0</td>\n",
              "    </tr>\n",
              "  </tbody>\n",
              "</table>\n",
              "</div>"
            ],
            "text/plain": [
              "      CreditScore  Age  Tenure    Balance  NumOfProducts  HasCrCard  \\\n",
              "8905          557   36     3.0       0.00              1          0   \n",
              "5883          495   38     2.0   63093.01              1          1   \n",
              "4099          696   34     9.0  150856.79              1          0   \n",
              "7963          630   37     6.0       0.00              2          1   \n",
              "4752          659   54     8.0  133436.52              1          1   \n",
              "\n",
              "      IsActiveMember  EstimatedSalary  Gender_Male  Geography_Germany  \\\n",
              "8905               1        144078.02          1.0                0.0   \n",
              "5883               1         47089.72          0.0                0.0   \n",
              "4099               1          8236.78          1.0                0.0   \n",
              "7963               1         82647.65          1.0                0.0   \n",
              "4752               0         56787.80          1.0                0.0   \n",
              "\n",
              "      Geography_Spain  \n",
              "8905              0.0  \n",
              "5883              0.0  \n",
              "4099              0.0  \n",
              "7963              0.0  \n",
              "4752              0.0  "
            ]
          },
          "execution_count": 32,
          "metadata": {},
          "output_type": "execute_result"
        }
      ],
      "source": [
        "#Обработаем валидационный датасет\n",
        "array_encoded = encoder.transform(features_valid.loc[:, ohe_columns])\n",
        "# перезапишем значения признаков в исходном наборе данных\n",
        "data_encoded = pd.DataFrame(array_encoded, columns=encoder.get_feature_names(ohe_columns), index=features_valid.index)\n",
        "features_valid = pd.concat([features_valid, data_encoded], axis=1)\n",
        " # удалим \"лишние\" признаки\n",
        "features_valid.drop(labels=ohe_columns, axis=1, inplace=True)\n",
        "features_valid.head()"
      ]
    },
    {
      "cell_type": "code",
      "execution_count": null,
      "metadata": {
        "id": "9w4Ioi8XRo5W",
        "outputId": "e117162c-f213-4ee3-c858-fb6efed4ecc0"
      },
      "outputs": [
        {
          "data": {
            "text/html": [
              "<div>\n",
              "<style scoped>\n",
              "    .dataframe tbody tr th:only-of-type {\n",
              "        vertical-align: middle;\n",
              "    }\n",
              "\n",
              "    .dataframe tbody tr th {\n",
              "        vertical-align: top;\n",
              "    }\n",
              "\n",
              "    .dataframe thead th {\n",
              "        text-align: right;\n",
              "    }\n",
              "</style>\n",
              "<table border=\"1\" class=\"dataframe\">\n",
              "  <thead>\n",
              "    <tr style=\"text-align: right;\">\n",
              "      <th></th>\n",
              "      <th>CreditScore</th>\n",
              "      <th>Age</th>\n",
              "      <th>Tenure</th>\n",
              "      <th>Balance</th>\n",
              "      <th>NumOfProducts</th>\n",
              "      <th>HasCrCard</th>\n",
              "      <th>IsActiveMember</th>\n",
              "      <th>EstimatedSalary</th>\n",
              "      <th>Gender_Male</th>\n",
              "      <th>Geography_Germany</th>\n",
              "      <th>Geography_Spain</th>\n",
              "    </tr>\n",
              "  </thead>\n",
              "  <tbody>\n",
              "    <tr>\n",
              "      <th>6557</th>\n",
              "      <td>504</td>\n",
              "      <td>40</td>\n",
              "      <td>5.0</td>\n",
              "      <td>0.00</td>\n",
              "      <td>2</td>\n",
              "      <td>0</td>\n",
              "      <td>0</td>\n",
              "      <td>146703.36</td>\n",
              "      <td>1.0</td>\n",
              "      <td>0.0</td>\n",
              "      <td>1.0</td>\n",
              "    </tr>\n",
              "    <tr>\n",
              "      <th>4032</th>\n",
              "      <td>430</td>\n",
              "      <td>38</td>\n",
              "      <td>9.0</td>\n",
              "      <td>0.00</td>\n",
              "      <td>2</td>\n",
              "      <td>1</td>\n",
              "      <td>1</td>\n",
              "      <td>12050.77</td>\n",
              "      <td>1.0</td>\n",
              "      <td>0.0</td>\n",
              "      <td>0.0</td>\n",
              "    </tr>\n",
              "    <tr>\n",
              "      <th>35</th>\n",
              "      <td>475</td>\n",
              "      <td>45</td>\n",
              "      <td>0.0</td>\n",
              "      <td>134264.04</td>\n",
              "      <td>1</td>\n",
              "      <td>1</td>\n",
              "      <td>0</td>\n",
              "      <td>27822.99</td>\n",
              "      <td>0.0</td>\n",
              "      <td>0.0</td>\n",
              "      <td>0.0</td>\n",
              "    </tr>\n",
              "    <tr>\n",
              "      <th>6345</th>\n",
              "      <td>754</td>\n",
              "      <td>35</td>\n",
              "      <td>4.0</td>\n",
              "      <td>0.00</td>\n",
              "      <td>2</td>\n",
              "      <td>1</td>\n",
              "      <td>0</td>\n",
              "      <td>44830.71</td>\n",
              "      <td>0.0</td>\n",
              "      <td>0.0</td>\n",
              "      <td>0.0</td>\n",
              "    </tr>\n",
              "    <tr>\n",
              "      <th>5293</th>\n",
              "      <td>604</td>\n",
              "      <td>41</td>\n",
              "      <td>10.0</td>\n",
              "      <td>0.00</td>\n",
              "      <td>2</td>\n",
              "      <td>1</td>\n",
              "      <td>1</td>\n",
              "      <td>166224.39</td>\n",
              "      <td>0.0</td>\n",
              "      <td>0.0</td>\n",
              "      <td>1.0</td>\n",
              "    </tr>\n",
              "  </tbody>\n",
              "</table>\n",
              "</div>"
            ],
            "text/plain": [
              "      CreditScore  Age  Tenure    Balance  NumOfProducts  HasCrCard  \\\n",
              "6557          504   40     5.0       0.00              2          0   \n",
              "4032          430   38     9.0       0.00              2          1   \n",
              "35            475   45     0.0  134264.04              1          1   \n",
              "6345          754   35     4.0       0.00              2          1   \n",
              "5293          604   41    10.0       0.00              2          1   \n",
              "\n",
              "      IsActiveMember  EstimatedSalary  Gender_Male  Geography_Germany  \\\n",
              "6557               0        146703.36          1.0                0.0   \n",
              "4032               1         12050.77          1.0                0.0   \n",
              "35                 0         27822.99          0.0                0.0   \n",
              "6345               0         44830.71          0.0                0.0   \n",
              "5293               1        166224.39          0.0                0.0   \n",
              "\n",
              "      Geography_Spain  \n",
              "6557              1.0  \n",
              "4032              0.0  \n",
              "35                0.0  \n",
              "6345              0.0  \n",
              "5293              1.0  "
            ]
          },
          "execution_count": 33,
          "metadata": {},
          "output_type": "execute_result"
        }
      ],
      "source": [
        "#Обработаем тестовый датасет\n",
        "array_encoded = encoder.transform(features_test.loc[:, ohe_columns])\n",
        "# перезапишем значения признаков в исходном наборе данных\n",
        "data_encoded = pd.DataFrame(array_encoded, columns=encoder.get_feature_names(ohe_columns), index=features_test.index)\n",
        "features_test = pd.concat([features_test, data_encoded], axis=1)\n",
        " # удалим \"лишние\" признаки\n",
        "features_test.drop(labels=ohe_columns, axis=1, inplace=True)\n",
        "features_test.head()"
      ]
    },
    {
      "cell_type": "markdown",
      "metadata": {
        "id": "7PBhma-9Ro5X"
      },
      "source": [
        "В угоду лучшей регрессии отмасштабируем числовые признаки, для чего выделим столбцы с числовыми признаками и применим масштабирование:"
      ]
    },
    {
      "cell_type": "markdown",
      "metadata": {
        "id": "5Ap7Bb4mRo5Y"
      },
      "source": [
        "Предварительно в угоду лучшей регрессии отмасштабируем числовые признаки в колонках Кредитный рейтинг, Возраст, Кол-во лет клиентом, Баланс, Количество продуктов и Предполагаемая зарплата:"
      ]
    },
    {
      "cell_type": "code",
      "execution_count": null,
      "metadata": {
        "id": "oiKOiFUHRo5Y"
      },
      "outputs": [],
      "source": [
        "columns_num = ['CreditScore', 'Age', 'Tenure', 'Balance', 'NumOfProducts', 'EstimatedSalary']\n",
        "scaler = StandardScaler()"
      ]
    },
    {
      "cell_type": "code",
      "execution_count": null,
      "metadata": {
        "id": "G4dW6K6KRo5Y",
        "outputId": "e3b73e21-e66e-4008-88d9-8216429855d1"
      },
      "outputs": [
        {
          "data": {
            "text/html": [
              "<div>\n",
              "<style scoped>\n",
              "    .dataframe tbody tr th:only-of-type {\n",
              "        vertical-align: middle;\n",
              "    }\n",
              "\n",
              "    .dataframe tbody tr th {\n",
              "        vertical-align: top;\n",
              "    }\n",
              "\n",
              "    .dataframe thead th {\n",
              "        text-align: right;\n",
              "    }\n",
              "</style>\n",
              "<table border=\"1\" class=\"dataframe\">\n",
              "  <thead>\n",
              "    <tr style=\"text-align: right;\">\n",
              "      <th></th>\n",
              "      <th>CreditScore</th>\n",
              "      <th>Age</th>\n",
              "      <th>Tenure</th>\n",
              "      <th>Balance</th>\n",
              "      <th>NumOfProducts</th>\n",
              "      <th>HasCrCard</th>\n",
              "      <th>IsActiveMember</th>\n",
              "      <th>EstimatedSalary</th>\n",
              "      <th>Gender_Male</th>\n",
              "      <th>Geography_Germany</th>\n",
              "      <th>Geography_Spain</th>\n",
              "    </tr>\n",
              "  </thead>\n",
              "  <tbody>\n",
              "    <tr>\n",
              "      <th>1567</th>\n",
              "      <td>0.652314</td>\n",
              "      <td>1.361687</td>\n",
              "      <td>0.339851</td>\n",
              "      <td>0.621716</td>\n",
              "      <td>-0.909974</td>\n",
              "      <td>0</td>\n",
              "      <td>0</td>\n",
              "      <td>1.582209</td>\n",
              "      <td>1.0</td>\n",
              "      <td>0.0</td>\n",
              "      <td>0.0</td>\n",
              "    </tr>\n",
              "    <tr>\n",
              "      <th>8824</th>\n",
              "      <td>-0.074870</td>\n",
              "      <td>-0.370378</td>\n",
              "      <td>0.339851</td>\n",
              "      <td>-1.230045</td>\n",
              "      <td>0.804917</td>\n",
              "      <td>1</td>\n",
              "      <td>1</td>\n",
              "      <td>-1.016725</td>\n",
              "      <td>0.0</td>\n",
              "      <td>0.0</td>\n",
              "      <td>1.0</td>\n",
              "    </tr>\n",
              "    <tr>\n",
              "      <th>2596</th>\n",
              "      <td>1.898913</td>\n",
              "      <td>-1.043958</td>\n",
              "      <td>-0.352681</td>\n",
              "      <td>0.970163</td>\n",
              "      <td>0.804917</td>\n",
              "      <td>0</td>\n",
              "      <td>0</td>\n",
              "      <td>-1.645280</td>\n",
              "      <td>0.0</td>\n",
              "      <td>0.0</td>\n",
              "      <td>0.0</td>\n",
              "    </tr>\n",
              "    <tr>\n",
              "      <th>4822</th>\n",
              "      <td>0.984740</td>\n",
              "      <td>-0.659055</td>\n",
              "      <td>-1.045213</td>\n",
              "      <td>-1.230045</td>\n",
              "      <td>4.234699</td>\n",
              "      <td>0</td>\n",
              "      <td>1</td>\n",
              "      <td>1.377440</td>\n",
              "      <td>0.0</td>\n",
              "      <td>0.0</td>\n",
              "      <td>0.0</td>\n",
              "    </tr>\n",
              "    <tr>\n",
              "      <th>7212</th>\n",
              "      <td>0.631537</td>\n",
              "      <td>-1.332636</td>\n",
              "      <td>-0.006415</td>\n",
              "      <td>1.829676</td>\n",
              "      <td>-0.909974</td>\n",
              "      <td>0</td>\n",
              "      <td>0</td>\n",
              "      <td>-0.846969</td>\n",
              "      <td>0.0</td>\n",
              "      <td>0.0</td>\n",
              "      <td>0.0</td>\n",
              "    </tr>\n",
              "    <tr>\n",
              "      <th>1490</th>\n",
              "      <td>1.524933</td>\n",
              "      <td>-0.755281</td>\n",
              "      <td>1.032384</td>\n",
              "      <td>-1.230045</td>\n",
              "      <td>0.804917</td>\n",
              "      <td>1</td>\n",
              "      <td>0</td>\n",
              "      <td>0.306677</td>\n",
              "      <td>0.0</td>\n",
              "      <td>0.0</td>\n",
              "      <td>1.0</td>\n",
              "    </tr>\n",
              "    <tr>\n",
              "      <th>7837</th>\n",
              "      <td>2.075515</td>\n",
              "      <td>0.880558</td>\n",
              "      <td>-1.045213</td>\n",
              "      <td>-1.230045</td>\n",
              "      <td>-0.909974</td>\n",
              "      <td>1</td>\n",
              "      <td>0</td>\n",
              "      <td>1.199296</td>\n",
              "      <td>1.0</td>\n",
              "      <td>0.0</td>\n",
              "      <td>1.0</td>\n",
              "    </tr>\n",
              "    <tr>\n",
              "      <th>7538</th>\n",
              "      <td>-0.511179</td>\n",
              "      <td>-1.043958</td>\n",
              "      <td>0.339851</td>\n",
              "      <td>-1.230045</td>\n",
              "      <td>0.804917</td>\n",
              "      <td>1</td>\n",
              "      <td>0</td>\n",
              "      <td>-1.482617</td>\n",
              "      <td>1.0</td>\n",
              "      <td>0.0</td>\n",
              "      <td>1.0</td>\n",
              "    </tr>\n",
              "    <tr>\n",
              "      <th>3455</th>\n",
              "      <td>1.992408</td>\n",
              "      <td>-0.947732</td>\n",
              "      <td>1.032384</td>\n",
              "      <td>-1.230045</td>\n",
              "      <td>0.804917</td>\n",
              "      <td>1</td>\n",
              "      <td>1</td>\n",
              "      <td>0.402343</td>\n",
              "      <td>1.0</td>\n",
              "      <td>0.0</td>\n",
              "      <td>0.0</td>\n",
              "    </tr>\n",
              "    <tr>\n",
              "      <th>9011</th>\n",
              "      <td>1.296390</td>\n",
              "      <td>0.303203</td>\n",
              "      <td>0.339851</td>\n",
              "      <td>0.926629</td>\n",
              "      <td>0.804917</td>\n",
              "      <td>0</td>\n",
              "      <td>1</td>\n",
              "      <td>1.518411</td>\n",
              "      <td>1.0</td>\n",
              "      <td>0.0</td>\n",
              "      <td>0.0</td>\n",
              "    </tr>\n",
              "  </tbody>\n",
              "</table>\n",
              "</div>"
            ],
            "text/plain": [
              "      CreditScore       Age    Tenure   Balance  NumOfProducts  HasCrCard  \\\n",
              "1567     0.652314  1.361687  0.339851  0.621716      -0.909974          0   \n",
              "8824    -0.074870 -0.370378  0.339851 -1.230045       0.804917          1   \n",
              "2596     1.898913 -1.043958 -0.352681  0.970163       0.804917          0   \n",
              "4822     0.984740 -0.659055 -1.045213 -1.230045       4.234699          0   \n",
              "7212     0.631537 -1.332636 -0.006415  1.829676      -0.909974          0   \n",
              "1490     1.524933 -0.755281  1.032384 -1.230045       0.804917          1   \n",
              "7837     2.075515  0.880558 -1.045213 -1.230045      -0.909974          1   \n",
              "7538    -0.511179 -1.043958  0.339851 -1.230045       0.804917          1   \n",
              "3455     1.992408 -0.947732  1.032384 -1.230045       0.804917          1   \n",
              "9011     1.296390  0.303203  0.339851  0.926629       0.804917          0   \n",
              "\n",
              "      IsActiveMember  EstimatedSalary  Gender_Male  Geography_Germany  \\\n",
              "1567               0         1.582209          1.0                0.0   \n",
              "8824               1        -1.016725          0.0                0.0   \n",
              "2596               0        -1.645280          0.0                0.0   \n",
              "4822               1         1.377440          0.0                0.0   \n",
              "7212               0        -0.846969          0.0                0.0   \n",
              "1490               0         0.306677          0.0                0.0   \n",
              "7837               0         1.199296          1.0                0.0   \n",
              "7538               0        -1.482617          1.0                0.0   \n",
              "3455               1         0.402343          1.0                0.0   \n",
              "9011               1         1.518411          1.0                0.0   \n",
              "\n",
              "      Geography_Spain  \n",
              "1567              0.0  \n",
              "8824              1.0  \n",
              "2596              0.0  \n",
              "4822              0.0  \n",
              "7212              0.0  \n",
              "1490              1.0  \n",
              "7837              1.0  \n",
              "7538              1.0  \n",
              "3455              0.0  \n",
              "9011              0.0  "
            ]
          },
          "execution_count": 35,
          "metadata": {},
          "output_type": "execute_result"
        }
      ],
      "source": [
        "# на обучающей выборке\n",
        "scaler.fit(features_train[columns_num])\n",
        "features_train[columns_num] = scaler.transform(features_train[columns_num])\n",
        "features_train.head(10)"
      ]
    },
    {
      "cell_type": "code",
      "execution_count": null,
      "metadata": {
        "id": "DbUzYpnGRo5Y",
        "outputId": "d7245922-669c-4f52-a3de-8bcacfe8b4c9"
      },
      "outputs": [
        {
          "data": {
            "text/html": [
              "<div>\n",
              "<style scoped>\n",
              "    .dataframe tbody tr th:only-of-type {\n",
              "        vertical-align: middle;\n",
              "    }\n",
              "\n",
              "    .dataframe tbody tr th {\n",
              "        vertical-align: top;\n",
              "    }\n",
              "\n",
              "    .dataframe thead th {\n",
              "        text-align: right;\n",
              "    }\n",
              "</style>\n",
              "<table border=\"1\" class=\"dataframe\">\n",
              "  <thead>\n",
              "    <tr style=\"text-align: right;\">\n",
              "      <th></th>\n",
              "      <th>CreditScore</th>\n",
              "      <th>Age</th>\n",
              "      <th>Tenure</th>\n",
              "      <th>Balance</th>\n",
              "      <th>NumOfProducts</th>\n",
              "      <th>HasCrCard</th>\n",
              "      <th>IsActiveMember</th>\n",
              "      <th>EstimatedSalary</th>\n",
              "      <th>Gender_Male</th>\n",
              "      <th>Geography_Germany</th>\n",
              "      <th>Geography_Spain</th>\n",
              "    </tr>\n",
              "  </thead>\n",
              "  <tbody>\n",
              "    <tr>\n",
              "      <th>8905</th>\n",
              "      <td>-0.968266</td>\n",
              "      <td>-0.274152</td>\n",
              "      <td>-0.698947</td>\n",
              "      <td>-1.230045</td>\n",
              "      <td>-0.909974</td>\n",
              "      <td>0</td>\n",
              "      <td>1</td>\n",
              "      <td>0.760040</td>\n",
              "      <td>1.0</td>\n",
              "      <td>0.0</td>\n",
              "      <td>0.0</td>\n",
              "    </tr>\n",
              "    <tr>\n",
              "      <th>5883</th>\n",
              "      <td>-1.612342</td>\n",
              "      <td>-0.081700</td>\n",
              "      <td>-1.045213</td>\n",
              "      <td>-0.214364</td>\n",
              "      <td>-0.909974</td>\n",
              "      <td>1</td>\n",
              "      <td>1</td>\n",
              "      <td>-0.920718</td>\n",
              "      <td>0.0</td>\n",
              "      <td>0.0</td>\n",
              "      <td>0.0</td>\n",
              "    </tr>\n",
              "    <tr>\n",
              "      <th>4099</th>\n",
              "      <td>0.475712</td>\n",
              "      <td>-0.466603</td>\n",
              "      <td>1.378650</td>\n",
              "      <td>1.198471</td>\n",
              "      <td>-0.909974</td>\n",
              "      <td>0</td>\n",
              "      <td>1</td>\n",
              "      <td>-1.594020</td>\n",
              "      <td>1.0</td>\n",
              "      <td>0.0</td>\n",
              "      <td>0.0</td>\n",
              "    </tr>\n",
              "    <tr>\n",
              "      <th>7963</th>\n",
              "      <td>-0.209918</td>\n",
              "      <td>-0.177926</td>\n",
              "      <td>0.339851</td>\n",
              "      <td>-1.230045</td>\n",
              "      <td>0.804917</td>\n",
              "      <td>1</td>\n",
              "      <td>1</td>\n",
              "      <td>-0.304517</td>\n",
              "      <td>1.0</td>\n",
              "      <td>0.0</td>\n",
              "      <td>0.0</td>\n",
              "    </tr>\n",
              "    <tr>\n",
              "      <th>4752</th>\n",
              "      <td>0.091344</td>\n",
              "      <td>1.457913</td>\n",
              "      <td>1.032384</td>\n",
              "      <td>0.918037</td>\n",
              "      <td>-0.909974</td>\n",
              "      <td>1</td>\n",
              "      <td>0</td>\n",
              "      <td>-0.752655</td>\n",
              "      <td>1.0</td>\n",
              "      <td>0.0</td>\n",
              "      <td>0.0</td>\n",
              "    </tr>\n",
              "    <tr>\n",
              "      <th>3551</th>\n",
              "      <td>-0.480014</td>\n",
              "      <td>-0.755281</td>\n",
              "      <td>0.339851</td>\n",
              "      <td>0.940592</td>\n",
              "      <td>-0.909974</td>\n",
              "      <td>1</td>\n",
              "      <td>0</td>\n",
              "      <td>1.591010</td>\n",
              "      <td>1.0</td>\n",
              "      <td>0.0</td>\n",
              "      <td>0.0</td>\n",
              "    </tr>\n",
              "    <tr>\n",
              "      <th>8448</th>\n",
              "      <td>-1.477294</td>\n",
              "      <td>0.976784</td>\n",
              "      <td>-1.391479</td>\n",
              "      <td>0.280242</td>\n",
              "      <td>0.804917</td>\n",
              "      <td>1</td>\n",
              "      <td>1</td>\n",
              "      <td>0.558858</td>\n",
              "      <td>1.0</td>\n",
              "      <td>0.0</td>\n",
              "      <td>0.0</td>\n",
              "    </tr>\n",
              "    <tr>\n",
              "      <th>2208</th>\n",
              "      <td>0.808138</td>\n",
              "      <td>0.688106</td>\n",
              "      <td>-1.045213</td>\n",
              "      <td>0.536012</td>\n",
              "      <td>-0.909974</td>\n",
              "      <td>1</td>\n",
              "      <td>0</td>\n",
              "      <td>-1.385371</td>\n",
              "      <td>0.0</td>\n",
              "      <td>0.0</td>\n",
              "      <td>0.0</td>\n",
              "    </tr>\n",
              "    <tr>\n",
              "      <th>6312</th>\n",
              "      <td>0.080955</td>\n",
              "      <td>-1.043958</td>\n",
              "      <td>1.378650</td>\n",
              "      <td>1.229956</td>\n",
              "      <td>-0.909974</td>\n",
              "      <td>1</td>\n",
              "      <td>0</td>\n",
              "      <td>1.151766</td>\n",
              "      <td>0.0</td>\n",
              "      <td>1.0</td>\n",
              "      <td>0.0</td>\n",
              "    </tr>\n",
              "    <tr>\n",
              "      <th>5362</th>\n",
              "      <td>1.036682</td>\n",
              "      <td>-0.177926</td>\n",
              "      <td>-1.391479</td>\n",
              "      <td>0.914225</td>\n",
              "      <td>0.804917</td>\n",
              "      <td>1</td>\n",
              "      <td>1</td>\n",
              "      <td>-1.262507</td>\n",
              "      <td>0.0</td>\n",
              "      <td>1.0</td>\n",
              "      <td>0.0</td>\n",
              "    </tr>\n",
              "  </tbody>\n",
              "</table>\n",
              "</div>"
            ],
            "text/plain": [
              "      CreditScore       Age    Tenure   Balance  NumOfProducts  HasCrCard  \\\n",
              "8905    -0.968266 -0.274152 -0.698947 -1.230045      -0.909974          0   \n",
              "5883    -1.612342 -0.081700 -1.045213 -0.214364      -0.909974          1   \n",
              "4099     0.475712 -0.466603  1.378650  1.198471      -0.909974          0   \n",
              "7963    -0.209918 -0.177926  0.339851 -1.230045       0.804917          1   \n",
              "4752     0.091344  1.457913  1.032384  0.918037      -0.909974          1   \n",
              "3551    -0.480014 -0.755281  0.339851  0.940592      -0.909974          1   \n",
              "8448    -1.477294  0.976784 -1.391479  0.280242       0.804917          1   \n",
              "2208     0.808138  0.688106 -1.045213  0.536012      -0.909974          1   \n",
              "6312     0.080955 -1.043958  1.378650  1.229956      -0.909974          1   \n",
              "5362     1.036682 -0.177926 -1.391479  0.914225       0.804917          1   \n",
              "\n",
              "      IsActiveMember  EstimatedSalary  Gender_Male  Geography_Germany  \\\n",
              "8905               1         0.760040          1.0                0.0   \n",
              "5883               1        -0.920718          0.0                0.0   \n",
              "4099               1        -1.594020          1.0                0.0   \n",
              "7963               1        -0.304517          1.0                0.0   \n",
              "4752               0        -0.752655          1.0                0.0   \n",
              "3551               0         1.591010          1.0                0.0   \n",
              "8448               1         0.558858          1.0                0.0   \n",
              "2208               0        -1.385371          0.0                0.0   \n",
              "6312               0         1.151766          0.0                1.0   \n",
              "5362               1        -1.262507          0.0                1.0   \n",
              "\n",
              "      Geography_Spain  \n",
              "8905              0.0  \n",
              "5883              0.0  \n",
              "4099              0.0  \n",
              "7963              0.0  \n",
              "4752              0.0  \n",
              "3551              0.0  \n",
              "8448              0.0  \n",
              "2208              0.0  \n",
              "6312              0.0  \n",
              "5362              0.0  "
            ]
          },
          "execution_count": 36,
          "metadata": {},
          "output_type": "execute_result"
        }
      ],
      "source": [
        "# на валидационной выборке\n",
        "features_valid[columns_num] = scaler.transform(features_valid[columns_num])\n",
        "features_valid.head(10)"
      ]
    },
    {
      "cell_type": "code",
      "execution_count": null,
      "metadata": {
        "id": "5CE2jLR4Ro5Y",
        "outputId": "02201ee2-7b82-4de7-f86e-f52f6c465ca1"
      },
      "outputs": [
        {
          "data": {
            "text/html": [
              "<div>\n",
              "<style scoped>\n",
              "    .dataframe tbody tr th:only-of-type {\n",
              "        vertical-align: middle;\n",
              "    }\n",
              "\n",
              "    .dataframe tbody tr th {\n",
              "        vertical-align: top;\n",
              "    }\n",
              "\n",
              "    .dataframe thead th {\n",
              "        text-align: right;\n",
              "    }\n",
              "</style>\n",
              "<table border=\"1\" class=\"dataframe\">\n",
              "  <thead>\n",
              "    <tr style=\"text-align: right;\">\n",
              "      <th></th>\n",
              "      <th>CreditScore</th>\n",
              "      <th>Age</th>\n",
              "      <th>Tenure</th>\n",
              "      <th>Balance</th>\n",
              "      <th>NumOfProducts</th>\n",
              "      <th>HasCrCard</th>\n",
              "      <th>IsActiveMember</th>\n",
              "      <th>EstimatedSalary</th>\n",
              "      <th>Gender_Male</th>\n",
              "      <th>Geography_Germany</th>\n",
              "      <th>Geography_Spain</th>\n",
              "    </tr>\n",
              "  </thead>\n",
              "  <tbody>\n",
              "    <tr>\n",
              "      <th>6557</th>\n",
              "      <td>-1.518847</td>\n",
              "      <td>0.110751</td>\n",
              "      <td>-0.006415</td>\n",
              "      <td>-1.230045</td>\n",
              "      <td>0.804917</td>\n",
              "      <td>0</td>\n",
              "      <td>0</td>\n",
              "      <td>0.805536</td>\n",
              "      <td>1.0</td>\n",
              "      <td>0.0</td>\n",
              "      <td>1.0</td>\n",
              "    </tr>\n",
              "    <tr>\n",
              "      <th>4032</th>\n",
              "      <td>-2.287584</td>\n",
              "      <td>-0.081700</td>\n",
              "      <td>1.378650</td>\n",
              "      <td>-1.230045</td>\n",
              "      <td>0.804917</td>\n",
              "      <td>1</td>\n",
              "      <td>1</td>\n",
              "      <td>-1.527925</td>\n",
              "      <td>1.0</td>\n",
              "      <td>0.0</td>\n",
              "      <td>0.0</td>\n",
              "    </tr>\n",
              "    <tr>\n",
              "      <th>35</th>\n",
              "      <td>-1.820109</td>\n",
              "      <td>0.591880</td>\n",
              "      <td>-1.737746</td>\n",
              "      <td>0.931359</td>\n",
              "      <td>-0.909974</td>\n",
              "      <td>1</td>\n",
              "      <td>0</td>\n",
              "      <td>-1.254601</td>\n",
              "      <td>0.0</td>\n",
              "      <td>0.0</td>\n",
              "      <td>0.0</td>\n",
              "    </tr>\n",
              "    <tr>\n",
              "      <th>6345</th>\n",
              "      <td>1.078235</td>\n",
              "      <td>-0.370378</td>\n",
              "      <td>-0.352681</td>\n",
              "      <td>-1.230045</td>\n",
              "      <td>0.804917</td>\n",
              "      <td>1</td>\n",
              "      <td>0</td>\n",
              "      <td>-0.959865</td>\n",
              "      <td>0.0</td>\n",
              "      <td>0.0</td>\n",
              "      <td>0.0</td>\n",
              "    </tr>\n",
              "    <tr>\n",
              "      <th>5293</th>\n",
              "      <td>-0.480014</td>\n",
              "      <td>0.206977</td>\n",
              "      <td>1.724916</td>\n",
              "      <td>-1.230045</td>\n",
              "      <td>0.804917</td>\n",
              "      <td>1</td>\n",
              "      <td>1</td>\n",
              "      <td>1.143826</td>\n",
              "      <td>0.0</td>\n",
              "      <td>0.0</td>\n",
              "      <td>1.0</td>\n",
              "    </tr>\n",
              "    <tr>\n",
              "      <th>2442</th>\n",
              "      <td>0.309499</td>\n",
              "      <td>-0.466603</td>\n",
              "      <td>-1.391479</td>\n",
              "      <td>-1.230045</td>\n",
              "      <td>0.804917</td>\n",
              "      <td>1</td>\n",
              "      <td>0</td>\n",
              "      <td>1.157874</td>\n",
              "      <td>0.0</td>\n",
              "      <td>0.0</td>\n",
              "      <td>0.0</td>\n",
              "    </tr>\n",
              "    <tr>\n",
              "      <th>5631</th>\n",
              "      <td>-0.189141</td>\n",
              "      <td>0.110751</td>\n",
              "      <td>-0.006415</td>\n",
              "      <td>1.146859</td>\n",
              "      <td>-0.909974</td>\n",
              "      <td>1</td>\n",
              "      <td>1</td>\n",
              "      <td>1.723505</td>\n",
              "      <td>1.0</td>\n",
              "      <td>0.0</td>\n",
              "      <td>0.0</td>\n",
              "    </tr>\n",
              "    <tr>\n",
              "      <th>2947</th>\n",
              "      <td>1.286002</td>\n",
              "      <td>-0.274152</td>\n",
              "      <td>0.686118</td>\n",
              "      <td>0.439144</td>\n",
              "      <td>-0.909974</td>\n",
              "      <td>0</td>\n",
              "      <td>1</td>\n",
              "      <td>0.324961</td>\n",
              "      <td>1.0</td>\n",
              "      <td>0.0</td>\n",
              "      <td>0.0</td>\n",
              "    </tr>\n",
              "    <tr>\n",
              "      <th>7286</th>\n",
              "      <td>0.309499</td>\n",
              "      <td>0.399429</td>\n",
              "      <td>-0.352681</td>\n",
              "      <td>-1.230045</td>\n",
              "      <td>0.804917</td>\n",
              "      <td>1</td>\n",
              "      <td>1</td>\n",
              "      <td>-0.718455</td>\n",
              "      <td>0.0</td>\n",
              "      <td>0.0</td>\n",
              "      <td>0.0</td>\n",
              "    </tr>\n",
              "    <tr>\n",
              "      <th>5463</th>\n",
              "      <td>0.839303</td>\n",
              "      <td>-0.274152</td>\n",
              "      <td>0.339851</td>\n",
              "      <td>-1.230045</td>\n",
              "      <td>-0.909974</td>\n",
              "      <td>0</td>\n",
              "      <td>0</td>\n",
              "      <td>0.899549</td>\n",
              "      <td>0.0</td>\n",
              "      <td>0.0</td>\n",
              "      <td>0.0</td>\n",
              "    </tr>\n",
              "  </tbody>\n",
              "</table>\n",
              "</div>"
            ],
            "text/plain": [
              "      CreditScore       Age    Tenure   Balance  NumOfProducts  HasCrCard  \\\n",
              "6557    -1.518847  0.110751 -0.006415 -1.230045       0.804917          0   \n",
              "4032    -2.287584 -0.081700  1.378650 -1.230045       0.804917          1   \n",
              "35      -1.820109  0.591880 -1.737746  0.931359      -0.909974          1   \n",
              "6345     1.078235 -0.370378 -0.352681 -1.230045       0.804917          1   \n",
              "5293    -0.480014  0.206977  1.724916 -1.230045       0.804917          1   \n",
              "2442     0.309499 -0.466603 -1.391479 -1.230045       0.804917          1   \n",
              "5631    -0.189141  0.110751 -0.006415  1.146859      -0.909974          1   \n",
              "2947     1.286002 -0.274152  0.686118  0.439144      -0.909974          0   \n",
              "7286     0.309499  0.399429 -0.352681 -1.230045       0.804917          1   \n",
              "5463     0.839303 -0.274152  0.339851 -1.230045      -0.909974          0   \n",
              "\n",
              "      IsActiveMember  EstimatedSalary  Gender_Male  Geography_Germany  \\\n",
              "6557               0         0.805536          1.0                0.0   \n",
              "4032               1        -1.527925          1.0                0.0   \n",
              "35                 0        -1.254601          0.0                0.0   \n",
              "6345               0        -0.959865          0.0                0.0   \n",
              "5293               1         1.143826          0.0                0.0   \n",
              "2442               0         1.157874          0.0                0.0   \n",
              "5631               1         1.723505          1.0                0.0   \n",
              "2947               1         0.324961          1.0                0.0   \n",
              "7286               1        -0.718455          0.0                0.0   \n",
              "5463               0         0.899549          0.0                0.0   \n",
              "\n",
              "      Geography_Spain  \n",
              "6557              1.0  \n",
              "4032              0.0  \n",
              "35                0.0  \n",
              "6345              0.0  \n",
              "5293              1.0  \n",
              "2442              0.0  \n",
              "5631              0.0  \n",
              "2947              0.0  \n",
              "7286              0.0  \n",
              "5463              0.0  "
            ]
          },
          "execution_count": 37,
          "metadata": {},
          "output_type": "execute_result"
        }
      ],
      "source": [
        "# на тестовой выборке\n",
        "features_test[columns_num] = scaler.transform(features_test[columns_num])\n",
        "features_test.head(10)"
      ]
    },
    {
      "cell_type": "markdown",
      "metadata": {
        "id": "zB1mSX3ZRo5Z"
      },
      "source": [
        "**Вывод**\n",
        "\n",
        "- Мы ознакомились с данными в файле. Оценили количество строк, типы данных в колонках, наличие пропусков\n",
        "- Проверили данные на дубликаты\n",
        "- Избавились от ненужных столбцов\n",
        "- Избавились от пропусков в данных\n",
        "- Проверили данные на наличие выбросов и избавились от них\n",
        "- Исследовали значения в категориальных колонках и применили OHE  кодирование с избеганием дамми-ловушки\n",
        "- Исследовали баланс классов в выборке\n",
        "- Отмасштабировали численные признаки\n",
        "- Разделили датасет на обучающую, тестовую и валидационную выборки с сохранением исходного соотношения классов в выборках"
      ]
    },
    {
      "cell_type": "markdown",
      "metadata": {
        "id": "Ad2va5mmRo5Z"
      },
      "source": [
        "## Исследование задачи"
      ]
    },
    {
      "cell_type": "markdown",
      "metadata": {
        "id": "s0Kk_1WqRo5b"
      },
      "source": [
        "Обучим три вида моделей на тестовых данных  без учета дисбалансности классов - модель логистической регрессии, случайного дерева и случайного леса, с подбором оптимальных параметров. Оценим по метрикам результаты каждой из моделей на валидационной выборке."
      ]
    },
    {
      "cell_type": "markdown",
      "metadata": {
        "id": "0wEwhcrGRo5c"
      },
      "source": [
        "Заготовим функцию вывода метрик на основе предсказанных и верных значений:"
      ]
    },
    {
      "cell_type": "code",
      "execution_count": null,
      "metadata": {
        "id": "Hx4Pudj6Ro5c"
      },
      "outputs": [],
      "source": [
        "def metrics_report (target_valid, predicted_valid, probabilities_one_valid):\n",
        "    print(f'Confusion matrix: \\n{confusion_matrix(target_valid, predicted_valid)}\\n')\n",
        "    print(f'Accuracy: {accuracy_score(target_valid, predicted_valid)}\\n')\n",
        "    print(f'Precision: {precision_score(target_valid, predicted_valid)}\\n')\n",
        "    print(f'Recall: {recall_score(target_valid, predicted_valid)}\\n')\n",
        "    print(f'F1-score: {f1_score(target_valid, predicted_valid)}\\n')\n",
        "    print(f'Соотношение количества ответов:\\n {pd.Series(predicted_valid).value_counts()}\\n')\n",
        "    if (len(probabilities_one_valid)>0):\n",
        "        print(f'AUC ROC: {roc_auc_score(target_valid, probabilities_one_valid)}\\n')\n",
        "        fpr, tpr, thresholds = roc_curve(target_valid, probabilities_one_valid)\n",
        "        plt.figure()\n",
        "        plt.plot(fpr, tpr)\n",
        "        plt.plot([0, 1], [0, 1], linestyle='--')\n",
        "        plt.xlim([0.0, 1.0])\n",
        "        plt.ylim([0.0, 1.0])\n",
        "        plt.xlabel('False Positive Rate')\n",
        "        plt.ylabel('True Positive Rate')\n",
        "        plt.title('ROC-кривая')\n",
        "        plt.show()\n",
        "    return\n"
      ]
    },
    {
      "cell_type": "markdown",
      "metadata": {
        "id": "cC23BpubRo5d"
      },
      "source": [
        "### Логистическая регрессия ###"
      ]
    },
    {
      "cell_type": "code",
      "execution_count": null,
      "metadata": {
        "id": "aeju3oxNRo5e",
        "outputId": "94a6873a-e211-40dc-ae15-5790726d195d"
      },
      "outputs": [
        {
          "data": {
            "text/plain": [
              "LogisticRegression(random_state=12345, solver='liblinear')"
            ]
          },
          "execution_count": 139,
          "metadata": {},
          "output_type": "execute_result"
        }
      ],
      "source": [
        "model_lr = LogisticRegression(random_state=12345, solver='liblinear')\n",
        "model_lr.fit(features_train, target_train)"
      ]
    },
    {
      "cell_type": "code",
      "execution_count": null,
      "metadata": {
        "id": "QYpwKBJkRo5e",
        "outputId": "0fa160c3-e6aa-44a7-84bb-beece2dfafbc"
      },
      "outputs": [
        {
          "name": "stdout",
          "output_type": "stream",
          "text": [
            "Метрики логистической регрессии на валидационной выборке\n",
            "\n",
            "Confusion matrix: \n",
            "[[1387   60]\n",
            " [ 294   76]]\n",
            "\n",
            "Accuracy: 0.8051733626857457\n",
            "\n",
            "Precision: 0.5588235294117647\n",
            "\n",
            "Recall: 0.20540540540540542\n",
            "\n",
            "F1-score: 0.3003952569169961\n",
            "\n",
            "Соотношение количества ответов:\n",
            " 0    1681\n",
            "1     136\n",
            "dtype: int64\n",
            "\n",
            "AUC ROC: 0.7584639234950225\n",
            "\n"
          ]
        },
        {
          "data": {
            "image/png": "[encoded data removed]",
            "text/plain": [
              "<Figure size 432x288 with 1 Axes>"
            ]
          },
          "metadata": {
            "needs_background": "light"
          },
          "output_type": "display_data"
        }
      ],
      "source": [
        "predicted_valid = model_lr.predict(features_valid)\n",
        "probabilities_one_valid = model_lr.predict_proba(features_valid)[:, 1]\n",
        "print('Метрики логистической регрессии на валидационной выборке\\n')\n",
        "metrics_report(target_valid, predicted_valid, probabilities_one_valid)"
      ]
    },
    {
      "cell_type": "markdown",
      "metadata": {
        "id": "76PSK122Ro5f"
      },
      "source": [
        "Правильность модели выглядит довольно высокой,0.8, однако мы видим,что модель выдает практически одни негативные ответы и за счет дисбаланса классов неплохо попадает в верные, смотреть на нее в связи с этим-бесполезно. Точность около 0.56, а Полнота и вовсе 0.2, соответственно и f1-мера на уровне 0.3. Площадь под кривой ошибок 0.76, что несомненно лучше, чем 0.5 у случайной модели, но сравним этот показатель с другими моделями."
      ]
    },
    {
      "cell_type": "markdown",
      "metadata": {
        "id": "KVyufqMsRo5g"
      },
      "source": [
        "### Дерево решений ###"
      ]
    },
    {
      "cell_type": "markdown",
      "metadata": {
        "id": "-5ONVfquRo5g"
      },
      "source": [
        "Найдем для начала оптимальную глубюину дерева, ориентируясь на  F1 меру:"
      ]
    },
    {
      "cell_type": "code",
      "execution_count": null,
      "metadata": {
        "id": "3rT6qk0ERo5h",
        "outputId": "249dd78d-1f46-422c-9ff9-a3b8b26ce1f3"
      },
      "outputs": [
        {
          "name": "stdout",
          "output_type": "stream",
          "text": [
            "8\n",
            "CPU times: user 369 ms, sys: 0 ns, total: 369 ms\n",
            "Wall time: 378 ms\n"
          ]
        }
      ],
      "source": [
        "%%time\n",
        "#поиск наилучшей глубины дерева\n",
        "best_depth = 0\n",
        "best_score = 0\n",
        "for depth in range(1, 20, 1):\n",
        "    model_tree = DecisionTreeClassifier(max_depth=depth, random_state=12345)\n",
        "    model_tree.fit(features_train, target_train)\n",
        "    predicted_valid = model_tree.predict (features_valid)\n",
        "    score = f1_score(target_valid, predicted_valid)\n",
        "    if (score>=best_score):\n",
        "        best_depth = depth\n",
        "        best_score = score\n",
        "print(best_depth)\n"
      ]
    },
    {
      "cell_type": "markdown",
      "metadata": {
        "id": "VR1FpiW8Ro5h"
      },
      "source": [
        "Построим модель дерева с найденной оптимальной глубиной:"
      ]
    },
    {
      "cell_type": "code",
      "execution_count": null,
      "metadata": {
        "id": "o-FgXPJtRo5h",
        "outputId": "7a3f9f9b-1d07-485b-cfc4-88148d3ca65a"
      },
      "outputs": [
        {
          "name": "stdout",
          "output_type": "stream",
          "text": [
            "Метрики дерева решений на валидационной выборке\n",
            "\n",
            "Confusion matrix: \n",
            "[[1366   81]\n",
            " [ 171  199]]\n",
            "\n",
            "Accuracy: 0.8613098514034122\n",
            "\n",
            "Precision: 0.7107142857142857\n",
            "\n",
            "Recall: 0.5378378378378378\n",
            "\n",
            "F1-score: 0.6123076923076922\n",
            "\n",
            "Соотношение количества ответов:\n",
            " 0    1537\n",
            "1     280\n",
            "dtype: int64\n",
            "\n",
            "AUC ROC: 0.8394749621771046\n",
            "\n"
          ]
        },
        {
          "data": {
            "image/png": "[encoded data removed]",
            "text/plain": [
              "<Figure size 432x288 with 1 Axes>"
            ]
          },
          "metadata": {
            "needs_background": "light"
          },
          "output_type": "display_data"
        }
      ],
      "source": [
        "model_tree = DecisionTreeClassifier(max_depth=8, random_state=12345)\n",
        "model_tree.fit(features_train, target_train)\n",
        "predicted_valid = model_tree.predict (features_valid)\n",
        "probabilities_one_valid = model_tree.predict_proba(features_valid)[:, 1]\n",
        "print('Метрики дерева решений на валидационной выборке\\n')\n",
        "metrics_report(target_valid, predicted_valid, probabilities_one_valid)"
      ]
    },
    {
      "cell_type": "markdown",
      "metadata": {
        "id": "J88QgaiaRo5i"
      },
      "source": [
        "На валидационной выборке модель показывает неплохие значения Правитльности (0,86) и Точности (0,7), Полнота весьма средняя (0.54), мера F1 выросла , 0.61, однако все еще дает большое количество отрицательных ответов. Площадь под кривой ошибок также возросла - 0.84"
      ]
    },
    {
      "cell_type": "markdown",
      "metadata": {
        "id": "ksLq7MOLRo5i"
      },
      "source": [
        "### Случайный лес ###"
      ]
    },
    {
      "cell_type": "markdown",
      "metadata": {
        "id": "bLDoeUbPRo5j"
      },
      "source": [
        "Найдем для начала оптимальную глубюину дерева, ориентируясь на F1 меру:"
      ]
    },
    {
      "cell_type": "code",
      "execution_count": null,
      "metadata": {
        "id": "u5fIfVMbRo5j",
        "outputId": "ea91cdbe-26bf-4f8f-e8f2-3d8c5ee06d76"
      },
      "outputs": [
        {
          "name": "stdout",
          "output_type": "stream",
          "text": [
            "17\n",
            "CPU times: user 1.68 s, sys: 6.71 ms, total: 1.69 s\n",
            "Wall time: 1.7 s\n"
          ]
        }
      ],
      "source": [
        "%%time\n",
        "#поиск наилучшей глубины дерева леса\n",
        "best_depth = 0\n",
        "best_score = 0\n",
        "for depth in range(1, 20, 1):\n",
        "    model_forest = RandomForestClassifier(n_estimators=20, max_depth=depth, random_state=12345)\n",
        "    model_forest.fit(features_train, target_train)\n",
        "    predicted_valid = model_forest.predict (features_valid)\n",
        "    score = f1_score(target_valid, predicted_valid)\n",
        "    if (score>=best_score):\n",
        "        best_depth = depth\n",
        "        best_score = score\n",
        "print(best_depth)\n"
      ]
    },
    {
      "cell_type": "markdown",
      "metadata": {
        "id": "oLqWPRicRo5j"
      },
      "source": [
        "Теперь найдем оптимальное количество деревьев с указанной максимальной глубиной:"
      ]
    },
    {
      "cell_type": "code",
      "execution_count": null,
      "metadata": {
        "id": "fx-kw4mURo5k",
        "outputId": "4a9885f0-1312-452c-f856-db57b55f03c2"
      },
      "outputs": [
        {
          "name": "stdout",
          "output_type": "stream",
          "text": [
            "80\n",
            "CPU times: user 28.7 s, sys: 73.6 ms, total: 28.8 s\n",
            "Wall time: 28.8 s\n"
          ]
        }
      ],
      "source": [
        "%%time\n",
        "#поиск наилучшего количества деревьев при мах глубине 10 леса\n",
        "best_num = 0\n",
        "best_score = 0\n",
        "for num in range(10, 101, 1):\n",
        "    model_forest = RandomForestClassifier(n_estimators=num, max_depth=17, random_state=12345)\n",
        "    model_forest.fit(features_train, target_train)\n",
        "    predicted_valid = model_forest.predict (features_valid)\n",
        "    score = f1_score(target_valid, predicted_valid)\n",
        "    if (score>=best_score):\n",
        "        best_num = num\n",
        "        best_score = score\n",
        "print(best_num)"
      ]
    },
    {
      "cell_type": "markdown",
      "metadata": {
        "id": "_quNOrMXRo5l"
      },
      "source": [
        "Теперь построим модель с найденными оптимальными параметрами случайного леса и посмотрим на езнаечния ее метрик на валидационной выборке:"
      ]
    },
    {
      "cell_type": "code",
      "execution_count": null,
      "metadata": {
        "id": "83hO2d_iRo5l",
        "outputId": "1377d84a-3f26-4274-ec9b-106f2fe7bfdf"
      },
      "outputs": [
        {
          "name": "stdout",
          "output_type": "stream",
          "text": [
            "Метрики случайного леса на валидационной выборке\n",
            "\n",
            "Confusion matrix: \n",
            "[[1384   63]\n",
            " [ 180  190]]\n",
            "\n",
            "Accuracy: 0.8662630709961475\n",
            "\n",
            "Precision: 0.7509881422924901\n",
            "\n",
            "Recall: 0.5135135135135135\n",
            "\n",
            "F1-score: 0.6099518459069021\n",
            "\n",
            "Соотношение количества ответов:\n",
            " 0    1564\n",
            "1     253\n",
            "dtype: int64\n",
            "\n",
            "AUC ROC: 0.8468527615383179\n",
            "\n"
          ]
        },
        {
          "data": {
            "image/png": "[encoded data removed]",
            "text/plain": [
              "<Figure size 432x288 with 1 Axes>"
            ]
          },
          "metadata": {
            "needs_background": "light"
          },
          "output_type": "display_data"
        }
      ],
      "source": [
        "model_forest = RandomForestClassifier(n_estimators=20, max_depth=17, random_state=12345)\n",
        "model_forest.fit(features_train, target_train)\n",
        "predicted_valid = model_forest.predict (features_valid)\n",
        "probabilities_one_valid = model_forest.predict_proba(features_valid)[:, 1]\n",
        "print('Метрики случайного леса на валидационной выборке\\n')\n",
        "metrics_report(target_valid, predicted_valid, probabilities_one_valid)"
      ]
    },
    {
      "cell_type": "markdown",
      "metadata": {
        "id": "8VvU3h7CRo5l"
      },
      "source": [
        "Значения метрик выросли еще немного: Правильность модели 0.87,Точность 0.75, полнота и мера F1 примерно те же, что и у дерева -0.51 и 0.61 (будем улучшать в дальнейшем перебором более полного спсик агиперпараметров). Соответственно подросла и площадь под кривой ошибок - 0.85."
      ]
    },
    {
      "cell_type": "markdown",
      "metadata": {
        "id": "2vO7GOI8Ro5m"
      },
      "source": [
        "Проверим данные модели на адекватность,сравнив ее с константной моделью, выдающей наиболее встречающийся класс (0):"
      ]
    },
    {
      "cell_type": "markdown",
      "metadata": {
        "id": "TUFNYlpyRo5m"
      },
      "source": [
        "### Константная модель ###"
      ]
    },
    {
      "cell_type": "code",
      "execution_count": null,
      "metadata": {
        "id": "-zyylQ1CRo5n",
        "outputId": "e3fd96b3-7a26-4324-9878-9a6c744cdc86"
      },
      "outputs": [
        {
          "name": "stdout",
          "output_type": "stream",
          "text": [
            "Метрики константной модели на валидационной выборке\n",
            "\n",
            "Confusion matrix: \n",
            "[[1447    0]\n",
            " [ 370    0]]\n",
            "\n",
            "Accuracy: 0.7963676389653275\n",
            "\n"
          ]
        }
      ],
      "source": [
        "from sklearn.dummy import DummyRegressor\n",
        "model_dummy = DummyRegressor(strategy=\"median\")\n",
        "model_dummy.fit(features_train, target_train)\n",
        "predicted_valid = model_dummy.predict (features_valid)\n",
        "print('Метрики константной модели на валидационной выборке\\n')\n",
        "print(f'Confusion matrix: \\n{confusion_matrix(target_valid, predicted_valid)}\\n')\n",
        "print(f'Accuracy: {accuracy_score(target_valid, predicted_valid)}\\n')"
      ]
    },
    {
      "cell_type": "markdown",
      "metadata": {
        "id": "7ARHOUHFRo5n"
      },
      "source": [
        "Какая хорошая метрика Праивлньости у константной модели. У логистической регрессии с балансировкой классов эта метрика даже ниже.  Все дело скорее всего в дисбалансе классов обучающей выборки. необходимо разобраться с этим."
      ]
    },
    {
      "cell_type": "markdown",
      "metadata": {
        "id": "Um7pzvI6Ro5n"
      },
      "source": [
        "**Вывод**\n",
        "Были найдены оптимальные параметры и построены модели линейной регрессии, дерева решений,случайного леса. Для каждой из моделей оценены метрик качества, accuracy моделей была сравнена с accuracy константной модели, выдающей наиболее встречающийся класс и был сделан вывод о необходимости провести борбьу с дисбалансом классов в обучающей выборке."
      ]
    },
    {
      "cell_type": "markdown",
      "metadata": {
        "id": "qyC8uNvwRo5o"
      },
      "source": [
        "## Борьба с дисбалансом"
      ]
    },
    {
      "cell_type": "markdown",
      "metadata": {
        "id": "wIQ4Am5cRo5o"
      },
      "source": [
        "Как мы уже знаем, в обучающей выборке содержится 80% объектов отрицательного класса и лишь 20% положительного. Для балансировки попробуем применить две стратегии - upsamplimg: выделим объекты положительного класса, продублируем их 4 раза и перемешаем с объектами отрицательного класса. Downsampling : выделим объекты отрицательного класса, случайным образом уменьшим их количествол в 4 раза и объединим с объектами позитивного класса, получив тем самым примерно одинаковые по объему классы в оубчающей выборке. затем сравним рабоут моделей на обучающей выборке,полученной по каждому из методов."
      ]
    },
    {
      "cell_type": "markdown",
      "metadata": {
        "id": "olsaXxrzRo5p"
      },
      "source": [
        "### Upsampling ###"
      ]
    },
    {
      "cell_type": "markdown",
      "metadata": {
        "id": "TVKUiLcTRo5p"
      },
      "source": [
        "Создадим функцию для дублирования положительного класса заданное число раз"
      ]
    },
    {
      "cell_type": "code",
      "execution_count": null,
      "metadata": {
        "id": "FVTHjeoxRo5p"
      },
      "outputs": [],
      "source": [
        "def upsample(features, target, repeat):\n",
        "    features_zeros = features[target == 0]\n",
        "    features_ones = features_train[target == 1]\n",
        "    target_zeros = target[target == 0]\n",
        "    target_ones = target[target == 1]\n",
        "\n",
        "    features_upsampled = pd.concat([features_zeros] + [features_ones] * repeat)\n",
        "    target_upsampled = pd.concat([target_zeros] + [target_ones] * repeat)\n",
        "    return features_upsampled, target_upsampled"
      ]
    },
    {
      "cell_type": "code",
      "execution_count": null,
      "metadata": {
        "id": "Ep6z4iJARo5q",
        "outputId": "58d469ff-b2e5-4d31-d26c-5b74bd197a84"
      },
      "outputs": [
        {
          "name": "stdout",
          "output_type": "stream",
          "text": [
            "Текущая доля класса \"1\" в обучающей выборке (%): 20.377842993396918\n"
          ]
        }
      ],
      "source": [
        "print(f'Текущая доля класса \"1\" в обучающей выборке (%): {len(target_train[target_train==1])/len(target_train)*100}')"
      ]
    },
    {
      "cell_type": "markdown",
      "metadata": {
        "id": "ach7wZqLRo5q"
      },
      "source": [
        "Применим полученную функцию к нашей обучающей выборке и затем посмотрим, как изменится поведение наших моделей на такой обучающей выборке."
      ]
    },
    {
      "cell_type": "code",
      "execution_count": null,
      "metadata": {
        "id": "FU2OOW8RRo5q",
        "outputId": "3e8743b5-ae44-4256-acb3-b4f3517b2e7a"
      },
      "outputs": [
        {
          "name": "stdout",
          "output_type": "stream",
          "text": [
            "(8785, 13)\n",
            "Текущая доля класса \"1\" в обучающей выборке (%): 50.5862265224815\n"
          ]
        }
      ],
      "source": [
        "features_upsampled, target_upsampled = upsample(features_train, target_train, 4)\n",
        "features_upsampled, target_upsampled = shuffle(features_upsampled, target_upsampled , random_state=12345)\n",
        "print(features_upsampled.shape)\n",
        "print(f'Текущая доля класса \"1\" в обучающей выборке (%): {len(target_upsampled[target_upsampled==1])/len(target_upsampled)*100}')"
      ]
    },
    {
      "cell_type": "markdown",
      "metadata": {
        "id": "MWHX_b3XRo5r"
      },
      "source": [
        "#### Логистическая регрессия  ####"
      ]
    },
    {
      "cell_type": "code",
      "execution_count": null,
      "metadata": {
        "id": "lRtNpRazRo5r",
        "outputId": "f8c22b99-81b6-4a87-ad2a-05201d50a899"
      },
      "outputs": [
        {
          "name": "stdout",
          "output_type": "stream",
          "text": [
            "Метрики логистической регрессии на валидационной выборке\n",
            "\n",
            "Confusion matrix: \n",
            "[[1033  414]\n",
            " [ 111  259]]\n",
            "\n",
            "Accuracy: 0.7110621904237755\n",
            "\n",
            "Precision: 0.3848439821693908\n",
            "\n",
            "Recall: 0.7\n",
            "\n",
            "F1-score: 0.4966442953020134\n",
            "\n",
            "Соотношение количества ответов:\n",
            " 0    1144\n",
            "1     673\n",
            "dtype: int64\n",
            "\n",
            "AUC ROC: 0.7648200377295056\n",
            "\n"
          ]
        },
        {
          "data": {
            "image/png": "[encoded data removed]",
            "text/plain": [
              "<Figure size 432x288 with 1 Axes>"
            ]
          },
          "metadata": {
            "needs_background": "light"
          },
          "output_type": "display_data"
        }
      ],
      "source": [
        "model_lr = LogisticRegression(random_state=12345, solver='liblinear')\n",
        "model_lr.fit(features_upsampled, target_upsampled)\n",
        "predicted_valid = model_lr.predict(features_valid)\n",
        "probabilities_one_valid = model_lr.predict_proba(features_valid)[:, 1]\n",
        "print('Метрики логистической регрессии на валидационной выборке\\n')\n",
        "metrics_report(target_valid, predicted_valid, probabilities_one_valid)"
      ]
    },
    {
      "cell_type": "markdown",
      "metadata": {
        "id": "Qk4XgsTzRo5t"
      },
      "source": [
        "#### Дерево решений ####"
      ]
    },
    {
      "cell_type": "code",
      "execution_count": null,
      "metadata": {
        "id": "BgyJoqBJRo5t",
        "outputId": "e124d66a-2fb7-4b4f-a8bd-2b73c6bf740a"
      },
      "outputs": [
        {
          "name": "stdout",
          "output_type": "stream",
          "text": [
            "8\n",
            "CPU times: user 511 ms, sys: 0 ns, total: 511 ms\n",
            "Wall time: 515 ms\n"
          ]
        }
      ],
      "source": [
        "%%time\n",
        "#поиск наилучшей глубины дерева\n",
        "best_depth = 0\n",
        "best_score = 0\n",
        "for depth in range(1, 20, 1):\n",
        "    model_tree = DecisionTreeClassifier(max_depth=depth, random_state=12345)\n",
        "    model_tree.fit(features_upsampled, target_upsampled)\n",
        "    predicted_valid = model_tree.predict (features_valid)\n",
        "    score = f1_score(target_valid, predicted_valid)\n",
        "    if (score>=best_score):\n",
        "        best_depth = depth\n",
        "        best_score = score\n",
        "print(best_depth)"
      ]
    },
    {
      "cell_type": "code",
      "execution_count": null,
      "metadata": {
        "id": "r_n_PmhgRo5u",
        "outputId": "e8bd4cee-0e5c-40cd-d243-f6cf75bf937e"
      },
      "outputs": [
        {
          "name": "stdout",
          "output_type": "stream",
          "text": [
            "Метрики дерева решений на валидационной выборке\n",
            "\n",
            "Confusion matrix: \n",
            "[[1185  262]\n",
            " [ 108  262]]\n",
            "\n",
            "Accuracy: 0.7963676389653275\n",
            "\n",
            "Precision: 0.5\n",
            "\n",
            "Recall: 0.7081081081081081\n",
            "\n",
            "F1-score: 0.5861297539149889\n",
            "\n",
            "Соотношение количества ответов:\n",
            " 0    1293\n",
            "1     524\n",
            "dtype: int64\n",
            "\n",
            "AUC ROC: 0.8256392536281963\n",
            "\n"
          ]
        },
        {
          "data": {
            "image/png": "[encoded data removed]",
            "text/plain": [
              "<Figure size 432x288 with 1 Axes>"
            ]
          },
          "metadata": {
            "needs_background": "light"
          },
          "output_type": "display_data"
        }
      ],
      "source": [
        "model_tree = DecisionTreeClassifier(max_depth=8, random_state=12345)\n",
        "model_tree.fit(features_upsampled, target_upsampled)\n",
        "predicted_valid = model_tree.predict (features_valid)\n",
        "probabilities_one_valid = model_tree.predict_proba(features_valid)[:, 1]\n",
        "print('Метрики дерева решений на валидационной выборке\\n')\n",
        "metrics_report(target_valid, predicted_valid, probabilities_one_valid)"
      ]
    },
    {
      "cell_type": "markdown",
      "metadata": {
        "id": "x--hcYICRo5v"
      },
      "source": [
        "#### Случайный лес ####"
      ]
    },
    {
      "cell_type": "code",
      "execution_count": null,
      "metadata": {
        "id": "J1pwy3X5Ro5v",
        "outputId": "9ad3a4c1-2d29-4515-e7c0-5f3b218628a2"
      },
      "outputs": [
        {
          "name": "stdout",
          "output_type": "stream",
          "text": [
            "17\n",
            "CPU times: user 2.27 s, sys: 1.98 ms, total: 2.27 s\n",
            "Wall time: 2.29 s\n"
          ]
        }
      ],
      "source": [
        "%%time\n",
        "#поиск наилучшей глубины дерева леса\n",
        "best_depth = 0\n",
        "best_score = 0\n",
        "for depth in range(1, 20, 1):\n",
        "    model_forest = RandomForestClassifier(n_estimators=20, max_depth=depth, random_state=12345)\n",
        "    model_forest.fit(features_upsampled, target_upsampled)\n",
        "    predicted_valid = model_forest.predict (features_valid)\n",
        "    score = f1_score(target_valid, predicted_valid)\n",
        "    if (score>=best_score):\n",
        "        best_depth = depth\n",
        "        best_score = score\n",
        "print(best_depth)"
      ]
    },
    {
      "cell_type": "code",
      "execution_count": null,
      "metadata": {
        "id": "fi9X-405Ro5v",
        "outputId": "801fd361-58e7-4d64-d309-f606c1c53be8"
      },
      "outputs": [
        {
          "name": "stdout",
          "output_type": "stream",
          "text": [
            "25\n",
            "CPU times: user 37.6 s, sys: 213 ms, total: 37.8 s\n",
            "Wall time: 38 s\n"
          ]
        }
      ],
      "source": [
        "%%time\n",
        "#поиск наилучшего количества деревьев при мах глубине 10 леса\n",
        "best_num = 0\n",
        "best_score = 0\n",
        "for num in range(10, 101, 1):\n",
        "    model_forest = RandomForestClassifier(n_estimators=num, max_depth=14, random_state=12345)\n",
        "    model_forest.fit(features_upsampled, target_upsampled)\n",
        "    predicted_valid = model_forest.predict (features_valid)\n",
        "    score = f1_score(target_valid, predicted_valid)\n",
        "    if (score>=best_score):\n",
        "        best_num = num\n",
        "        best_score = score\n",
        "print(best_num)"
      ]
    },
    {
      "cell_type": "code",
      "execution_count": null,
      "metadata": {
        "id": "LB0CjqS4Ro5x",
        "outputId": "9f5480b0-2ebd-4d10-a5bd-f2776aa5f84d"
      },
      "outputs": [
        {
          "name": "stdout",
          "output_type": "stream",
          "text": [
            "Метрики случайного леса на валидационной выборке\n",
            "\n",
            "Confusion matrix: \n",
            "[[1304  143]\n",
            " [ 138  232]]\n",
            "\n",
            "Accuracy: 0.8453494771601541\n",
            "\n",
            "Precision: 0.6186666666666667\n",
            "\n",
            "Recall: 0.6270270270270271\n",
            "\n",
            "F1-score: 0.6228187919463087\n",
            "\n",
            "Соотношение количества ответов:\n",
            " 0    1442\n",
            "1     375\n",
            "dtype: int64\n",
            "\n",
            "AUC ROC: 0.8512897140402323\n",
            "\n"
          ]
        },
        {
          "data": {
            "image/png": "[encoded data removed]",
            "text/plain": [
              "<Figure size 432x288 with 1 Axes>"
            ]
          },
          "metadata": {
            "needs_background": "light"
          },
          "output_type": "display_data"
        }
      ],
      "source": [
        "model_forest = RandomForestClassifier(n_estimators=18, max_depth=14, random_state=12345)\n",
        "model_forest.fit(features_upsampled, target_upsampled)\n",
        "predicted_valid = model_forest.predict (features_valid)\n",
        "probabilities_one_valid = model_forest.predict_proba(features_valid)[:, 1]\n",
        "print('Метрики случайного леса на валидационной выборке\\n')\n",
        "metrics_report(target_valid, predicted_valid, probabilities_one_valid)"
      ]
    },
    {
      "cell_type": "markdown",
      "metadata": {
        "id": "ynraf3L0Ro5x"
      },
      "source": [
        "Показатели всех моделей улучшились, F1 мера достигла максимального значения 0,622 для случайного леса, а AUC ROC -0.85. Попробуем сравнить такой метод борьбы с дисбалансом с downsampling'ом"
      ]
    },
    {
      "cell_type": "markdown",
      "metadata": {
        "id": "B42V3BNNRo5y"
      },
      "source": [
        "### Downsampling ###"
      ]
    },
    {
      "cell_type": "markdown",
      "metadata": {
        "id": "Smxz2FMYRo5y"
      },
      "source": [
        "Напишем функцию для уменьшения отрицательного класса в заданное кол-во раз."
      ]
    },
    {
      "cell_type": "code",
      "execution_count": null,
      "metadata": {
        "id": "nrCIPDwqRo5y"
      },
      "outputs": [],
      "source": [
        "def downsample(features, target, fraction):\n",
        "    features_zeros = features[target == 0]\n",
        "    features_ones = features[target == 1]\n",
        "    target_zeros = target[target == 0]\n",
        "    target_ones = target[target == 1]\n",
        "\n",
        "    features_zeros = features_zeros.sample(frac=fraction, random_state=12345)\n",
        "    target_zeros = target_zeros.sample(frac=fraction, random_state=12345)\n",
        "    features_downsampled = pd.concat([features_zeros] + [features_ones])\n",
        "    target_downsampled = pd.concat([target_zeros] + [target_ones])\n",
        "\n",
        "    return features_downsampled, target_downsampled"
      ]
    },
    {
      "cell_type": "code",
      "execution_count": null,
      "metadata": {
        "id": "XUzz0U0nRo5y",
        "outputId": "4f9cb7ec-bd8c-4252-b7bf-1285b0b10119"
      },
      "outputs": [
        {
          "name": "stdout",
          "output_type": "stream",
          "text": [
            "Текущая доля класса \"1\" в обучающей выборке (%): 20.377842993396918\n"
          ]
        }
      ],
      "source": [
        "print(f'Текущая доля класса \"1\" в обучающей выборке (%): {len(target_train[target_train==1])/len(target_train)*100}')"
      ]
    },
    {
      "cell_type": "markdown",
      "metadata": {
        "id": "4q8kbwpdRo5z"
      },
      "source": [
        "Применим полученную функцию к нашей обучающей выборке и затем посмотрим, как изменится поведение наших моделей на такой обучающей выборке."
      ]
    },
    {
      "cell_type": "code",
      "execution_count": null,
      "metadata": {
        "id": "INlvLbN6Ro5z",
        "outputId": "64e57091-3356-415a-92b9-13185d4088b5"
      },
      "outputs": [
        {
          "name": "stdout",
          "output_type": "stream",
          "text": [
            "(2196, 13)\n",
            "Текущая доля класса \"1\" в обучающей выборке (%): 50.591985428051004\n"
          ]
        }
      ],
      "source": [
        "features_downsampled, target_downsampled = downsample(features_train, target_train, 0.25)\n",
        "features_downsampled, target_downsampled = shuffle(features_downsampled, target_downsampled , random_state=12345)\n",
        "print(features_downsampled.shape)\n",
        "print(f'Текущая доля класса \"1\" в обучающей выборке (%): {len(target_downsampled[target_downsampled==1])/len(target_downsampled)*100}')"
      ]
    },
    {
      "cell_type": "markdown",
      "metadata": {
        "id": "aifAPjujRo50"
      },
      "source": [
        "#### Логистическая регрессия  ####"
      ]
    },
    {
      "cell_type": "code",
      "execution_count": null,
      "metadata": {
        "id": "utAu8eu-Ro50",
        "outputId": "8e81677c-9cae-4476-daad-9bcf7cebae88"
      },
      "outputs": [
        {
          "name": "stdout",
          "output_type": "stream",
          "text": [
            "Метрики логистической регрессии на валидационной выборке\n",
            "\n",
            "Confusion matrix: \n",
            "[[1037  410]\n",
            " [ 114  256]]\n",
            "\n",
            "Accuracy: 0.7116125481563016\n",
            "\n",
            "Precision: 0.3843843843843844\n",
            "\n",
            "Recall: 0.6918918918918919\n",
            "\n",
            "F1-score: 0.4942084942084942\n",
            "\n",
            "Соотношение количества ответов:\n",
            " 0    1151\n",
            "1     666\n",
            "dtype: int64\n",
            "\n",
            "AUC ROC: 0.7616914772408899\n",
            "\n"
          ]
        },
        {
          "data": {
            "image/png": "[encoded data removed]",
            "text/plain": [
              "<Figure size 432x288 with 1 Axes>"
            ]
          },
          "metadata": {
            "needs_background": "light"
          },
          "output_type": "display_data"
        }
      ],
      "source": [
        "model_lr = LogisticRegression(random_state=12345, solver='liblinear')\n",
        "model_lr.fit(features_downsampled, target_downsampled)\n",
        "predicted_valid = model_lr.predict(features_valid)\n",
        "probabilities_one_valid = model_lr.predict_proba(features_valid)[:, 1]\n",
        "print('Метрики логистической регрессии на валидационной выборке\\n')\n",
        "metrics_report(target_valid, predicted_valid, probabilities_one_valid)"
      ]
    },
    {
      "cell_type": "markdown",
      "metadata": {
        "id": "VWYFQZJpRo52"
      },
      "source": [
        "#### Дерево решений ####"
      ]
    },
    {
      "cell_type": "code",
      "execution_count": null,
      "metadata": {
        "id": "LVrxCWYZRo52",
        "outputId": "840695e5-cf3e-4f12-8c58-614fa17aa95f"
      },
      "outputs": [
        {
          "name": "stdout",
          "output_type": "stream",
          "text": [
            "7\n",
            "CPU times: user 204 ms, sys: 0 ns, total: 204 ms\n",
            "Wall time: 210 ms\n"
          ]
        }
      ],
      "source": [
        "%%time\n",
        "#поиск наилучшей глубины дерева\n",
        "best_depth = 0\n",
        "best_score = 0\n",
        "for depth in range(1, 20, 1):\n",
        "    model_tree = DecisionTreeClassifier(max_depth=depth, random_state=12345)\n",
        "    model_tree.fit(features_downsampled, target_downsampled)\n",
        "    predicted_valid = model_tree.predict (features_valid)\n",
        "    score = f1_score(target_valid, predicted_valid)\n",
        "    if (score>=best_score):\n",
        "        best_depth = depth\n",
        "        best_score = score\n",
        "print(best_depth)"
      ]
    },
    {
      "cell_type": "code",
      "execution_count": null,
      "metadata": {
        "id": "74UaLdlyRo52",
        "outputId": "8cdf0b22-49bc-47f6-c76a-b8d1a4e1c379"
      },
      "outputs": [
        {
          "name": "stdout",
          "output_type": "stream",
          "text": [
            "Метрики дерева решений на валидационной выборке\n",
            "\n",
            "Confusion matrix: \n",
            "[[1174  273]\n",
            " [ 111  259]]\n",
            "\n",
            "Accuracy: 0.7886626307099615\n",
            "\n",
            "Precision: 0.4868421052631579\n",
            "\n",
            "Recall: 0.7\n",
            "\n",
            "F1-score: 0.5742793791574279\n",
            "\n",
            "Соотношение количества ответов:\n",
            " 0    1285\n",
            "1     532\n",
            "dtype: int64\n",
            "\n",
            "AUC ROC: 0.8240945852556082\n",
            "\n"
          ]
        },
        {
          "data": {
            "image/png": "[encoded data removed]",
            "text/plain": [
              "<Figure size 432x288 with 1 Axes>"
            ]
          },
          "metadata": {
            "needs_background": "light"
          },
          "output_type": "display_data"
        }
      ],
      "source": [
        "model_tree = DecisionTreeClassifier(max_depth=7, random_state=12345)\n",
        "model_tree.fit(features_downsampled, target_downsampled)\n",
        "predicted_valid = model_tree.predict (features_valid)\n",
        "probabilities_one_valid = model_tree.predict_proba(features_valid)[:, 1]\n",
        "print('Метрики дерева решений на валидационной выборке\\n')\n",
        "metrics_report(target_valid, predicted_valid, probabilities_one_valid)"
      ]
    },
    {
      "cell_type": "markdown",
      "metadata": {
        "id": "eFurJyVRRo53"
      },
      "source": [
        "#### Случайный лес ####"
      ]
    },
    {
      "cell_type": "code",
      "execution_count": null,
      "metadata": {
        "id": "mMcm7dybRo53",
        "outputId": "59a2fdc1-0be9-4c5d-ffc2-efb3967de7ca"
      },
      "outputs": [
        {
          "name": "stdout",
          "output_type": "stream",
          "text": [
            "16\n",
            "CPU times: user 1.06 s, sys: 0 ns, total: 1.06 s\n",
            "Wall time: 1.09 s\n"
          ]
        }
      ],
      "source": [
        "%%time\n",
        "#поиск наилучшей глубины дерева леса\n",
        "best_depth = 0\n",
        "best_score = 0\n",
        "for depth in range(1, 20, 1):\n",
        "    model_forest = RandomForestClassifier(n_estimators=20, max_depth=depth, random_state=12345)\n",
        "    model_forest.fit(features_downsampled, target_downsampled)\n",
        "    predicted_valid = model_forest.predict (features_valid)\n",
        "    score = f1_score(target_valid, predicted_valid)\n",
        "    if (score>=best_score):\n",
        "        best_depth = depth\n",
        "        best_score = score\n",
        "print(best_depth)"
      ]
    },
    {
      "cell_type": "code",
      "execution_count": null,
      "metadata": {
        "id": "SSf2gfslRo54",
        "outputId": "93eb2ab3-79c2-4536-ca62-4d86c9a75cc4"
      },
      "outputs": [
        {
          "name": "stdout",
          "output_type": "stream",
          "text": [
            "89\n",
            "CPU times: user 12.3 s, sys: 89.6 ms, total: 12.3 s\n",
            "Wall time: 12.4 s\n"
          ]
        }
      ],
      "source": [
        "%%time\n",
        "#поиск наилучшего количества деревьев при мах глубине 10 леса\n",
        "best_num = 0\n",
        "best_score = 0\n",
        "for num in range(10, 101, 1):\n",
        "    model_forest = RandomForestClassifier(n_estimators=num, max_depth=7, random_state=12345)\n",
        "    model_forest.fit(features_downsampled, target_downsampled)\n",
        "    predicted_valid = model_forest.predict (features_valid)\n",
        "    score = f1_score(target_valid, predicted_valid)\n",
        "    if (score>=best_score):\n",
        "        best_num = num\n",
        "        best_score = score\n",
        "print(best_num)"
      ]
    },
    {
      "cell_type": "code",
      "execution_count": null,
      "metadata": {
        "id": "2Uw3hTyRRo55",
        "outputId": "479b25f9-13f8-4bc0-dac5-a0cfd63c86be"
      },
      "outputs": [
        {
          "name": "stdout",
          "output_type": "stream",
          "text": [
            "Метрики случайного леса на валидационной выборке\n",
            "\n",
            "Confusion matrix: \n",
            "[[1143  304]\n",
            " [  85  285]]\n",
            "\n",
            "Accuracy: 0.7859108420473307\n",
            "\n",
            "Precision: 0.4838709677419355\n",
            "\n",
            "Recall: 0.7702702702702703\n",
            "\n",
            "F1-score: 0.59436913451512\n",
            "\n",
            "Соотношение количества ответов:\n",
            " 0    1228\n",
            "1     589\n",
            "dtype: int64\n",
            "\n",
            "AUC ROC: 0.8548973645380002\n",
            "\n"
          ]
        },
        {
          "data": {
            "image/png": "[encoded data removed]",
            "text/plain": [
              "<Figure size 432x288 with 1 Axes>"
            ]
          },
          "metadata": {
            "needs_background": "light"
          },
          "output_type": "display_data"
        }
      ],
      "source": [
        "model_forest = RandomForestClassifier(n_estimators=20, max_depth=7, random_state=12345)\n",
        "model_forest.fit(features_downsampled, target_downsampled)\n",
        "predicted_valid = model_forest.predict (features_valid)\n",
        "probabilities_one_valid = model_forest.predict_proba(features_valid)[:, 1]\n",
        "print('Метрики случайного леса на валидационной выборке\\n')\n",
        "metrics_report(target_valid, predicted_valid, probabilities_one_valid)"
      ]
    },
    {
      "cell_type": "markdown",
      "metadata": {
        "id": "icnhNUKwRo55"
      },
      "source": [
        "Значения метрик при такой балансировке ухудшились,в сравнении с первым методом, у логистической регрессии и дерева решений незначительно, а у случайного леса  прилиично просела f1-мера - 0.59 против 0.622 для upsamplimng."
      ]
    },
    {
      "cell_type": "markdown",
      "metadata": {
        "id": "cMQiF5dNRo56"
      },
      "source": [
        "Наилучший результат дает случайный лес на обучающей выборке, к которой применен метод upsampling. Попробуем добиться максимально хорошей точности с помощью перебора целого набора параметров случайного леса и выберем оптимальное их сочетание для тестирования модели: переберем значения количества деревьев от 10 до 30 с шагом 5, максимальную глубину дерева от 5 до 20, различные значения параметра веса классов и размера случайных подмножеств:"
      ]
    },
    {
      "cell_type": "code",
      "execution_count": null,
      "metadata": {
        "id": "Jo33JbkCRo56"
      },
      "outputs": [],
      "source": [
        "import tqdm\n",
        "from itertools import product\n",
        "def check_forest_quality(features_train, target_train, features_valid, target_valid):\n",
        "\n",
        "    n_estimators = []\n",
        "    for i in range(10, 31, 5):\n",
        "        n_estimators.append(i)\n",
        "    max_depth = []\n",
        "    for i in range(5, 21):\n",
        "        max_depth.append(i)\n",
        "    class_weight = ['balanced', 'balanced_subsample', None]\n",
        "    max_features = ['auto', 'sqrt', 'log2']\n",
        "\n",
        "    parameteters = product(n_estimators,  max_depth, class_weight, max_features)\n",
        "\n",
        "    n_estimators_list = []\n",
        "    max_depth_list = []\n",
        "    class_weight_list = []\n",
        "    max_features_list = []\n",
        "\n",
        "\n",
        "    f1_list= []\n",
        "    recall_list= []\n",
        "    precision_list = []\n",
        "    auc_roc_list = []\n",
        "    score_train_list = []\n",
        "    score_valid_list = []\n",
        "\n",
        "\n",
        "    for t in tqdm.tqdm(parameteters,):\n",
        "        model_forest = RandomForestClassifier(n_estimators = t[0] , max_depth = t[1], class_weight= t[2],\n",
        "                                              max_features = t[3], random_state=12345)\n",
        "        model_forest.fit(features_train, target_train)\n",
        "        predicted_valid = model_forest.predict(features_valid)\n",
        "        probabilities_one_valid = model_forest.predict_proba(features_valid)[:, 1]\n",
        "\n",
        "        n_estimators_list.append(t[0])\n",
        "        max_depth_list.append(t[1])\n",
        "        class_weight_list.append(t[2])\n",
        "        max_features_list.append(t[3])\n",
        "\n",
        "        f1_list.append(f1_score(target_valid, predicted_valid))\n",
        "        recall_list.append(recall_score(target_valid, predicted_valid))\n",
        "        precision_list.append(precision_score(target_valid, predicted_valid))\n",
        "        auc_roc_list.append(roc_auc_score(target_valid, probabilities_one_valid))\n",
        "        score_train_list.append(model_forest.score(features_train, target_train))\n",
        "        score_valid_list.append(model_forest.score(features_valid, target_valid))\n",
        "\n",
        "        forest_quality_table = pd.DataFrame(data = (n_estimators_list, max_depth_list, class_weight_list, max_features_list,\n",
        "                                                    f1_list, recall_list, precision_list, auc_roc_list, score_train_list,\n",
        "                                                    score_valid_list)).T\n",
        "\n",
        "        forest_quality_table.columns = ('n_estimators', 'max_depth', 'class_weight', 'max_features', 'f1', 'recall',\n",
        "                                        'precision', 'auc_roc', 'score_train', 'score_valid')\n",
        "    return forest_quality_table"
      ]
    },
    {
      "cell_type": "markdown",
      "metadata": {
        "id": "ChM-WgTmRo57"
      },
      "source": [
        "Запустим перебор параметров, сохранив результаты в датафрейм. Перебор длительный, поэтому отследим время выполнения, чтобы знать, как долго выполняется эта ячейка."
      ]
    },
    {
      "cell_type": "code",
      "execution_count": null,
      "metadata": {
        "id": "WA_LY1k4Ro57",
        "outputId": "23654d82-8f10-4721-ef92-c6b2c90b9fb9"
      },
      "outputs": [
        {
          "name": "stderr",
          "output_type": "stream",
          "text": [
            "720it [02:47,  4.31it/s]"
          ]
        },
        {
          "name": "stdout",
          "output_type": "stream",
          "text": [
            "CPU times: user 2min 44s, sys: 923 ms, total: 2min 45s\n",
            "Wall time: 2min 47s\n"
          ]
        },
        {
          "name": "stderr",
          "output_type": "stream",
          "text": [
            "\n"
          ]
        }
      ],
      "source": [
        "%%time\n",
        "my_result = check_forest_quality(features_upsampled, target_upsampled, features_valid, target_valid)"
      ]
    },
    {
      "cell_type": "code",
      "execution_count": null,
      "metadata": {
        "id": "jO5sb9fpRo57",
        "outputId": "86ffa0c7-d37c-4b91-be82-a5fd7d25894d"
      },
      "outputs": [
        {
          "name": "stderr",
          "output_type": "stream",
          "text": [
            "720it [02:43,  4.39it/s]\n"
          ]
        }
      ],
      "source": [
        "my_result = check_forest_quality(features_upsampled, target_upsampled, features_test, target_test)"
      ]
    },
    {
      "cell_type": "markdown",
      "metadata": {
        "id": "ciDotl-dRo58"
      },
      "source": [
        "Выведем лучшие результаты, упорядочив их по убыванию знаечния F1 меры:"
      ]
    },
    {
      "cell_type": "code",
      "execution_count": null,
      "metadata": {
        "id": "0iSoNuD0Ro58",
        "outputId": "9aecfc3a-9e35-4819-89e4-4ef712477a57"
      },
      "outputs": [
        {
          "data": {
            "text/html": [
              "<div>\n",
              "<style scoped>\n",
              "    .dataframe tbody tr th:only-of-type {\n",
              "        vertical-align: middle;\n",
              "    }\n",
              "\n",
              "    .dataframe tbody tr th {\n",
              "        vertical-align: top;\n",
              "    }\n",
              "\n",
              "    .dataframe thead th {\n",
              "        text-align: right;\n",
              "    }\n",
              "</style>\n",
              "<table border=\"1\" class=\"dataframe\">\n",
              "  <thead>\n",
              "    <tr style=\"text-align: right;\">\n",
              "      <th></th>\n",
              "      <th>n_estimators</th>\n",
              "      <th>max_depth</th>\n",
              "      <th>class_weight</th>\n",
              "      <th>max_features</th>\n",
              "      <th>f1</th>\n",
              "      <th>recall</th>\n",
              "      <th>precision</th>\n",
              "      <th>auc_roc</th>\n",
              "      <th>score_train</th>\n",
              "      <th>score_valid</th>\n",
              "    </tr>\n",
              "  </thead>\n",
              "  <tbody>\n",
              "    <tr>\n",
              "      <th>336</th>\n",
              "      <td>20</td>\n",
              "      <td>10</td>\n",
              "      <td>balanced_subsample</td>\n",
              "      <td>auto</td>\n",
              "      <td>0.640297</td>\n",
              "      <td>0.7</td>\n",
              "      <td>0.589977</td>\n",
              "      <td>0.860505</td>\n",
              "      <td>0.9144</td>\n",
              "      <td>0.839846</td>\n",
              "    </tr>\n",
              "    <tr>\n",
              "      <th>337</th>\n",
              "      <td>20</td>\n",
              "      <td>10</td>\n",
              "      <td>balanced_subsample</td>\n",
              "      <td>sqrt</td>\n",
              "      <td>0.640297</td>\n",
              "      <td>0.7</td>\n",
              "      <td>0.589977</td>\n",
              "      <td>0.860505</td>\n",
              "      <td>0.9144</td>\n",
              "      <td>0.839846</td>\n",
              "    </tr>\n",
              "    <tr>\n",
              "      <th>338</th>\n",
              "      <td>20</td>\n",
              "      <td>10</td>\n",
              "      <td>balanced_subsample</td>\n",
              "      <td>log2</td>\n",
              "      <td>0.640297</td>\n",
              "      <td>0.7</td>\n",
              "      <td>0.589977</td>\n",
              "      <td>0.860505</td>\n",
              "      <td>0.9144</td>\n",
              "      <td>0.839846</td>\n",
              "    </tr>\n",
              "    <tr>\n",
              "      <th>641</th>\n",
              "      <td>30</td>\n",
              "      <td>12</td>\n",
              "      <td>balanced</td>\n",
              "      <td>log2</td>\n",
              "      <td>0.640106</td>\n",
              "      <td>0.651351</td>\n",
              "      <td>0.629243</td>\n",
              "      <td>0.85817</td>\n",
              "      <td>0.975413</td>\n",
              "      <td>0.850853</td>\n",
              "    </tr>\n",
              "    <tr>\n",
              "      <th>639</th>\n",
              "      <td>30</td>\n",
              "      <td>12</td>\n",
              "      <td>balanced</td>\n",
              "      <td>auto</td>\n",
              "      <td>0.640106</td>\n",
              "      <td>0.651351</td>\n",
              "      <td>0.629243</td>\n",
              "      <td>0.85817</td>\n",
              "      <td>0.975413</td>\n",
              "      <td>0.850853</td>\n",
              "    </tr>\n",
              "    <tr>\n",
              "      <th>640</th>\n",
              "      <td>30</td>\n",
              "      <td>12</td>\n",
              "      <td>balanced</td>\n",
              "      <td>sqrt</td>\n",
              "      <td>0.640106</td>\n",
              "      <td>0.651351</td>\n",
              "      <td>0.629243</td>\n",
              "      <td>0.85817</td>\n",
              "      <td>0.975413</td>\n",
              "      <td>0.850853</td>\n",
              "    </tr>\n",
              "    <tr>\n",
              "      <th>496</th>\n",
              "      <td>25</td>\n",
              "      <td>12</td>\n",
              "      <td>balanced</td>\n",
              "      <td>sqrt</td>\n",
              "      <td>0.63745</td>\n",
              "      <td>0.648649</td>\n",
              "      <td>0.626632</td>\n",
              "      <td>0.855483</td>\n",
              "      <td>0.975754</td>\n",
              "      <td>0.849752</td>\n",
              "    </tr>\n",
              "    <tr>\n",
              "      <th>495</th>\n",
              "      <td>25</td>\n",
              "      <td>12</td>\n",
              "      <td>balanced</td>\n",
              "      <td>auto</td>\n",
              "      <td>0.63745</td>\n",
              "      <td>0.648649</td>\n",
              "      <td>0.626632</td>\n",
              "      <td>0.855483</td>\n",
              "      <td>0.975754</td>\n",
              "      <td>0.849752</td>\n",
              "    </tr>\n",
              "    <tr>\n",
              "      <th>497</th>\n",
              "      <td>25</td>\n",
              "      <td>12</td>\n",
              "      <td>balanced</td>\n",
              "      <td>log2</td>\n",
              "      <td>0.63745</td>\n",
              "      <td>0.648649</td>\n",
              "      <td>0.626632</td>\n",
              "      <td>0.855483</td>\n",
              "      <td>0.975754</td>\n",
              "      <td>0.849752</td>\n",
              "    </tr>\n",
              "    <tr>\n",
              "      <th>402</th>\n",
              "      <td>20</td>\n",
              "      <td>17</td>\n",
              "      <td>None</td>\n",
              "      <td>auto</td>\n",
              "      <td>0.636612</td>\n",
              "      <td>0.62973</td>\n",
              "      <td>0.643646</td>\n",
              "      <td>0.844849</td>\n",
              "      <td>0.998862</td>\n",
              "      <td>0.853605</td>\n",
              "    </tr>\n",
              "    <tr>\n",
              "      <th>403</th>\n",
              "      <td>20</td>\n",
              "      <td>17</td>\n",
              "      <td>None</td>\n",
              "      <td>sqrt</td>\n",
              "      <td>0.636612</td>\n",
              "      <td>0.62973</td>\n",
              "      <td>0.643646</td>\n",
              "      <td>0.844849</td>\n",
              "      <td>0.998862</td>\n",
              "      <td>0.853605</td>\n",
              "    </tr>\n",
              "    <tr>\n",
              "      <th>404</th>\n",
              "      <td>20</td>\n",
              "      <td>17</td>\n",
              "      <td>None</td>\n",
              "      <td>log2</td>\n",
              "      <td>0.636612</td>\n",
              "      <td>0.62973</td>\n",
              "      <td>0.643646</td>\n",
              "      <td>0.844849</td>\n",
              "      <td>0.998862</td>\n",
              "      <td>0.853605</td>\n",
              "    </tr>\n",
              "    <tr>\n",
              "      <th>520</th>\n",
              "      <td>25</td>\n",
              "      <td>14</td>\n",
              "      <td>None</td>\n",
              "      <td>sqrt</td>\n",
              "      <td>0.635514</td>\n",
              "      <td>0.643243</td>\n",
              "      <td>0.627968</td>\n",
              "      <td>0.854556</td>\n",
              "      <td>0.993056</td>\n",
              "      <td>0.849752</td>\n",
              "    </tr>\n",
              "    <tr>\n",
              "      <th>521</th>\n",
              "      <td>25</td>\n",
              "      <td>14</td>\n",
              "      <td>None</td>\n",
              "      <td>log2</td>\n",
              "      <td>0.635514</td>\n",
              "      <td>0.643243</td>\n",
              "      <td>0.627968</td>\n",
              "      <td>0.854556</td>\n",
              "      <td>0.993056</td>\n",
              "      <td>0.849752</td>\n",
              "    </tr>\n",
              "    <tr>\n",
              "      <th>519</th>\n",
              "      <td>25</td>\n",
              "      <td>14</td>\n",
              "      <td>None</td>\n",
              "      <td>auto</td>\n",
              "      <td>0.635514</td>\n",
              "      <td>0.643243</td>\n",
              "      <td>0.627968</td>\n",
              "      <td>0.854556</td>\n",
              "      <td>0.993056</td>\n",
              "      <td>0.849752</td>\n",
              "    </tr>\n",
              "    <tr>\n",
              "      <th>648</th>\n",
              "      <td>30</td>\n",
              "      <td>13</td>\n",
              "      <td>balanced</td>\n",
              "      <td>auto</td>\n",
              "      <td>0.634921</td>\n",
              "      <td>0.648649</td>\n",
              "      <td>0.621762</td>\n",
              "      <td>0.856329</td>\n",
              "      <td>0.987251</td>\n",
              "      <td>0.848101</td>\n",
              "    </tr>\n",
              "    <tr>\n",
              "      <th>649</th>\n",
              "      <td>30</td>\n",
              "      <td>13</td>\n",
              "      <td>balanced</td>\n",
              "      <td>sqrt</td>\n",
              "      <td>0.634921</td>\n",
              "      <td>0.648649</td>\n",
              "      <td>0.621762</td>\n",
              "      <td>0.856329</td>\n",
              "      <td>0.987251</td>\n",
              "      <td>0.848101</td>\n",
              "    </tr>\n",
              "    <tr>\n",
              "      <th>650</th>\n",
              "      <td>30</td>\n",
              "      <td>13</td>\n",
              "      <td>balanced</td>\n",
              "      <td>log2</td>\n",
              "      <td>0.634921</td>\n",
              "      <td>0.648649</td>\n",
              "      <td>0.621762</td>\n",
              "      <td>0.856329</td>\n",
              "      <td>0.987251</td>\n",
              "      <td>0.848101</td>\n",
              "    </tr>\n",
              "    <tr>\n",
              "      <th>719</th>\n",
              "      <td>30</td>\n",
              "      <td>20</td>\n",
              "      <td>None</td>\n",
              "      <td>log2</td>\n",
              "      <td>0.634561</td>\n",
              "      <td>0.605405</td>\n",
              "      <td>0.666667</td>\n",
              "      <td>0.851296</td>\n",
              "      <td>0.999772</td>\n",
              "      <td>0.858008</td>\n",
              "    </tr>\n",
              "    <tr>\n",
              "      <th>718</th>\n",
              "      <td>30</td>\n",
              "      <td>20</td>\n",
              "      <td>None</td>\n",
              "      <td>sqrt</td>\n",
              "      <td>0.634561</td>\n",
              "      <td>0.605405</td>\n",
              "      <td>0.666667</td>\n",
              "      <td>0.851296</td>\n",
              "      <td>0.999772</td>\n",
              "      <td>0.858008</td>\n",
              "    </tr>\n",
              "  </tbody>\n",
              "</table>\n",
              "</div>"
            ],
            "text/plain": [
              "    n_estimators max_depth        class_weight max_features        f1  \\\n",
              "336           20        10  balanced_subsample         auto  0.640297   \n",
              "337           20        10  balanced_subsample         sqrt  0.640297   \n",
              "338           20        10  balanced_subsample         log2  0.640297   \n",
              "641           30        12            balanced         log2  0.640106   \n",
              "639           30        12            balanced         auto  0.640106   \n",
              "640           30        12            balanced         sqrt  0.640106   \n",
              "496           25        12            balanced         sqrt   0.63745   \n",
              "495           25        12            balanced         auto   0.63745   \n",
              "497           25        12            balanced         log2   0.63745   \n",
              "402           20        17                None         auto  0.636612   \n",
              "403           20        17                None         sqrt  0.636612   \n",
              "404           20        17                None         log2  0.636612   \n",
              "520           25        14                None         sqrt  0.635514   \n",
              "521           25        14                None         log2  0.635514   \n",
              "519           25        14                None         auto  0.635514   \n",
              "648           30        13            balanced         auto  0.634921   \n",
              "649           30        13            balanced         sqrt  0.634921   \n",
              "650           30        13            balanced         log2  0.634921   \n",
              "719           30        20                None         log2  0.634561   \n",
              "718           30        20                None         sqrt  0.634561   \n",
              "\n",
              "       recall precision   auc_roc score_train score_valid  \n",
              "336       0.7  0.589977  0.860505      0.9144    0.839846  \n",
              "337       0.7  0.589977  0.860505      0.9144    0.839846  \n",
              "338       0.7  0.589977  0.860505      0.9144    0.839846  \n",
              "641  0.651351  0.629243   0.85817    0.975413    0.850853  \n",
              "639  0.651351  0.629243   0.85817    0.975413    0.850853  \n",
              "640  0.651351  0.629243   0.85817    0.975413    0.850853  \n",
              "496  0.648649  0.626632  0.855483    0.975754    0.849752  \n",
              "495  0.648649  0.626632  0.855483    0.975754    0.849752  \n",
              "497  0.648649  0.626632  0.855483    0.975754    0.849752  \n",
              "402   0.62973  0.643646  0.844849    0.998862    0.853605  \n",
              "403   0.62973  0.643646  0.844849    0.998862    0.853605  \n",
              "404   0.62973  0.643646  0.844849    0.998862    0.853605  \n",
              "520  0.643243  0.627968  0.854556    0.993056    0.849752  \n",
              "521  0.643243  0.627968  0.854556    0.993056    0.849752  \n",
              "519  0.643243  0.627968  0.854556    0.993056    0.849752  \n",
              "648  0.648649  0.621762  0.856329    0.987251    0.848101  \n",
              "649  0.648649  0.621762  0.856329    0.987251    0.848101  \n",
              "650  0.648649  0.621762  0.856329    0.987251    0.848101  \n",
              "719  0.605405  0.666667  0.851296    0.999772    0.858008  \n",
              "718  0.605405  0.666667  0.851296    0.999772    0.858008  "
            ]
          },
          "execution_count": 179,
          "metadata": {},
          "output_type": "execute_result"
        }
      ],
      "source": [
        "my_result.sort_values('f1', ascending = False).head(20)"
      ]
    },
    {
      "cell_type": "markdown",
      "metadata": {
        "id": "OF0Jb18dRo58"
      },
      "source": [
        "Для тестирования модели на тестовой выборке остановимся на следующих параметрах: количество деревьев 20, максимальная глубина 10, class_weight\t= balanced_subsampled, max_features = sqrt."
      ]
    },
    {
      "cell_type": "markdown",
      "metadata": {
        "id": "7zm1tayHRo59"
      },
      "source": [
        "**Вывод**: Мы применили два метода борьбы с дисбалансом классов- upsampling и downsamplimg, для обоих рассчитали метрики качества наших моделей и сравнили их. Значения метрик выросли по сравнению с несбалансированной обучающей выборкой, однако метод upsampling  показал более хороший результат, чем downsampling.\n",
        "Максимальные же параметры качества были достигнуты на модели случайного леса, который мы дополнительно улучшили, перебрал различные сочетания параметров для достижения наилучшего знаечния F1 Меры на валидационной выборке."
      ]
    },
    {
      "cell_type": "markdown",
      "metadata": {
        "id": "-x2aedBDRo59"
      },
      "source": [
        "## Тестирование модели"
      ]
    },
    {
      "cell_type": "markdown",
      "metadata": {
        "id": "qawT6aikRo59"
      },
      "source": [
        "Возьмем нашу улучшенную модель случайного леса, обучим ее на upsampling обучающей выборке и проведем тестирование модели на тестовой выборке:"
      ]
    },
    {
      "cell_type": "code",
      "execution_count": null,
      "metadata": {
        "id": "9MRvQajLRo5-",
        "outputId": "0be2bb74-5284-44a5-8e00-b519a5ced2b8"
      },
      "outputs": [
        {
          "name": "stdout",
          "output_type": "stream",
          "text": [
            "Метрики случайного леса на тестовой выборке\n",
            "\n",
            "Confusion matrix: \n",
            "[[1310  137]\n",
            " [ 156  215]]\n",
            "\n",
            "Accuracy: 0.8388338833883389\n",
            "\n",
            "Precision: 0.6107954545454546\n",
            "\n",
            "Recall: 0.5795148247978437\n",
            "\n",
            "F1-score: 0.5947441217150761\n",
            "\n",
            "Соотношение количества ответов:\n",
            " 0    1466\n",
            "1     352\n",
            "dtype: int64\n",
            "\n",
            "AUC ROC: 0.839762348720375\n",
            "\n"
          ]
        },
        {
          "data": {
            "image/png": "[encoded data removed]",
            "text/plain": [
              "<Figure size 432x288 with 1 Axes>"
            ]
          },
          "metadata": {
            "needs_background": "light"
          },
          "output_type": "display_data"
        }
      ],
      "source": [
        "model_forest = RandomForestClassifier(n_estimators = 30 , max_depth = 12, class_weight= 'balanced',\n",
        "                                      max_features ='log2', random_state=12345)\n",
        "model_forest.fit(features_upsampled, target_upsampled)\n",
        "predicted_test = model_forest.predict(features_test)\n",
        "probabilities_one_test = model_forest.predict_proba(features_test)[:, 1]\n",
        "print('Метрики случайного леса на тестовой выборке\\n')\n",
        "metrics_report(target_test, predicted_test, probabilities_one_test)"
      ]
    },
    {
      "cell_type": "markdown",
      "metadata": {
        "id": "FTaBPwk6Ro5-"
      },
      "source": [
        "Целевой показатель достигнут. Также продемонстрирую параметры, подорбанные перебором уже с анализом результата на тестовой выборке:"
      ]
    },
    {
      "cell_type": "code",
      "execution_count": null,
      "metadata": {
        "id": "FsyE8vHpRo5-",
        "outputId": "06f5523f-a938-42fb-8679-c1dd37c5e90e"
      },
      "outputs": [
        {
          "name": "stdout",
          "output_type": "stream",
          "text": [
            "Метрики случайного леса на тестовой выборке\n",
            "\n",
            "Confusion matrix: \n",
            "[[1235  212]\n",
            " [ 120  251]]\n",
            "\n",
            "Accuracy: 0.8173817381738174\n",
            "\n",
            "Precision: 0.5421166306695464\n",
            "\n",
            "Recall: 0.6765498652291105\n",
            "\n",
            "F1-score: 0.6019184652278177\n",
            "\n",
            "Соотношение количества ответов:\n",
            " 0    1355\n",
            "1     463\n",
            "dtype: int64\n",
            "\n",
            "AUC ROC: 0.844841171528788\n",
            "\n"
          ]
        },
        {
          "data": {
            "image/png": "[encoded data removed]",
            "text/plain": [
              "<Figure size 432x288 with 1 Axes>"
            ]
          },
          "metadata": {
            "needs_background": "light"
          },
          "output_type": "display_data"
        }
      ],
      "source": [
        "model_forest = RandomForestClassifier(n_estimators = 20 , max_depth = 8, class_weight= 'balanced_subsample',\n",
        "                                      max_features ='auto', random_state=12345)\n",
        "model_forest.fit(features_upsampled, target_upsampled)\n",
        "predicted_test = model_forest.predict(features_test)\n",
        "probabilities_one_test = model_forest.predict_proba(features_test)[:, 1]\n",
        "print('Метрики случайного леса на тестовой выборке\\n')\n",
        "metrics_report(target_test, predicted_test, probabilities_one_test)"
      ]
    },
    {
      "cell_type": "markdown",
      "metadata": {
        "id": "qzmY38CnRo6A"
      },
      "source": [
        "Проверим нашу финальную модель на адекватность - сравним ее результаты с результатами нашей константной модели на тестовой выборке:"
      ]
    },
    {
      "cell_type": "code",
      "execution_count": null,
      "metadata": {
        "id": "ii9PmYN9Ro6A",
        "outputId": "4ee72ebc-12a9-4d44-b735-3d01847045c1"
      },
      "outputs": [
        {
          "name": "stdout",
          "output_type": "stream",
          "text": [
            "Метрики константной модели на тестовой выборке\n",
            "\n",
            "Confusion matrix: \n",
            "[[   0 1447]\n",
            " [   0  371]]\n",
            "\n",
            "Accuracy :0.20407040704070406\n",
            "\n"
          ]
        }
      ],
      "source": [
        "model_dummy = DummyRegressor(strategy=\"median\")\n",
        "model_dummy.fit(features_upsampled, target_upsampled)\n",
        "predicted_test = model_dummy.predict (features_test)\n",
        "print('Метрики константной модели на тестовой выборке\\n')\n",
        "print(f'Confusion matrix: \\n{confusion_matrix(target_test, predicted_test)}\\n')\n",
        "print(f'Accuracy :{accuracy_score(target_test, predicted_test)}\\n')"
      ]
    },
    {
      "cell_type": "markdown",
      "metadata": {
        "id": "ioP0YohRRo6A"
      },
      "source": [
        "**Вывод**:\n",
        "\n",
        "Целевое значение меры F1 на тестовой выборке достигнуто, модель неплохо сбалансирована и уже не дает одни отрицательные ответы. Значение AUC ROC 0.84, что значительно превышает уровень случайно модели и сам изгиб roc кривой весьма хорош, что говорит о высокой доле TP ответов. Модель прошла проверку на адекватность."
      ]
    },
    {
      "cell_type": "markdown",
      "metadata": {
        "id": "dujjD5WiRo6B"
      },
      "source": [
        "## Общий вывод ##"
      ]
    },
    {
      "cell_type": "markdown",
      "metadata": {
        "id": "f0SaVK46Ro6B"
      },
      "source": [
        "**В процессе подготовки данных мы:**\n",
        "- Мы ознакомились с данными в файле. Оценили количество строк, типы данных в колонках, наличие пропусков\n",
        "- Проверили данные на дубликаты\n",
        "- Избавились от ненужных столбцов\n",
        "- Избавились от пропусков в данных\n",
        "- Проверили данные на наличие выбросов и избавились от них\n",
        "- Исследовали значения в категориальных колонках и применили OHE  кодирование с избеганием дамми-ловушки\n",
        "- Исследовали баланс классов в выборке\n",
        "- Отмасштабировали численные признаки\n",
        "- Разделили датасет на обучающую, тестовую и валидационную выборки с сохранением исходного соотношения классов в выборках\n",
        "\n",
        "**В процессе исследования мы:**\n",
        "- обучили несколько видов моделей с подбором оптимальных параметров на обучающей выборке - логистическая регрессия, дерево решений, случайный лес.\n",
        "- изучили и сравнили их метрики качества\n",
        "- проверили их на адекватность сравнением с метриками качества константной модели\n",
        "- изучили баланс классов в датасете и сделаи вывод о необходимости борьбы с дисбалансом классов\n",
        "\n",
        "**В процессе борьбы с дисбалансом мы:**\n",
        "- применили два метода борьбы с дисбалансом классов- upsampling и downsamplimg\n",
        "- для обоих рассчитали метрики качества наших моделей и сравнили их\n",
        "- пришли к выводу, что значения метрик выросли по сравнению с несбалансированной обучающей выборкой, однако метод upsampling показал более хороший результат, чем downsampling\n",
        "- выбрали модель случайного леса, как дающую наилучшие результаты, для дальнейшего улучшения\n",
        "- перебрали различные сочетания параметров для модели случайного леса для достижения наилучшего знаечния F1 Меры на валидационной выборке.\n",
        "\n",
        "**В процессе тестирования модели мы:**\n",
        "- обучили модель случайного леса с подобранными оптимальными параметрами на upsampled выборке\n",
        "- получили предсказания обученной модели на тестовой выборке\n",
        "- оценили метрики качества полученной модели, сделали вывод о достижении целевого показателя F1 меры\n",
        "- проверили модель на адекатность, проведя сравнения с конснтантной моделью на тестовой выборке."
      ]
    },
    {
      "cell_type": "markdown",
      "metadata": {
        "id": "HgUGkWJARo6B"
      },
      "source": [
        "## Чек-лист готовности проекта"
      ]
    },
    {
      "cell_type": "markdown",
      "metadata": {
        "id": "0NfRRNpiRo6C"
      },
      "source": [
        "Поставьте 'x' в выполненных пунктах. Далее нажмите Shift+Enter."
      ]
    },
    {
      "cell_type": "markdown",
      "metadata": {
        "id": "OTdIXUjZRo6C"
      },
      "source": [
        "- [x]  Jupyter Notebook открыт\n",
        "- [x]  Весь код выполняется без ошибок\n",
        "- [x]  Ячейки с кодом расположены в порядке исполнения\n",
        "- [x]  Выполнен шаг 1: данные подготовлены\n",
        "- [x]  Выполнен шаг 2: задача исследована\n",
        "    - [x]  Исследован баланс классов\n",
        "    - [x]  Изучены модели без учёта дисбаланса\n",
        "    - [x]  Написаны выводы по результатам исследования\n",
        "- [x]  Выполнен шаг 3: учтён дисбаланс\n",
        "    - [x]  Применено несколько способов борьбы с дисбалансом\n",
        "    - [x] Написаны выводы по результатам исследования\n",
        "- [x]  Выполнен шаг 4: проведено тестирование\n",
        "- [x]  Удалось достичь *F1*-меры не менее 0.59\n",
        "- [x]  Исследована метрика *AUC-ROC*"
      ]
    },
    {
      "cell_type": "code",
      "execution_count": null,
      "metadata": {
        "id": "E8mbpZjzRo6D"
      },
      "outputs": [],
      "source": []
    }
  ],
  "metadata": {
    "ExecuteTimeLog": [
      {
        "duration": 2153,
        "start_time": "2023-04-04T09:04:00.175Z"
      },
      {
        "duration": 579,
        "start_time": "2023-04-04T09:21:12.000Z"
      },
      {
        "duration": 93,
        "start_time": "2023-04-04T09:21:21.966Z"
      },
      {
        "duration": 16,
        "start_time": "2023-04-04T09:21:31.192Z"
      },
      {
        "duration": 26,
        "start_time": "2023-04-04T09:21:35.953Z"
      },
      {
        "duration": 152,
        "start_time": "2023-04-04T09:22:02.381Z"
      },
      {
        "duration": 194,
        "start_time": "2023-04-04T09:22:45.520Z"
      },
      {
        "duration": 13,
        "start_time": "2023-04-04T09:22:48.344Z"
      },
      {
        "duration": 6,
        "start_time": "2023-04-04T09:23:30.460Z"
      },
      {
        "duration": 6,
        "start_time": "2023-04-04T09:24:00.006Z"
      },
      {
        "duration": 64,
        "start_time": "2023-04-04T09:24:13.062Z"
      },
      {
        "duration": 8,
        "start_time": "2023-04-04T09:33:09.836Z"
      },
      {
        "duration": 1342,
        "start_time": "2023-04-04T09:33:26.042Z"
      },
      {
        "duration": 5,
        "start_time": "2023-04-04T09:33:37.983Z"
      },
      {
        "duration": 10,
        "start_time": "2023-04-04T09:33:44.889Z"
      },
      {
        "duration": 4,
        "start_time": "2023-04-04T09:33:56.657Z"
      },
      {
        "duration": 98,
        "start_time": "2023-04-04T09:34:22.092Z"
      },
      {
        "duration": 12,
        "start_time": "2023-04-04T09:36:04.362Z"
      },
      {
        "duration": 18,
        "start_time": "2023-04-04T09:41:59.022Z"
      },
      {
        "duration": 21,
        "start_time": "2023-04-04T09:42:23.085Z"
      },
      {
        "duration": 11,
        "start_time": "2023-04-04T10:02:12.561Z"
      },
      {
        "duration": 20,
        "start_time": "2023-04-04T10:02:18.697Z"
      },
      {
        "duration": 4,
        "start_time": "2023-04-04T10:02:37.874Z"
      },
      {
        "duration": 4,
        "start_time": "2023-04-04T10:03:04.325Z"
      },
      {
        "duration": 10,
        "start_time": "2023-04-04T10:03:11.455Z"
      },
      {
        "duration": 20,
        "start_time": "2023-04-04T10:03:48.481Z"
      },
      {
        "duration": 4,
        "start_time": "2023-04-04T10:04:22.527Z"
      },
      {
        "duration": 4,
        "start_time": "2023-04-04T10:04:30.164Z"
      },
      {
        "duration": 7,
        "start_time": "2023-04-04T10:04:33.954Z"
      },
      {
        "duration": 5,
        "start_time": "2023-04-04T10:04:38.317Z"
      },
      {
        "duration": 4,
        "start_time": "2023-04-04T10:05:24.808Z"
      },
      {
        "duration": 6,
        "start_time": "2023-04-04T10:05:29.103Z"
      },
      {
        "duration": 6,
        "start_time": "2023-04-04T10:05:38.597Z"
      },
      {
        "duration": 21,
        "start_time": "2023-04-04T10:06:35.649Z"
      },
      {
        "duration": 21,
        "start_time": "2023-04-04T10:06:45.538Z"
      },
      {
        "duration": 23,
        "start_time": "2023-04-04T10:06:54.377Z"
      },
      {
        "duration": 24,
        "start_time": "2023-04-04T10:07:02.052Z"
      },
      {
        "duration": 23,
        "start_time": "2023-04-04T10:07:07.139Z"
      },
      {
        "duration": 20,
        "start_time": "2023-04-04T10:07:17.856Z"
      },
      {
        "duration": 24,
        "start_time": "2023-04-04T10:07:28.903Z"
      },
      {
        "duration": 22,
        "start_time": "2023-04-04T10:08:08.690Z"
      },
      {
        "duration": 20,
        "start_time": "2023-04-04T10:09:16.809Z"
      },
      {
        "duration": 24,
        "start_time": "2023-04-04T10:10:16.339Z"
      },
      {
        "duration": 7,
        "start_time": "2023-04-04T10:11:04.908Z"
      },
      {
        "duration": 30,
        "start_time": "2023-04-04T10:11:26.457Z"
      },
      {
        "duration": 6,
        "start_time": "2023-04-04T10:11:36.732Z"
      },
      {
        "duration": 6,
        "start_time": "2023-04-04T10:11:43.263Z"
      },
      {
        "duration": 8,
        "start_time": "2023-04-04T10:13:27.776Z"
      },
      {
        "duration": 8,
        "start_time": "2023-04-04T10:13:39.594Z"
      },
      {
        "duration": 6,
        "start_time": "2023-04-04T10:18:32.755Z"
      },
      {
        "duration": 98,
        "start_time": "2023-04-04T10:19:54.902Z"
      },
      {
        "duration": 5,
        "start_time": "2023-04-04T10:19:59.833Z"
      },
      {
        "duration": 14,
        "start_time": "2023-04-04T10:20:06.176Z"
      },
      {
        "duration": 6,
        "start_time": "2023-04-04T10:20:21.722Z"
      },
      {
        "duration": 14,
        "start_time": "2023-04-04T10:22:02.883Z"
      },
      {
        "duration": 20,
        "start_time": "2023-04-04T10:23:26.444Z"
      },
      {
        "duration": 14,
        "start_time": "2023-04-04T10:23:37.019Z"
      },
      {
        "duration": 7,
        "start_time": "2023-04-04T10:23:46.713Z"
      },
      {
        "duration": 16,
        "start_time": "2023-04-04T10:24:20.716Z"
      },
      {
        "duration": 159,
        "start_time": "2023-04-04T10:24:36.970Z"
      },
      {
        "duration": 172,
        "start_time": "2023-04-04T10:24:47.834Z"
      },
      {
        "duration": 141,
        "start_time": "2023-04-04T10:25:11.615Z"
      },
      {
        "duration": 103,
        "start_time": "2023-04-04T10:25:34.087Z"
      },
      {
        "duration": 16,
        "start_time": "2023-04-04T10:25:53.019Z"
      },
      {
        "duration": 2203,
        "start_time": "2023-04-04T10:26:18.347Z"
      },
      {
        "duration": 209,
        "start_time": "2023-04-04T10:26:27.201Z"
      },
      {
        "duration": 131,
        "start_time": "2023-04-04T10:26:44.521Z"
      },
      {
        "duration": 57,
        "start_time": "2023-04-04T10:27:09.760Z"
      },
      {
        "duration": 24,
        "start_time": "2023-04-04T10:28:07.535Z"
      },
      {
        "duration": 16,
        "start_time": "2023-04-04T10:28:42.144Z"
      },
      {
        "duration": 155,
        "start_time": "2023-04-04T10:28:51.962Z"
      },
      {
        "duration": 14,
        "start_time": "2023-04-04T10:29:08.651Z"
      },
      {
        "duration": 97,
        "start_time": "2023-04-04T10:33:14.179Z"
      },
      {
        "duration": 4,
        "start_time": "2023-04-04T10:33:24.344Z"
      },
      {
        "duration": 41,
        "start_time": "2023-04-04T10:33:33.718Z"
      },
      {
        "duration": 24,
        "start_time": "2023-04-04T10:36:06.051Z"
      },
      {
        "duration": 12,
        "start_time": "2023-04-04T10:38:02.853Z"
      },
      {
        "duration": 23,
        "start_time": "2023-04-04T10:38:10.719Z"
      },
      {
        "duration": 16,
        "start_time": "2023-04-04T10:38:14.311Z"
      },
      {
        "duration": 24,
        "start_time": "2023-04-04T10:38:19.690Z"
      },
      {
        "duration": 18,
        "start_time": "2023-04-04T10:39:25.213Z"
      },
      {
        "duration": 21,
        "start_time": "2023-04-04T10:39:48.013Z"
      },
      {
        "duration": 6,
        "start_time": "2023-04-04T10:39:55.495Z"
      },
      {
        "duration": 5,
        "start_time": "2023-04-04T10:43:28.501Z"
      },
      {
        "duration": 13,
        "start_time": "2023-04-04T10:43:35.426Z"
      },
      {
        "duration": 12,
        "start_time": "2023-04-04T10:43:58.609Z"
      },
      {
        "duration": 6,
        "start_time": "2023-04-04T10:44:01.773Z"
      },
      {
        "duration": 10,
        "start_time": "2023-04-04T10:45:04.940Z"
      },
      {
        "duration": 10,
        "start_time": "2023-04-04T10:45:25.269Z"
      },
      {
        "duration": 18,
        "start_time": "2023-04-04T10:47:04.486Z"
      },
      {
        "duration": 19,
        "start_time": "2023-04-04T10:48:32.931Z"
      },
      {
        "duration": 8,
        "start_time": "2023-04-04T10:49:01.142Z"
      },
      {
        "duration": 14,
        "start_time": "2023-04-04T11:05:29.954Z"
      },
      {
        "duration": 21,
        "start_time": "2023-04-04T11:05:32.761Z"
      },
      {
        "duration": 12,
        "start_time": "2023-04-04T11:05:46.933Z"
      },
      {
        "duration": 7,
        "start_time": "2023-04-04T11:05:50.649Z"
      },
      {
        "duration": 14,
        "start_time": "2023-04-04T11:06:52.434Z"
      },
      {
        "duration": 38,
        "start_time": "2023-04-04T11:06:58.203Z"
      },
      {
        "duration": 24,
        "start_time": "2023-04-04T11:07:04.558Z"
      },
      {
        "duration": 31,
        "start_time": "2023-04-04T11:07:11.696Z"
      },
      {
        "duration": 10,
        "start_time": "2023-04-04T11:07:55.730Z"
      },
      {
        "duration": 10,
        "start_time": "2023-04-04T11:07:58.156Z"
      },
      {
        "duration": 69,
        "start_time": "2023-04-04T11:16:16.560Z"
      },
      {
        "duration": 15,
        "start_time": "2023-04-04T11:16:24.604Z"
      },
      {
        "duration": 5,
        "start_time": "2023-04-04T11:16:32.443Z"
      },
      {
        "duration": 29,
        "start_time": "2023-04-04T11:16:34.985Z"
      },
      {
        "duration": 4,
        "start_time": "2023-04-04T11:16:37.638Z"
      },
      {
        "duration": 12,
        "start_time": "2023-04-04T11:16:39.020Z"
      },
      {
        "duration": 30,
        "start_time": "2023-04-04T11:16:41.025Z"
      },
      {
        "duration": 4,
        "start_time": "2023-04-04T11:16:43.270Z"
      },
      {
        "duration": 8,
        "start_time": "2023-04-04T11:16:44.515Z"
      },
      {
        "duration": 11,
        "start_time": "2023-04-04T11:16:46.179Z"
      },
      {
        "duration": 3,
        "start_time": "2023-04-04T11:18:27.182Z"
      },
      {
        "duration": 34,
        "start_time": "2023-04-04T11:22:54.112Z"
      },
      {
        "duration": 26,
        "start_time": "2023-04-04T11:23:15.438Z"
      },
      {
        "duration": 158,
        "start_time": "2023-04-04T11:24:36.831Z"
      },
      {
        "duration": 6,
        "start_time": "2023-04-04T11:25:11.684Z"
      },
      {
        "duration": 106,
        "start_time": "2023-04-04T11:25:47.879Z"
      },
      {
        "duration": 3,
        "start_time": "2023-04-04T11:34:10.109Z"
      },
      {
        "duration": 98,
        "start_time": "2023-04-04T11:35:09.586Z"
      },
      {
        "duration": 57,
        "start_time": "2023-04-04T11:35:18.632Z"
      },
      {
        "duration": 4,
        "start_time": "2023-04-04T11:35:45.116Z"
      },
      {
        "duration": 109,
        "start_time": "2023-04-04T11:35:51.290Z"
      },
      {
        "duration": 3,
        "start_time": "2023-04-04T11:36:11.212Z"
      },
      {
        "duration": 186,
        "start_time": "2023-04-04T11:36:13.706Z"
      },
      {
        "duration": 185,
        "start_time": "2023-04-04T11:36:45.999Z"
      },
      {
        "duration": 4,
        "start_time": "2023-04-04T11:37:27.069Z"
      },
      {
        "duration": 74,
        "start_time": "2023-04-04T11:37:31.711Z"
      },
      {
        "duration": 127,
        "start_time": "2023-04-04T11:40:08.475Z"
      },
      {
        "duration": 12,
        "start_time": "2023-04-04T11:42:38.585Z"
      },
      {
        "duration": 3,
        "start_time": "2023-04-04T11:43:26.556Z"
      },
      {
        "duration": 11,
        "start_time": "2023-04-04T11:43:27.928Z"
      },
      {
        "duration": 20,
        "start_time": "2023-04-04T11:43:42.423Z"
      },
      {
        "duration": 385,
        "start_time": "2023-04-04T11:43:59.892Z"
      },
      {
        "duration": 27,
        "start_time": "2023-04-04T11:44:36.881Z"
      },
      {
        "duration": 481,
        "start_time": "2023-04-04T11:44:47.549Z"
      },
      {
        "duration": 437,
        "start_time": "2023-04-04T11:45:07.184Z"
      },
      {
        "duration": 6,
        "start_time": "2023-04-04T11:46:02.801Z"
      },
      {
        "duration": 260,
        "start_time": "2023-04-04T11:46:07.132Z"
      },
      {
        "duration": 162,
        "start_time": "2023-04-04T11:46:30.893Z"
      },
      {
        "duration": 439,
        "start_time": "2023-04-04T11:48:11.097Z"
      },
      {
        "duration": 457,
        "start_time": "2023-04-04T11:48:14.881Z"
      },
      {
        "duration": 141,
        "start_time": "2023-04-04T11:48:20.076Z"
      },
      {
        "duration": 2080,
        "start_time": "2023-04-04T11:48:43.113Z"
      },
      {
        "duration": 28508,
        "start_time": "2023-04-04T11:50:12.926Z"
      },
      {
        "duration": 6,
        "start_time": "2023-04-04T11:50:41.436Z"
      },
      {
        "duration": 5,
        "start_time": "2023-04-04T11:51:56.215Z"
      },
      {
        "duration": 471,
        "start_time": "2023-04-04T11:52:04.540Z"
      },
      {
        "duration": 6,
        "start_time": "2023-04-04T11:52:10.435Z"
      },
      {
        "duration": 28869,
        "start_time": "2023-04-04T11:52:49.778Z"
      },
      {
        "duration": 461,
        "start_time": "2023-04-04T11:54:00.744Z"
      },
      {
        "duration": 4,
        "start_time": "2023-04-04T11:55:44.880Z"
      },
      {
        "duration": 1757,
        "start_time": "2023-04-04T17:16:07.665Z"
      },
      {
        "duration": 13,
        "start_time": "2023-04-04T17:16:09.425Z"
      },
      {
        "duration": 5,
        "start_time": "2023-04-04T17:16:09.440Z"
      },
      {
        "duration": 16,
        "start_time": "2023-04-04T17:16:09.446Z"
      },
      {
        "duration": 16,
        "start_time": "2023-04-04T17:16:09.464Z"
      },
      {
        "duration": 21,
        "start_time": "2023-04-04T17:16:09.481Z"
      },
      {
        "duration": 16,
        "start_time": "2023-04-04T17:16:09.504Z"
      },
      {
        "duration": 13,
        "start_time": "2023-04-04T17:16:09.521Z"
      },
      {
        "duration": 15,
        "start_time": "2023-04-04T17:16:09.535Z"
      },
      {
        "duration": 29,
        "start_time": "2023-04-04T17:16:09.553Z"
      },
      {
        "duration": 11,
        "start_time": "2023-04-04T17:16:09.584Z"
      },
      {
        "duration": 17,
        "start_time": "2023-04-04T17:16:09.597Z"
      },
      {
        "duration": 30,
        "start_time": "2023-04-04T17:16:09.616Z"
      },
      {
        "duration": 19,
        "start_time": "2023-04-04T17:16:09.648Z"
      },
      {
        "duration": 21,
        "start_time": "2023-04-04T17:16:09.668Z"
      },
      {
        "duration": 47,
        "start_time": "2023-04-04T17:16:09.691Z"
      },
      {
        "duration": 117,
        "start_time": "2023-04-04T17:16:09.740Z"
      },
      {
        "duration": 16,
        "start_time": "2023-04-04T17:16:09.859Z"
      },
      {
        "duration": 139,
        "start_time": "2023-04-04T17:16:09.878Z"
      },
      {
        "duration": 14,
        "start_time": "2023-04-04T17:16:10.019Z"
      },
      {
        "duration": 30,
        "start_time": "2023-04-04T17:16:10.034Z"
      },
      {
        "duration": 47,
        "start_time": "2023-04-04T17:16:10.066Z"
      },
      {
        "duration": 19,
        "start_time": "2023-04-04T17:16:10.115Z"
      },
      {
        "duration": 4,
        "start_time": "2023-04-04T17:16:10.136Z"
      },
      {
        "duration": 27,
        "start_time": "2023-04-04T17:16:10.142Z"
      },
      {
        "duration": 30,
        "start_time": "2023-04-04T17:16:10.171Z"
      },
      {
        "duration": 5,
        "start_time": "2023-04-04T17:16:10.218Z"
      },
      {
        "duration": 32,
        "start_time": "2023-04-04T17:16:10.226Z"
      },
      {
        "duration": 11,
        "start_time": "2023-04-04T17:16:10.260Z"
      },
      {
        "duration": 6,
        "start_time": "2023-04-04T17:16:10.273Z"
      },
      {
        "duration": 338,
        "start_time": "2023-04-04T17:16:10.280Z"
      },
      {
        "duration": 430,
        "start_time": "2023-04-04T17:16:10.620Z"
      },
      {
        "duration": 462,
        "start_time": "2023-04-04T17:16:11.051Z"
      },
      {
        "duration": 151,
        "start_time": "2023-04-04T17:16:11.514Z"
      },
      {
        "duration": 2416,
        "start_time": "2023-04-04T17:16:11.667Z"
      },
      {
        "duration": 29853,
        "start_time": "2023-04-04T17:16:14.085Z"
      },
      {
        "duration": 464,
        "start_time": "2023-04-04T17:16:43.939Z"
      },
      {
        "duration": 3,
        "start_time": "2023-04-04T17:16:44.405Z"
      },
      {
        "duration": 318,
        "start_time": "2023-04-04T17:16:44.416Z"
      },
      {
        "duration": 0,
        "start_time": "2023-04-04T17:16:44.737Z"
      },
      {
        "duration": 0,
        "start_time": "2023-04-04T17:16:44.738Z"
      },
      {
        "duration": 0,
        "start_time": "2023-04-04T17:16:44.739Z"
      },
      {
        "duration": 0,
        "start_time": "2023-04-04T17:16:44.740Z"
      },
      {
        "duration": 20,
        "start_time": "2023-04-04T17:23:09.912Z"
      },
      {
        "duration": 320,
        "start_time": "2023-04-04T17:23:11.833Z"
      },
      {
        "duration": 18,
        "start_time": "2023-04-04T17:23:21.999Z"
      },
      {
        "duration": 315,
        "start_time": "2023-04-04T17:23:24.011Z"
      },
      {
        "duration": 142,
        "start_time": "2023-04-04T17:24:19.183Z"
      },
      {
        "duration": 130,
        "start_time": "2023-04-04T17:24:25.776Z"
      },
      {
        "duration": 5,
        "start_time": "2023-04-04T17:33:17.256Z"
      },
      {
        "duration": 155,
        "start_time": "2023-04-04T17:34:12.099Z"
      },
      {
        "duration": 34,
        "start_time": "2023-04-04T17:34:28.190Z"
      },
      {
        "duration": 35,
        "start_time": "2023-04-04T17:34:32.025Z"
      },
      {
        "duration": 54,
        "start_time": "2023-04-04T17:34:39.555Z"
      },
      {
        "duration": 6,
        "start_time": "2023-04-04T17:36:24.736Z"
      },
      {
        "duration": 45,
        "start_time": "2023-04-04T17:36:34.458Z"
      },
      {
        "duration": 6,
        "start_time": "2023-04-04T18:30:37.798Z"
      },
      {
        "duration": 9,
        "start_time": "2023-04-04T18:39:13.759Z"
      },
      {
        "duration": 10,
        "start_time": "2023-04-04T18:40:49.881Z"
      },
      {
        "duration": 17,
        "start_time": "2023-04-04T18:44:16.389Z"
      },
      {
        "duration": 120,
        "start_time": "2023-04-04T18:44:36.406Z"
      },
      {
        "duration": 16,
        "start_time": "2023-04-04T18:45:18.028Z"
      },
      {
        "duration": 134,
        "start_time": "2023-04-04T18:45:21.391Z"
      },
      {
        "duration": 114,
        "start_time": "2023-04-04T18:46:11.000Z"
      },
      {
        "duration": 5,
        "start_time": "2023-04-04T18:46:15.522Z"
      },
      {
        "duration": 15,
        "start_time": "2023-04-04T18:46:18.778Z"
      },
      {
        "duration": 329,
        "start_time": "2023-04-04T18:46:20.297Z"
      },
      {
        "duration": 20,
        "start_time": "2023-04-04T18:46:24.378Z"
      },
      {
        "duration": 313,
        "start_time": "2023-04-04T18:46:26.032Z"
      },
      {
        "duration": 5,
        "start_time": "2023-04-04T18:47:27.447Z"
      },
      {
        "duration": 268,
        "start_time": "2023-04-04T18:47:29.478Z"
      },
      {
        "duration": 6,
        "start_time": "2023-04-04T18:47:37.966Z"
      },
      {
        "duration": 15,
        "start_time": "2023-04-04T18:47:39.227Z"
      },
      {
        "duration": 312,
        "start_time": "2023-04-04T18:47:41.829Z"
      },
      {
        "duration": 17,
        "start_time": "2023-04-04T18:47:55.380Z"
      },
      {
        "duration": 263,
        "start_time": "2023-04-04T18:47:58.172Z"
      },
      {
        "duration": 112,
        "start_time": "2023-04-04T18:50:45.968Z"
      },
      {
        "duration": 448,
        "start_time": "2023-04-04T18:51:08.497Z"
      },
      {
        "duration": 147,
        "start_time": "2023-04-04T18:51:23.491Z"
      },
      {
        "duration": 140,
        "start_time": "2023-04-04T18:51:59.561Z"
      },
      {
        "duration": 126,
        "start_time": "2023-04-04T18:52:22.857Z"
      },
      {
        "duration": 441,
        "start_time": "2023-04-04T18:52:31.186Z"
      },
      {
        "duration": 53,
        "start_time": "2023-04-04T18:54:00.173Z"
      },
      {
        "duration": 233,
        "start_time": "2023-04-04T18:54:29.968Z"
      },
      {
        "duration": 194,
        "start_time": "2023-04-04T18:55:17.001Z"
      },
      {
        "duration": 2186,
        "start_time": "2023-04-04T18:59:16.390Z"
      },
      {
        "duration": 35899,
        "start_time": "2023-04-04T19:00:12.128Z"
      },
      {
        "duration": 296,
        "start_time": "2023-04-04T19:01:19.530Z"
      },
      {
        "duration": 13,
        "start_time": "2023-04-04T19:05:59.589Z"
      },
      {
        "duration": 32,
        "start_time": "2023-04-04T19:06:11.322Z"
      },
      {
        "duration": 20,
        "start_time": "2023-04-04T19:06:31.175Z"
      },
      {
        "duration": 30,
        "start_time": "2023-04-04T19:07:01.548Z"
      },
      {
        "duration": 166,
        "start_time": "2023-04-04T19:07:11.888Z"
      },
      {
        "duration": 130,
        "start_time": "2023-04-04T19:09:03.892Z"
      },
      {
        "duration": 13,
        "start_time": "2023-04-04T19:11:50.971Z"
      },
      {
        "duration": 4,
        "start_time": "2023-04-04T19:18:47.712Z"
      },
      {
        "duration": 11,
        "start_time": "2023-04-04T19:20:50.822Z"
      },
      {
        "duration": 19,
        "start_time": "2023-04-04T19:21:05.836Z"
      },
      {
        "duration": 11,
        "start_time": "2023-04-04T19:21:58.464Z"
      },
      {
        "duration": 7,
        "start_time": "2023-04-04T19:22:26.198Z"
      },
      {
        "duration": 6,
        "start_time": "2023-04-04T19:22:40.298Z"
      },
      {
        "duration": 6,
        "start_time": "2023-04-04T19:22:52.895Z"
      },
      {
        "duration": 11,
        "start_time": "2023-04-04T19:22:58.111Z"
      },
      {
        "duration": 12,
        "start_time": "2023-04-04T19:23:12.605Z"
      },
      {
        "duration": 5,
        "start_time": "2023-04-04T19:23:20.149Z"
      },
      {
        "duration": 12,
        "start_time": "2023-04-04T19:23:59.183Z"
      },
      {
        "duration": 5,
        "start_time": "2023-04-04T19:24:19.645Z"
      },
      {
        "duration": 11,
        "start_time": "2023-04-04T19:24:38.319Z"
      },
      {
        "duration": 272,
        "start_time": "2023-04-04T19:27:12.063Z"
      },
      {
        "duration": 283,
        "start_time": "2023-04-04T19:27:47.155Z"
      },
      {
        "duration": 332,
        "start_time": "2023-04-04T19:27:58.709Z"
      },
      {
        "duration": 154,
        "start_time": "2023-04-04T19:31:01.344Z"
      },
      {
        "duration": 275,
        "start_time": "2023-04-04T19:31:16.661Z"
      },
      {
        "duration": 10,
        "start_time": "2023-04-04T19:31:43.728Z"
      },
      {
        "duration": 161,
        "start_time": "2023-04-04T19:31:57.556Z"
      },
      {
        "duration": 312,
        "start_time": "2023-04-04T19:32:11.294Z"
      },
      {
        "duration": 517,
        "start_time": "2023-04-04T19:35:35.504Z"
      },
      {
        "duration": 175,
        "start_time": "2023-04-04T19:35:41.704Z"
      },
      {
        "duration": 2231,
        "start_time": "2023-04-04T19:36:21.607Z"
      },
      {
        "duration": 2777,
        "start_time": "2023-04-04T19:36:36.914Z"
      },
      {
        "duration": 44277,
        "start_time": "2023-04-04T19:36:47.764Z"
      },
      {
        "duration": 301,
        "start_time": "2023-04-04T19:38:04.195Z"
      },
      {
        "duration": 2,
        "start_time": "2023-04-04T19:40:53.879Z"
      },
      {
        "duration": 5,
        "start_time": "2023-04-04T19:42:32.099Z"
      },
      {
        "duration": 4,
        "start_time": "2023-04-04T19:42:49.245Z"
      },
      {
        "duration": 16,
        "start_time": "2023-04-04T19:44:18.244Z"
      },
      {
        "duration": 396,
        "start_time": "2023-04-04T19:44:36.382Z"
      },
      {
        "duration": 426,
        "start_time": "2023-04-04T19:44:51.118Z"
      },
      {
        "duration": 221,
        "start_time": "2023-04-04T19:45:03.356Z"
      },
      {
        "duration": 146,
        "start_time": "2023-04-04T19:45:08.735Z"
      },
      {
        "duration": 90,
        "start_time": "2023-04-04T19:45:21.901Z"
      },
      {
        "duration": 1233,
        "start_time": "2023-04-04T19:45:27.964Z"
      },
      {
        "duration": 15128,
        "start_time": "2023-04-04T19:45:39.828Z"
      },
      {
        "duration": 273,
        "start_time": "2023-04-04T19:46:39.910Z"
      },
      {
        "duration": 327,
        "start_time": "2023-04-04T19:52:14.815Z"
      },
      {
        "duration": 10,
        "start_time": "2023-04-04T19:53:32.797Z"
      },
      {
        "duration": 10,
        "start_time": "2023-04-04T19:53:41.137Z"
      },
      {
        "duration": 12,
        "start_time": "2023-04-04T19:53:49.289Z"
      },
      {
        "duration": 59,
        "start_time": "2023-04-04T19:54:20.456Z"
      },
      {
        "duration": 79,
        "start_time": "2023-04-04T19:54:29.935Z"
      },
      {
        "duration": 238,
        "start_time": "2023-04-04T19:54:43.845Z"
      },
      {
        "duration": 282,
        "start_time": "2023-04-04T19:55:04.459Z"
      },
      {
        "duration": 465,
        "start_time": "2023-04-04T19:55:12.489Z"
      },
      {
        "duration": 189,
        "start_time": "2023-04-04T19:55:17.795Z"
      },
      {
        "duration": 7,
        "start_time": "2023-04-04T20:05:11.448Z"
      },
      {
        "duration": 123,
        "start_time": "2023-04-04T20:06:26.860Z"
      },
      {
        "duration": 135,
        "start_time": "2023-04-04T20:06:47.101Z"
      },
      {
        "duration": 18,
        "start_time": "2023-04-04T20:06:50.220Z"
      },
      {
        "duration": 181,
        "start_time": "2023-04-04T20:06:51.777Z"
      },
      {
        "duration": 12,
        "start_time": "2023-04-04T20:07:06.937Z"
      },
      {
        "duration": 6,
        "start_time": "2023-04-04T20:09:08.586Z"
      },
      {
        "duration": 91,
        "start_time": "2023-04-04T20:57:50.084Z"
      },
      {
        "duration": 20152,
        "start_time": "2023-04-04T21:19:28.216Z"
      },
      {
        "duration": 98,
        "start_time": "2023-04-04T21:19:51.143Z"
      },
      {
        "duration": 8,
        "start_time": "2023-04-04T21:20:06.443Z"
      },
      {
        "duration": 123,
        "start_time": "2023-04-04T21:20:08.464Z"
      },
      {
        "duration": 15,
        "start_time": "2023-04-04T21:20:19.131Z"
      },
      {
        "duration": 1677,
        "start_time": "2023-04-05T00:37:55.784Z"
      },
      {
        "duration": 11,
        "start_time": "2023-04-05T00:37:57.463Z"
      },
      {
        "duration": 6,
        "start_time": "2023-04-05T00:37:57.476Z"
      },
      {
        "duration": 9,
        "start_time": "2023-04-05T00:37:57.484Z"
      },
      {
        "duration": 12,
        "start_time": "2023-04-05T00:37:57.495Z"
      },
      {
        "duration": 32,
        "start_time": "2023-04-05T00:37:57.509Z"
      },
      {
        "duration": 4,
        "start_time": "2023-04-05T00:37:57.543Z"
      },
      {
        "duration": 7,
        "start_time": "2023-04-05T00:37:57.549Z"
      },
      {
        "duration": 6,
        "start_time": "2023-04-05T00:37:57.557Z"
      },
      {
        "duration": 6,
        "start_time": "2023-04-05T00:37:57.566Z"
      },
      {
        "duration": 11,
        "start_time": "2023-04-05T00:37:57.573Z"
      },
      {
        "duration": 6,
        "start_time": "2023-04-05T00:37:57.585Z"
      },
      {
        "duration": 8,
        "start_time": "2023-04-05T00:37:57.593Z"
      },
      {
        "duration": 41,
        "start_time": "2023-04-05T00:37:57.603Z"
      },
      {
        "duration": 5,
        "start_time": "2023-04-05T00:37:57.646Z"
      },
      {
        "duration": 34,
        "start_time": "2023-04-05T00:37:57.653Z"
      },
      {
        "duration": 120,
        "start_time": "2023-04-05T00:37:57.689Z"
      },
      {
        "duration": 15,
        "start_time": "2023-04-05T00:37:57.810Z"
      },
      {
        "duration": 125,
        "start_time": "2023-04-05T00:37:57.826Z"
      },
      {
        "duration": 11,
        "start_time": "2023-04-05T00:37:57.953Z"
      },
      {
        "duration": 7,
        "start_time": "2023-04-05T00:37:57.966Z"
      },
      {
        "duration": 36,
        "start_time": "2023-04-05T00:37:57.975Z"
      },
      {
        "duration": 34,
        "start_time": "2023-04-05T00:37:58.012Z"
      },
      {
        "duration": 4,
        "start_time": "2023-04-05T00:37:58.047Z"
      },
      {
        "duration": 14,
        "start_time": "2023-04-05T00:37:58.052Z"
      },
      {
        "duration": 27,
        "start_time": "2023-04-05T00:37:58.067Z"
      },
      {
        "duration": 4,
        "start_time": "2023-04-05T00:37:58.095Z"
      },
      {
        "duration": 8,
        "start_time": "2023-04-05T00:37:58.102Z"
      },
      {
        "duration": 7,
        "start_time": "2023-04-05T00:37:58.140Z"
      },
      {
        "duration": 6,
        "start_time": "2023-04-05T00:37:58.149Z"
      },
      {
        "duration": 21,
        "start_time": "2023-04-05T00:37:58.156Z"
      },
      {
        "duration": 314,
        "start_time": "2023-04-05T00:37:58.179Z"
      },
      {
        "duration": 17,
        "start_time": "2023-04-05T00:37:58.495Z"
      },
      {
        "duration": 336,
        "start_time": "2023-04-05T00:37:58.514Z"
      },
      {
        "duration": 378,
        "start_time": "2023-04-05T00:37:58.852Z"
      },
      {
        "duration": 230,
        "start_time": "2023-04-05T00:37:59.232Z"
      },
      {
        "duration": 1888,
        "start_time": "2023-04-05T00:37:59.464Z"
      },
      {
        "duration": 30078,
        "start_time": "2023-04-05T00:38:01.354Z"
      },
      {
        "duration": 280,
        "start_time": "2023-04-05T00:38:31.433Z"
      },
      {
        "duration": 11,
        "start_time": "2023-04-05T00:38:31.715Z"
      },
      {
        "duration": 6,
        "start_time": "2023-04-05T00:38:31.741Z"
      },
      {
        "duration": 14,
        "start_time": "2023-04-05T00:38:31.748Z"
      },
      {
        "duration": 29,
        "start_time": "2023-04-05T00:38:31.764Z"
      },
      {
        "duration": 366,
        "start_time": "2023-04-05T00:38:31.795Z"
      },
      {
        "duration": 291,
        "start_time": "2023-04-05T00:38:32.163Z"
      },
      {
        "duration": 483,
        "start_time": "2023-04-05T00:38:32.456Z"
      },
      {
        "duration": 154,
        "start_time": "2023-04-05T00:38:32.941Z"
      },
      {
        "duration": 2590,
        "start_time": "2023-04-05T00:38:33.097Z"
      },
      {
        "duration": 40053,
        "start_time": "2023-04-05T00:38:35.689Z"
      },
      {
        "duration": 326,
        "start_time": "2023-04-05T00:39:15.744Z"
      },
      {
        "duration": 3,
        "start_time": "2023-04-05T00:39:16.072Z"
      },
      {
        "duration": 24,
        "start_time": "2023-04-05T00:39:16.077Z"
      },
      {
        "duration": 15,
        "start_time": "2023-04-05T00:39:16.103Z"
      },
      {
        "duration": 327,
        "start_time": "2023-04-05T00:39:16.120Z"
      },
      {
        "duration": 328,
        "start_time": "2023-04-05T00:39:16.449Z"
      },
      {
        "duration": 205,
        "start_time": "2023-04-05T00:39:16.779Z"
      },
      {
        "duration": 134,
        "start_time": "2023-04-05T00:39:16.985Z"
      },
      {
        "duration": 1126,
        "start_time": "2023-04-05T00:39:17.121Z"
      },
      {
        "duration": 13096,
        "start_time": "2023-04-05T00:39:18.248Z"
      },
      {
        "duration": 206,
        "start_time": "2023-04-05T00:39:31.346Z"
      },
      {
        "duration": 156,
        "start_time": "2023-04-05T00:39:31.554Z"
      },
      {
        "duration": 12,
        "start_time": "2023-04-05T00:39:31.712Z"
      },
      {
        "duration": 1781,
        "start_time": "2023-04-05T03:21:03.319Z"
      },
      {
        "duration": 13,
        "start_time": "2023-04-05T03:21:05.102Z"
      },
      {
        "duration": 16,
        "start_time": "2023-04-05T03:21:05.116Z"
      },
      {
        "duration": 11,
        "start_time": "2023-04-05T03:21:05.135Z"
      },
      {
        "duration": 10,
        "start_time": "2023-04-05T03:21:05.148Z"
      },
      {
        "duration": 15,
        "start_time": "2023-04-05T03:21:05.159Z"
      },
      {
        "duration": 10,
        "start_time": "2023-04-05T03:21:05.175Z"
      },
      {
        "duration": 20,
        "start_time": "2023-04-05T03:21:05.186Z"
      },
      {
        "duration": 13,
        "start_time": "2023-04-05T03:21:05.207Z"
      },
      {
        "duration": 25,
        "start_time": "2023-04-05T03:21:05.223Z"
      },
      {
        "duration": 19,
        "start_time": "2023-04-05T03:21:05.249Z"
      },
      {
        "duration": 13,
        "start_time": "2023-04-05T03:21:05.269Z"
      },
      {
        "duration": 12,
        "start_time": "2023-04-05T03:21:05.284Z"
      },
      {
        "duration": 25,
        "start_time": "2023-04-05T03:21:05.298Z"
      },
      {
        "duration": 4,
        "start_time": "2023-04-05T03:21:05.325Z"
      },
      {
        "duration": 43,
        "start_time": "2023-04-05T03:21:05.331Z"
      },
      {
        "duration": 105,
        "start_time": "2023-04-05T03:21:05.376Z"
      },
      {
        "duration": 18,
        "start_time": "2023-04-05T03:21:05.484Z"
      },
      {
        "duration": 119,
        "start_time": "2023-04-05T03:21:05.505Z"
      },
      {
        "duration": 11,
        "start_time": "2023-04-05T03:21:05.634Z"
      },
      {
        "duration": 29,
        "start_time": "2023-04-05T03:21:05.646Z"
      },
      {
        "duration": 49,
        "start_time": "2023-04-05T03:21:05.677Z"
      },
      {
        "duration": 17,
        "start_time": "2023-04-05T03:21:05.727Z"
      },
      {
        "duration": 16,
        "start_time": "2023-04-05T03:21:05.746Z"
      },
      {
        "duration": 31,
        "start_time": "2023-04-05T03:21:05.763Z"
      },
      {
        "duration": 34,
        "start_time": "2023-04-05T03:21:05.795Z"
      },
      {
        "duration": 12,
        "start_time": "2023-04-05T03:21:05.830Z"
      },
      {
        "duration": 18,
        "start_time": "2023-04-05T03:21:05.846Z"
      },
      {
        "duration": 7,
        "start_time": "2023-04-05T03:21:05.866Z"
      },
      {
        "duration": 6,
        "start_time": "2023-04-05T03:21:05.875Z"
      },
      {
        "duration": 35,
        "start_time": "2023-04-05T03:21:05.882Z"
      },
      {
        "duration": 324,
        "start_time": "2023-04-05T03:21:05.919Z"
      },
      {
        "duration": 15,
        "start_time": "2023-04-05T03:21:06.244Z"
      },
      {
        "duration": 387,
        "start_time": "2023-04-05T03:21:06.261Z"
      },
      {
        "duration": 367,
        "start_time": "2023-04-05T03:21:06.649Z"
      },
      {
        "duration": 143,
        "start_time": "2023-04-05T03:21:07.018Z"
      },
      {
        "duration": 1884,
        "start_time": "2023-04-05T03:21:07.163Z"
      },
      {
        "duration": 30040,
        "start_time": "2023-04-05T03:21:09.048Z"
      },
      {
        "duration": 268,
        "start_time": "2023-04-05T03:21:39.090Z"
      },
      {
        "duration": 10,
        "start_time": "2023-04-05T03:21:39.359Z"
      },
      {
        "duration": 3,
        "start_time": "2023-04-05T03:21:39.371Z"
      },
      {
        "duration": 5,
        "start_time": "2023-04-05T03:21:39.375Z"
      },
      {
        "duration": 11,
        "start_time": "2023-04-05T03:21:39.382Z"
      },
      {
        "duration": 345,
        "start_time": "2023-04-05T03:21:39.394Z"
      },
      {
        "duration": 305,
        "start_time": "2023-04-05T03:21:39.740Z"
      },
      {
        "duration": 457,
        "start_time": "2023-04-05T03:21:40.047Z"
      },
      {
        "duration": 141,
        "start_time": "2023-04-05T03:21:40.505Z"
      },
      {
        "duration": 2371,
        "start_time": "2023-04-05T03:21:40.647Z"
      },
      {
        "duration": 39172,
        "start_time": "2023-04-05T03:21:43.019Z"
      },
      {
        "duration": 316,
        "start_time": "2023-04-05T03:22:22.193Z"
      },
      {
        "duration": 4,
        "start_time": "2023-04-05T03:22:22.511Z"
      },
      {
        "duration": 26,
        "start_time": "2023-04-05T03:22:22.516Z"
      },
      {
        "duration": 22,
        "start_time": "2023-04-05T03:22:22.544Z"
      },
      {
        "duration": 291,
        "start_time": "2023-04-05T03:22:22.568Z"
      },
      {
        "duration": 296,
        "start_time": "2023-04-05T03:22:22.861Z"
      },
      {
        "duration": 221,
        "start_time": "2023-04-05T03:22:23.159Z"
      },
      {
        "duration": 139,
        "start_time": "2023-04-05T03:22:23.382Z"
      },
      {
        "duration": 1118,
        "start_time": "2023-04-05T03:22:23.523Z"
      },
      {
        "duration": 12280,
        "start_time": "2023-04-05T03:22:24.643Z"
      },
      {
        "duration": 176,
        "start_time": "2023-04-05T03:22:36.925Z"
      },
      {
        "duration": 144,
        "start_time": "2023-04-05T03:22:37.102Z"
      },
      {
        "duration": 12,
        "start_time": "2023-04-05T03:22:37.248Z"
      },
      {
        "duration": 106415,
        "start_time": "2023-04-05T03:22:37.261Z"
      },
      {
        "duration": 10,
        "start_time": "2023-04-05T03:24:23.678Z"
      },
      {
        "duration": 109348,
        "start_time": "2023-04-05T03:30:45.122Z"
      },
      {
        "duration": 13,
        "start_time": "2023-04-05T03:37:32.245Z"
      },
      {
        "duration": 13,
        "start_time": "2023-04-05T03:37:39.750Z"
      },
      {
        "duration": 7,
        "start_time": "2023-04-05T03:48:42.279Z"
      },
      {
        "duration": 13,
        "start_time": "2023-04-05T03:54:19.563Z"
      },
      {
        "duration": 285,
        "start_time": "2023-04-05T03:54:35.117Z"
      },
      {
        "duration": 12,
        "start_time": "2023-04-05T03:54:56.460Z"
      },
      {
        "duration": 10,
        "start_time": "2023-04-05T03:55:14.405Z"
      },
      {
        "duration": 92,
        "start_time": "2023-04-05T03:55:15.321Z"
      },
      {
        "duration": 202,
        "start_time": "2023-04-05T03:55:28.579Z"
      },
      {
        "duration": 17,
        "start_time": "2023-04-05T06:43:28.302Z"
      },
      {
        "duration": 212,
        "start_time": "2023-04-05T06:43:31.093Z"
      },
      {
        "duration": 1817,
        "start_time": "2023-04-05T06:43:43.503Z"
      },
      {
        "duration": 13,
        "start_time": "2023-04-05T06:43:45.322Z"
      },
      {
        "duration": 12,
        "start_time": "2023-04-05T06:43:45.336Z"
      },
      {
        "duration": 11,
        "start_time": "2023-04-05T06:43:45.350Z"
      },
      {
        "duration": 9,
        "start_time": "2023-04-05T06:43:45.362Z"
      },
      {
        "duration": 17,
        "start_time": "2023-04-05T06:43:45.373Z"
      },
      {
        "duration": 5,
        "start_time": "2023-04-05T06:43:45.392Z"
      },
      {
        "duration": 16,
        "start_time": "2023-04-05T06:43:45.398Z"
      },
      {
        "duration": 12,
        "start_time": "2023-04-05T06:43:45.416Z"
      },
      {
        "duration": 15,
        "start_time": "2023-04-05T06:43:45.431Z"
      },
      {
        "duration": 17,
        "start_time": "2023-04-05T06:43:45.447Z"
      },
      {
        "duration": 9,
        "start_time": "2023-04-05T06:43:45.466Z"
      },
      {
        "duration": 12,
        "start_time": "2023-04-05T06:43:45.477Z"
      },
      {
        "duration": 27,
        "start_time": "2023-04-05T06:43:45.490Z"
      },
      {
        "duration": 6,
        "start_time": "2023-04-05T06:43:45.519Z"
      },
      {
        "duration": 43,
        "start_time": "2023-04-05T06:43:45.526Z"
      },
      {
        "duration": 132,
        "start_time": "2023-04-05T06:43:45.571Z"
      },
      {
        "duration": 17,
        "start_time": "2023-04-05T06:43:45.705Z"
      },
      {
        "duration": 138,
        "start_time": "2023-04-05T06:43:45.724Z"
      },
      {
        "duration": 25,
        "start_time": "2023-04-05T06:43:45.864Z"
      },
      {
        "duration": 15,
        "start_time": "2023-04-05T06:43:45.891Z"
      },
      {
        "duration": 47,
        "start_time": "2023-04-05T06:43:45.908Z"
      },
      {
        "duration": 36,
        "start_time": "2023-04-05T06:43:45.957Z"
      },
      {
        "duration": 5,
        "start_time": "2023-04-05T06:43:45.995Z"
      },
      {
        "duration": 26,
        "start_time": "2023-04-05T06:43:46.002Z"
      },
      {
        "duration": 66,
        "start_time": "2023-04-05T06:43:46.030Z"
      },
      {
        "duration": 5,
        "start_time": "2023-04-05T06:43:46.098Z"
      },
      {
        "duration": 28,
        "start_time": "2023-04-05T06:43:46.109Z"
      },
      {
        "duration": 20,
        "start_time": "2023-04-05T06:43:46.140Z"
      },
      {
        "duration": 26,
        "start_time": "2023-04-05T06:43:46.162Z"
      },
      {
        "duration": 38,
        "start_time": "2023-04-05T06:43:46.190Z"
      },
      {
        "duration": 295,
        "start_time": "2023-04-05T06:43:46.230Z"
      },
      {
        "duration": 18,
        "start_time": "2023-04-05T06:43:46.527Z"
      },
      {
        "duration": 388,
        "start_time": "2023-04-05T06:43:46.547Z"
      },
      {
        "duration": 444,
        "start_time": "2023-04-05T06:43:46.937Z"
      },
      {
        "duration": 241,
        "start_time": "2023-04-05T06:43:47.383Z"
      },
      {
        "duration": 2127,
        "start_time": "2023-04-05T06:43:47.626Z"
      },
      {
        "duration": 34418,
        "start_time": "2023-04-05T06:43:49.755Z"
      },
      {
        "duration": 302,
        "start_time": "2023-04-05T06:44:24.175Z"
      },
      {
        "duration": 17,
        "start_time": "2023-04-05T06:44:24.479Z"
      },
      {
        "duration": 4,
        "start_time": "2023-04-05T06:44:24.498Z"
      },
      {
        "duration": 11,
        "start_time": "2023-04-05T06:44:24.504Z"
      },
      {
        "duration": 17,
        "start_time": "2023-04-05T06:44:24.518Z"
      },
      {
        "duration": 474,
        "start_time": "2023-04-05T06:44:24.537Z"
      },
      {
        "duration": 399,
        "start_time": "2023-04-05T06:44:25.013Z"
      },
      {
        "duration": 536,
        "start_time": "2023-04-05T06:44:25.414Z"
      },
      {
        "duration": 170,
        "start_time": "2023-04-05T06:44:25.952Z"
      },
      {
        "duration": 2825,
        "start_time": "2023-04-05T06:44:26.125Z"
      },
      {
        "duration": 45644,
        "start_time": "2023-04-05T06:44:28.952Z"
      },
      {
        "duration": 345,
        "start_time": "2023-04-05T06:45:14.598Z"
      },
      {
        "duration": 5,
        "start_time": "2023-04-05T06:45:14.945Z"
      },
      {
        "duration": 9,
        "start_time": "2023-04-05T06:45:14.952Z"
      },
      {
        "duration": 29,
        "start_time": "2023-04-05T06:45:14.963Z"
      },
      {
        "duration": 317,
        "start_time": "2023-04-05T06:45:14.994Z"
      },
      {
        "duration": 301,
        "start_time": "2023-04-05T06:45:15.313Z"
      },
      {
        "duration": 235,
        "start_time": "2023-04-05T06:45:15.615Z"
      },
      {
        "duration": 152,
        "start_time": "2023-04-05T06:45:15.852Z"
      },
      {
        "duration": 1306,
        "start_time": "2023-04-05T06:45:16.006Z"
      },
      {
        "duration": 14756,
        "start_time": "2023-04-05T06:45:17.314Z"
      },
      {
        "duration": 215,
        "start_time": "2023-04-05T06:45:32.072Z"
      },
      {
        "duration": 173,
        "start_time": "2023-04-05T06:45:32.289Z"
      },
      {
        "duration": 9,
        "start_time": "2023-04-05T06:45:32.464Z"
      },
      {
        "duration": 129529,
        "start_time": "2023-04-05T06:45:32.487Z"
      },
      {
        "duration": 24,
        "start_time": "2023-04-05T06:52:33.014Z"
      },
      {
        "duration": 1795,
        "start_time": "2023-04-05T18:07:00.035Z"
      },
      {
        "duration": 14,
        "start_time": "2023-04-05T18:07:01.833Z"
      },
      {
        "duration": 47,
        "start_time": "2023-04-05T18:07:01.850Z"
      },
      {
        "duration": 29,
        "start_time": "2023-04-05T18:07:01.899Z"
      },
      {
        "duration": 52,
        "start_time": "2023-04-05T18:07:01.931Z"
      },
      {
        "duration": 71,
        "start_time": "2023-04-05T18:07:01.985Z"
      },
      {
        "duration": 57,
        "start_time": "2023-04-05T18:07:02.058Z"
      },
      {
        "duration": 34,
        "start_time": "2023-04-05T18:07:02.117Z"
      },
      {
        "duration": 36,
        "start_time": "2023-04-05T18:07:02.153Z"
      },
      {
        "duration": 7,
        "start_time": "2023-04-05T18:07:02.193Z"
      },
      {
        "duration": 40,
        "start_time": "2023-04-05T18:07:02.203Z"
      },
      {
        "duration": 12,
        "start_time": "2023-04-05T18:07:02.245Z"
      },
      {
        "duration": 11,
        "start_time": "2023-04-05T18:07:02.258Z"
      },
      {
        "duration": 14,
        "start_time": "2023-04-05T18:07:02.271Z"
      },
      {
        "duration": 6,
        "start_time": "2023-04-05T18:07:02.287Z"
      },
      {
        "duration": 67,
        "start_time": "2023-04-05T18:07:02.294Z"
      },
      {
        "duration": 135,
        "start_time": "2023-04-05T18:07:02.362Z"
      },
      {
        "duration": 16,
        "start_time": "2023-04-05T18:07:02.499Z"
      },
      {
        "duration": 151,
        "start_time": "2023-04-05T18:07:02.517Z"
      },
      {
        "duration": 13,
        "start_time": "2023-04-05T18:07:02.670Z"
      },
      {
        "duration": 27,
        "start_time": "2023-04-05T18:07:02.685Z"
      },
      {
        "duration": 74,
        "start_time": "2023-04-05T18:07:02.714Z"
      },
      {
        "duration": 25,
        "start_time": "2023-04-05T18:07:02.790Z"
      },
      {
        "duration": 8,
        "start_time": "2023-04-05T18:07:02.817Z"
      },
      {
        "duration": 45,
        "start_time": "2023-04-05T18:07:02.827Z"
      },
      {
        "duration": 32,
        "start_time": "2023-04-05T18:07:02.874Z"
      },
      {
        "duration": 15,
        "start_time": "2023-04-05T18:07:02.908Z"
      },
      {
        "duration": 42,
        "start_time": "2023-04-05T18:07:02.928Z"
      },
      {
        "duration": 31,
        "start_time": "2023-04-05T18:07:02.972Z"
      },
      {
        "duration": 8,
        "start_time": "2023-04-05T18:07:03.005Z"
      },
      {
        "duration": 51,
        "start_time": "2023-04-05T18:07:03.015Z"
      },
      {
        "duration": 301,
        "start_time": "2023-04-05T18:07:03.068Z"
      },
      {
        "duration": 18,
        "start_time": "2023-04-05T18:07:03.371Z"
      },
      {
        "duration": 366,
        "start_time": "2023-04-05T18:07:03.391Z"
      },
      {
        "duration": 430,
        "start_time": "2023-04-05T18:07:03.759Z"
      },
      {
        "duration": 234,
        "start_time": "2023-04-05T18:07:04.191Z"
      },
      {
        "duration": 2231,
        "start_time": "2023-04-05T18:07:04.427Z"
      },
      {
        "duration": 34681,
        "start_time": "2023-04-05T18:07:06.661Z"
      },
      {
        "duration": 336,
        "start_time": "2023-04-05T18:07:41.344Z"
      },
      {
        "duration": 12,
        "start_time": "2023-04-05T18:07:41.682Z"
      },
      {
        "duration": 4,
        "start_time": "2023-04-05T18:07:41.696Z"
      },
      {
        "duration": 5,
        "start_time": "2023-04-05T18:07:41.701Z"
      },
      {
        "duration": 41,
        "start_time": "2023-04-05T18:07:41.709Z"
      },
      {
        "duration": 432,
        "start_time": "2023-04-05T18:07:41.752Z"
      },
      {
        "duration": 388,
        "start_time": "2023-04-05T18:07:42.186Z"
      },
      {
        "duration": 532,
        "start_time": "2023-04-05T18:07:42.576Z"
      },
      {
        "duration": 177,
        "start_time": "2023-04-05T18:07:43.110Z"
      },
      {
        "duration": 2906,
        "start_time": "2023-04-05T18:07:43.289Z"
      },
      {
        "duration": 46560,
        "start_time": "2023-04-05T18:07:46.197Z"
      },
      {
        "duration": 321,
        "start_time": "2023-04-05T18:08:32.758Z"
      },
      {
        "duration": 5,
        "start_time": "2023-04-05T18:08:33.080Z"
      },
      {
        "duration": 6,
        "start_time": "2023-04-05T18:08:33.087Z"
      },
      {
        "duration": 12,
        "start_time": "2023-04-05T18:08:33.095Z"
      },
      {
        "duration": 367,
        "start_time": "2023-04-05T18:08:33.109Z"
      },
      {
        "duration": 294,
        "start_time": "2023-04-05T18:08:33.478Z"
      },
      {
        "duration": 230,
        "start_time": "2023-04-05T18:08:33.774Z"
      },
      {
        "duration": 155,
        "start_time": "2023-04-05T18:08:34.006Z"
      },
      {
        "duration": 1266,
        "start_time": "2023-04-05T18:08:34.163Z"
      },
      {
        "duration": 15336,
        "start_time": "2023-04-05T18:08:35.431Z"
      },
      {
        "duration": 214,
        "start_time": "2023-04-05T18:08:50.769Z"
      },
      {
        "duration": 170,
        "start_time": "2023-04-05T18:08:50.985Z"
      },
      {
        "duration": 13,
        "start_time": "2023-04-05T18:08:51.158Z"
      },
      {
        "duration": 128882,
        "start_time": "2023-04-05T18:08:51.173Z"
      },
      {
        "duration": 16,
        "start_time": "2023-04-05T18:11:00.057Z"
      },
      {
        "duration": 48,
        "start_time": "2023-04-05T18:11:00.075Z"
      },
      {
        "duration": 0,
        "start_time": "2023-04-05T18:11:00.125Z"
      },
      {
        "duration": 12,
        "start_time": "2023-04-05T18:12:38.501Z"
      },
      {
        "duration": 9,
        "start_time": "2023-04-05T18:12:46.083Z"
      },
      {
        "duration": 5826,
        "start_time": "2023-04-05T18:12:58.013Z"
      },
      {
        "duration": 10,
        "start_time": "2023-04-05T18:14:07.449Z"
      },
      {
        "duration": 190142,
        "start_time": "2023-04-05T18:14:18.381Z"
      },
      {
        "duration": 17,
        "start_time": "2023-04-05T18:17:36.985Z"
      },
      {
        "duration": 17,
        "start_time": "2023-04-05T18:17:41.766Z"
      },
      {
        "duration": 392,
        "start_time": "2023-04-05T18:22:56.952Z"
      },
      {
        "duration": 12,
        "start_time": "2023-04-05T18:36:28.375Z"
      },
      {
        "duration": 12,
        "start_time": "2023-04-05T18:37:36.893Z"
      },
      {
        "duration": 16,
        "start_time": "2023-04-05T18:38:17.282Z"
      },
      {
        "duration": 49,
        "start_time": "2023-04-05T18:39:53.130Z"
      },
      {
        "duration": 53,
        "start_time": "2023-04-05T18:39:59.105Z"
      },
      {
        "duration": 16,
        "start_time": "2023-04-05T18:40:03.448Z"
      },
      {
        "duration": 11,
        "start_time": "2023-04-05T18:41:50.951Z"
      },
      {
        "duration": 1936,
        "start_time": "2023-04-06T15:15:01.213Z"
      },
      {
        "duration": 110,
        "start_time": "2023-04-06T15:15:03.943Z"
      },
      {
        "duration": 74,
        "start_time": "2023-04-06T15:15:14.646Z"
      },
      {
        "duration": 6,
        "start_time": "2023-04-06T15:26:34.063Z"
      },
      {
        "duration": 114,
        "start_time": "2023-04-06T15:28:22.211Z"
      },
      {
        "duration": 748,
        "start_time": "2023-04-06T15:34:07.507Z"
      },
      {
        "duration": 695,
        "start_time": "2023-04-06T15:34:16.334Z"
      },
      {
        "duration": 792,
        "start_time": "2023-04-06T15:35:12.433Z"
      },
      {
        "duration": 374,
        "start_time": "2023-04-06T15:35:37.661Z"
      },
      {
        "duration": 360,
        "start_time": "2023-04-06T15:35:41.549Z"
      },
      {
        "duration": 353,
        "start_time": "2023-04-06T15:35:59.882Z"
      },
      {
        "duration": 426,
        "start_time": "2023-04-06T15:36:18.001Z"
      },
      {
        "duration": 377,
        "start_time": "2023-04-06T15:36:35.620Z"
      },
      {
        "duration": 416,
        "start_time": "2023-04-06T15:36:46.007Z"
      },
      {
        "duration": 362,
        "start_time": "2023-04-06T15:37:20.957Z"
      },
      {
        "duration": 376,
        "start_time": "2023-04-06T15:37:30.411Z"
      },
      {
        "duration": 365,
        "start_time": "2023-04-06T15:37:35.539Z"
      },
      {
        "duration": 393,
        "start_time": "2023-04-06T15:37:58.745Z"
      },
      {
        "duration": 425,
        "start_time": "2023-04-06T15:38:07.570Z"
      },
      {
        "duration": 1386,
        "start_time": "2023-04-06T15:43:09.461Z"
      },
      {
        "duration": 99,
        "start_time": "2023-04-06T15:43:10.849Z"
      },
      {
        "duration": 11,
        "start_time": "2023-04-06T15:43:10.950Z"
      },
      {
        "duration": 8,
        "start_time": "2023-04-06T15:43:10.963Z"
      },
      {
        "duration": 9,
        "start_time": "2023-04-06T15:43:10.973Z"
      },
      {
        "duration": 21,
        "start_time": "2023-04-06T15:43:10.983Z"
      },
      {
        "duration": 21,
        "start_time": "2023-04-06T15:43:11.006Z"
      },
      {
        "duration": 4,
        "start_time": "2023-04-06T15:43:11.029Z"
      },
      {
        "duration": 26,
        "start_time": "2023-04-06T15:43:11.035Z"
      },
      {
        "duration": 17,
        "start_time": "2023-04-06T15:43:11.063Z"
      },
      {
        "duration": 14,
        "start_time": "2023-04-06T15:43:11.082Z"
      },
      {
        "duration": 29,
        "start_time": "2023-04-06T15:43:11.097Z"
      },
      {
        "duration": 11,
        "start_time": "2023-04-06T15:43:11.128Z"
      },
      {
        "duration": 44,
        "start_time": "2023-04-06T15:43:11.140Z"
      },
      {
        "duration": 14,
        "start_time": "2023-04-06T15:43:11.186Z"
      },
      {
        "duration": 6,
        "start_time": "2023-04-06T15:43:11.203Z"
      },
      {
        "duration": 46,
        "start_time": "2023-04-06T15:43:11.211Z"
      },
      {
        "duration": 104,
        "start_time": "2023-04-06T15:43:11.268Z"
      },
      {
        "duration": 18,
        "start_time": "2023-04-06T15:43:11.373Z"
      },
      {
        "duration": 114,
        "start_time": "2023-04-06T15:43:11.392Z"
      },
      {
        "duration": 11,
        "start_time": "2023-04-06T15:43:11.508Z"
      },
      {
        "duration": 10,
        "start_time": "2023-04-06T15:43:11.520Z"
      },
      {
        "duration": 50,
        "start_time": "2023-04-06T15:43:11.531Z"
      },
      {
        "duration": 25,
        "start_time": "2023-04-06T15:43:11.583Z"
      },
      {
        "duration": 3548,
        "start_time": "2023-04-06T15:43:55.585Z"
      },
      {
        "duration": 4129,
        "start_time": "2023-04-06T15:44:17.792Z"
      },
      {
        "duration": 5,
        "start_time": "2023-04-06T15:50:16.156Z"
      },
      {
        "duration": 4,
        "start_time": "2023-04-06T15:51:59.305Z"
      },
      {
        "duration": 12,
        "start_time": "2023-04-06T15:52:13.769Z"
      },
      {
        "duration": 12,
        "start_time": "2023-04-06T15:52:24.997Z"
      },
      {
        "duration": 8,
        "start_time": "2023-04-06T15:52:46.497Z"
      },
      {
        "duration": 8,
        "start_time": "2023-04-06T15:52:56.537Z"
      },
      {
        "duration": 62,
        "start_time": "2023-04-06T15:53:29.231Z"
      },
      {
        "duration": 11,
        "start_time": "2023-04-06T15:54:26.517Z"
      },
      {
        "duration": 4,
        "start_time": "2023-04-06T15:54:34.800Z"
      },
      {
        "duration": 60,
        "start_time": "2023-04-06T15:54:34.806Z"
      },
      {
        "duration": 13,
        "start_time": "2023-04-06T15:54:34.868Z"
      },
      {
        "duration": 9,
        "start_time": "2023-04-06T15:54:34.882Z"
      },
      {
        "duration": 7,
        "start_time": "2023-04-06T15:54:34.893Z"
      },
      {
        "duration": 13,
        "start_time": "2023-04-06T15:54:34.901Z"
      },
      {
        "duration": 23,
        "start_time": "2023-04-06T15:54:34.915Z"
      },
      {
        "duration": 24,
        "start_time": "2023-04-06T15:54:34.939Z"
      },
      {
        "duration": 23,
        "start_time": "2023-04-06T15:54:34.964Z"
      },
      {
        "duration": 9,
        "start_time": "2023-04-06T15:54:34.989Z"
      },
      {
        "duration": 8,
        "start_time": "2023-04-06T15:54:35.001Z"
      },
      {
        "duration": 32,
        "start_time": "2023-04-06T15:54:35.011Z"
      },
      {
        "duration": 15,
        "start_time": "2023-04-06T15:54:35.044Z"
      },
      {
        "duration": 32,
        "start_time": "2023-04-06T15:54:35.061Z"
      },
      {
        "duration": 18,
        "start_time": "2023-04-06T15:54:35.095Z"
      },
      {
        "duration": 5,
        "start_time": "2023-04-06T15:54:35.115Z"
      },
      {
        "duration": 33,
        "start_time": "2023-04-06T15:54:35.121Z"
      },
      {
        "duration": 115,
        "start_time": "2023-04-06T15:54:35.156Z"
      },
      {
        "duration": 19,
        "start_time": "2023-04-06T15:54:35.273Z"
      },
      {
        "duration": 131,
        "start_time": "2023-04-06T15:54:35.293Z"
      },
      {
        "duration": 12,
        "start_time": "2023-04-06T15:54:35.426Z"
      },
      {
        "duration": 4,
        "start_time": "2023-04-06T15:54:35.440Z"
      },
      {
        "duration": 51,
        "start_time": "2023-04-06T15:54:35.446Z"
      },
      {
        "duration": 4,
        "start_time": "2023-04-06T15:54:35.498Z"
      },
      {
        "duration": 17,
        "start_time": "2023-04-06T15:54:35.503Z"
      },
      {
        "duration": 21,
        "start_time": "2023-04-06T15:54:35.521Z"
      },
      {
        "duration": 15,
        "start_time": "2023-04-06T15:54:35.543Z"
      },
      {
        "duration": 14,
        "start_time": "2023-04-06T15:54:35.560Z"
      },
      {
        "duration": 12,
        "start_time": "2023-04-06T15:55:25.255Z"
      },
      {
        "duration": 37,
        "start_time": "2023-04-06T15:55:29.118Z"
      },
      {
        "duration": 23,
        "start_time": "2023-04-06T15:56:06.889Z"
      },
      {
        "duration": 16,
        "start_time": "2023-04-06T17:04:44.786Z"
      },
      {
        "duration": 14,
        "start_time": "2023-04-06T17:32:40.384Z"
      },
      {
        "duration": 113,
        "start_time": "2023-04-06T17:34:22.798Z"
      },
      {
        "duration": 11,
        "start_time": "2023-04-06T17:37:02.349Z"
      },
      {
        "duration": 15,
        "start_time": "2023-04-06T17:37:57.570Z"
      },
      {
        "duration": 27,
        "start_time": "2023-04-06T17:38:15.093Z"
      },
      {
        "duration": 23,
        "start_time": "2023-04-06T17:38:51.664Z"
      },
      {
        "duration": 24,
        "start_time": "2023-04-06T17:39:01.734Z"
      },
      {
        "duration": 19,
        "start_time": "2023-04-06T17:41:08.368Z"
      },
      {
        "duration": 13,
        "start_time": "2023-04-06T17:41:20.450Z"
      },
      {
        "duration": 9,
        "start_time": "2023-04-06T17:41:24.560Z"
      },
      {
        "duration": 8,
        "start_time": "2023-04-06T17:41:26.082Z"
      },
      {
        "duration": 19,
        "start_time": "2023-04-06T17:41:27.468Z"
      },
      {
        "duration": 11,
        "start_time": "2023-04-06T17:41:45.828Z"
      },
      {
        "duration": 26,
        "start_time": "2023-04-06T17:41:54.125Z"
      },
      {
        "duration": 15,
        "start_time": "2023-04-06T17:42:30.455Z"
      },
      {
        "duration": 8,
        "start_time": "2023-04-06T17:42:36.312Z"
      },
      {
        "duration": 7,
        "start_time": "2023-04-06T17:42:37.119Z"
      },
      {
        "duration": 18,
        "start_time": "2023-04-06T17:42:40.138Z"
      },
      {
        "duration": 9,
        "start_time": "2023-04-06T17:44:20.498Z"
      },
      {
        "duration": 9,
        "start_time": "2023-04-06T17:44:21.568Z"
      },
      {
        "duration": 12,
        "start_time": "2023-04-06T17:44:23.198Z"
      },
      {
        "duration": 34,
        "start_time": "2023-04-06T17:44:26.123Z"
      },
      {
        "duration": 3,
        "start_time": "2023-04-06T17:45:05.195Z"
      },
      {
        "duration": 9,
        "start_time": "2023-04-06T17:46:01.103Z"
      },
      {
        "duration": 8,
        "start_time": "2023-04-06T17:46:02.639Z"
      },
      {
        "duration": 3,
        "start_time": "2023-04-06T17:46:05.537Z"
      },
      {
        "duration": 32,
        "start_time": "2023-04-06T17:46:07.028Z"
      },
      {
        "duration": 21,
        "start_time": "2023-04-06T17:46:08.249Z"
      },
      {
        "duration": 20,
        "start_time": "2023-04-06T17:46:09.701Z"
      },
      {
        "duration": 9,
        "start_time": "2023-04-06T17:48:48.243Z"
      },
      {
        "duration": 4,
        "start_time": "2023-04-06T17:48:52.424Z"
      },
      {
        "duration": 34,
        "start_time": "2023-04-06T17:48:54.158Z"
      },
      {
        "duration": 27,
        "start_time": "2023-04-06T17:48:56.245Z"
      },
      {
        "duration": 23,
        "start_time": "2023-04-06T17:48:58.485Z"
      },
      {
        "duration": 4,
        "start_time": "2023-04-06T17:57:42.892Z"
      },
      {
        "duration": 49,
        "start_time": "2023-04-06T17:57:42.898Z"
      },
      {
        "duration": 12,
        "start_time": "2023-04-06T17:57:42.949Z"
      },
      {
        "duration": 5,
        "start_time": "2023-04-06T17:57:42.962Z"
      },
      {
        "duration": 7,
        "start_time": "2023-04-06T17:57:42.969Z"
      },
      {
        "duration": 7,
        "start_time": "2023-04-06T17:57:42.978Z"
      },
      {
        "duration": 13,
        "start_time": "2023-04-06T17:57:42.987Z"
      },
      {
        "duration": 4,
        "start_time": "2023-04-06T17:57:43.001Z"
      },
      {
        "duration": 6,
        "start_time": "2023-04-06T17:57:43.007Z"
      },
      {
        "duration": 6,
        "start_time": "2023-04-06T17:57:43.014Z"
      },
      {
        "duration": 47,
        "start_time": "2023-04-06T17:57:43.023Z"
      },
      {
        "duration": 7,
        "start_time": "2023-04-06T17:57:43.071Z"
      },
      {
        "duration": 7,
        "start_time": "2023-04-06T17:57:43.080Z"
      },
      {
        "duration": 11,
        "start_time": "2023-04-06T17:57:43.088Z"
      },
      {
        "duration": 14,
        "start_time": "2023-04-06T17:57:43.100Z"
      },
      {
        "duration": 5,
        "start_time": "2023-04-06T17:57:43.116Z"
      },
      {
        "duration": 79,
        "start_time": "2023-04-06T17:57:43.122Z"
      },
      {
        "duration": 100,
        "start_time": "2023-04-06T17:57:43.203Z"
      },
      {
        "duration": 14,
        "start_time": "2023-04-06T17:57:43.305Z"
      },
      {
        "duration": 115,
        "start_time": "2023-04-06T17:57:43.321Z"
      },
      {
        "duration": 11,
        "start_time": "2023-04-06T17:57:43.438Z"
      },
      {
        "duration": 5,
        "start_time": "2023-04-06T17:57:43.469Z"
      },
      {
        "duration": 33,
        "start_time": "2023-04-06T17:57:43.476Z"
      },
      {
        "duration": 4,
        "start_time": "2023-04-06T17:57:43.510Z"
      },
      {
        "duration": 6,
        "start_time": "2023-04-06T17:57:43.515Z"
      },
      {
        "duration": 11,
        "start_time": "2023-04-06T17:57:43.522Z"
      },
      {
        "duration": 11,
        "start_time": "2023-04-06T17:57:43.569Z"
      },
      {
        "duration": 8,
        "start_time": "2023-04-06T17:57:43.585Z"
      },
      {
        "duration": 11,
        "start_time": "2023-04-06T17:57:43.595Z"
      },
      {
        "duration": 2,
        "start_time": "2023-04-06T17:57:43.608Z"
      },
      {
        "duration": 58,
        "start_time": "2023-04-06T17:57:43.612Z"
      },
      {
        "duration": 23,
        "start_time": "2023-04-06T17:57:43.672Z"
      },
      {
        "duration": 19,
        "start_time": "2023-04-06T17:57:43.697Z"
      },
      {
        "duration": 3,
        "start_time": "2023-04-06T17:57:43.717Z"
      },
      {
        "duration": 62,
        "start_time": "2023-04-06T17:57:43.721Z"
      },
      {
        "duration": 25,
        "start_time": "2023-04-06T17:57:43.784Z"
      },
      {
        "duration": 34,
        "start_time": "2023-04-06T17:57:43.810Z"
      },
      {
        "duration": 24,
        "start_time": "2023-04-06T17:57:43.845Z"
      },
      {
        "duration": 21,
        "start_time": "2023-04-06T17:57:43.871Z"
      },
      {
        "duration": 284,
        "start_time": "2023-04-06T17:57:43.893Z"
      },
      {
        "duration": 383,
        "start_time": "2023-04-06T17:57:44.179Z"
      },
      {
        "duration": 143,
        "start_time": "2023-04-06T17:57:44.564Z"
      },
      {
        "duration": 1703,
        "start_time": "2023-04-06T17:57:44.709Z"
      },
      {
        "duration": 28837,
        "start_time": "2023-04-06T17:57:46.414Z"
      },
      {
        "duration": 295,
        "start_time": "2023-04-06T17:58:15.254Z"
      },
      {
        "duration": 24,
        "start_time": "2023-04-06T17:58:15.550Z"
      },
      {
        "duration": 4,
        "start_time": "2023-04-06T17:58:15.576Z"
      },
      {
        "duration": 17,
        "start_time": "2023-04-06T17:58:15.581Z"
      },
      {
        "duration": 13,
        "start_time": "2023-04-06T17:58:15.600Z"
      },
      {
        "duration": 341,
        "start_time": "2023-04-06T17:58:15.615Z"
      },
      {
        "duration": 519,
        "start_time": "2023-04-06T17:58:15.957Z"
      },
      {
        "duration": 162,
        "start_time": "2023-04-06T17:58:16.478Z"
      },
      {
        "duration": 2292,
        "start_time": "2023-04-06T17:58:16.642Z"
      },
      {
        "duration": 38050,
        "start_time": "2023-04-06T17:58:18.935Z"
      },
      {
        "duration": 297,
        "start_time": "2023-04-06T17:58:56.987Z"
      },
      {
        "duration": 5,
        "start_time": "2023-04-06T17:58:57.288Z"
      },
      {
        "duration": 6,
        "start_time": "2023-04-06T17:58:57.295Z"
      },
      {
        "duration": 11,
        "start_time": "2023-04-06T17:58:57.303Z"
      },
      {
        "duration": 316,
        "start_time": "2023-04-06T17:58:57.315Z"
      },
      {
        "duration": 215,
        "start_time": "2023-04-06T17:58:57.633Z"
      },
      {
        "duration": 136,
        "start_time": "2023-04-06T17:58:57.850Z"
      },
      {
        "duration": 1091,
        "start_time": "2023-04-06T17:58:57.988Z"
      },
      {
        "duration": 12387,
        "start_time": "2023-04-06T17:58:59.081Z"
      },
      {
        "duration": 184,
        "start_time": "2023-04-06T17:59:11.470Z"
      },
      {
        "duration": 26,
        "start_time": "2023-04-06T17:59:11.656Z"
      },
      {
        "duration": 163844,
        "start_time": "2023-04-06T17:59:11.685Z"
      },
      {
        "duration": 15,
        "start_time": "2023-04-06T18:01:55.530Z"
      },
      {
        "duration": 341,
        "start_time": "2023-04-06T18:01:55.547Z"
      },
      {
        "duration": 14,
        "start_time": "2023-04-06T18:01:55.890Z"
      },
      {
        "duration": 24,
        "start_time": "2023-04-06T18:06:52.857Z"
      },
      {
        "duration": 306,
        "start_time": "2023-04-06T18:07:01.120Z"
      },
      {
        "duration": 163864,
        "start_time": "2023-04-06T18:08:06.992Z"
      },
      {
        "duration": 25,
        "start_time": "2023-04-06T18:10:50.858Z"
      },
      {
        "duration": 14,
        "start_time": "2023-04-06T18:11:09.407Z"
      },
      {
        "duration": 53,
        "start_time": "2023-04-06T18:11:43.330Z"
      },
      {
        "duration": 406,
        "start_time": "2023-04-06T18:11:45.368Z"
      },
      {
        "duration": 404,
        "start_time": "2023-04-06T18:11:55.003Z"
      },
      {
        "duration": 167036,
        "start_time": "2023-04-06T18:12:16.285Z"
      },
      {
        "duration": 18,
        "start_time": "2023-04-06T18:15:21.964Z"
      },
      {
        "duration": 322,
        "start_time": "2023-04-06T18:15:44.613Z"
      },
      {
        "duration": 428,
        "start_time": "2023-04-06T18:15:50.269Z"
      },
      {
        "duration": 357,
        "start_time": "2023-04-06T18:16:26.091Z"
      },
      {
        "duration": 333,
        "start_time": "2023-04-06T18:16:36.537Z"
      },
      {
        "duration": 19,
        "start_time": "2023-04-06T18:16:56.694Z"
      },
      {
        "duration": 317,
        "start_time": "2023-04-06T18:17:04.302Z"
      },
      {
        "duration": 314,
        "start_time": "2023-04-06T18:17:10.904Z"
      },
      {
        "duration": 264,
        "start_time": "2023-04-06T18:17:14.597Z"
      },
      {
        "duration": 467,
        "start_time": "2023-04-06T18:17:19.810Z"
      },
      {
        "duration": 410,
        "start_time": "2023-04-06T18:17:59.660Z"
      },
      {
        "duration": 525,
        "start_time": "2023-04-06T18:18:08.747Z"
      },
      {
        "duration": 403,
        "start_time": "2023-04-06T18:18:18.301Z"
      },
      {
        "duration": 359,
        "start_time": "2023-04-06T18:18:42.427Z"
      },
      {
        "duration": 576,
        "start_time": "2023-04-06T18:18:55.700Z"
      },
      {
        "duration": 485,
        "start_time": "2023-04-06T18:19:01.452Z"
      },
      {
        "duration": 401,
        "start_time": "2023-04-06T18:19:11.020Z"
      },
      {
        "duration": 368,
        "start_time": "2023-04-06T18:19:28.103Z"
      },
      {
        "duration": 474,
        "start_time": "2023-04-06T18:20:15.596Z"
      },
      {
        "duration": 322,
        "start_time": "2023-04-06T18:20:38.230Z"
      },
      {
        "duration": 453,
        "start_time": "2023-04-06T18:20:49.007Z"
      },
      {
        "duration": 389,
        "start_time": "2023-04-06T18:20:58.127Z"
      },
      {
        "duration": 2116,
        "start_time": "2023-04-07T16:43:45.036Z"
      },
      {
        "duration": 129,
        "start_time": "2023-04-07T16:43:47.155Z"
      },
      {
        "duration": 17,
        "start_time": "2023-04-07T16:43:47.286Z"
      },
      {
        "duration": 6,
        "start_time": "2023-04-07T16:43:47.306Z"
      },
      {
        "duration": 9,
        "start_time": "2023-04-07T16:43:47.314Z"
      },
      {
        "duration": 26,
        "start_time": "2023-04-07T16:43:47.333Z"
      },
      {
        "duration": 15,
        "start_time": "2023-04-07T16:43:47.367Z"
      },
      {
        "duration": 6,
        "start_time": "2023-04-07T16:43:47.383Z"
      },
      {
        "duration": 9,
        "start_time": "2023-04-07T16:43:47.391Z"
      },
      {
        "duration": 7,
        "start_time": "2023-04-07T16:43:47.402Z"
      },
      {
        "duration": 22,
        "start_time": "2023-04-07T16:43:47.411Z"
      },
      {
        "duration": 11,
        "start_time": "2023-04-07T16:43:47.443Z"
      },
      {
        "duration": 21,
        "start_time": "2023-04-07T16:43:47.455Z"
      },
      {
        "duration": 8,
        "start_time": "2023-04-07T16:43:47.479Z"
      },
      {
        "duration": 16,
        "start_time": "2023-04-07T16:43:47.489Z"
      },
      {
        "duration": 18,
        "start_time": "2023-04-07T16:43:47.507Z"
      },
      {
        "duration": 55,
        "start_time": "2023-04-07T16:43:47.527Z"
      },
      {
        "duration": 154,
        "start_time": "2023-04-07T16:43:47.584Z"
      },
      {
        "duration": 25,
        "start_time": "2023-04-07T16:43:47.746Z"
      },
      {
        "duration": 133,
        "start_time": "2023-04-07T16:43:47.775Z"
      },
      {
        "duration": 24,
        "start_time": "2023-04-07T16:43:47.910Z"
      },
      {
        "duration": 7,
        "start_time": "2023-04-07T16:43:47.935Z"
      },
      {
        "duration": 42,
        "start_time": "2023-04-07T16:43:47.943Z"
      },
      {
        "duration": 4,
        "start_time": "2023-04-07T16:43:47.987Z"
      },
      {
        "duration": 10,
        "start_time": "2023-04-07T16:43:47.992Z"
      },
      {
        "duration": 36,
        "start_time": "2023-04-07T16:43:48.004Z"
      },
      {
        "duration": 17,
        "start_time": "2023-04-07T16:43:48.048Z"
      },
      {
        "duration": 8,
        "start_time": "2023-04-07T16:43:48.067Z"
      },
      {
        "duration": 13,
        "start_time": "2023-04-07T16:43:48.077Z"
      },
      {
        "duration": 4,
        "start_time": "2023-04-07T16:43:54.265Z"
      },
      {
        "duration": 24,
        "start_time": "2023-04-07T16:43:56.085Z"
      },
      {
        "duration": 22,
        "start_time": "2023-04-07T16:44:01.175Z"
      },
      {
        "duration": 22,
        "start_time": "2023-04-07T16:44:01.694Z"
      },
      {
        "duration": 3,
        "start_time": "2023-04-07T16:45:30.709Z"
      },
      {
        "duration": 34,
        "start_time": "2023-04-07T16:45:31.364Z"
      },
      {
        "duration": 25,
        "start_time": "2023-04-07T16:45:32.294Z"
      },
      {
        "duration": 21,
        "start_time": "2023-04-07T16:45:32.961Z"
      }
    ],
    "kernelspec": {
      "display_name": "Python 3 (ipykernel)",
      "language": "python",
      "name": "python3"
    },
    "language_info": {
      "codemirror_mode": {
        "name": "ipython",
        "version": 3
      },
      "file_extension": ".py",
      "mimetype": "text/x-python",
      "name": "python",
      "nbconvert_exporter": "python",
      "pygments_lexer": "ipython3",
      "version": "3.9.5"
    },
    "toc": {
      "base_numbering": 1,
      "nav_menu": {},
      "number_sections": true,
      "sideBar": true,
      "skip_h1_title": true,
      "title_cell": "Содержание",
      "title_sidebar": "Contents",
      "toc_cell": true,
      "toc_position": {
        "height": "calc(100% - 180px)",
        "left": "10px",
        "top": "150px",
        "width": "165px"
      },
      "toc_section_display": true,
      "toc_window_display": true
    },
    "colab": {
      "provenance": []
    }
  },
  "nbformat": 4,
  "nbformat_minor": 0
}