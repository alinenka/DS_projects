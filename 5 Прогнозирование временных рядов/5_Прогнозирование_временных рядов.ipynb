{
  "cells": [
    {
      "cell_type": "markdown",
      "metadata": {
        "toc": true,
        "id": "H0l6jGTeO_AN"
      },
      "source": [
        "<h1>Содержание<span class=\"tocSkip\"></span></h1>\n",
        "<div class=\"toc\"><ul class=\"toc-item\"><li><span><a href=\"#Подготовка\" data-toc-modified-id=\"Подготовка-1\"><span class=\"toc-item-num\">1&nbsp;&nbsp;</span>Подготовка</a></span></li><li><span><a href=\"#Анализ\" data-toc-modified-id=\"Анализ-2\"><span class=\"toc-item-num\">2&nbsp;&nbsp;</span>Анализ</a></span></li><li><span><a href=\"#Обучение\" data-toc-modified-id=\"Обучение-3\"><span class=\"toc-item-num\">3&nbsp;&nbsp;</span>Обучение</a></span><ul class=\"toc-item\"><li><span><a href=\"#Линейная-регрессия\" data-toc-modified-id=\"Линейная-регрессия-3.1\"><span class=\"toc-item-num\">3.1&nbsp;&nbsp;</span>Линейная регрессия</a></span></li><li><span><a href=\"#Модель--решающего-дерева\" data-toc-modified-id=\"Модель--решающего-дерева-3.2\"><span class=\"toc-item-num\">3.2&nbsp;&nbsp;</span>Модель  решающего дерева</a></span></li><li><span><a href=\"#Модель--случайного-леса\" data-toc-modified-id=\"Модель--случайного-леса-3.3\"><span class=\"toc-item-num\">3.3&nbsp;&nbsp;</span>Модель  случайного леса</a></span></li><li><span><a href=\"#Модель--CatBoost\" data-toc-modified-id=\"Модель--CatBoost-3.4\"><span class=\"toc-item-num\">3.4&nbsp;&nbsp;</span>Модель  CatBoost</a></span></li><li><span><a href=\"#Модель--LightGBM\" data-toc-modified-id=\"Модель--LightGBM-3.5\"><span class=\"toc-item-num\">3.5&nbsp;&nbsp;</span>Модель  LightGBM</a></span></li></ul></li><li><span><a href=\"#Тестирование\" data-toc-modified-id=\"Тестирование-4\"><span class=\"toc-item-num\">4&nbsp;&nbsp;</span>Тестирование</a></span></li><li><span><a href=\"#Общий-вывод\" data-toc-modified-id=\"Общий-вывод-5\"><span class=\"toc-item-num\">5&nbsp;&nbsp;</span>Общий вывод</a></span></li><li><span><a href=\"#Чек-лист-проверки\" data-toc-modified-id=\"Чек-лист-проверки-6\"><span class=\"toc-item-num\">6&nbsp;&nbsp;</span>Чек-лист проверки</a></span></li></ul></div>"
      ]
    },
    {
      "cell_type": "markdown",
      "metadata": {
        "id": "aRciLHfOO_AN"
      },
      "source": [
        "#  Прогнозирование заказов такси"
      ]
    },
    {
      "cell_type": "markdown",
      "metadata": {
        "id": "clNefMeCO_AO"
      },
      "source": [
        "Разработка системы предсказания объема заказа.\n",
        "\n",
        "Компания «Чётенькое такси» собрала исторические данные о заказах такси в аэропортах. Чтобы привлекать больше водителей в период пиковой нагрузки, нужно спрогнозировать количество заказов такси на следующий час. Постройте модель для такого предсказания.\n",
        "\n",
        "Значение метрики *RMSE* на тестовой выборке должно быть не больше 48.\n",
        "\n",
        "Вам нужно:\n",
        "\n",
        "1. Загрузить данные и выполнить их ресемплирование по одному часу.\n",
        "2. Проанализировать данные.\n",
        "3. Обучить разные модели с различными гиперпараметрами. Сделать тестовую выборку размером 10% от исходных данных.\n",
        "4. Проверить данные на тестовой выборке и сделать выводы.\n",
        "\n",
        "\n",
        "Данные лежат в файле `taxi.csv`. Количество заказов находится в столбце `num_orders` (от англ. *number of orders*, «число заказов»)."
      ]
    },
    {
      "cell_type": "markdown",
      "metadata": {
        "id": "u2jdbiEaO_AO"
      },
      "source": [
        "## Подготовка"
      ]
    },
    {
      "cell_type": "markdown",
      "metadata": {
        "id": "CtGc2-qvO_AO"
      },
      "source": [
        "Подключение бибилиотек"
      ]
    },
    {
      "cell_type": "code",
      "execution_count": null,
      "metadata": {
        "id": "jlqN8WZsO_AP"
      },
      "outputs": [],
      "source": [
        "import pandas as pd\n",
        "import seaborn as sns\n",
        "from matplotlib import pyplot as plt\n",
        "import warnings\n",
        "from statsmodels.tsa.stattools import adfuller\n",
        "from sklearn.model_selection import train_test_split\n",
        "from sklearn.linear_model import LinearRegression\n",
        "from sklearn.tree import DecisionTreeRegressor\n",
        "from sklearn.ensemble import RandomForestRegressor\n",
        "from sklearn.model_selection import GridSearchCV\n",
        "from catboost import CatBoostRegressor\n",
        "from statsmodels.tsa.seasonal import seasonal_decompose\n",
        "import lightgbm as lgb\n",
        "from sklearn.metrics import mean_squared_error\n",
        "from sklearn.model_selection import TimeSeriesSplit\n",
        "import numpy as np\n",
        "warnings.filterwarnings('ignore')"
      ]
    },
    {
      "cell_type": "markdown",
      "metadata": {
        "id": "CMn21UdCO_AP"
      },
      "source": [
        "Открытие файла, сразу установим дату в индекс, отсортируем датасет ипо инлдексу и посмотрим на него:"
      ]
    },
    {
      "cell_type": "code",
      "execution_count": null,
      "metadata": {
        "id": "kkeiJPc4O_AQ",
        "outputId": "01038647-c0c5-4d39-8fb7-3ca887e69255"
      },
      "outputs": [
        {
          "name": "stdout",
          "output_type": "stream",
          "text": [
            "<class 'pandas.core.frame.DataFrame'>\n",
            "DatetimeIndex: 26496 entries, 2018-03-01 00:00:00 to 2018-08-31 23:50:00\n",
            "Data columns (total 1 columns):\n",
            " #   Column      Non-Null Count  Dtype\n",
            "---  ------      --------------  -----\n",
            " 0   num_orders  26496 non-null  int64\n",
            "dtypes: int64(1)\n",
            "memory usage: 414.0 KB\n"
          ]
        }
      ],
      "source": [
        "df = pd.read_csv(\"/datasets/taxi.csv\", index_col=[0], parse_dates=[0])\n",
        "df.sort_index(inplace=True)\n",
        "df.info()"
      ]
    },
    {
      "cell_type": "code",
      "execution_count": null,
      "metadata": {
        "id": "ipG9bqAsO_AQ",
        "outputId": "4ad72d6c-3ab4-4370-aaf2-2db697c7ae82"
      },
      "outputs": [
        {
          "data": {
            "text/html": [
              "<div>\n",
              "<style scoped>\n",
              "    .dataframe tbody tr th:only-of-type {\n",
              "        vertical-align: middle;\n",
              "    }\n",
              "\n",
              "    .dataframe tbody tr th {\n",
              "        vertical-align: top;\n",
              "    }\n",
              "\n",
              "    .dataframe thead th {\n",
              "        text-align: right;\n",
              "    }\n",
              "</style>\n",
              "<table border=\"1\" class=\"dataframe\">\n",
              "  <thead>\n",
              "    <tr style=\"text-align: right;\">\n",
              "      <th></th>\n",
              "      <th>num_orders</th>\n",
              "    </tr>\n",
              "    <tr>\n",
              "      <th>datetime</th>\n",
              "      <th></th>\n",
              "    </tr>\n",
              "  </thead>\n",
              "  <tbody>\n",
              "    <tr>\n",
              "      <th>2018-03-01 00:00:00</th>\n",
              "      <td>9</td>\n",
              "    </tr>\n",
              "    <tr>\n",
              "      <th>2018-03-01 00:10:00</th>\n",
              "      <td>14</td>\n",
              "    </tr>\n",
              "    <tr>\n",
              "      <th>2018-03-01 00:20:00</th>\n",
              "      <td>28</td>\n",
              "    </tr>\n",
              "    <tr>\n",
              "      <th>2018-03-01 00:30:00</th>\n",
              "      <td>20</td>\n",
              "    </tr>\n",
              "    <tr>\n",
              "      <th>2018-03-01 00:40:00</th>\n",
              "      <td>32</td>\n",
              "    </tr>\n",
              "    <tr>\n",
              "      <th>2018-03-01 00:50:00</th>\n",
              "      <td>21</td>\n",
              "    </tr>\n",
              "    <tr>\n",
              "      <th>2018-03-01 01:00:00</th>\n",
              "      <td>7</td>\n",
              "    </tr>\n",
              "    <tr>\n",
              "      <th>2018-03-01 01:10:00</th>\n",
              "      <td>5</td>\n",
              "    </tr>\n",
              "    <tr>\n",
              "      <th>2018-03-01 01:20:00</th>\n",
              "      <td>17</td>\n",
              "    </tr>\n",
              "    <tr>\n",
              "      <th>2018-03-01 01:30:00</th>\n",
              "      <td>12</td>\n",
              "    </tr>\n",
              "  </tbody>\n",
              "</table>\n",
              "</div>"
            ],
            "text/plain": [
              "                     num_orders\n",
              "datetime                       \n",
              "2018-03-01 00:00:00           9\n",
              "2018-03-01 00:10:00          14\n",
              "2018-03-01 00:20:00          28\n",
              "2018-03-01 00:30:00          20\n",
              "2018-03-01 00:40:00          32\n",
              "2018-03-01 00:50:00          21\n",
              "2018-03-01 01:00:00           7\n",
              "2018-03-01 01:10:00           5\n",
              "2018-03-01 01:20:00          17\n",
              "2018-03-01 01:30:00          12"
            ]
          },
          "execution_count": 3,
          "metadata": {},
          "output_type": "execute_result"
        }
      ],
      "source": [
        "df.head(10)"
      ]
    },
    {
      "cell_type": "markdown",
      "metadata": {
        "id": "ZkaETsrKO_AR"
      },
      "source": [
        "В датасете 26496 строк, данные с 1 марта 2018 по 31 августа 2018 за каждые 10 минут"
      ]
    },
    {
      "cell_type": "markdown",
      "metadata": {
        "id": "vfTUIk32O_AR"
      },
      "source": [
        "Проверим на наличие пропущенных значений"
      ]
    },
    {
      "cell_type": "code",
      "execution_count": null,
      "metadata": {
        "id": "wSTJM4TvO_AR",
        "outputId": "00a529f3-2ccc-4bde-c379-d2959eaa7a56"
      },
      "outputs": [
        {
          "name": "stdout",
          "output_type": "stream",
          "text": [
            "Пропущенных значений: num_orders    0\n",
            "dtype: int64\n"
          ]
        }
      ],
      "source": [
        "print('Пропущенных значений:',df.isnull().sum())"
      ]
    },
    {
      "cell_type": "markdown",
      "metadata": {
        "id": "m1qMrBnVO_AR"
      },
      "source": [
        "Проверка,что индекс монотонный"
      ]
    },
    {
      "cell_type": "code",
      "execution_count": null,
      "metadata": {
        "id": "tiFXQ0-bO_AR",
        "outputId": "9dd417b4-7d7c-48b2-dbfb-36cdcd140f87"
      },
      "outputs": [
        {
          "name": "stdout",
          "output_type": "stream",
          "text": [
            "True\n"
          ]
        }
      ],
      "source": [
        "print(df.index.is_monotonic)"
      ]
    },
    {
      "cell_type": "markdown",
      "metadata": {
        "id": "-gD6dKRQO_AR"
      },
      "source": [
        "Проведем ресэмплированные данных по 1 часу, просуммировав количество заказов за каждый час:"
      ]
    },
    {
      "cell_type": "code",
      "execution_count": null,
      "metadata": {
        "id": "5rsaJifWO_AS",
        "outputId": "9e57f4f0-2a09-4caf-d8c5-818b72709797"
      },
      "outputs": [
        {
          "data": {
            "text/html": [
              "<div>\n",
              "<style scoped>\n",
              "    .dataframe tbody tr th:only-of-type {\n",
              "        vertical-align: middle;\n",
              "    }\n",
              "\n",
              "    .dataframe tbody tr th {\n",
              "        vertical-align: top;\n",
              "    }\n",
              "\n",
              "    .dataframe thead th {\n",
              "        text-align: right;\n",
              "    }\n",
              "</style>\n",
              "<table border=\"1\" class=\"dataframe\">\n",
              "  <thead>\n",
              "    <tr style=\"text-align: right;\">\n",
              "      <th></th>\n",
              "      <th>num_orders</th>\n",
              "    </tr>\n",
              "    <tr>\n",
              "      <th>datetime</th>\n",
              "      <th></th>\n",
              "    </tr>\n",
              "  </thead>\n",
              "  <tbody>\n",
              "    <tr>\n",
              "      <th>2018-03-01 00:00:00</th>\n",
              "      <td>124</td>\n",
              "    </tr>\n",
              "    <tr>\n",
              "      <th>2018-03-01 01:00:00</th>\n",
              "      <td>85</td>\n",
              "    </tr>\n",
              "    <tr>\n",
              "      <th>2018-03-01 02:00:00</th>\n",
              "      <td>71</td>\n",
              "    </tr>\n",
              "    <tr>\n",
              "      <th>2018-03-01 03:00:00</th>\n",
              "      <td>66</td>\n",
              "    </tr>\n",
              "    <tr>\n",
              "      <th>2018-03-01 04:00:00</th>\n",
              "      <td>43</td>\n",
              "    </tr>\n",
              "    <tr>\n",
              "      <th>2018-03-01 05:00:00</th>\n",
              "      <td>6</td>\n",
              "    </tr>\n",
              "    <tr>\n",
              "      <th>2018-03-01 06:00:00</th>\n",
              "      <td>12</td>\n",
              "    </tr>\n",
              "    <tr>\n",
              "      <th>2018-03-01 07:00:00</th>\n",
              "      <td>15</td>\n",
              "    </tr>\n",
              "    <tr>\n",
              "      <th>2018-03-01 08:00:00</th>\n",
              "      <td>34</td>\n",
              "    </tr>\n",
              "    <tr>\n",
              "      <th>2018-03-01 09:00:00</th>\n",
              "      <td>69</td>\n",
              "    </tr>\n",
              "  </tbody>\n",
              "</table>\n",
              "</div>"
            ],
            "text/plain": [
              "                     num_orders\n",
              "datetime                       \n",
              "2018-03-01 00:00:00         124\n",
              "2018-03-01 01:00:00          85\n",
              "2018-03-01 02:00:00          71\n",
              "2018-03-01 03:00:00          66\n",
              "2018-03-01 04:00:00          43\n",
              "2018-03-01 05:00:00           6\n",
              "2018-03-01 06:00:00          12\n",
              "2018-03-01 07:00:00          15\n",
              "2018-03-01 08:00:00          34\n",
              "2018-03-01 09:00:00          69"
            ]
          },
          "execution_count": 6,
          "metadata": {},
          "output_type": "execute_result"
        }
      ],
      "source": [
        "df = df .resample('1H').sum()\n",
        "df.head(10)"
      ]
    },
    {
      "cell_type": "markdown",
      "metadata": {
        "id": "9lJtrBBvO_AS"
      },
      "source": [
        "**Вывод**\n",
        "\n",
        "В датасете 26496 строк, данные по числу заказов такси за полгода: с 1 марта 2018 по 31 августа 2018, за каждые 10 минут. Мы проверили данные на дубликаты и провели ресэмплирование данных на каждый час."
      ]
    },
    {
      "cell_type": "markdown",
      "metadata": {
        "id": "U8Tx6qfiO_AS"
      },
      "source": [
        "## Анализ"
      ]
    },
    {
      "cell_type": "markdown",
      "metadata": {
        "id": "bXnqVT1VO_AS"
      },
      "source": [
        "Посмотрим на данные за все время:"
      ]
    },
    {
      "cell_type": "code",
      "execution_count": null,
      "metadata": {
        "id": "hInnry2NO_AS",
        "outputId": "cc5315de-bb42-45f4-92a6-d294f7f7d51d"
      },
      "outputs": [
        {
          "data": {
            "image/png": "[encoded data removed]",
            "text/plain": [
              "<Figure size 1080x576 with 1 Axes>"
            ]
          },
          "metadata": {
            "needs_background": "light"
          },
          "output_type": "display_data"
        }
      ],
      "source": [
        "df.plot(figsize=(15,8))\n",
        "plt.title(\"График вызовов такси за март-август 2018\")\n",
        "plt.xlabel('Дата')\n",
        "plt.ylabel(\"Количество вызовов\");"
      ]
    },
    {
      "cell_type": "markdown",
      "metadata": {
        "id": "_jgCfNt4O_AU"
      },
      "source": [
        "Есть намек на восходящий тренд, но при таком объеме данных сложно анализировтаь их покграфику, разобем временной ряд на составляющие:"
      ]
    },
    {
      "cell_type": "code",
      "execution_count": null,
      "metadata": {
        "id": "oOtWG1GQO_AU"
      },
      "outputs": [],
      "source": [
        "decomposed = seasonal_decompose(df)"
      ]
    },
    {
      "cell_type": "markdown",
      "metadata": {
        "id": "y3wEZBvhO_AU"
      },
      "source": [
        "Выведем полученные составляющие на графике: тренд, сезонность, шум. На графике тренда добавим график скользящей средней по неделям:"
      ]
    },
    {
      "cell_type": "code",
      "execution_count": null,
      "metadata": {
        "id": "C5MZlZxcO_AU",
        "outputId": "f9881c7f-5a59-406b-c9e8-47180ccbb27f"
      },
      "outputs": [
        {
          "data": {
            "image/png": "[encoded data removed]",
            "text/plain": [
              "<Figure size 1080x576 with 2 Axes>"
            ]
          },
          "metadata": {
            "needs_background": "light"
          },
          "output_type": "display_data"
        }
      ],
      "source": [
        "fig, ax = plt.subplots(figsize=(15,8))\n",
        "ax1 = ax.twinx()\n",
        "ax.plot(decomposed.trend.rolling(168).mean(),color='r')\n",
        "ax1.plot(decomposed.trend,color='b')\n",
        "plt.title(\"Тренд вызовов такси за март-сентябрь 2018\")\n",
        "plt.xlabel('Дата')\n",
        "plt.ylabel(\"Количество вызовов\");"
      ]
    },
    {
      "cell_type": "markdown",
      "metadata": {
        "id": "muQc9KeRO_AV"
      },
      "source": [
        "Наблюдаем восходящий тренд с марта по август с небольшими провалами"
      ]
    },
    {
      "cell_type": "code",
      "execution_count": null,
      "metadata": {
        "id": "nSoH_dNsO_AV",
        "outputId": "cbcc3852-3783-40ef-8c0c-00ee2ea4e3b0"
      },
      "outputs": [
        {
          "data": {
            "image/png": "[encoded data removed]",
            "text/plain": [
              "<Figure size 1080x576 with 1 Axes>"
            ]
          },
          "metadata": {
            "needs_background": "light"
          },
          "output_type": "display_data"
        }
      ],
      "source": [
        "#decomposed.seasonal.plot(figsize=(15,8))\n",
        "decomposed.seasonal.plot(ax=plt.gca(), figsize=(15,8))\n",
        "plt.title(\"Сезонная составляющая вызовов такси за март-сентябрь 2018\")\n",
        "plt.xlabel('Дата')\n",
        "plt.ylabel(\"Количество вызовов\");"
      ]
    },
    {
      "cell_type": "markdown",
      "metadata": {
        "id": "oYOZll9rO_AV"
      },
      "source": [
        "В таком масштабе ничего не видно, проанализируем сезонную составляющую за сутки, т.к. при почасовом ресемплинге именно такую сезоноость отловит декомпозиция:"
      ]
    },
    {
      "cell_type": "code",
      "execution_count": null,
      "metadata": {
        "id": "QsshXxSaO_AV",
        "outputId": "65a32775-787f-4d5d-f61e-2691e4bc0d4d"
      },
      "outputs": [
        {
          "data": {
            "image/png": "[encoded data removed]",
            "text/plain": [
              "<Figure size 1080x576 with 1 Axes>"
            ]
          },
          "metadata": {
            "needs_background": "light"
          },
          "output_type": "display_data"
        }
      ],
      "source": [
        "#decomposed.seasonal.plot(figsize=(15,8))\n",
        "decomposed.seasonal['2018-08-30': '2018-08-31'].plot(ax=plt.gca(), figsize=(15,8))\n",
        "plt.title(\"Тренд вызовов такси за март-сентябрь 2018\")\n",
        "plt.xlabel('Дата')\n",
        "plt.ylabel(\"Количество вызовов\");"
      ]
    },
    {
      "cell_type": "markdown",
      "metadata": {
        "id": "iUrXPP3UO_AW"
      },
      "source": [
        "Тут уже наблюдаем явные провалы количества вызовов к 6 утра и подъем количества вызовов с 18 до 24ч."
      ]
    },
    {
      "cell_type": "code",
      "execution_count": null,
      "metadata": {
        "id": "OzWMO9jYO_AW",
        "outputId": "ae4c5bc3-9696-4502-e27e-0c934dfafa0d"
      },
      "outputs": [
        {
          "data": {
            "image/png": "[encoded data removed]",
            "text/plain": [
              "<Figure size 1080x576 with 1 Axes>"
            ]
          },
          "metadata": {
            "needs_background": "light"
          },
          "output_type": "display_data"
        }
      ],
      "source": [
        "decomposed.resid.plot(figsize=(15,8))\n",
        "plt.title(\"Шумы декомпозиции вызовов такси за март-сентябрь 2018\")\n",
        "plt.xlabel('Дата')\n",
        "plt.ylabel(\"Количество вызовов\");"
      ]
    },
    {
      "cell_type": "markdown",
      "metadata": {
        "id": "Pxifs1yNO_AW"
      },
      "source": [
        "А теперь попробуем выделить тренд и сезонность на ресемплированному по суткам датасете, тогда декомпозиция должна уловить другой масштаб трендов и сезонности."
      ]
    },
    {
      "cell_type": "markdown",
      "metadata": {
        "id": "awZVquBUO_AX"
      },
      "source": [
        "Ресэмплирование по 24ч"
      ]
    },
    {
      "cell_type": "code",
      "execution_count": null,
      "metadata": {
        "id": "yFOFSRX2O_AX",
        "outputId": "bbeae96d-13d4-4205-8956-030603d477bf"
      },
      "outputs": [
        {
          "data": {
            "text/html": [
              "<div>\n",
              "<style scoped>\n",
              "    .dataframe tbody tr th:only-of-type {\n",
              "        vertical-align: middle;\n",
              "    }\n",
              "\n",
              "    .dataframe tbody tr th {\n",
              "        vertical-align: top;\n",
              "    }\n",
              "\n",
              "    .dataframe thead th {\n",
              "        text-align: right;\n",
              "    }\n",
              "</style>\n",
              "<table border=\"1\" class=\"dataframe\">\n",
              "  <thead>\n",
              "    <tr style=\"text-align: right;\">\n",
              "      <th></th>\n",
              "      <th>num_orders</th>\n",
              "    </tr>\n",
              "    <tr>\n",
              "      <th>datetime</th>\n",
              "      <th></th>\n",
              "    </tr>\n",
              "  </thead>\n",
              "  <tbody>\n",
              "    <tr>\n",
              "      <th>2018-03-01</th>\n",
              "      <td>1364</td>\n",
              "    </tr>\n",
              "    <tr>\n",
              "      <th>2018-03-02</th>\n",
              "      <td>1506</td>\n",
              "    </tr>\n",
              "    <tr>\n",
              "      <th>2018-03-03</th>\n",
              "      <td>1290</td>\n",
              "    </tr>\n",
              "    <tr>\n",
              "      <th>2018-03-04</th>\n",
              "      <td>1141</td>\n",
              "    </tr>\n",
              "    <tr>\n",
              "      <th>2018-03-05</th>\n",
              "      <td>1259</td>\n",
              "    </tr>\n",
              "    <tr>\n",
              "      <th>2018-03-06</th>\n",
              "      <td>1109</td>\n",
              "    </tr>\n",
              "    <tr>\n",
              "      <th>2018-03-07</th>\n",
              "      <td>1441</td>\n",
              "    </tr>\n",
              "    <tr>\n",
              "      <th>2018-03-08</th>\n",
              "      <td>1659</td>\n",
              "    </tr>\n",
              "    <tr>\n",
              "      <th>2018-03-09</th>\n",
              "      <td>1076</td>\n",
              "    </tr>\n",
              "    <tr>\n",
              "      <th>2018-03-10</th>\n",
              "      <td>1267</td>\n",
              "    </tr>\n",
              "  </tbody>\n",
              "</table>\n",
              "</div>"
            ],
            "text/plain": [
              "            num_orders\n",
              "datetime              \n",
              "2018-03-01        1364\n",
              "2018-03-02        1506\n",
              "2018-03-03        1290\n",
              "2018-03-04        1141\n",
              "2018-03-05        1259\n",
              "2018-03-06        1109\n",
              "2018-03-07        1441\n",
              "2018-03-08        1659\n",
              "2018-03-09        1076\n",
              "2018-03-10        1267"
            ]
          },
          "execution_count": 13,
          "metadata": {},
          "output_type": "execute_result"
        }
      ],
      "source": [
        "df_days = df .resample('24H').sum()\n",
        "df_days.head(10)"
      ]
    },
    {
      "cell_type": "markdown",
      "metadata": {
        "id": "GtqMi83jO_AX"
      },
      "source": [
        "Декомпозируем новый датасет и выводим на гарфики тренд,сезонность"
      ]
    },
    {
      "cell_type": "code",
      "execution_count": null,
      "metadata": {
        "id": "bq-otmGnO_AX"
      },
      "outputs": [],
      "source": [
        "decomposed_days = seasonal_decompose(df_days)"
      ]
    },
    {
      "cell_type": "code",
      "execution_count": null,
      "metadata": {
        "id": "atOeYhArO_AX",
        "outputId": "e3470841-7dda-42d7-d0d8-b341657c6302"
      },
      "outputs": [
        {
          "data": {
            "image/png": "[encoded data removed]",
            "text/plain": [
              "<Figure size 1080x576 with 2 Axes>"
            ]
          },
          "metadata": {
            "needs_background": "light"
          },
          "output_type": "display_data"
        }
      ],
      "source": [
        "fig, ax = plt.subplots(figsize=(15,8))\n",
        "ax1 = ax.twinx()\n",
        "ax.plot(decomposed_days.trend.rolling(7).mean(),color='r')\n",
        "ax1.plot(decomposed_days.trend,color='b')\n",
        "plt.title(\"Тренд вызовов такси за март-сентябрь 2018 по дням\")\n",
        "plt.xlabel('Дата')\n",
        "plt.ylabel(\"Количество вызовов\");"
      ]
    },
    {
      "cell_type": "code",
      "execution_count": null,
      "metadata": {
        "id": "tfvERYqNO_AY",
        "outputId": "441d57b9-2294-4356-ffb4-d6ae79818a3a"
      },
      "outputs": [
        {
          "data": {
            "image/png": "[encoded data removed]",
            "text/plain": [
              "<Figure size 1080x576 with 1 Axes>"
            ]
          },
          "metadata": {
            "needs_background": "light"
          },
          "output_type": "display_data"
        }
      ],
      "source": [
        "decomposed_days.seasonal['2018-03-04': '2018-03-18'].plot(ax=plt.gca(), figsize=(15,8))\n",
        "plt.title(\"Сезонная составляющая вызовов такси за март-сентябрь 2018 по дням\")\n",
        "plt.xlabel('Дата')\n",
        "plt.ylabel(\"Количество вызовов\");"
      ]
    },
    {
      "cell_type": "markdown",
      "metadata": {
        "id": "i0p_xeqaO_AY"
      },
      "source": [
        "При таком разбиении стала видна недельная сезонная составляющая. Пики по понедельникам и пятницам и спады во вторники и воскресенья."
      ]
    },
    {
      "cell_type": "markdown",
      "metadata": {
        "id": "kGjDO5L8O_AY"
      },
      "source": [
        "Общая тенденция к росту числа заказов, больше заказывают в вечернее время, к 6 утра число заказов падает."
      ]
    },
    {
      "cell_type": "markdown",
      "metadata": {
        "id": "SPDIlrIoO_AZ"
      },
      "source": [
        "Когда мы создаем прогнозирующую Модель (Model) для временных рядов, нам требуются стационарные временные ряды, то есть обладающие одинаковой Ковариацией Выборок одного размера.\n",
        "\n",
        "Обратимся к тесту ADF (расширенный тест Дики – Фуллера) – проверке Статистической значимости, которая демонстрирует результаты проверки Нулевой гипотезы и Альтернативной. В результате мы получим P-значение, из которого можно сделать вывод о Стационарности Временного ряда."
      ]
    },
    {
      "cell_type": "code",
      "execution_count": null,
      "metadata": {
        "id": "4XtYXmeBO_AZ",
        "outputId": "7be7ca68-7993-4321-d295-0da9f8bc7d96"
      },
      "outputs": [
        {
          "name": "stdout",
          "output_type": "stream",
          "text": [
            "Критерий ADF: -3.068924\n",
            "P-значение: 0.028940\n",
            "Критические значения:\n",
            "\t1%: -3.432\n",
            "\t5%: -2.862\n",
            "\t10%: -2.567\n",
            "Нулевая гипотеза отвергнута – Временной ряд стационарен\n"
          ]
        }
      ],
      "source": [
        "result = adfuller(df['num_orders'], autolag='AIC')\n",
        "print('Критерий ADF: %f' % result[0])\n",
        "print('P-значение: %f' % result[1])\n",
        "print('Критические значения:')\n",
        "for key, value in result[4].items():\n",
        "    print('\\t%s: %.3f' % (key, value))\n",
        "if result[0] < result[4][\"5%\"]:\n",
        "    print (\"Нулевая гипотеза отвергнута – Временной ряд стационарен\")\n",
        "else:\n",
        "    print (\"Нулевая гипотеза не отвергнута – Временной ряд не стационарен\")"
      ]
    },
    {
      "cell_type": "markdown",
      "metadata": {
        "id": "AccFaDtjO_AZ"
      },
      "source": [
        "**Вывод**\n",
        "\n",
        "Мы проанализировали временной ряд, увидели общую тенденцию к росту числа заказов такси, проанализировали сезоные составляющие  - обнаружили суточную сезонность, недельную сезонность, убедились по тесту Дики-Фуллера в стационарности временного ряда,а знаичт можно переходить к обучению моделей и прогнозированию."
      ]
    },
    {
      "cell_type": "markdown",
      "metadata": {
        "id": "lHGT4t5uO_Aa"
      },
      "source": [
        "## Обучение"
      ]
    },
    {
      "cell_type": "markdown",
      "metadata": {
        "id": "joxRE2GLO_Aa"
      },
      "source": [
        "Создадим функцию, которая добавляет в датасет новые признаки (час, день недели,месяц, отстающие знаечния, скользящее среднее)  с гиперпараметрами -максимальное отставание и размер окна:"
      ]
    },
    {
      "cell_type": "code",
      "execution_count": null,
      "metadata": {
        "id": "GdhAjWQjO_Ab"
      },
      "outputs": [],
      "source": [
        "def make_features(data, max_lag, rolling_mean_size):\n",
        "\n",
        "    data_copy = data.copy()\n",
        "    data_copy['hour'] = data.index.hour\n",
        "    data_copy['dayofweek'] = data.index.dayofweek\n",
        "\n",
        "    for lag in range(1, max_lag + 1):\n",
        "        data_copy['lag_{}'.format(lag)] = data_copy['num_orders'].shift(lag)\n",
        "\n",
        "    data_copy['rolling_mean'] = data_copy['num_orders'].shift().rolling(rolling_mean_size).mean()\n",
        "    data_copy.dropna(inplace=True)\n",
        "    return data_copy"
      ]
    },
    {
      "cell_type": "markdown",
      "metadata": {
        "id": "ukrbmoFNO_Ab"
      },
      "source": [
        "Гиперпараметры будем подбирать эксперементально, для начала попробуем максимальное отставание в 5 и окно в 24ч"
      ]
    },
    {
      "cell_type": "code",
      "execution_count": null,
      "metadata": {
        "id": "NS-ZoR6YO_Ac",
        "outputId": "87f5f9a8-8a6a-4bad-caa2-631238e2c9ee"
      },
      "outputs": [
        {
          "data": {
            "text/plain": [
              "(4392, 28)"
            ]
          },
          "execution_count": 19,
          "metadata": {},
          "output_type": "execute_result"
        }
      ],
      "source": [
        "data = make_features(df, 24, 24)\n",
        "data.shape"
      ]
    },
    {
      "cell_type": "code",
      "execution_count": null,
      "metadata": {
        "id": "jFCgzjekO_Ac",
        "outputId": "7554cb8c-6a04-43ef-ce0e-4cf8c6fabdfc"
      },
      "outputs": [
        {
          "data": {
            "text/html": [
              "<div>\n",
              "<style scoped>\n",
              "    .dataframe tbody tr th:only-of-type {\n",
              "        vertical-align: middle;\n",
              "    }\n",
              "\n",
              "    .dataframe tbody tr th {\n",
              "        vertical-align: top;\n",
              "    }\n",
              "\n",
              "    .dataframe thead th {\n",
              "        text-align: right;\n",
              "    }\n",
              "</style>\n",
              "<table border=\"1\" class=\"dataframe\">\n",
              "  <thead>\n",
              "    <tr style=\"text-align: right;\">\n",
              "      <th></th>\n",
              "      <th>num_orders</th>\n",
              "      <th>hour</th>\n",
              "      <th>dayofweek</th>\n",
              "      <th>lag_1</th>\n",
              "      <th>lag_2</th>\n",
              "      <th>lag_3</th>\n",
              "      <th>lag_4</th>\n",
              "      <th>lag_5</th>\n",
              "      <th>lag_6</th>\n",
              "      <th>lag_7</th>\n",
              "      <th>...</th>\n",
              "      <th>lag_16</th>\n",
              "      <th>lag_17</th>\n",
              "      <th>lag_18</th>\n",
              "      <th>lag_19</th>\n",
              "      <th>lag_20</th>\n",
              "      <th>lag_21</th>\n",
              "      <th>lag_22</th>\n",
              "      <th>lag_23</th>\n",
              "      <th>lag_24</th>\n",
              "      <th>rolling_mean</th>\n",
              "    </tr>\n",
              "    <tr>\n",
              "      <th>datetime</th>\n",
              "      <th></th>\n",
              "      <th></th>\n",
              "      <th></th>\n",
              "      <th></th>\n",
              "      <th></th>\n",
              "      <th></th>\n",
              "      <th></th>\n",
              "      <th></th>\n",
              "      <th></th>\n",
              "      <th></th>\n",
              "      <th></th>\n",
              "      <th></th>\n",
              "      <th></th>\n",
              "      <th></th>\n",
              "      <th></th>\n",
              "      <th></th>\n",
              "      <th></th>\n",
              "      <th></th>\n",
              "      <th></th>\n",
              "      <th></th>\n",
              "      <th></th>\n",
              "    </tr>\n",
              "  </thead>\n",
              "  <tbody>\n",
              "    <tr>\n",
              "      <th>2018-03-02 00:00:00</th>\n",
              "      <td>90</td>\n",
              "      <td>0</td>\n",
              "      <td>4</td>\n",
              "      <td>58.0</td>\n",
              "      <td>113.0</td>\n",
              "      <td>66.0</td>\n",
              "      <td>61.0</td>\n",
              "      <td>45.0</td>\n",
              "      <td>73.0</td>\n",
              "      <td>44.0</td>\n",
              "      <td>...</td>\n",
              "      <td>34.0</td>\n",
              "      <td>15.0</td>\n",
              "      <td>12.0</td>\n",
              "      <td>6.0</td>\n",
              "      <td>43.0</td>\n",
              "      <td>66.0</td>\n",
              "      <td>71.0</td>\n",
              "      <td>85.0</td>\n",
              "      <td>124.0</td>\n",
              "      <td>56.833333</td>\n",
              "    </tr>\n",
              "    <tr>\n",
              "      <th>2018-03-02 01:00:00</th>\n",
              "      <td>120</td>\n",
              "      <td>1</td>\n",
              "      <td>4</td>\n",
              "      <td>90.0</td>\n",
              "      <td>58.0</td>\n",
              "      <td>113.0</td>\n",
              "      <td>66.0</td>\n",
              "      <td>61.0</td>\n",
              "      <td>45.0</td>\n",
              "      <td>73.0</td>\n",
              "      <td>...</td>\n",
              "      <td>69.0</td>\n",
              "      <td>34.0</td>\n",
              "      <td>15.0</td>\n",
              "      <td>12.0</td>\n",
              "      <td>6.0</td>\n",
              "      <td>43.0</td>\n",
              "      <td>66.0</td>\n",
              "      <td>71.0</td>\n",
              "      <td>85.0</td>\n",
              "      <td>55.416667</td>\n",
              "    </tr>\n",
              "    <tr>\n",
              "      <th>2018-03-02 02:00:00</th>\n",
              "      <td>75</td>\n",
              "      <td>2</td>\n",
              "      <td>4</td>\n",
              "      <td>120.0</td>\n",
              "      <td>90.0</td>\n",
              "      <td>58.0</td>\n",
              "      <td>113.0</td>\n",
              "      <td>66.0</td>\n",
              "      <td>61.0</td>\n",
              "      <td>45.0</td>\n",
              "      <td>...</td>\n",
              "      <td>64.0</td>\n",
              "      <td>69.0</td>\n",
              "      <td>34.0</td>\n",
              "      <td>15.0</td>\n",
              "      <td>12.0</td>\n",
              "      <td>6.0</td>\n",
              "      <td>43.0</td>\n",
              "      <td>66.0</td>\n",
              "      <td>71.0</td>\n",
              "      <td>56.875000</td>\n",
              "    </tr>\n",
              "    <tr>\n",
              "      <th>2018-03-02 03:00:00</th>\n",
              "      <td>64</td>\n",
              "      <td>3</td>\n",
              "      <td>4</td>\n",
              "      <td>75.0</td>\n",
              "      <td>120.0</td>\n",
              "      <td>90.0</td>\n",
              "      <td>58.0</td>\n",
              "      <td>113.0</td>\n",
              "      <td>66.0</td>\n",
              "      <td>61.0</td>\n",
              "      <td>...</td>\n",
              "      <td>96.0</td>\n",
              "      <td>64.0</td>\n",
              "      <td>69.0</td>\n",
              "      <td>34.0</td>\n",
              "      <td>15.0</td>\n",
              "      <td>12.0</td>\n",
              "      <td>6.0</td>\n",
              "      <td>43.0</td>\n",
              "      <td>66.0</td>\n",
              "      <td>57.041667</td>\n",
              "    </tr>\n",
              "    <tr>\n",
              "      <th>2018-03-02 04:00:00</th>\n",
              "      <td>20</td>\n",
              "      <td>4</td>\n",
              "      <td>4</td>\n",
              "      <td>64.0</td>\n",
              "      <td>75.0</td>\n",
              "      <td>120.0</td>\n",
              "      <td>90.0</td>\n",
              "      <td>58.0</td>\n",
              "      <td>113.0</td>\n",
              "      <td>66.0</td>\n",
              "      <td>...</td>\n",
              "      <td>30.0</td>\n",
              "      <td>96.0</td>\n",
              "      <td>64.0</td>\n",
              "      <td>69.0</td>\n",
              "      <td>34.0</td>\n",
              "      <td>15.0</td>\n",
              "      <td>12.0</td>\n",
              "      <td>6.0</td>\n",
              "      <td>43.0</td>\n",
              "      <td>56.958333</td>\n",
              "    </tr>\n",
              "    <tr>\n",
              "      <th>2018-03-02 05:00:00</th>\n",
              "      <td>11</td>\n",
              "      <td>5</td>\n",
              "      <td>4</td>\n",
              "      <td>20.0</td>\n",
              "      <td>64.0</td>\n",
              "      <td>75.0</td>\n",
              "      <td>120.0</td>\n",
              "      <td>90.0</td>\n",
              "      <td>58.0</td>\n",
              "      <td>113.0</td>\n",
              "      <td>...</td>\n",
              "      <td>32.0</td>\n",
              "      <td>30.0</td>\n",
              "      <td>96.0</td>\n",
              "      <td>64.0</td>\n",
              "      <td>69.0</td>\n",
              "      <td>34.0</td>\n",
              "      <td>15.0</td>\n",
              "      <td>12.0</td>\n",
              "      <td>6.0</td>\n",
              "      <td>56.000000</td>\n",
              "    </tr>\n",
              "    <tr>\n",
              "      <th>2018-03-02 06:00:00</th>\n",
              "      <td>11</td>\n",
              "      <td>6</td>\n",
              "      <td>4</td>\n",
              "      <td>11.0</td>\n",
              "      <td>20.0</td>\n",
              "      <td>64.0</td>\n",
              "      <td>75.0</td>\n",
              "      <td>120.0</td>\n",
              "      <td>90.0</td>\n",
              "      <td>58.0</td>\n",
              "      <td>...</td>\n",
              "      <td>48.0</td>\n",
              "      <td>32.0</td>\n",
              "      <td>30.0</td>\n",
              "      <td>96.0</td>\n",
              "      <td>64.0</td>\n",
              "      <td>69.0</td>\n",
              "      <td>34.0</td>\n",
              "      <td>15.0</td>\n",
              "      <td>12.0</td>\n",
              "      <td>56.208333</td>\n",
              "    </tr>\n",
              "    <tr>\n",
              "      <th>2018-03-02 07:00:00</th>\n",
              "      <td>7</td>\n",
              "      <td>7</td>\n",
              "      <td>4</td>\n",
              "      <td>11.0</td>\n",
              "      <td>11.0</td>\n",
              "      <td>20.0</td>\n",
              "      <td>64.0</td>\n",
              "      <td>75.0</td>\n",
              "      <td>120.0</td>\n",
              "      <td>90.0</td>\n",
              "      <td>...</td>\n",
              "      <td>66.0</td>\n",
              "      <td>48.0</td>\n",
              "      <td>32.0</td>\n",
              "      <td>30.0</td>\n",
              "      <td>96.0</td>\n",
              "      <td>64.0</td>\n",
              "      <td>69.0</td>\n",
              "      <td>34.0</td>\n",
              "      <td>15.0</td>\n",
              "      <td>56.166667</td>\n",
              "    </tr>\n",
              "    <tr>\n",
              "      <th>2018-03-02 08:00:00</th>\n",
              "      <td>46</td>\n",
              "      <td>8</td>\n",
              "      <td>4</td>\n",
              "      <td>7.0</td>\n",
              "      <td>11.0</td>\n",
              "      <td>11.0</td>\n",
              "      <td>20.0</td>\n",
              "      <td>64.0</td>\n",
              "      <td>75.0</td>\n",
              "      <td>120.0</td>\n",
              "      <td>...</td>\n",
              "      <td>43.0</td>\n",
              "      <td>66.0</td>\n",
              "      <td>48.0</td>\n",
              "      <td>32.0</td>\n",
              "      <td>30.0</td>\n",
              "      <td>96.0</td>\n",
              "      <td>64.0</td>\n",
              "      <td>69.0</td>\n",
              "      <td>34.0</td>\n",
              "      <td>55.833333</td>\n",
              "    </tr>\n",
              "    <tr>\n",
              "      <th>2018-03-02 09:00:00</th>\n",
              "      <td>45</td>\n",
              "      <td>9</td>\n",
              "      <td>4</td>\n",
              "      <td>46.0</td>\n",
              "      <td>7.0</td>\n",
              "      <td>11.0</td>\n",
              "      <td>11.0</td>\n",
              "      <td>20.0</td>\n",
              "      <td>64.0</td>\n",
              "      <td>75.0</td>\n",
              "      <td>...</td>\n",
              "      <td>44.0</td>\n",
              "      <td>43.0</td>\n",
              "      <td>66.0</td>\n",
              "      <td>48.0</td>\n",
              "      <td>32.0</td>\n",
              "      <td>30.0</td>\n",
              "      <td>96.0</td>\n",
              "      <td>64.0</td>\n",
              "      <td>69.0</td>\n",
              "      <td>56.333333</td>\n",
              "    </tr>\n",
              "  </tbody>\n",
              "</table>\n",
              "<p>10 rows × 28 columns</p>\n",
              "</div>"
            ],
            "text/plain": [
              "                     num_orders  hour  dayofweek  lag_1  lag_2  lag_3  lag_4  \\\n",
              "datetime                                                                       \n",
              "2018-03-02 00:00:00          90     0          4   58.0  113.0   66.0   61.0   \n",
              "2018-03-02 01:00:00         120     1          4   90.0   58.0  113.0   66.0   \n",
              "2018-03-02 02:00:00          75     2          4  120.0   90.0   58.0  113.0   \n",
              "2018-03-02 03:00:00          64     3          4   75.0  120.0   90.0   58.0   \n",
              "2018-03-02 04:00:00          20     4          4   64.0   75.0  120.0   90.0   \n",
              "2018-03-02 05:00:00          11     5          4   20.0   64.0   75.0  120.0   \n",
              "2018-03-02 06:00:00          11     6          4   11.0   20.0   64.0   75.0   \n",
              "2018-03-02 07:00:00           7     7          4   11.0   11.0   20.0   64.0   \n",
              "2018-03-02 08:00:00          46     8          4    7.0   11.0   11.0   20.0   \n",
              "2018-03-02 09:00:00          45     9          4   46.0    7.0   11.0   11.0   \n",
              "\n",
              "                     lag_5  lag_6  lag_7  ...  lag_16  lag_17  lag_18  lag_19  \\\n",
              "datetime                                  ...                                   \n",
              "2018-03-02 00:00:00   45.0   73.0   44.0  ...    34.0    15.0    12.0     6.0   \n",
              "2018-03-02 01:00:00   61.0   45.0   73.0  ...    69.0    34.0    15.0    12.0   \n",
              "2018-03-02 02:00:00   66.0   61.0   45.0  ...    64.0    69.0    34.0    15.0   \n",
              "2018-03-02 03:00:00  113.0   66.0   61.0  ...    96.0    64.0    69.0    34.0   \n",
              "2018-03-02 04:00:00   58.0  113.0   66.0  ...    30.0    96.0    64.0    69.0   \n",
              "2018-03-02 05:00:00   90.0   58.0  113.0  ...    32.0    30.0    96.0    64.0   \n",
              "2018-03-02 06:00:00  120.0   90.0   58.0  ...    48.0    32.0    30.0    96.0   \n",
              "2018-03-02 07:00:00   75.0  120.0   90.0  ...    66.0    48.0    32.0    30.0   \n",
              "2018-03-02 08:00:00   64.0   75.0  120.0  ...    43.0    66.0    48.0    32.0   \n",
              "2018-03-02 09:00:00   20.0   64.0   75.0  ...    44.0    43.0    66.0    48.0   \n",
              "\n",
              "                     lag_20  lag_21  lag_22  lag_23  lag_24  rolling_mean  \n",
              "datetime                                                                   \n",
              "2018-03-02 00:00:00    43.0    66.0    71.0    85.0   124.0     56.833333  \n",
              "2018-03-02 01:00:00     6.0    43.0    66.0    71.0    85.0     55.416667  \n",
              "2018-03-02 02:00:00    12.0     6.0    43.0    66.0    71.0     56.875000  \n",
              "2018-03-02 03:00:00    15.0    12.0     6.0    43.0    66.0     57.041667  \n",
              "2018-03-02 04:00:00    34.0    15.0    12.0     6.0    43.0     56.958333  \n",
              "2018-03-02 05:00:00    69.0    34.0    15.0    12.0     6.0     56.000000  \n",
              "2018-03-02 06:00:00    64.0    69.0    34.0    15.0    12.0     56.208333  \n",
              "2018-03-02 07:00:00    96.0    64.0    69.0    34.0    15.0     56.166667  \n",
              "2018-03-02 08:00:00    30.0    96.0    64.0    69.0    34.0     55.833333  \n",
              "2018-03-02 09:00:00    32.0    30.0    96.0    64.0    69.0     56.333333  \n",
              "\n",
              "[10 rows x 28 columns]"
            ]
          },
          "execution_count": 20,
          "metadata": {},
          "output_type": "execute_result"
        }
      ],
      "source": [
        "data.head(10)"
      ]
    },
    {
      "cell_type": "markdown",
      "metadata": {
        "id": "yyaJCigPO_Ac"
      },
      "source": [
        "Выделим обучающие и целевой признаки, разобьем датасет на обучающую, тетсовую и валидационную выборки, перемешивать дынне при этом нельзя:"
      ]
    },
    {
      "cell_type": "code",
      "execution_count": null,
      "metadata": {
        "id": "Dckl6Q1EO_Ad",
        "outputId": "3b0b4347-56cd-4d6b-a013-a9a2b0e33282"
      },
      "outputs": [
        {
          "name": "stdout",
          "output_type": "stream",
          "text": [
            "(3952, 27)\n",
            "(440, 27)\n",
            "(3952,)\n",
            "(440,)\n"
          ]
        }
      ],
      "source": [
        "features = data.drop(['num_orders'], axis=1)\n",
        "target = data['num_orders']\n",
        "features_train, features_test, target_train, target_test = train_test_split(\n",
        "    features, target, shuffle=False, test_size=0.1, random_state=12345)\n",
        "print(features_train.shape)\n",
        "print(features_test.shape)\n",
        "print(target_train.shape)\n",
        "print(target_test.shape)"
      ]
    },
    {
      "cell_type": "markdown",
      "metadata": {
        "id": "Db74HGsKO_Ad"
      },
      "source": [
        "Обучим различные модели и проанализируем получаемый RMSE. Проанализируем слудующие модели:\n",
        "- линейная регрессия\n",
        "- дерево решений\n",
        "- случайный лес\n",
        "- CatBoost\n",
        "- LightGBM"
      ]
    },
    {
      "cell_type": "code",
      "execution_count": null,
      "metadata": {
        "id": "EqbEsvG4O_Ad"
      },
      "outputs": [],
      "source": [
        "result_table =[]"
      ]
    },
    {
      "cell_type": "markdown",
      "metadata": {
        "id": "gdmuJavhO_Ad"
      },
      "source": [
        "### Линейная регрессия ###"
      ]
    },
    {
      "cell_type": "markdown",
      "metadata": {
        "id": "219rDXzuO_Ad"
      },
      "source": [
        "Создадим функцию для кросс-валидации без перемшивания:"
      ]
    },
    {
      "cell_type": "code",
      "execution_count": null,
      "metadata": {
        "id": "S5HWBoWCO_Ae"
      },
      "outputs": [],
      "source": [
        "def performTimeSeriesCV(X_train, y_train, number_folds, model):\n",
        "    print('Размер тренировочной выборки: {}'.format(X_train.shape))\n",
        "\n",
        "    k = int(np.floor(float(X_train.shape[0]) / number_folds))\n",
        "    print('Размер каждого фолда: {}'.format(k))\n",
        "\n",
        "    errors = np.zeros(number_folds-1)\n",
        "\n",
        "    # loop from the first 2 folds to the total number of folds\n",
        "    for i in range(2, number_folds + 1):\n",
        "        print('')\n",
        "        split = float(i-1)/i\n",
        "        print('Разбиение первых ' + str(i) + ' кусков на ' + str(i-1) + '/' + str(i) )\n",
        "\n",
        "        X = X_train[:(k*i)]\n",
        "        y = y_train[:(k*i)]\n",
        "        print('Size of train + test: {}'.format(X.shape)) # the size of the dataframe is going to be k*i\n",
        "\n",
        "        index = int(np.floor(X.shape[0] * split))\n",
        "\n",
        "        # folds used to train the model\n",
        "        X_trainFolds = X[:index]\n",
        "        y_trainFolds = y[:index]\n",
        "\n",
        "        # fold used to test the model\n",
        "        X_testFold = X[(index + 1):]\n",
        "        y_testFold = y[(index + 1):]\n",
        "\n",
        "        model.fit(X_trainFolds, y_trainFolds)\n",
        "        errors[i-2] = mean_squared_error(model.predict(X_testFold), y_testFold)**0.5\n",
        "\n",
        "    # the function returns the mean of the errors on the n-1 folds\n",
        "    return errors.mean()"
      ]
    },
    {
      "cell_type": "markdown",
      "metadata": {
        "id": "hRs9KPjHO_Ae"
      },
      "source": [
        "Создадим модель линейной регрессии и оценим знаечние RMSE"
      ]
    },
    {
      "cell_type": "code",
      "execution_count": null,
      "metadata": {
        "id": "PW54LJgHO_Ae",
        "outputId": "c41c89d7-31d1-4dd1-a438-543f245a01a6"
      },
      "outputs": [
        {
          "name": "stdout",
          "output_type": "stream",
          "text": [
            "Размер тренировочной выборки: (3952, 27)\n",
            "Размер каждого фолда: 790\n",
            "\n",
            "Разбиение первых 2 кусков на 1/2\n",
            "Size of train + test: (1580, 27)\n",
            "\n",
            "Разбиение первых 3 кусков на 2/3\n",
            "Size of train + test: (2370, 27)\n",
            "\n",
            "Разбиение первых 4 кусков на 3/4\n",
            "Size of train + test: (3160, 27)\n",
            "\n",
            "Разбиение первых 5 кусков на 4/5\n",
            "Size of train + test: (3950, 27)\n",
            "\n",
            "RMSE линейной регрессии: 27.257773255338932\n",
            "CPU times: user 168 ms, sys: 332 ms, total: 500 ms\n",
            "Wall time: 491 ms\n"
          ]
        }
      ],
      "source": [
        "%%time\n",
        "model_linear = LinearRegression()\n",
        "rmse_linear= performTimeSeriesCV(features_train, target_train, 5, model_linear)\n",
        "print('\\nRMSE линейной регрессии:', rmse_linear)"
      ]
    },
    {
      "cell_type": "code",
      "execution_count": null,
      "metadata": {
        "id": "mjpboco9O_Af"
      },
      "outputs": [],
      "source": [
        "result_table.append (['Линейная регрессия',rmse_linear])"
      ]
    },
    {
      "cell_type": "markdown",
      "metadata": {
        "id": "ZSGqSHqHO_Af"
      },
      "source": [
        "### Модель  решающего дерева ###"
      ]
    },
    {
      "cell_type": "markdown",
      "metadata": {
        "id": "UmoSM_JyO_Af"
      },
      "source": [
        "Подберем наилучшие параметры:"
      ]
    },
    {
      "cell_type": "code",
      "execution_count": null,
      "metadata": {
        "id": "pNWEb7f6O_Af",
        "outputId": "dec335c9-d1f0-4b6a-fe18-5b7feb841618"
      },
      "outputs": [
        {
          "name": "stdout",
          "output_type": "stream",
          "text": [
            "Лучший RMSE :32.43626491361871, лучшая модель: DecisionTreeRegressor(max_depth=5, random_state=12345)\n"
          ]
        }
      ],
      "source": [
        "model = DecisionTreeRegressor(random_state=12345)\n",
        "parameters = {'max_depth':range(1,11,2)}\n",
        "tscv = TimeSeriesSplit(n_splits=2)\n",
        "model_tree = GridSearchCV(estimator=model, cv=tscv, param_grid=parameters, scoring='neg_root_mean_squared_error')\n",
        "model_tree.fit(features_train, target_train)\n",
        "tree_rmse = model_tree.best_score_\n",
        "print(f'Лучший RMSE :{-1*model_tree.best_score_}, лучшая модель: {model_tree.best_estimator_}')"
      ]
    },
    {
      "cell_type": "code",
      "execution_count": null,
      "metadata": {
        "id": "355IAUUiO_Ah"
      },
      "outputs": [],
      "source": [
        "result_table.append ([f'Дерево решений ({model_tree.best_params_})',-1*tree_rmse])"
      ]
    },
    {
      "cell_type": "markdown",
      "metadata": {
        "id": "S-zWEmeMO_Ah"
      },
      "source": [
        "### Модель  случайного леса ###"
      ]
    },
    {
      "cell_type": "markdown",
      "metadata": {
        "id": "faaN4I2QO_Ah"
      },
      "source": [
        "Подберем наилучшие параметры"
      ]
    },
    {
      "cell_type": "code",
      "execution_count": null,
      "metadata": {
        "id": "_dMHLYK2O_Ah",
        "outputId": "e7b41851-a419-4a7b-fca0-b262fa468ffe"
      },
      "outputs": [
        {
          "name": "stdout",
          "output_type": "stream",
          "text": [
            "Лучший RMSE :27.80018087362216, лучшая модель: RandomForestRegressor(max_depth=11, n_estimators=80, random_state=12345)\n"
          ]
        }
      ],
      "source": [
        "model = RandomForestRegressor(random_state=12345)\n",
        "parameters = {'n_estimators':range(50,100,10), 'max_depth':range(1,15,2)}\n",
        "tscv = TimeSeriesSplit(n_splits=2)\n",
        "model_forest = GridSearchCV(estimator=model, cv=tscv, param_grid=parameters, scoring='neg_root_mean_squared_error')\n",
        "model_forest.fit(features_train, target_train)\n",
        "forest_rmse = model_forest.best_score_\n",
        "print(f'Лучший RMSE :{-1*model_forest.best_score_}, лучшая модель: {model_forest.best_estimator_}')"
      ]
    },
    {
      "cell_type": "markdown",
      "metadata": {
        "id": "Gssl_C5PO_Ai"
      },
      "source": [
        "<div class=\"alert\" style=\"background-color:#ead7f7;color:#8737bf\">\n",
        "    <font size=\"3\"><b>комментарий студента</b></font>\n",
        "   Исправлено!\n",
        "</div>\n"
      ]
    },
    {
      "cell_type": "markdown",
      "metadata": {
        "id": "OLwqgpCLO_Ai"
      },
      "source": [
        "Вычислим знаечние RMSЕ на подобранных параметрах и добавим в таблицу"
      ]
    },
    {
      "cell_type": "code",
      "execution_count": null,
      "metadata": {
        "id": "EAzRCIXxO_Aj"
      },
      "outputs": [],
      "source": [
        "result_table.append ([f'Случайный лес({model_forest.best_params_})',-1*forest_rmse])"
      ]
    },
    {
      "cell_type": "markdown",
      "metadata": {
        "id": "GgOwFEIGO_Aj"
      },
      "source": [
        "### Модель  CatBoost ###"
      ]
    },
    {
      "cell_type": "markdown",
      "metadata": {
        "id": "4sT74hwzO_Aj"
      },
      "source": [
        "Подберем наиилучшие параметры"
      ]
    },
    {
      "cell_type": "code",
      "execution_count": null,
      "metadata": {
        "id": "qUzc0HLMO_Aj",
        "outputId": "20d5b278-d995-4dc8-de88-17a6e13c6252"
      },
      "outputs": [
        {
          "name": "stdout",
          "output_type": "stream",
          "text": [
            "Лучший RMSE :27.15349364550913, лучшая модель: {'depth': 3, 'n_estimators': 70}\n",
            "CPU times: user 6min 40s, sys: 2.61 s, total: 6min 42s\n",
            "Wall time: 10min 11s\n"
          ]
        }
      ],
      "source": [
        "%%time\n",
        "model = CatBoostRegressor(loss_function='RMSE', learning_rate=0.4,random_state=12345,  verbose=False)\n",
        "parameters = {'n_estimators':range(50,100,10), 'depth':range(1,15,2)}\n",
        "tscv = TimeSeriesSplit(n_splits=2)\n",
        "model_cat = GridSearchCV(estimator=model, cv=tscv, param_grid=parameters, scoring='neg_root_mean_squared_error')\n",
        "model_cat.fit(features_train, target_train)\n",
        "cat_rmse= model_cat.best_score_\n",
        "print(f'Лучший RMSE :{-1*model_cat.best_score_}, лучшая модель: {model_cat.best_params_}')"
      ]
    },
    {
      "cell_type": "markdown",
      "metadata": {
        "id": "HxzBBP3yO_Ak"
      },
      "source": [
        "Добавим результаты в таблицу"
      ]
    },
    {
      "cell_type": "code",
      "execution_count": null,
      "metadata": {
        "id": "ay9Rn9cPO_Ak"
      },
      "outputs": [],
      "source": [
        "result_table.append ([f'CatBoost({model_cat.best_params_})',-1*cat_rmse])"
      ]
    },
    {
      "cell_type": "markdown",
      "metadata": {
        "id": "zI4TfpNeO_Al"
      },
      "source": [
        "### Модель  LightGBM ###"
      ]
    },
    {
      "cell_type": "markdown",
      "metadata": {
        "id": "yBjocoVUO_Al"
      },
      "source": [
        "Подберем наиилучшие параметры"
      ]
    },
    {
      "cell_type": "code",
      "execution_count": null,
      "metadata": {
        "id": "UTrSjtGJO_Al"
      },
      "outputs": [],
      "source": [
        "#%%time\n",
        "#model = lgb.LGBMRegressor(learning_rate=0.1 ,random_state=12345)\n",
        "#parameters = {'n_estimators':range(50,100,10), 'max_depth':range(2,15,2), 'num_leaves':range(4,11,2)}\n",
        "#tscv = TimeSeriesSplit(n_splits=2)\n",
        "#model_lgbm = GridSearchCV(estimator=model, cv=tscv, param_grid=parameters, scoring='neg_root_mean_squared_error')\n",
        "#model_lgbm.fit(features_train, target_train)\n",
        "#best_rmse = model_lgbm.best_score_\n",
        "#print(f'Лучший RMSE :{-1*model_lgbm.best_score_}, лучшая модель: {model_lgbm.best_params_}')"
      ]
    },
    {
      "cell_type": "markdown",
      "metadata": {
        "id": "_c635AdFO_Al"
      },
      "source": [
        "![image-2.png](attachment:image-2.png)"
      ]
    },
    {
      "cell_type": "markdown",
      "metadata": {
        "id": "SUrMQpNcO_Am"
      },
      "source": [
        "Очень долгое вычисление, просто запишем найденне гиперпараметры в переменную и не будем повторно выполнять код"
      ]
    },
    {
      "cell_type": "code",
      "execution_count": null,
      "metadata": {
        "id": "_u0u1fpsO_Am"
      },
      "outputs": [],
      "source": [
        "lgbm_params={}\n",
        "lgbm_params['n_estimators'] = 90\n",
        "lgbm_params['num_leaves'] = 8\n",
        "lgbm_params['max_depth'] = 8\n",
        "lgbm_rmse = 26.456"
      ]
    },
    {
      "cell_type": "markdown",
      "metadata": {
        "id": "P3fhZWvwO_Am"
      },
      "source": [
        "Вычислим значение RMSЕ на подобранных параметрах и добавим в таблицу"
      ]
    },
    {
      "cell_type": "markdown",
      "metadata": {
        "id": "vWcJmHgCO_An"
      },
      "source": [
        "Добавим результаты в таблицу"
      ]
    },
    {
      "cell_type": "code",
      "execution_count": null,
      "metadata": {
        "id": "UCMWnz-UO_An"
      },
      "outputs": [],
      "source": [
        "result_table.append ([f'LightGBM({lgbm_params})',lgbm_rmse])"
      ]
    },
    {
      "cell_type": "markdown",
      "metadata": {
        "id": "sS6Bh2vNO_An"
      },
      "source": [
        "Преобразуем итоговую таблицу в датафрейм, отсортируем по знаечнию RMSE и выведем на экран:"
      ]
    },
    {
      "cell_type": "code",
      "execution_count": null,
      "metadata": {
        "id": "ncOt325LO_An",
        "outputId": "d3b570d8-9e68-480a-cb68-272a61e6c074"
      },
      "outputs": [
        {
          "data": {
            "text/html": [
              "<div>\n",
              "<style scoped>\n",
              "    .dataframe tbody tr th:only-of-type {\n",
              "        vertical-align: middle;\n",
              "    }\n",
              "\n",
              "    .dataframe tbody tr th {\n",
              "        vertical-align: top;\n",
              "    }\n",
              "\n",
              "    .dataframe thead th {\n",
              "        text-align: right;\n",
              "    }\n",
              "</style>\n",
              "<table border=\"1\" class=\"dataframe\">\n",
              "  <thead>\n",
              "    <tr style=\"text-align: right;\">\n",
              "      <th></th>\n",
              "      <th>Model</th>\n",
              "      <th>RMSE_train</th>\n",
              "    </tr>\n",
              "  </thead>\n",
              "  <tbody>\n",
              "    <tr>\n",
              "      <th>4</th>\n",
              "      <td>LightGBM({'n_estimators': 90, 'num_leaves': 8, 'max_depth': 8})</td>\n",
              "      <td>26.456000</td>\n",
              "    </tr>\n",
              "    <tr>\n",
              "      <th>3</th>\n",
              "      <td>CatBoost({'depth': 3, 'n_estimators': 70})</td>\n",
              "      <td>27.153494</td>\n",
              "    </tr>\n",
              "    <tr>\n",
              "      <th>0</th>\n",
              "      <td>Линейная регрессия</td>\n",
              "      <td>27.257773</td>\n",
              "    </tr>\n",
              "    <tr>\n",
              "      <th>2</th>\n",
              "      <td>Случайный лес({'max_depth': 11, 'n_estimators': 80})</td>\n",
              "      <td>27.800181</td>\n",
              "    </tr>\n",
              "    <tr>\n",
              "      <th>1</th>\n",
              "      <td>Дерево решений ({'max_depth': 5})</td>\n",
              "      <td>32.436265</td>\n",
              "    </tr>\n",
              "  </tbody>\n",
              "</table>\n",
              "</div>"
            ],
            "text/plain": [
              "                                                             Model  RMSE_train\n",
              "4  LightGBM({'n_estimators': 90, 'num_leaves': 8, 'max_depth': 8})  26.456000 \n",
              "3  CatBoost({'depth': 3, 'n_estimators': 70})                       27.153494 \n",
              "0  Линейная регрессия                                               27.257773 \n",
              "2  Случайный лес({'max_depth': 11, 'n_estimators': 80})             27.800181 \n",
              "1  Дерево решений ({'max_depth': 5})                                32.436265 "
            ]
          },
          "metadata": {},
          "output_type": "display_data"
        }
      ],
      "source": [
        "result_df = pd.DataFrame(result_table, columns=['Model', 'RMSE_train'])\n",
        "pd.options.display.max_colwidth = 0\n",
        "display(result_df.sort_values(by='RMSE_train'))"
      ]
    },
    {
      "cell_type": "markdown",
      "metadata": {
        "id": "PKAL4nsUO_An"
      },
      "source": [
        "**Выводы**\n",
        "\n",
        "Мы обогатили датасет новыми признаками, выделили обучающие и целевой признаки, разбили датасет на обучающую и тестовую выборку в соотношении 90:10. Мы подобрали гиперпараметры и с помощью кросс валидации вычислили наилучшее значение RMSE на следующих моделях:\n",
        "\n",
        "- линейная регрессия\n",
        "- дерево решений\n",
        "- случайный лес\n",
        "- CatBoost\n",
        "- LightGBM\n",
        "\n",
        "В результате получили наилучшее значение RMSE на модели LightGBM с количеством деревьев 90, количеством листьев 8, максимальной глубиной 8. Значение RMSE составило 26,456.\n",
        "Протестируем лучшую модель с подобранными параметрами на тестовой выборке."
      ]
    },
    {
      "cell_type": "markdown",
      "metadata": {
        "id": "k6l9xEvFO_Ao"
      },
      "source": [
        "## Тестирование"
      ]
    },
    {
      "cell_type": "markdown",
      "metadata": {
        "id": "7nbQo0BNO_Ao"
      },
      "source": [
        "Возьмем обученные модели и рассчитаем RMSE предсказаний на них на тестовой выборке:"
      ]
    },
    {
      "cell_type": "code",
      "execution_count": null,
      "metadata": {
        "id": "iHLedBkJO_Ap",
        "outputId": "b296b5d1-1ff5-43b2-8c94-a311f3b6af88"
      },
      "outputs": [
        {
          "name": "stdout",
          "output_type": "stream",
          "text": [
            "На тестовой выборке модель LightGBM показала RMSE = 42.69431285118914\n"
          ]
        }
      ],
      "source": [
        "model_lgbm = lgb.LGBMRegressor(learning_rate=0.1 ,\n",
        "                               random_state=12345,\n",
        "                               n_estimators = lgbm_params['n_estimators'],\n",
        "                               max_depth = lgbm_params['num_leaves'],\n",
        "                               num_leaves = lgbm_params['max_depth'])\n",
        "model_lgbm.fit(features_train, target_train)\n",
        "predicted_lgbm = model_lgbm.predict(features_test)\n",
        "rmse_lgbm = mean_squared_error(target_test, predicted_lgbm)**0.5\n",
        "print (f'На тестовой выборке модель LightGBM показала RMSE = {rmse_lgbm}')"
      ]
    },
    {
      "cell_type": "code",
      "execution_count": null,
      "metadata": {
        "id": "DTyG-2oNO_Ap",
        "outputId": "dc740702-780d-4ee5-b406-09034da99008"
      },
      "outputs": [
        {
          "data": {
            "image/png": "[encoded data removed]",
            "text/plain": [
              "<Figure size 1080x576 with 1 Axes>"
            ]
          },
          "metadata": {
            "needs_background": "light"
          },
          "output_type": "display_data"
        }
      ],
      "source": [
        "target_list = target_test.tolist()\n",
        "predicted_list = predicted_lgbm.tolist()\n",
        "index_list = target_test.index.tolist()\n",
        "plt.figure(figsize=(15, 8))\n",
        "plt.plot(index_list, target_test, label = \"Целевые значения\")\n",
        "plt.plot(index_list, predicted_list, label = \"Предсказанные значения LightGBM\")\n",
        "plt.title(\"Предсказание вызовов такси на тестовой выборке\")\n",
        "plt.xlabel('Дата')\n",
        "plt.ylabel(\"Количество вызовов\");\n",
        "plt.legend()\n",
        "plt.show()"
      ]
    },
    {
      "cell_type": "markdown",
      "metadata": {
        "id": "nCDiDdy_O_Ap"
      },
      "source": [
        "**Вывод**\n",
        "Мы получиил предсказания наилучшей модели на тестовой выборке, визуализировали их и подсчитали значение RMSE.\n",
        "На тестовой выборке показавшая наилучший результат среди прочих моделей LightGBM показала RMSE = 42.7.\n",
        "В требуемую точность до 48  результат модели укладывается."
      ]
    },
    {
      "cell_type": "markdown",
      "metadata": {
        "id": "N_PWa_jbO_Ap"
      },
      "source": [
        "## Общий вывод ##"
      ]
    },
    {
      "cell_type": "markdown",
      "metadata": {
        "id": "Y64VACpzO_Aq"
      },
      "source": [
        "1. На этапе подготовки данных мы ознакомились с датасетом в 26496 строк, в котором содержались данные по числу заказов такси за полгода: с 1 марта 2018 по 31 августа 2018, за каждые 10 минут. Мы проверили данные на дубликаты и провели ресэмплирование данных на каждый час.\n",
        "\n",
        "2. На этапе подготовки данных мы проанализировали временной ряд, увидели общую тенденцию к росту числа заказов такси, проанализировали сезоные составляющие, выявили сезонную суточную составляющую, убедились по тесту Дики-Фуллера в стационарности временного ряда, что показало нам, что  можно переходить к обучению моделей и прогнозированию.\n",
        "\n",
        "3. На этапе обучения мы создали функции и обогатили датасет новыми признаками, выделили обучающие и целевой признаки, разбили датасет на обучающую и тестовую выборку в соотношении 90:10. Мы подобрали гиперпараметры и вычислили наилучшее знаечние RMSE при помощи кросс-валидации на следующих моделях:\n",
        "\n",
        "- линейная регрессия\n",
        "- дерево решений\n",
        "- случайный лес\n",
        "- CatBoost\n",
        "- LightGBM\n",
        "\n",
        "В результате получили наилучшее значение RMSE на модели LightGBM с количеством деревьев 90, количеством листьев 8, максимальной глубиной 8. Значение RMSE составило 26,456. Протестируем лучшую модель с подобранными параметрами на тестовой выборке.\n",
        "\n",
        "4. На этапе тестирования мы получиил предсказания наилучшей модели на тестовой выборке, визуализировали их и подсчитали значение RMSE.\n",
        "\n",
        "На тестовой выборке показавшая наилучший результат среди прочих моделей LightGBM показала RMSE = 42.7.\n",
        "В требуемую точность до 48  результат модели укладывается.\n"
      ]
    },
    {
      "cell_type": "markdown",
      "metadata": {
        "id": "QFidxmKUO_Aq"
      },
      "source": [
        "## Чек-лист проверки"
      ]
    },
    {
      "cell_type": "markdown",
      "metadata": {
        "id": "i711ZJtfO_Aq"
      },
      "source": [
        "- [x]  Jupyter Notebook открыт\n",
        "- [x]  Весь код выполняется без ошибок\n",
        "- [x]  Ячейки с кодом расположены в порядке исполнения\n",
        "- [x]  Данные загружены и подготовлены\n",
        "- [x]  Данные проанализированы\n",
        "- [x]  Модель обучена, гиперпараметры подобраны\n",
        "- [x]  Качество моделей проверено, выводы сделаны\n",
        "- [x]  Значение *RMSE* на тестовой выборке не больше 48"
      ]
    },
    {
      "cell_type": "code",
      "execution_count": null,
      "metadata": {
        "id": "CONgVy1RO_As"
      },
      "outputs": [],
      "source": []
    }
  ],
  "metadata": {
    "ExecuteTimeLog": [
      {
        "duration": 1711,
        "start_time": "2023-06-11T07:16:01.407Z"
      },
      {
        "duration": 213,
        "start_time": "2023-06-11T07:16:58.068Z"
      },
      {
        "duration": 49,
        "start_time": "2023-06-11T07:17:11.863Z"
      },
      {
        "duration": 10,
        "start_time": "2023-06-11T07:17:39.638Z"
      },
      {
        "duration": 8,
        "start_time": "2023-06-11T07:19:28.033Z"
      },
      {
        "duration": 13,
        "start_time": "2023-06-11T07:19:39.004Z"
      },
      {
        "duration": 13,
        "start_time": "2023-06-11T07:20:00.228Z"
      },
      {
        "duration": 13,
        "start_time": "2023-06-11T07:20:04.746Z"
      },
      {
        "duration": 381,
        "start_time": "2023-06-11T07:21:01.020Z"
      },
      {
        "duration": 313,
        "start_time": "2023-06-11T07:21:09.413Z"
      },
      {
        "duration": 7,
        "start_time": "2023-06-11T07:23:06.429Z"
      },
      {
        "duration": 233,
        "start_time": "2023-06-11T07:28:06.872Z"
      },
      {
        "duration": 4,
        "start_time": "2023-06-11T07:28:58.762Z"
      },
      {
        "duration": 63,
        "start_time": "2023-06-11T07:28:58.768Z"
      },
      {
        "duration": 8,
        "start_time": "2023-06-11T07:28:58.833Z"
      },
      {
        "duration": 16,
        "start_time": "2023-06-11T07:28:58.843Z"
      },
      {
        "duration": 9,
        "start_time": "2023-06-11T07:28:58.862Z"
      },
      {
        "duration": 27,
        "start_time": "2023-06-11T07:28:58.873Z"
      },
      {
        "duration": 294,
        "start_time": "2023-06-11T07:28:58.902Z"
      },
      {
        "duration": 10,
        "start_time": "2023-06-11T07:28:59.198Z"
      },
      {
        "duration": 25,
        "start_time": "2023-06-11T07:32:18.996Z"
      },
      {
        "duration": 1913,
        "start_time": "2023-06-11T07:32:51.112Z"
      },
      {
        "duration": 4,
        "start_time": "2023-06-11T07:35:39.156Z"
      },
      {
        "duration": 13,
        "start_time": "2023-06-11T07:35:55.222Z"
      },
      {
        "duration": 373,
        "start_time": "2023-06-11T07:36:51.082Z"
      },
      {
        "duration": 239,
        "start_time": "2023-06-11T07:37:06.988Z"
      },
      {
        "duration": 275,
        "start_time": "2023-06-11T07:37:17.163Z"
      },
      {
        "duration": 316,
        "start_time": "2023-06-11T07:37:19.343Z"
      },
      {
        "duration": 215,
        "start_time": "2023-06-11T07:38:25.658Z"
      },
      {
        "duration": 232,
        "start_time": "2023-06-11T07:38:36.021Z"
      },
      {
        "duration": 10,
        "start_time": "2023-06-11T07:50:52.721Z"
      },
      {
        "duration": 278,
        "start_time": "2023-06-11T07:50:58.389Z"
      },
      {
        "duration": 195,
        "start_time": "2023-06-11T07:51:13.955Z"
      },
      {
        "duration": 227,
        "start_time": "2023-06-11T07:51:22.794Z"
      },
      {
        "duration": 213,
        "start_time": "2023-06-11T07:51:23.586Z"
      },
      {
        "duration": 15,
        "start_time": "2023-06-11T08:17:12.507Z"
      },
      {
        "duration": 216,
        "start_time": "2023-06-11T08:17:38.298Z"
      },
      {
        "duration": 205,
        "start_time": "2023-06-11T08:17:49.122Z"
      },
      {
        "duration": 187,
        "start_time": "2023-06-11T08:18:26.528Z"
      },
      {
        "duration": 179,
        "start_time": "2023-06-11T08:19:22.837Z"
      },
      {
        "duration": 221,
        "start_time": "2023-06-11T08:19:24.808Z"
      },
      {
        "duration": 4,
        "start_time": "2023-06-11T08:24:16.878Z"
      },
      {
        "duration": 4,
        "start_time": "2023-06-11T08:25:50.291Z"
      },
      {
        "duration": 4,
        "start_time": "2023-06-11T08:29:32.269Z"
      },
      {
        "duration": 10,
        "start_time": "2023-06-11T08:31:01.398Z"
      },
      {
        "duration": 6,
        "start_time": "2023-06-11T08:32:50.083Z"
      },
      {
        "duration": 100,
        "start_time": "2023-06-11T08:33:16.912Z"
      },
      {
        "duration": 10,
        "start_time": "2023-06-11T08:39:48.832Z"
      },
      {
        "duration": 94,
        "start_time": "2023-06-11T08:39:53.140Z"
      },
      {
        "duration": 181,
        "start_time": "2023-06-11T08:40:46.129Z"
      },
      {
        "duration": 9,
        "start_time": "2023-06-11T08:43:17.032Z"
      },
      {
        "duration": 9,
        "start_time": "2023-06-11T08:43:28.390Z"
      },
      {
        "duration": 13,
        "start_time": "2023-06-11T08:43:30.841Z"
      },
      {
        "duration": 14,
        "start_time": "2023-06-11T08:43:38.696Z"
      },
      {
        "duration": 4,
        "start_time": "2023-06-11T08:43:55.304Z"
      },
      {
        "duration": 11,
        "start_time": "2023-06-11T08:43:56.374Z"
      },
      {
        "duration": 16,
        "start_time": "2023-06-11T08:43:57.422Z"
      },
      {
        "duration": 4,
        "start_time": "2023-06-11T08:44:32.199Z"
      },
      {
        "duration": 11,
        "start_time": "2023-06-11T08:44:33.829Z"
      },
      {
        "duration": 22,
        "start_time": "2023-06-11T08:44:35.031Z"
      },
      {
        "duration": 7,
        "start_time": "2023-06-11T08:44:38.635Z"
      },
      {
        "duration": 41,
        "start_time": "2023-06-11T08:44:41.487Z"
      },
      {
        "duration": 3,
        "start_time": "2023-06-11T08:45:21.141Z"
      },
      {
        "duration": 3,
        "start_time": "2023-06-11T08:45:47.928Z"
      },
      {
        "duration": 2,
        "start_time": "2023-06-11T08:46:44.053Z"
      },
      {
        "duration": 54,
        "start_time": "2023-06-11T08:47:48.970Z"
      },
      {
        "duration": 3,
        "start_time": "2023-06-11T08:47:49.855Z"
      },
      {
        "duration": 157,
        "start_time": "2023-06-11T08:49:51.134Z"
      },
      {
        "duration": 149,
        "start_time": "2023-06-11T08:49:55.465Z"
      },
      {
        "duration": 154,
        "start_time": "2023-06-11T08:50:22.515Z"
      },
      {
        "duration": 10,
        "start_time": "2023-06-11T08:50:52.855Z"
      },
      {
        "duration": 3,
        "start_time": "2023-06-11T08:51:01.813Z"
      },
      {
        "duration": 2,
        "start_time": "2023-06-11T08:51:58.938Z"
      },
      {
        "duration": 4930,
        "start_time": "2023-06-11T08:52:22.580Z"
      },
      {
        "duration": 5117,
        "start_time": "2023-06-11T08:52:36.153Z"
      },
      {
        "duration": 4,
        "start_time": "2023-06-11T08:58:57.285Z"
      },
      {
        "duration": 7,
        "start_time": "2023-06-11T09:00:36.706Z"
      },
      {
        "duration": 20,
        "start_time": "2023-06-11T09:02:04.006Z"
      },
      {
        "duration": 2,
        "start_time": "2023-06-11T09:02:28.735Z"
      },
      {
        "duration": 10,
        "start_time": "2023-06-11T09:04:17.529Z"
      },
      {
        "duration": 5,
        "start_time": "2023-06-11T09:04:37.749Z"
      },
      {
        "duration": 110,
        "start_time": "2023-06-11T09:04:42.522Z"
      },
      {
        "duration": 25,
        "start_time": "2023-06-11T09:06:08.034Z"
      },
      {
        "duration": 12,
        "start_time": "2023-06-11T09:06:21.741Z"
      },
      {
        "duration": 123,
        "start_time": "2023-06-11T09:06:36.084Z"
      },
      {
        "duration": 21,
        "start_time": "2023-06-11T09:06:37.633Z"
      },
      {
        "duration": 10,
        "start_time": "2023-06-11T09:06:41.783Z"
      },
      {
        "duration": 3,
        "start_time": "2023-06-11T09:06:49.237Z"
      },
      {
        "duration": 22565,
        "start_time": "2023-06-11T09:07:51.465Z"
      },
      {
        "duration": 12,
        "start_time": "2023-06-11T09:09:15.480Z"
      },
      {
        "duration": 10,
        "start_time": "2023-06-11T09:09:26.120Z"
      },
      {
        "duration": 1027,
        "start_time": "2023-06-11T09:09:33.398Z"
      },
      {
        "duration": 1064,
        "start_time": "2023-06-11T09:09:39.006Z"
      },
      {
        "duration": 4,
        "start_time": "2023-06-11T09:10:06.021Z"
      },
      {
        "duration": 2,
        "start_time": "2023-06-11T09:11:07.174Z"
      },
      {
        "duration": 35706,
        "start_time": "2023-06-11T09:13:53.262Z"
      },
      {
        "duration": 23412,
        "start_time": "2023-06-11T09:14:31.919Z"
      },
      {
        "duration": 137568,
        "start_time": "2023-06-11T09:14:56.228Z"
      },
      {
        "duration": 951,
        "start_time": "2023-06-11T09:18:09.172Z"
      },
      {
        "duration": 1134,
        "start_time": "2023-06-11T09:18:15.907Z"
      },
      {
        "duration": 2,
        "start_time": "2023-06-11T09:18:19.197Z"
      },
      {
        "duration": 43,
        "start_time": "2023-06-11T09:18:30.087Z"
      },
      {
        "duration": 42,
        "start_time": "2023-06-11T09:18:38.786Z"
      },
      {
        "duration": 1409,
        "start_time": "2023-06-11T09:18:47.234Z"
      },
      {
        "duration": 27025,
        "start_time": "2023-06-11T09:26:58.874Z"
      },
      {
        "duration": 5929373,
        "start_time": "2023-06-11T09:27:31.455Z"
      },
      {
        "duration": 390,
        "start_time": "2023-06-11T11:06:20.830Z"
      },
      {
        "duration": 9,
        "start_time": "2023-06-11T11:06:21.221Z"
      },
      {
        "duration": 0,
        "start_time": "2023-06-11T11:06:21.231Z"
      },
      {
        "duration": 7471,
        "start_time": "2023-06-11T11:46:50.362Z"
      },
      {
        "duration": 3,
        "start_time": "2023-06-11T11:49:02.782Z"
      },
      {
        "duration": 20080,
        "start_time": "2023-06-11T11:49:18.109Z"
      },
      {
        "duration": 4,
        "start_time": "2023-06-11T11:49:38.228Z"
      },
      {
        "duration": 32,
        "start_time": "2023-06-11T11:49:38.233Z"
      },
      {
        "duration": 3,
        "start_time": "2023-06-11T11:50:08.479Z"
      },
      {
        "duration": 40,
        "start_time": "2023-06-11T11:50:10.317Z"
      },
      {
        "duration": 134,
        "start_time": "2023-06-11T11:50:12.018Z"
      },
      {
        "duration": 23,
        "start_time": "2023-06-11T11:50:13.776Z"
      },
      {
        "duration": 3,
        "start_time": "2023-06-11T11:50:15.364Z"
      },
      {
        "duration": 25774,
        "start_time": "2023-06-11T11:50:16.301Z"
      },
      {
        "duration": 1090,
        "start_time": "2023-06-11T11:50:46.568Z"
      },
      {
        "duration": 4,
        "start_time": "2023-06-11T11:50:48.760Z"
      },
      {
        "duration": 139646,
        "start_time": "2023-06-11T11:50:55.457Z"
      },
      {
        "duration": 722,
        "start_time": "2023-06-11T11:53:15.105Z"
      },
      {
        "duration": 3,
        "start_time": "2023-06-11T11:53:15.830Z"
      },
      {
        "duration": 45,
        "start_time": "2023-06-11T11:53:15.836Z"
      },
      {
        "duration": 43054,
        "start_time": "2023-06-11T11:53:15.883Z"
      },
      {
        "duration": 3,
        "start_time": "2023-06-11T11:53:58.938Z"
      },
      {
        "duration": 90,
        "start_time": "2023-06-11T11:53:58.942Z"
      },
      {
        "duration": 4,
        "start_time": "2023-06-11T11:54:17.412Z"
      },
      {
        "duration": 9,
        "start_time": "2023-06-11T11:54:21.447Z"
      },
      {
        "duration": 9,
        "start_time": "2023-06-11T11:54:50.557Z"
      },
      {
        "duration": 38,
        "start_time": "2023-06-11T11:59:08.314Z"
      },
      {
        "duration": 9,
        "start_time": "2023-06-11T11:59:09.373Z"
      },
      {
        "duration": 366,
        "start_time": "2023-06-11T12:04:36.249Z"
      },
      {
        "duration": 270,
        "start_time": "2023-06-11T12:05:19.104Z"
      },
      {
        "duration": 17,
        "start_time": "2023-06-11T12:06:16.446Z"
      },
      {
        "duration": 313,
        "start_time": "2023-06-11T12:06:35.651Z"
      },
      {
        "duration": 292,
        "start_time": "2023-06-11T12:06:37.465Z"
      },
      {
        "duration": 365,
        "start_time": "2023-06-11T12:06:43.752Z"
      },
      {
        "duration": 382,
        "start_time": "2023-06-11T12:06:46.453Z"
      },
      {
        "duration": 6,
        "start_time": "2023-06-11T12:15:01.446Z"
      },
      {
        "duration": 235,
        "start_time": "2023-06-11T12:15:01.454Z"
      },
      {
        "duration": 169,
        "start_time": "2023-06-11T12:15:01.691Z"
      },
      {
        "duration": 57,
        "start_time": "2023-06-11T12:15:01.862Z"
      },
      {
        "duration": 76,
        "start_time": "2023-06-11T12:15:01.922Z"
      },
      {
        "duration": 64,
        "start_time": "2023-06-11T12:15:02.000Z"
      },
      {
        "duration": 335,
        "start_time": "2023-06-11T12:15:02.066Z"
      },
      {
        "duration": 9,
        "start_time": "2023-06-11T12:15:02.403Z"
      },
      {
        "duration": 344,
        "start_time": "2023-06-11T12:15:02.424Z"
      },
      {
        "duration": 329,
        "start_time": "2023-06-11T12:15:02.770Z"
      },
      {
        "duration": 372,
        "start_time": "2023-06-11T12:15:03.103Z"
      },
      {
        "duration": 437,
        "start_time": "2023-06-11T12:15:03.476Z"
      },
      {
        "duration": 340,
        "start_time": "2023-06-11T12:15:03.915Z"
      },
      {
        "duration": 328,
        "start_time": "2023-06-11T12:15:04.257Z"
      },
      {
        "duration": 360,
        "start_time": "2023-06-11T12:15:04.588Z"
      },
      {
        "duration": 294,
        "start_time": "2023-06-11T12:15:04.949Z"
      },
      {
        "duration": 256,
        "start_time": "2023-06-11T12:15:05.248Z"
      },
      {
        "duration": 5944,
        "start_time": "2023-06-11T12:15:05.506Z"
      },
      {
        "duration": 59,
        "start_time": "2023-06-11T12:15:11.468Z"
      },
      {
        "duration": 53,
        "start_time": "2023-06-11T12:15:11.529Z"
      },
      {
        "duration": 33,
        "start_time": "2023-06-11T12:15:11.585Z"
      },
      {
        "duration": 42,
        "start_time": "2023-06-11T12:15:11.620Z"
      },
      {
        "duration": 11,
        "start_time": "2023-06-11T12:15:11.664Z"
      },
      {
        "duration": 62,
        "start_time": "2023-06-11T12:15:11.677Z"
      },
      {
        "duration": 80,
        "start_time": "2023-06-11T12:15:11.746Z"
      },
      {
        "duration": 222,
        "start_time": "2023-06-11T12:15:11.829Z"
      },
      {
        "duration": 28,
        "start_time": "2023-06-11T12:15:12.055Z"
      },
      {
        "duration": 5,
        "start_time": "2023-06-11T12:15:12.086Z"
      },
      {
        "duration": 30507,
        "start_time": "2023-06-11T12:15:12.097Z"
      },
      {
        "duration": 1261,
        "start_time": "2023-06-11T12:15:42.606Z"
      },
      {
        "duration": 3,
        "start_time": "2023-06-11T12:15:43.869Z"
      },
      {
        "duration": 159103,
        "start_time": "2023-06-11T12:15:43.874Z"
      },
      {
        "duration": 612,
        "start_time": "2023-06-11T12:18:22.979Z"
      },
      {
        "duration": 3,
        "start_time": "2023-06-11T12:18:23.593Z"
      },
      {
        "duration": 6,
        "start_time": "2023-06-11T12:18:23.598Z"
      },
      {
        "duration": 5,
        "start_time": "2023-06-11T12:18:23.606Z"
      },
      {
        "duration": 72650,
        "start_time": "2023-06-11T12:18:23.613Z"
      },
      {
        "duration": 3,
        "start_time": "2023-06-11T12:19:36.265Z"
      },
      {
        "duration": 12,
        "start_time": "2023-06-11T12:19:36.324Z"
      },
      {
        "duration": 88,
        "start_time": "2023-06-11T12:19:36.337Z"
      },
      {
        "duration": 13,
        "start_time": "2023-06-11T12:19:36.427Z"
      },
      {
        "duration": 321,
        "start_time": "2023-06-11T12:19:36.443Z"
      },
      {
        "duration": 278,
        "start_time": "2023-06-11T12:19:36.766Z"
      },
      {
        "duration": 275,
        "start_time": "2023-06-11T12:19:37.046Z"
      },
      {
        "duration": 275,
        "start_time": "2023-06-11T12:19:37.324Z"
      },
      {
        "duration": 294,
        "start_time": "2023-06-11T12:19:37.600Z"
      },
      {
        "duration": 78,
        "start_time": "2023-06-12T15:29:32.859Z"
      },
      {
        "duration": 1832,
        "start_time": "2023-06-12T15:29:37.115Z"
      },
      {
        "duration": 154,
        "start_time": "2023-06-12T15:29:38.949Z"
      },
      {
        "duration": 10,
        "start_time": "2023-06-12T15:29:39.105Z"
      },
      {
        "duration": 4,
        "start_time": "2023-06-12T15:29:39.118Z"
      },
      {
        "duration": 7,
        "start_time": "2023-06-12T15:29:39.124Z"
      },
      {
        "duration": 19,
        "start_time": "2023-06-12T15:29:39.132Z"
      },
      {
        "duration": 3,
        "start_time": "2023-06-12T15:29:39.153Z"
      },
      {
        "duration": 452,
        "start_time": "2023-06-12T15:29:42.057Z"
      },
      {
        "duration": 375,
        "start_time": "2023-06-12T15:29:50.695Z"
      },
      {
        "duration": 316,
        "start_time": "2023-06-12T15:30:08.450Z"
      },
      {
        "duration": 294,
        "start_time": "2023-06-12T15:31:18.543Z"
      },
      {
        "duration": 107,
        "start_time": "2023-06-12T15:32:18.097Z"
      },
      {
        "duration": 9,
        "start_time": "2023-06-12T15:32:24.412Z"
      },
      {
        "duration": 309,
        "start_time": "2023-06-12T15:32:25.293Z"
      },
      {
        "duration": 255,
        "start_time": "2023-06-12T15:34:45.872Z"
      },
      {
        "duration": 172,
        "start_time": "2023-06-12T15:37:41.558Z"
      },
      {
        "duration": 390,
        "start_time": "2023-06-12T15:37:52.222Z"
      },
      {
        "duration": 134,
        "start_time": "2023-06-12T15:38:16.270Z"
      },
      {
        "duration": 213,
        "start_time": "2023-06-12T15:38:24.096Z"
      },
      {
        "duration": 271,
        "start_time": "2023-06-12T15:38:33.656Z"
      },
      {
        "duration": 259,
        "start_time": "2023-06-12T15:39:25.912Z"
      },
      {
        "duration": 223,
        "start_time": "2023-06-12T15:39:33.290Z"
      },
      {
        "duration": 180,
        "start_time": "2023-06-12T15:39:54.717Z"
      },
      {
        "duration": 349,
        "start_time": "2023-06-12T15:39:57.789Z"
      },
      {
        "duration": 326,
        "start_time": "2023-06-12T15:40:00.789Z"
      },
      {
        "duration": 293,
        "start_time": "2023-06-12T15:40:50.887Z"
      },
      {
        "duration": 276,
        "start_time": "2023-06-12T15:41:09.576Z"
      },
      {
        "duration": 191,
        "start_time": "2023-06-12T15:41:19.804Z"
      },
      {
        "duration": 208,
        "start_time": "2023-06-12T15:41:26.021Z"
      },
      {
        "duration": 340,
        "start_time": "2023-06-12T15:42:10.853Z"
      },
      {
        "duration": 235,
        "start_time": "2023-06-12T15:42:56.376Z"
      },
      {
        "duration": 277,
        "start_time": "2023-06-12T15:43:50.490Z"
      },
      {
        "duration": 11,
        "start_time": "2023-06-12T15:46:05.844Z"
      },
      {
        "duration": 10,
        "start_time": "2023-06-12T15:47:24.090Z"
      },
      {
        "duration": 7,
        "start_time": "2023-06-12T15:48:42.031Z"
      },
      {
        "duration": 11,
        "start_time": "2023-06-12T15:48:45.532Z"
      },
      {
        "duration": 246,
        "start_time": "2023-06-12T15:49:41.509Z"
      },
      {
        "duration": 252,
        "start_time": "2023-06-12T15:51:02.347Z"
      },
      {
        "duration": 347,
        "start_time": "2023-06-12T15:51:31.339Z"
      },
      {
        "duration": 204,
        "start_time": "2023-06-12T15:52:18.492Z"
      },
      {
        "duration": 236,
        "start_time": "2023-06-12T15:52:57.675Z"
      },
      {
        "duration": 180,
        "start_time": "2023-06-12T15:53:08.495Z"
      },
      {
        "duration": 5,
        "start_time": "2023-06-12T15:54:45.515Z"
      },
      {
        "duration": 27,
        "start_time": "2023-06-12T15:55:18.502Z"
      },
      {
        "duration": 29,
        "start_time": "2023-06-12T15:55:21.890Z"
      },
      {
        "duration": 11,
        "start_time": "2023-06-12T15:55:26.314Z"
      },
      {
        "duration": 3,
        "start_time": "2023-06-12T15:55:29.289Z"
      },
      {
        "duration": 13,
        "start_time": "2023-06-12T16:11:09.781Z"
      },
      {
        "duration": 6,
        "start_time": "2023-06-12T16:11:15.301Z"
      },
      {
        "duration": 101,
        "start_time": "2023-06-12T16:11:16.552Z"
      },
      {
        "duration": 135,
        "start_time": "2023-06-12T16:11:29.311Z"
      },
      {
        "duration": 104,
        "start_time": "2023-06-12T16:11:38.070Z"
      },
      {
        "duration": 4,
        "start_time": "2023-06-12T16:12:11.142Z"
      },
      {
        "duration": 8,
        "start_time": "2023-06-12T16:12:23.271Z"
      },
      {
        "duration": 611,
        "start_time": "2023-06-12T16:12:24.168Z"
      },
      {
        "duration": 932,
        "start_time": "2023-06-12T16:12:50.963Z"
      },
      {
        "duration": 659,
        "start_time": "2023-06-12T16:14:05.226Z"
      },
      {
        "duration": 12,
        "start_time": "2023-06-12T16:14:10.875Z"
      },
      {
        "duration": 800,
        "start_time": "2023-06-12T16:14:11.899Z"
      },
      {
        "duration": 3,
        "start_time": "2023-06-12T16:15:56.529Z"
      },
      {
        "duration": 222,
        "start_time": "2023-06-12T16:17:02.408Z"
      },
      {
        "duration": 9,
        "start_time": "2023-06-12T16:17:16.881Z"
      },
      {
        "duration": 10,
        "start_time": "2023-06-12T16:17:20.160Z"
      },
      {
        "duration": 226,
        "start_time": "2023-06-12T16:17:22.338Z"
      },
      {
        "duration": 9,
        "start_time": "2023-06-12T16:17:24.354Z"
      },
      {
        "duration": 5,
        "start_time": "2023-06-12T16:17:37.257Z"
      },
      {
        "duration": 223,
        "start_time": "2023-06-12T16:18:15.170Z"
      },
      {
        "duration": 7,
        "start_time": "2023-06-12T16:18:54.470Z"
      },
      {
        "duration": 221,
        "start_time": "2023-06-12T16:19:07.770Z"
      },
      {
        "duration": 88,
        "start_time": "2023-06-12T16:19:56.342Z"
      },
      {
        "duration": 445,
        "start_time": "2023-06-12T16:19:58.111Z"
      },
      {
        "duration": 225,
        "start_time": "2023-06-12T16:20:05.333Z"
      },
      {
        "duration": 10,
        "start_time": "2023-06-12T16:20:13.671Z"
      },
      {
        "duration": 2,
        "start_time": "2023-06-12T16:21:26.074Z"
      },
      {
        "duration": 67162,
        "start_time": "2023-06-12T16:22:51.776Z"
      },
      {
        "duration": 6,
        "start_time": "2023-06-12T16:23:58.945Z"
      },
      {
        "duration": 0,
        "start_time": "2023-06-12T16:23:58.953Z"
      },
      {
        "duration": 3,
        "start_time": "2023-06-12T16:25:46.294Z"
      },
      {
        "duration": 440339,
        "start_time": "2023-06-12T16:25:50.257Z"
      },
      {
        "duration": 3,
        "start_time": "2023-06-12T16:33:10.598Z"
      },
      {
        "duration": 6,
        "start_time": "2023-06-12T16:33:10.603Z"
      },
      {
        "duration": 4,
        "start_time": "2023-06-12T16:34:44.972Z"
      },
      {
        "duration": 2,
        "start_time": "2023-06-12T16:35:13.125Z"
      },
      {
        "duration": 3169176,
        "start_time": "2023-06-12T16:36:20.512Z"
      },
      {
        "duration": 9,
        "start_time": "2023-06-12T18:22:42.046Z"
      },
      {
        "duration": 9,
        "start_time": "2023-06-12T18:22:58.632Z"
      },
      {
        "duration": 3,
        "start_time": "2023-06-12T18:23:08.170Z"
      },
      {
        "duration": 27,
        "start_time": "2023-06-12T18:23:10.782Z"
      },
      {
        "duration": 29,
        "start_time": "2023-06-12T18:23:12.353Z"
      },
      {
        "duration": 15,
        "start_time": "2023-06-12T18:23:23.600Z"
      },
      {
        "duration": 3,
        "start_time": "2023-06-12T18:44:44.371Z"
      },
      {
        "duration": 3,
        "start_time": "2023-06-12T18:44:47.038Z"
      },
      {
        "duration": 3,
        "start_time": "2023-06-12T18:44:49.462Z"
      },
      {
        "duration": 9,
        "start_time": "2023-06-12T18:44:56.069Z"
      },
      {
        "duration": 15,
        "start_time": "2023-06-12T18:45:12.029Z"
      },
      {
        "duration": 11,
        "start_time": "2023-06-12T18:45:19.252Z"
      },
      {
        "duration": 3,
        "start_time": "2023-06-12T18:45:26.495Z"
      },
      {
        "duration": 3,
        "start_time": "2023-06-12T18:45:29.488Z"
      },
      {
        "duration": 9,
        "start_time": "2023-06-12T18:45:30.446Z"
      },
      {
        "duration": 4,
        "start_time": "2023-06-12T18:45:40.384Z"
      },
      {
        "duration": 65,
        "start_time": "2023-06-12T18:45:40.391Z"
      },
      {
        "duration": 6,
        "start_time": "2023-06-12T18:45:40.458Z"
      },
      {
        "duration": 15,
        "start_time": "2023-06-12T18:45:40.466Z"
      },
      {
        "duration": 10,
        "start_time": "2023-06-12T18:45:40.483Z"
      },
      {
        "duration": 16,
        "start_time": "2023-06-12T18:45:40.494Z"
      },
      {
        "duration": 307,
        "start_time": "2023-06-12T18:45:40.512Z"
      },
      {
        "duration": 7,
        "start_time": "2023-06-12T18:45:40.821Z"
      },
      {
        "duration": 271,
        "start_time": "2023-06-12T18:45:40.830Z"
      },
      {
        "duration": 318,
        "start_time": "2023-06-12T18:45:41.102Z"
      },
      {
        "duration": 206,
        "start_time": "2023-06-12T18:45:41.423Z"
      },
      {
        "duration": 366,
        "start_time": "2023-06-12T18:45:41.630Z"
      },
      {
        "duration": 10,
        "start_time": "2023-06-12T18:45:41.998Z"
      },
      {
        "duration": 9,
        "start_time": "2023-06-12T18:45:42.009Z"
      },
      {
        "duration": 244,
        "start_time": "2023-06-12T18:45:42.019Z"
      },
      {
        "duration": 179,
        "start_time": "2023-06-12T18:45:42.264Z"
      },
      {
        "duration": 1541,
        "start_time": "2023-06-12T18:45:42.445Z"
      },
      {
        "duration": 91,
        "start_time": "2023-06-12T18:45:43.988Z"
      },
      {
        "duration": 120,
        "start_time": "2023-06-12T18:45:44.081Z"
      },
      {
        "duration": 27,
        "start_time": "2023-06-12T18:45:44.203Z"
      },
      {
        "duration": 7,
        "start_time": "2023-06-12T18:45:44.231Z"
      },
      {
        "duration": 6,
        "start_time": "2023-06-12T18:45:44.240Z"
      },
      {
        "duration": 30,
        "start_time": "2023-06-12T18:45:44.247Z"
      },
      {
        "duration": 611,
        "start_time": "2023-06-12T18:45:44.278Z"
      },
      {
        "duration": 7,
        "start_time": "2023-06-12T18:45:44.976Z"
      },
      {
        "duration": 318,
        "start_time": "2023-06-12T18:45:44.985Z"
      },
      {
        "duration": 4,
        "start_time": "2023-06-12T18:45:45.305Z"
      },
      {
        "duration": 67262,
        "start_time": "2023-06-12T18:45:45.312Z"
      },
      {
        "duration": 4,
        "start_time": "2023-06-12T18:46:52.576Z"
      },
      {
        "duration": 398830,
        "start_time": "2023-06-12T18:46:52.583Z"
      },
      {
        "duration": 4,
        "start_time": "2023-06-12T18:53:31.415Z"
      },
      {
        "duration": 40,
        "start_time": "2023-06-12T18:53:31.420Z"
      },
      {
        "duration": 46,
        "start_time": "2023-06-12T18:53:31.462Z"
      },
      {
        "duration": 31,
        "start_time": "2023-06-12T18:53:31.510Z"
      },
      {
        "duration": 44,
        "start_time": "2023-06-12T18:53:31.542Z"
      },
      {
        "duration": 0,
        "start_time": "2023-06-12T18:53:31.588Z"
      },
      {
        "duration": 0,
        "start_time": "2023-06-12T18:53:31.592Z"
      },
      {
        "duration": 0,
        "start_time": "2023-06-12T18:53:31.593Z"
      },
      {
        "duration": 0,
        "start_time": "2023-06-12T18:53:31.595Z"
      },
      {
        "duration": 0,
        "start_time": "2023-06-12T18:53:31.597Z"
      },
      {
        "duration": 0,
        "start_time": "2023-06-12T18:53:31.598Z"
      },
      {
        "duration": 0,
        "start_time": "2023-06-12T18:53:31.600Z"
      },
      {
        "duration": 15,
        "start_time": "2023-06-12T18:56:24.008Z"
      },
      {
        "duration": 4,
        "start_time": "2023-06-12T18:56:33.114Z"
      },
      {
        "duration": 9,
        "start_time": "2023-06-12T18:58:13.277Z"
      },
      {
        "duration": 3,
        "start_time": "2023-06-12T18:58:26.883Z"
      },
      {
        "duration": 3,
        "start_time": "2023-06-12T18:58:35.180Z"
      },
      {
        "duration": 229,
        "start_time": "2023-06-12T18:58:44.488Z"
      },
      {
        "duration": 4,
        "start_time": "2023-06-12T18:58:52.816Z"
      },
      {
        "duration": 69678,
        "start_time": "2023-06-12T18:59:00.427Z"
      },
      {
        "duration": 3,
        "start_time": "2023-06-12T19:00:10.108Z"
      },
      {
        "duration": 418247,
        "start_time": "2023-06-12T19:00:10.114Z"
      },
      {
        "duration": 4,
        "start_time": "2023-06-12T19:07:08.364Z"
      },
      {
        "duration": 11,
        "start_time": "2023-06-12T19:07:08.370Z"
      },
      {
        "duration": 10,
        "start_time": "2023-06-12T19:07:08.382Z"
      },
      {
        "duration": 11,
        "start_time": "2023-06-12T19:07:08.393Z"
      },
      {
        "duration": 11,
        "start_time": "2023-06-12T19:07:08.406Z"
      },
      {
        "duration": 3,
        "start_time": "2023-06-12T19:09:32.220Z"
      },
      {
        "duration": 4,
        "start_time": "2023-06-12T19:09:35.474Z"
      },
      {
        "duration": 3,
        "start_time": "2023-06-12T19:09:38.079Z"
      },
      {
        "duration": 4,
        "start_time": "2023-06-12T19:09:39.468Z"
      },
      {
        "duration": 4,
        "start_time": "2023-06-12T19:09:41.726Z"
      },
      {
        "duration": 3,
        "start_time": "2023-06-12T19:09:44.195Z"
      },
      {
        "duration": 9,
        "start_time": "2023-06-12T19:09:48.504Z"
      },
      {
        "duration": 18,
        "start_time": "2023-06-12T19:12:04.701Z"
      },
      {
        "duration": 18,
        "start_time": "2023-06-12T19:12:28.993Z"
      },
      {
        "duration": 15,
        "start_time": "2023-06-12T19:12:43.159Z"
      },
      {
        "duration": 283,
        "start_time": "2023-06-12T19:13:48.217Z"
      },
      {
        "duration": 1677,
        "start_time": "2023-06-12T19:22:02.149Z"
      },
      {
        "duration": 73,
        "start_time": "2023-06-12T19:22:03.828Z"
      },
      {
        "duration": 13,
        "start_time": "2023-06-12T19:22:03.904Z"
      },
      {
        "duration": 42,
        "start_time": "2023-06-12T19:22:03.920Z"
      },
      {
        "duration": 34,
        "start_time": "2023-06-12T19:22:03.964Z"
      },
      {
        "duration": 24,
        "start_time": "2023-06-12T19:22:04.000Z"
      },
      {
        "duration": 367,
        "start_time": "2023-06-12T19:22:04.026Z"
      },
      {
        "duration": 9,
        "start_time": "2023-06-12T19:22:04.395Z"
      },
      {
        "duration": 437,
        "start_time": "2023-06-12T19:22:04.406Z"
      },
      {
        "duration": 383,
        "start_time": "2023-06-12T19:22:04.846Z"
      },
      {
        "duration": 237,
        "start_time": "2023-06-12T19:22:05.231Z"
      },
      {
        "duration": 372,
        "start_time": "2023-06-12T19:22:05.470Z"
      },
      {
        "duration": 11,
        "start_time": "2023-06-12T19:22:05.844Z"
      },
      {
        "duration": 60,
        "start_time": "2023-06-12T19:22:05.857Z"
      },
      {
        "duration": 338,
        "start_time": "2023-06-12T19:22:05.919Z"
      },
      {
        "duration": 281,
        "start_time": "2023-06-12T19:22:06.259Z"
      },
      {
        "duration": 4345,
        "start_time": "2023-06-12T19:22:06.542Z"
      },
      {
        "duration": 10,
        "start_time": "2023-06-12T19:22:10.889Z"
      },
      {
        "duration": 110,
        "start_time": "2023-06-12T19:22:10.978Z"
      },
      {
        "duration": 47,
        "start_time": "2023-06-12T19:22:11.091Z"
      },
      {
        "duration": 10,
        "start_time": "2023-06-12T19:22:11.141Z"
      },
      {
        "duration": 3,
        "start_time": "2023-06-12T19:22:11.153Z"
      },
      {
        "duration": 51,
        "start_time": "2023-06-12T19:22:11.158Z"
      },
      {
        "duration": 970,
        "start_time": "2023-06-12T19:22:11.211Z"
      },
      {
        "duration": 10,
        "start_time": "2023-06-12T19:22:12.184Z"
      },
      {
        "duration": 317,
        "start_time": "2023-06-12T19:22:12.196Z"
      },
      {
        "duration": 3,
        "start_time": "2023-06-12T19:22:12.514Z"
      },
      {
        "duration": 72992,
        "start_time": "2023-06-12T19:22:12.520Z"
      },
      {
        "duration": 3,
        "start_time": "2023-06-12T19:23:25.514Z"
      },
      {
        "duration": 424224,
        "start_time": "2023-06-12T19:23:25.519Z"
      },
      {
        "duration": 4,
        "start_time": "2023-06-12T19:30:29.745Z"
      },
      {
        "duration": 14,
        "start_time": "2023-06-12T19:30:29.750Z"
      },
      {
        "duration": 14,
        "start_time": "2023-06-12T19:30:29.766Z"
      },
      {
        "duration": 134,
        "start_time": "2023-06-12T19:30:29.782Z"
      },
      {
        "duration": 0,
        "start_time": "2023-06-12T19:30:29.917Z"
      },
      {
        "duration": 0,
        "start_time": "2023-06-12T19:30:29.919Z"
      },
      {
        "duration": 0,
        "start_time": "2023-06-12T19:30:29.920Z"
      },
      {
        "duration": 2,
        "start_time": "2023-06-12T19:31:18.591Z"
      },
      {
        "duration": 8,
        "start_time": "2023-06-12T19:31:19.877Z"
      },
      {
        "duration": 10,
        "start_time": "2023-06-12T19:31:42.099Z"
      },
      {
        "duration": 647,
        "start_time": "2023-06-12T19:33:37.240Z"
      },
      {
        "duration": 279,
        "start_time": "2023-06-12T19:33:46.071Z"
      },
      {
        "duration": 3540,
        "start_time": "2023-06-13T17:32:30.267Z"
      },
      {
        "duration": 268,
        "start_time": "2023-06-13T17:32:33.809Z"
      },
      {
        "duration": 12,
        "start_time": "2023-06-13T17:32:34.078Z"
      },
      {
        "duration": 81,
        "start_time": "2023-06-13T17:32:34.091Z"
      },
      {
        "duration": 9,
        "start_time": "2023-06-13T17:32:34.174Z"
      },
      {
        "duration": 122,
        "start_time": "2023-06-13T17:32:34.184Z"
      },
      {
        "duration": 687,
        "start_time": "2023-06-13T17:32:34.308Z"
      },
      {
        "duration": 78,
        "start_time": "2023-06-13T17:32:34.996Z"
      },
      {
        "duration": 566,
        "start_time": "2023-06-13T17:32:35.076Z"
      },
      {
        "duration": 430,
        "start_time": "2023-06-13T17:32:35.644Z"
      },
      {
        "duration": 300,
        "start_time": "2023-06-13T17:32:36.076Z"
      },
      {
        "duration": 490,
        "start_time": "2023-06-13T17:32:36.378Z"
      },
      {
        "duration": 19,
        "start_time": "2023-06-13T17:32:36.870Z"
      },
      {
        "duration": 86,
        "start_time": "2023-06-13T17:32:36.892Z"
      },
      {
        "duration": 412,
        "start_time": "2023-06-13T17:32:36.980Z"
      },
      {
        "duration": 278,
        "start_time": "2023-06-13T17:32:37.396Z"
      },
      {
        "duration": 3521,
        "start_time": "2023-06-13T17:32:37.676Z"
      },
      {
        "duration": 29,
        "start_time": "2023-06-13T17:32:41.206Z"
      },
      {
        "duration": 131,
        "start_time": "2023-06-13T17:32:41.255Z"
      },
      {
        "duration": 53,
        "start_time": "2023-06-13T17:32:41.391Z"
      },
      {
        "duration": 27,
        "start_time": "2023-06-13T17:32:41.450Z"
      },
      {
        "duration": 81,
        "start_time": "2023-06-13T17:32:41.479Z"
      },
      {
        "duration": 13,
        "start_time": "2023-06-13T17:32:41.562Z"
      },
      {
        "duration": 895,
        "start_time": "2023-06-13T17:32:41.576Z"
      },
      {
        "duration": 13,
        "start_time": "2023-06-13T17:32:42.475Z"
      },
      {
        "duration": 553,
        "start_time": "2023-06-13T17:32:42.499Z"
      },
      {
        "duration": 3,
        "start_time": "2023-06-13T17:32:43.054Z"
      },
      {
        "duration": 50825,
        "start_time": "2023-06-13T17:32:43.059Z"
      },
      {
        "duration": 0,
        "start_time": "2023-06-13T17:33:33.894Z"
      },
      {
        "duration": 0,
        "start_time": "2023-06-13T17:33:33.895Z"
      },
      {
        "duration": 0,
        "start_time": "2023-06-13T17:33:33.896Z"
      },
      {
        "duration": 0,
        "start_time": "2023-06-13T17:33:33.897Z"
      },
      {
        "duration": 0,
        "start_time": "2023-06-13T17:33:33.898Z"
      },
      {
        "duration": 0,
        "start_time": "2023-06-13T17:33:33.899Z"
      },
      {
        "duration": 0,
        "start_time": "2023-06-13T17:33:33.901Z"
      },
      {
        "duration": 0,
        "start_time": "2023-06-13T17:33:33.902Z"
      },
      {
        "duration": 0,
        "start_time": "2023-06-13T17:33:33.903Z"
      },
      {
        "duration": 0,
        "start_time": "2023-06-13T17:33:33.904Z"
      },
      {
        "duration": 328,
        "start_time": "2023-06-13T17:33:35.941Z"
      },
      {
        "duration": 2323,
        "start_time": "2023-06-13T17:37:09.834Z"
      },
      {
        "duration": 127,
        "start_time": "2023-06-13T17:37:12.159Z"
      },
      {
        "duration": 18,
        "start_time": "2023-06-13T17:37:12.289Z"
      },
      {
        "duration": 73,
        "start_time": "2023-06-13T17:37:12.308Z"
      },
      {
        "duration": 86,
        "start_time": "2023-06-13T17:37:12.383Z"
      },
      {
        "duration": 47,
        "start_time": "2023-06-13T17:37:12.471Z"
      },
      {
        "duration": 457,
        "start_time": "2023-06-13T17:37:12.526Z"
      },
      {
        "duration": 11,
        "start_time": "2023-06-13T17:37:12.995Z"
      },
      {
        "duration": 690,
        "start_time": "2023-06-13T17:37:13.007Z"
      },
      {
        "duration": 510,
        "start_time": "2023-06-13T17:37:13.699Z"
      },
      {
        "duration": 257,
        "start_time": "2023-06-13T17:37:14.211Z"
      },
      {
        "duration": 324,
        "start_time": "2023-06-13T17:37:14.473Z"
      },
      {
        "duration": 15,
        "start_time": "2023-06-13T17:37:14.801Z"
      },
      {
        "duration": 142,
        "start_time": "2023-06-13T17:37:14.822Z"
      },
      {
        "duration": 379,
        "start_time": "2023-06-13T17:37:14.966Z"
      },
      {
        "duration": 332,
        "start_time": "2023-06-13T17:37:15.347Z"
      },
      {
        "duration": 1845,
        "start_time": "2023-06-13T17:37:15.684Z"
      },
      {
        "duration": 22,
        "start_time": "2023-06-13T17:37:17.566Z"
      },
      {
        "duration": 144,
        "start_time": "2023-06-13T17:37:17.604Z"
      },
      {
        "duration": 115,
        "start_time": "2023-06-13T17:37:17.757Z"
      },
      {
        "duration": 95,
        "start_time": "2023-06-13T17:37:17.873Z"
      },
      {
        "duration": 104,
        "start_time": "2023-06-13T17:37:17.973Z"
      },
      {
        "duration": 100,
        "start_time": "2023-06-13T17:37:18.079Z"
      },
      {
        "duration": 716,
        "start_time": "2023-06-13T17:37:18.181Z"
      },
      {
        "duration": 41,
        "start_time": "2023-06-13T17:37:18.898Z"
      },
      {
        "duration": 358,
        "start_time": "2023-06-13T17:37:18.945Z"
      },
      {
        "duration": 2,
        "start_time": "2023-06-13T17:37:19.305Z"
      },
      {
        "duration": 98014,
        "start_time": "2023-06-13T17:37:19.309Z"
      },
      {
        "duration": 3,
        "start_time": "2023-06-13T17:38:57.325Z"
      },
      {
        "duration": 611068,
        "start_time": "2023-06-13T17:38:57.330Z"
      },
      {
        "duration": 3,
        "start_time": "2023-06-13T17:49:08.402Z"
      },
      {
        "duration": 106,
        "start_time": "2023-06-13T17:49:08.407Z"
      },
      {
        "duration": 146,
        "start_time": "2023-06-13T17:49:08.514Z"
      },
      {
        "duration": 5,
        "start_time": "2023-06-13T17:49:08.662Z"
      },
      {
        "duration": 14,
        "start_time": "2023-06-13T17:49:08.669Z"
      },
      {
        "duration": 190083,
        "start_time": "2023-06-13T17:49:08.684Z"
      },
      {
        "duration": 450,
        "start_time": "2023-06-13T17:52:18.773Z"
      }
    ],
    "kernelspec": {
      "display_name": "Python 3 (ipykernel)",
      "language": "python",
      "name": "python3"
    },
    "language_info": {
      "codemirror_mode": {
        "name": "ipython",
        "version": 3
      },
      "file_extension": ".py",
      "mimetype": "text/x-python",
      "name": "python",
      "nbconvert_exporter": "python",
      "pygments_lexer": "ipython3",
      "version": "3.9.5"
    },
    "toc": {
      "base_numbering": 1,
      "nav_menu": {},
      "number_sections": true,
      "sideBar": true,
      "skip_h1_title": true,
      "title_cell": "Содержание",
      "title_sidebar": "Contents",
      "toc_cell": true,
      "toc_position": {},
      "toc_section_display": true,
      "toc_window_display": true
    },
    "colab": {
      "provenance": []
    }
  },
  "nbformat": 4,
  "nbformat_minor": 0
}