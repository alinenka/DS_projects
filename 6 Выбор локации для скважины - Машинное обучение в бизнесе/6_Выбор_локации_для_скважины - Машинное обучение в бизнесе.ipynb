{
  "cells": [
    {
      "cell_type": "markdown",
      "metadata": {
        "id": "DfxSHLDmQmNX"
      },
      "source": [
        "# Выбор локации для скважины - Машинное обучение в бизнесе"
      ]
    },
    {
      "cell_type": "markdown",
      "metadata": {
        "id": "yKqNU1_UQmNX"
      },
      "source": [
        "Допустим, вы работаете в добывающей компании «ГлавРосГосНефть». Нужно решить, где бурить новую скважину.\n",
        "\n",
        "Вам предоставлены пробы нефти в трёх регионах: в каждом 10 000 месторождений, где измерили качество нефти и объём её запасов. Постройте модель машинного обучения, которая поможет определить регион, где добыча принесёт наибольшую прибыль. Проанализируйте возможную прибыль и риски техникой *Bootstrap.*\n",
        "\n",
        "- \tid — уникальный идентификатор скважины;\n",
        "-\tf0, f1, f2 — три признака точек (неважно, что они означают, но сами признаки значимы);\n",
        "-\tproduct — объём запасов в скважине (тыс. баррелей).\n",
        "\n",
        "\n",
        "Шаги для выбора локации:\n",
        "\n",
        "- В избранном регионе ищут месторождения, для каждого определяют значения признаков;\n",
        "- Строят модель и оценивают объём запасов;\n",
        "- Выбирают месторождения с самым высокими оценками значений. Количество месторождений зависит от бюджета компании и стоимости разработки одной скважины;\n",
        "- Прибыль равна суммарной прибыли отобранных месторождений.\n",
        "\n",
        "План:\n",
        "1. Открою файлы и ознакомлюсь с данными. Посмотрю на распределение данных\n",
        "2. Проверю данные на пропуски и обработаю их\n",
        "3. Проверю данные на дубли и обработаю их\n",
        "4. Проверю данные на выбросы и обработаю их\n",
        "5. Обучу модель и проверю ее на валидационной выборке\n",
        "6. Подготовлю данные и функцию для расчета прибыли\n",
        "7. Проведу расчет прибыли и рсиков с использованием процедуры бутстрап\n",
        "8. Проанализирую полученные данные и обосную выбор региона для разработки\n",
        "\n",
        "Навыки и инструменты: Pandas,Scikit-learn,бутстреп"
      ]
    },
    {
      "cell_type": "markdown",
      "metadata": {
        "id": "GwIp_vlVQmNY"
      },
      "source": [
        "## Загрузка и подготовка данных"
      ]
    },
    {
      "cell_type": "markdown",
      "metadata": {
        "id": "xSxXrxAUQmNZ"
      },
      "source": [
        "Подключим все необходимые бибилиотеки"
      ]
    },
    {
      "cell_type": "code",
      "execution_count": null,
      "metadata": {
        "id": "rIZ40mh7QmNa",
        "outputId": "5963ffa0-7882-4e9f-f747-494af44b4233"
      },
      "outputs": [
        {
          "name": "stdout",
          "output_type": "stream",
          "text": [
            "Collecting tabulate\n",
            "  Downloading tabulate-0.9.0-py3-none-any.whl (35 kB)\n",
            "Installing collected packages: tabulate\n",
            "Successfully installed tabulate-0.9.0\n",
            "Note: you may need to restart the kernel to use updated packages.\n"
          ]
        }
      ],
      "source": [
        "pip install tabulate"
      ]
    },
    {
      "cell_type": "code",
      "execution_count": null,
      "metadata": {
        "id": "7L7EM7vAQmNa"
      },
      "outputs": [],
      "source": [
        "import pandas as pd\n",
        "import numpy as np\n",
        "import matplotlib.pyplot as plt\n",
        "import seaborn as sns\n",
        "from sklearn.linear_model import LinearRegression\n",
        "from sklearn.model_selection import train_test_split\n",
        "from sklearn.preprocessing import StandardScaler\n",
        "from IPython.display import HTML, display\n",
        "from tabulate import tabulate\n",
        "from scipy import stats as st\n",
        "from sklearn.metrics import mean_squared_error, r2_score\n",
        "from sklearn.utils import shuffle"
      ]
    },
    {
      "cell_type": "markdown",
      "metadata": {
        "id": "uspHkXM3QmNb"
      },
      "source": [
        "Загрузим датасеты по всем трем регионам и ознакомимся с ними"
      ]
    },
    {
      "cell_type": "code",
      "execution_count": null,
      "metadata": {
        "id": "7lFOPHadQmNb",
        "outputId": "d91824d1-2695-4721-c8b1-3ea8277ac5e4"
      },
      "outputs": [
        {
          "data": {
            "text/html": [
              "<div>\n",
              "<style scoped>\n",
              "    .dataframe tbody tr th:only-of-type {\n",
              "        vertical-align: middle;\n",
              "    }\n",
              "\n",
              "    .dataframe tbody tr th {\n",
              "        vertical-align: top;\n",
              "    }\n",
              "\n",
              "    .dataframe thead th {\n",
              "        text-align: right;\n",
              "    }\n",
              "</style>\n",
              "<table border=\"1\" class=\"dataframe\">\n",
              "  <thead>\n",
              "    <tr style=\"text-align: right;\">\n",
              "      <th></th>\n",
              "      <th>id</th>\n",
              "      <th>f0</th>\n",
              "      <th>f1</th>\n",
              "      <th>f2</th>\n",
              "      <th>product</th>\n",
              "    </tr>\n",
              "  </thead>\n",
              "  <tbody>\n",
              "    <tr>\n",
              "      <th>0</th>\n",
              "      <td>txEyH</td>\n",
              "      <td>0.705745</td>\n",
              "      <td>-0.497823</td>\n",
              "      <td>1.221170</td>\n",
              "      <td>105.280062</td>\n",
              "    </tr>\n",
              "    <tr>\n",
              "      <th>1</th>\n",
              "      <td>2acmU</td>\n",
              "      <td>1.334711</td>\n",
              "      <td>-0.340164</td>\n",
              "      <td>4.365080</td>\n",
              "      <td>73.037750</td>\n",
              "    </tr>\n",
              "    <tr>\n",
              "      <th>2</th>\n",
              "      <td>409Wp</td>\n",
              "      <td>1.022732</td>\n",
              "      <td>0.151990</td>\n",
              "      <td>1.419926</td>\n",
              "      <td>85.265647</td>\n",
              "    </tr>\n",
              "    <tr>\n",
              "      <th>3</th>\n",
              "      <td>iJLyR</td>\n",
              "      <td>-0.032172</td>\n",
              "      <td>0.139033</td>\n",
              "      <td>2.978566</td>\n",
              "      <td>168.620776</td>\n",
              "    </tr>\n",
              "    <tr>\n",
              "      <th>4</th>\n",
              "      <td>Xdl7t</td>\n",
              "      <td>1.988431</td>\n",
              "      <td>0.155413</td>\n",
              "      <td>4.751769</td>\n",
              "      <td>154.036647</td>\n",
              "    </tr>\n",
              "    <tr>\n",
              "      <th>5</th>\n",
              "      <td>wX4Hy</td>\n",
              "      <td>0.969570</td>\n",
              "      <td>0.489775</td>\n",
              "      <td>-0.735383</td>\n",
              "      <td>64.741541</td>\n",
              "    </tr>\n",
              "    <tr>\n",
              "      <th>6</th>\n",
              "      <td>tL6pL</td>\n",
              "      <td>0.645075</td>\n",
              "      <td>0.530656</td>\n",
              "      <td>1.780266</td>\n",
              "      <td>49.055285</td>\n",
              "    </tr>\n",
              "    <tr>\n",
              "      <th>7</th>\n",
              "      <td>BYPU6</td>\n",
              "      <td>-0.400648</td>\n",
              "      <td>0.808337</td>\n",
              "      <td>-5.624670</td>\n",
              "      <td>72.943292</td>\n",
              "    </tr>\n",
              "    <tr>\n",
              "      <th>8</th>\n",
              "      <td>j9Oui</td>\n",
              "      <td>0.643105</td>\n",
              "      <td>-0.551583</td>\n",
              "      <td>2.372141</td>\n",
              "      <td>113.356160</td>\n",
              "    </tr>\n",
              "    <tr>\n",
              "      <th>9</th>\n",
              "      <td>OLuZU</td>\n",
              "      <td>2.173381</td>\n",
              "      <td>0.563698</td>\n",
              "      <td>9.441852</td>\n",
              "      <td>127.910945</td>\n",
              "    </tr>\n",
              "  </tbody>\n",
              "</table>\n",
              "</div>"
            ],
            "text/plain": [
              "      id        f0        f1        f2     product\n",
              "0  txEyH  0.705745 -0.497823  1.221170  105.280062\n",
              "1  2acmU  1.334711 -0.340164  4.365080   73.037750\n",
              "2  409Wp  1.022732  0.151990  1.419926   85.265647\n",
              "3  iJLyR -0.032172  0.139033  2.978566  168.620776\n",
              "4  Xdl7t  1.988431  0.155413  4.751769  154.036647\n",
              "5  wX4Hy  0.969570  0.489775 -0.735383   64.741541\n",
              "6  tL6pL  0.645075  0.530656  1.780266   49.055285\n",
              "7  BYPU6 -0.400648  0.808337 -5.624670   72.943292\n",
              "8  j9Oui  0.643105 -0.551583  2.372141  113.356160\n",
              "9  OLuZU  2.173381  0.563698  9.441852  127.910945"
            ]
          },
          "execution_count": 3,
          "metadata": {},
          "output_type": "execute_result"
        }
      ],
      "source": [
        "df_0 = pd.read_csv('/datasets/geo_data_0.csv')\n",
        "df_0.head(10)"
      ]
    },
    {
      "cell_type": "code",
      "execution_count": null,
      "metadata": {
        "id": "xtZR6XLaQmNb",
        "outputId": "b492d390-dde3-43bc-d6d6-42590d68be88"
      },
      "outputs": [
        {
          "data": {
            "text/html": [
              "<div>\n",
              "<style scoped>\n",
              "    .dataframe tbody tr th:only-of-type {\n",
              "        vertical-align: middle;\n",
              "    }\n",
              "\n",
              "    .dataframe tbody tr th {\n",
              "        vertical-align: top;\n",
              "    }\n",
              "\n",
              "    .dataframe thead th {\n",
              "        text-align: right;\n",
              "    }\n",
              "</style>\n",
              "<table border=\"1\" class=\"dataframe\">\n",
              "  <thead>\n",
              "    <tr style=\"text-align: right;\">\n",
              "      <th></th>\n",
              "      <th>id</th>\n",
              "      <th>f0</th>\n",
              "      <th>f1</th>\n",
              "      <th>f2</th>\n",
              "      <th>product</th>\n",
              "    </tr>\n",
              "  </thead>\n",
              "  <tbody>\n",
              "    <tr>\n",
              "      <th>0</th>\n",
              "      <td>kBEdx</td>\n",
              "      <td>-15.001348</td>\n",
              "      <td>-8.276000</td>\n",
              "      <td>-0.005876</td>\n",
              "      <td>3.179103</td>\n",
              "    </tr>\n",
              "    <tr>\n",
              "      <th>1</th>\n",
              "      <td>62mP7</td>\n",
              "      <td>14.272088</td>\n",
              "      <td>-3.475083</td>\n",
              "      <td>0.999183</td>\n",
              "      <td>26.953261</td>\n",
              "    </tr>\n",
              "    <tr>\n",
              "      <th>2</th>\n",
              "      <td>vyE1P</td>\n",
              "      <td>6.263187</td>\n",
              "      <td>-5.948386</td>\n",
              "      <td>5.001160</td>\n",
              "      <td>134.766305</td>\n",
              "    </tr>\n",
              "    <tr>\n",
              "      <th>3</th>\n",
              "      <td>KcrkZ</td>\n",
              "      <td>-13.081196</td>\n",
              "      <td>-11.506057</td>\n",
              "      <td>4.999415</td>\n",
              "      <td>137.945408</td>\n",
              "    </tr>\n",
              "    <tr>\n",
              "      <th>4</th>\n",
              "      <td>AHL4O</td>\n",
              "      <td>12.702195</td>\n",
              "      <td>-8.147433</td>\n",
              "      <td>5.004363</td>\n",
              "      <td>134.766305</td>\n",
              "    </tr>\n",
              "    <tr>\n",
              "      <th>5</th>\n",
              "      <td>HHckp</td>\n",
              "      <td>-3.327590</td>\n",
              "      <td>-2.205276</td>\n",
              "      <td>3.003647</td>\n",
              "      <td>84.038886</td>\n",
              "    </tr>\n",
              "    <tr>\n",
              "      <th>6</th>\n",
              "      <td>h5Ujo</td>\n",
              "      <td>-11.142655</td>\n",
              "      <td>-10.133399</td>\n",
              "      <td>4.002382</td>\n",
              "      <td>110.992147</td>\n",
              "    </tr>\n",
              "    <tr>\n",
              "      <th>7</th>\n",
              "      <td>muH9x</td>\n",
              "      <td>4.234715</td>\n",
              "      <td>-0.001354</td>\n",
              "      <td>2.004588</td>\n",
              "      <td>53.906522</td>\n",
              "    </tr>\n",
              "    <tr>\n",
              "      <th>8</th>\n",
              "      <td>YiRkx</td>\n",
              "      <td>13.355129</td>\n",
              "      <td>-0.332068</td>\n",
              "      <td>4.998647</td>\n",
              "      <td>134.766305</td>\n",
              "    </tr>\n",
              "    <tr>\n",
              "      <th>9</th>\n",
              "      <td>jG6Gi</td>\n",
              "      <td>1.069227</td>\n",
              "      <td>-11.025667</td>\n",
              "      <td>4.997844</td>\n",
              "      <td>137.945408</td>\n",
              "    </tr>\n",
              "  </tbody>\n",
              "</table>\n",
              "</div>"
            ],
            "text/plain": [
              "      id         f0         f1        f2     product\n",
              "0  kBEdx -15.001348  -8.276000 -0.005876    3.179103\n",
              "1  62mP7  14.272088  -3.475083  0.999183   26.953261\n",
              "2  vyE1P   6.263187  -5.948386  5.001160  134.766305\n",
              "3  KcrkZ -13.081196 -11.506057  4.999415  137.945408\n",
              "4  AHL4O  12.702195  -8.147433  5.004363  134.766305\n",
              "5  HHckp  -3.327590  -2.205276  3.003647   84.038886\n",
              "6  h5Ujo -11.142655 -10.133399  4.002382  110.992147\n",
              "7  muH9x   4.234715  -0.001354  2.004588   53.906522\n",
              "8  YiRkx  13.355129  -0.332068  4.998647  134.766305\n",
              "9  jG6Gi   1.069227 -11.025667  4.997844  137.945408"
            ]
          },
          "execution_count": 4,
          "metadata": {},
          "output_type": "execute_result"
        }
      ],
      "source": [
        "df_1 = pd.read_csv('/datasets/geo_data_1.csv')\n",
        "df_1.head(10)"
      ]
    },
    {
      "cell_type": "code",
      "execution_count": null,
      "metadata": {
        "id": "RQwl_XW0QmNb",
        "outputId": "fe40c0d8-52bf-49ca-e948-e9586cd730c6"
      },
      "outputs": [
        {
          "data": {
            "text/html": [
              "<div>\n",
              "<style scoped>\n",
              "    .dataframe tbody tr th:only-of-type {\n",
              "        vertical-align: middle;\n",
              "    }\n",
              "\n",
              "    .dataframe tbody tr th {\n",
              "        vertical-align: top;\n",
              "    }\n",
              "\n",
              "    .dataframe thead th {\n",
              "        text-align: right;\n",
              "    }\n",
              "</style>\n",
              "<table border=\"1\" class=\"dataframe\">\n",
              "  <thead>\n",
              "    <tr style=\"text-align: right;\">\n",
              "      <th></th>\n",
              "      <th>id</th>\n",
              "      <th>f0</th>\n",
              "      <th>f1</th>\n",
              "      <th>f2</th>\n",
              "      <th>product</th>\n",
              "    </tr>\n",
              "  </thead>\n",
              "  <tbody>\n",
              "    <tr>\n",
              "      <th>0</th>\n",
              "      <td>fwXo0</td>\n",
              "      <td>-1.146987</td>\n",
              "      <td>0.963328</td>\n",
              "      <td>-0.828965</td>\n",
              "      <td>27.758673</td>\n",
              "    </tr>\n",
              "    <tr>\n",
              "      <th>1</th>\n",
              "      <td>WJtFt</td>\n",
              "      <td>0.262778</td>\n",
              "      <td>0.269839</td>\n",
              "      <td>-2.530187</td>\n",
              "      <td>56.069697</td>\n",
              "    </tr>\n",
              "    <tr>\n",
              "      <th>2</th>\n",
              "      <td>ovLUW</td>\n",
              "      <td>0.194587</td>\n",
              "      <td>0.289035</td>\n",
              "      <td>-5.586433</td>\n",
              "      <td>62.871910</td>\n",
              "    </tr>\n",
              "    <tr>\n",
              "      <th>3</th>\n",
              "      <td>q6cA6</td>\n",
              "      <td>2.236060</td>\n",
              "      <td>-0.553760</td>\n",
              "      <td>0.930038</td>\n",
              "      <td>114.572842</td>\n",
              "    </tr>\n",
              "    <tr>\n",
              "      <th>4</th>\n",
              "      <td>WPMUX</td>\n",
              "      <td>-0.515993</td>\n",
              "      <td>1.716266</td>\n",
              "      <td>5.899011</td>\n",
              "      <td>149.600746</td>\n",
              "    </tr>\n",
              "    <tr>\n",
              "      <th>5</th>\n",
              "      <td>LzZXx</td>\n",
              "      <td>-0.758092</td>\n",
              "      <td>0.710691</td>\n",
              "      <td>2.585887</td>\n",
              "      <td>90.222465</td>\n",
              "    </tr>\n",
              "    <tr>\n",
              "      <th>6</th>\n",
              "      <td>WBHRv</td>\n",
              "      <td>-0.574891</td>\n",
              "      <td>0.317727</td>\n",
              "      <td>1.773745</td>\n",
              "      <td>45.641478</td>\n",
              "    </tr>\n",
              "    <tr>\n",
              "      <th>7</th>\n",
              "      <td>XO8fn</td>\n",
              "      <td>-1.906649</td>\n",
              "      <td>-2.458350</td>\n",
              "      <td>-0.177097</td>\n",
              "      <td>72.480640</td>\n",
              "    </tr>\n",
              "    <tr>\n",
              "      <th>8</th>\n",
              "      <td>ybmQ5</td>\n",
              "      <td>1.776292</td>\n",
              "      <td>-0.279356</td>\n",
              "      <td>3.004156</td>\n",
              "      <td>106.616832</td>\n",
              "    </tr>\n",
              "    <tr>\n",
              "      <th>9</th>\n",
              "      <td>OilcN</td>\n",
              "      <td>-1.214452</td>\n",
              "      <td>-0.439314</td>\n",
              "      <td>5.922514</td>\n",
              "      <td>52.954532</td>\n",
              "    </tr>\n",
              "  </tbody>\n",
              "</table>\n",
              "</div>"
            ],
            "text/plain": [
              "      id        f0        f1        f2     product\n",
              "0  fwXo0 -1.146987  0.963328 -0.828965   27.758673\n",
              "1  WJtFt  0.262778  0.269839 -2.530187   56.069697\n",
              "2  ovLUW  0.194587  0.289035 -5.586433   62.871910\n",
              "3  q6cA6  2.236060 -0.553760  0.930038  114.572842\n",
              "4  WPMUX -0.515993  1.716266  5.899011  149.600746\n",
              "5  LzZXx -0.758092  0.710691  2.585887   90.222465\n",
              "6  WBHRv -0.574891  0.317727  1.773745   45.641478\n",
              "7  XO8fn -1.906649 -2.458350 -0.177097   72.480640\n",
              "8  ybmQ5  1.776292 -0.279356  3.004156  106.616832\n",
              "9  OilcN -1.214452 -0.439314  5.922514   52.954532"
            ]
          },
          "execution_count": 5,
          "metadata": {},
          "output_type": "execute_result"
        }
      ],
      "source": [
        "df_2 = pd.read_csv('/datasets/geo_data_2.csv')\n",
        "df_2.head(10)"
      ]
    },
    {
      "cell_type": "markdown",
      "metadata": {
        "id": "aDQENInoQmNc"
      },
      "source": [
        "Посмотрим на типы данных в файле и на наличие пропусков в них"
      ]
    },
    {
      "cell_type": "code",
      "execution_count": null,
      "metadata": {
        "id": "CQStO5ClQmNc",
        "outputId": "e68fdc13-3b73-455d-ce17-f146caf6a219"
      },
      "outputs": [
        {
          "name": "stdout",
          "output_type": "stream",
          "text": [
            "<class 'pandas.core.frame.DataFrame'>\n",
            "RangeIndex: 100000 entries, 0 to 99999\n",
            "Data columns (total 5 columns):\n",
            " #   Column   Non-Null Count   Dtype  \n",
            "---  ------   --------------   -----  \n",
            " 0   id       100000 non-null  object \n",
            " 1   f0       100000 non-null  float64\n",
            " 2   f1       100000 non-null  float64\n",
            " 3   f2       100000 non-null  float64\n",
            " 4   product  100000 non-null  float64\n",
            "dtypes: float64(4), object(1)\n",
            "memory usage: 3.8+ MB\n"
          ]
        }
      ],
      "source": [
        "df_0.info()"
      ]
    },
    {
      "cell_type": "code",
      "execution_count": null,
      "metadata": {
        "id": "cn1XL476QmNc",
        "outputId": "9b1c777c-9bc1-43b2-c1da-9ad0e26cfb6b"
      },
      "outputs": [
        {
          "name": "stdout",
          "output_type": "stream",
          "text": [
            "<class 'pandas.core.frame.DataFrame'>\n",
            "RangeIndex: 100000 entries, 0 to 99999\n",
            "Data columns (total 5 columns):\n",
            " #   Column   Non-Null Count   Dtype  \n",
            "---  ------   --------------   -----  \n",
            " 0   id       100000 non-null  object \n",
            " 1   f0       100000 non-null  float64\n",
            " 2   f1       100000 non-null  float64\n",
            " 3   f2       100000 non-null  float64\n",
            " 4   product  100000 non-null  float64\n",
            "dtypes: float64(4), object(1)\n",
            "memory usage: 3.8+ MB\n"
          ]
        }
      ],
      "source": [
        "df_1.info()"
      ]
    },
    {
      "cell_type": "code",
      "execution_count": null,
      "metadata": {
        "id": "pntaBva6QmNc",
        "outputId": "359deb58-766b-41c2-9ee5-acf7d154bd62"
      },
      "outputs": [
        {
          "name": "stdout",
          "output_type": "stream",
          "text": [
            "<class 'pandas.core.frame.DataFrame'>\n",
            "RangeIndex: 100000 entries, 0 to 99999\n",
            "Data columns (total 5 columns):\n",
            " #   Column   Non-Null Count   Dtype  \n",
            "---  ------   --------------   -----  \n",
            " 0   id       100000 non-null  object \n",
            " 1   f0       100000 non-null  float64\n",
            " 2   f1       100000 non-null  float64\n",
            " 3   f2       100000 non-null  float64\n",
            " 4   product  100000 non-null  float64\n",
            "dtypes: float64(4), object(1)\n",
            "memory usage: 3.8+ MB\n"
          ]
        }
      ],
      "source": [
        "df_2.info()"
      ]
    },
    {
      "cell_type": "markdown",
      "metadata": {
        "id": "VLJKBmJQQmNc"
      },
      "source": [
        "Датасеты содержат по 100000 значений, в них нет пропусков, все столбцы, кроме id, вещественного типа. Проверим на наличие дубликатов:"
      ]
    },
    {
      "cell_type": "code",
      "execution_count": null,
      "metadata": {
        "id": "1Vy0-4qnQmNc",
        "outputId": "3e514a5d-ce6a-4995-d309-73afdea02367"
      },
      "outputs": [
        {
          "data": {
            "text/plain": [
              "0"
            ]
          },
          "execution_count": 9,
          "metadata": {},
          "output_type": "execute_result"
        }
      ],
      "source": [
        "df_0.duplicated().sum()"
      ]
    },
    {
      "cell_type": "code",
      "execution_count": null,
      "metadata": {
        "id": "iY1ceUj4QmNd",
        "outputId": "d100d905-7bad-4649-aadb-e565f90e3d4f"
      },
      "outputs": [
        {
          "data": {
            "text/plain": [
              "0"
            ]
          },
          "execution_count": 10,
          "metadata": {},
          "output_type": "execute_result"
        }
      ],
      "source": [
        "df_1.duplicated().sum()"
      ]
    },
    {
      "cell_type": "code",
      "execution_count": null,
      "metadata": {
        "id": "AFG7JTIJQmNd",
        "outputId": "fcc3ac60-7bed-45fe-f874-81be105e56aa"
      },
      "outputs": [
        {
          "data": {
            "text/plain": [
              "0"
            ]
          },
          "execution_count": 11,
          "metadata": {},
          "output_type": "execute_result"
        }
      ],
      "source": [
        "df_2.duplicated().sum()"
      ]
    },
    {
      "cell_type": "code",
      "execution_count": null,
      "metadata": {
        "id": "Zc7ACq5WQmNd",
        "outputId": "c347b3b3-012b-476a-b9d9-dddde6b5fbe5"
      },
      "outputs": [
        {
          "data": {
            "text/html": [
              "<div>\n",
              "<style scoped>\n",
              "    .dataframe tbody tr th:only-of-type {\n",
              "        vertical-align: middle;\n",
              "    }\n",
              "\n",
              "    .dataframe tbody tr th {\n",
              "        vertical-align: top;\n",
              "    }\n",
              "\n",
              "    .dataframe thead th {\n",
              "        text-align: right;\n",
              "    }\n",
              "</style>\n",
              "<table border=\"1\" class=\"dataframe\">\n",
              "  <thead>\n",
              "    <tr style=\"text-align: right;\">\n",
              "      <th></th>\n",
              "      <th>id</th>\n",
              "      <th>f0</th>\n",
              "      <th>f1</th>\n",
              "      <th>f2</th>\n",
              "      <th>product</th>\n",
              "    </tr>\n",
              "  </thead>\n",
              "  <tbody>\n",
              "    <tr>\n",
              "      <th>931</th>\n",
              "      <td>HZww2</td>\n",
              "      <td>0.755284</td>\n",
              "      <td>0.368511</td>\n",
              "      <td>1.863211</td>\n",
              "      <td>30.681774</td>\n",
              "    </tr>\n",
              "    <tr>\n",
              "      <th>7530</th>\n",
              "      <td>HZww2</td>\n",
              "      <td>1.061194</td>\n",
              "      <td>-0.373969</td>\n",
              "      <td>10.430210</td>\n",
              "      <td>158.828695</td>\n",
              "    </tr>\n",
              "  </tbody>\n",
              "</table>\n",
              "</div>"
            ],
            "text/plain": [
              "         id        f0        f1         f2     product\n",
              "931   HZww2  0.755284  0.368511   1.863211   30.681774\n",
              "7530  HZww2  1.061194 -0.373969  10.430210  158.828695"
            ]
          },
          "execution_count": 12,
          "metadata": {},
          "output_type": "execute_result"
        }
      ],
      "source": [
        "df_0[df_0['id']=='HZww2']"
      ]
    },
    {
      "cell_type": "markdown",
      "metadata": {
        "id": "1Vzcg6T7QmNd"
      },
      "source": [
        "Явные дубликаты в датасетах отсутствуют"
      ]
    },
    {
      "cell_type": "markdown",
      "metadata": {
        "id": "EHM2ByxgQmNd"
      },
      "source": [
        "Проверим на наличие дубликатов по айди и,при наличии, удалим такие точки"
      ]
    },
    {
      "cell_type": "code",
      "execution_count": null,
      "metadata": {
        "id": "MhfcIUM6QmNd",
        "outputId": "6234a548-f51d-4ab8-c82f-268657537be6"
      },
      "outputs": [
        {
          "data": {
            "text/plain": [
              "10"
            ]
          },
          "execution_count": 13,
          "metadata": {},
          "output_type": "execute_result"
        }
      ],
      "source": [
        "df_0[df_0['id'].duplicated()]['id'].count()"
      ]
    },
    {
      "cell_type": "code",
      "execution_count": null,
      "metadata": {
        "id": "_jWrGvzgQmNe"
      },
      "outputs": [],
      "source": [
        "duplicated_id = list(df_0[df_0['id'].duplicated()]['id'])\n",
        "\n",
        "df_0 = df_0.drop(df_0[df_0['id'].isin(duplicated_id)].index)\n"
      ]
    },
    {
      "cell_type": "code",
      "execution_count": null,
      "metadata": {
        "id": "h6dgG-sTQmNe",
        "outputId": "8e2d9da3-38e0-4d5d-b127-bf37bd360af7"
      },
      "outputs": [
        {
          "data": {
            "text/plain": [
              "99980"
            ]
          },
          "execution_count": 15,
          "metadata": {},
          "output_type": "execute_result"
        }
      ],
      "source": [
        "df_0.shape[0]"
      ]
    },
    {
      "cell_type": "code",
      "execution_count": null,
      "metadata": {
        "id": "7LAPtl8rQmNe",
        "outputId": "fa9dd8dc-607c-4ac4-8776-d62d632226a6"
      },
      "outputs": [
        {
          "data": {
            "text/plain": [
              "4"
            ]
          },
          "execution_count": 16,
          "metadata": {},
          "output_type": "execute_result"
        }
      ],
      "source": [
        "df_1[df_1['id'].duplicated()]['id'].count()"
      ]
    },
    {
      "cell_type": "code",
      "execution_count": null,
      "metadata": {
        "id": "2afPC276QmNe"
      },
      "outputs": [],
      "source": [
        "duplicated_id = list(df_1[df_1['id'].duplicated()]['id'])\n",
        "\n",
        "df_1 = df_1.drop(df_1[df_1['id'].isin(duplicated_id)].index)"
      ]
    },
    {
      "cell_type": "code",
      "execution_count": null,
      "metadata": {
        "id": "Gxxa_oF5QmNe",
        "outputId": "b5841e77-9b1c-45bb-d022-0ec60b5ef6b2"
      },
      "outputs": [
        {
          "data": {
            "text/plain": [
              "99992"
            ]
          },
          "execution_count": 18,
          "metadata": {},
          "output_type": "execute_result"
        }
      ],
      "source": [
        "df_1.shape[0]"
      ]
    },
    {
      "cell_type": "code",
      "execution_count": null,
      "metadata": {
        "id": "wpdZ_khcQmNf",
        "outputId": "af0de9d2-5342-4257-c6e5-6a4d3e6c775a"
      },
      "outputs": [
        {
          "data": {
            "text/plain": [
              "4"
            ]
          },
          "execution_count": 19,
          "metadata": {},
          "output_type": "execute_result"
        }
      ],
      "source": [
        "df_2[df_2['id'].duplicated()]['id'].count()"
      ]
    },
    {
      "cell_type": "code",
      "execution_count": null,
      "metadata": {
        "id": "nPr9iXtxQmNf"
      },
      "outputs": [],
      "source": [
        "duplicated_id = list(df_2[df_2['id'].duplicated()]['id'])\n",
        "\n",
        "df_2 = df_2.drop(df_2[df_2['id'].isin(duplicated_id)].index)"
      ]
    },
    {
      "cell_type": "code",
      "execution_count": null,
      "metadata": {
        "id": "RNv1vrYSQmNf",
        "outputId": "57232177-b665-4b2b-c1a2-946f17a4e0b8"
      },
      "outputs": [
        {
          "data": {
            "text/plain": [
              "99992"
            ]
          },
          "execution_count": 21,
          "metadata": {},
          "output_type": "execute_result"
        }
      ],
      "source": [
        "df_2.shape[0]"
      ]
    },
    {
      "cell_type": "markdown",
      "metadata": {
        "id": "JRX0edQhQmNf"
      },
      "source": [
        "Удалено 20, 8 и 8 строк с дублирующимися ID из данных регионов соответственно."
      ]
    },
    {
      "cell_type": "markdown",
      "metadata": {
        "id": "44QrnyDdQmNf"
      },
      "source": [
        "Проверим и удалим выбросы по правилу трех сигм:"
      ]
    },
    {
      "cell_type": "code",
      "execution_count": null,
      "metadata": {
        "id": "n92guVD7QmNg",
        "outputId": "1267046c-c869-4726-af1b-3bf045240e06"
      },
      "outputs": [
        {
          "name": "stderr",
          "output_type": "stream",
          "text": [
            "/tmp/ipykernel_48/3563096774.py:4: FutureWarning: Automatic reindexing on DataFrame vs Series comparisons is deprecated and will raise ValueError in a future version.  Do `left, right = left.align(right, axis=1, copy=False)` before e.g. `left == right`\n",
            "  df_0 = df_0[~((df_0<(Q1-1.5*IQR))|(df_0 > (Q3+1.5*IQR))).any(axis=1)]\n",
            "/tmp/ipykernel_48/3563096774.py:4: FutureWarning: Automatic reindexing on DataFrame vs Series comparisons is deprecated and will raise ValueError in a future version.  Do `left, right = left.align(right, axis=1, copy=False)` before e.g. `left == right`\n",
            "  df_0 = df_0[~((df_0<(Q1-1.5*IQR))|(df_0 > (Q3+1.5*IQR))).any(axis=1)]\n"
          ]
        },
        {
          "data": {
            "text/plain": [
              "(99473, 5)"
            ]
          },
          "execution_count": 22,
          "metadata": {},
          "output_type": "execute_result"
        }
      ],
      "source": [
        "Q1 = df_0.quantile(q=.25)\n",
        "Q3 = df_0.quantile(q=.75)\n",
        "IQR = Q3 - Q1\n",
        "df_0 = df_0[~((df_0<(Q1-1.5*IQR))|(df_0 > (Q3+1.5*IQR))).any(axis=1)]\n",
        "\n",
        "df_0.shape"
      ]
    },
    {
      "cell_type": "code",
      "execution_count": null,
      "metadata": {
        "id": "pnms_iYDQmNg",
        "outputId": "4d9fafc3-a35e-44fb-e183-796a4575dcaf"
      },
      "outputs": [
        {
          "name": "stderr",
          "output_type": "stream",
          "text": [
            "/tmp/ipykernel_48/1620074471.py:4: FutureWarning: Automatic reindexing on DataFrame vs Series comparisons is deprecated and will raise ValueError in a future version.  Do `left, right = left.align(right, axis=1, copy=False)` before e.g. `left == right`\n",
            "  df_1 = df_1[~((df_1<(Q1-1.5*IQR))|(df_1 > (Q3+1.5*IQR))).any(axis=1)]\n",
            "/tmp/ipykernel_48/1620074471.py:4: FutureWarning: Automatic reindexing on DataFrame vs Series comparisons is deprecated and will raise ValueError in a future version.  Do `left, right = left.align(right, axis=1, copy=False)` before e.g. `left == right`\n",
            "  df_1 = df_1[~((df_1<(Q1-1.5*IQR))|(df_1 > (Q3+1.5*IQR))).any(axis=1)]\n"
          ]
        },
        {
          "data": {
            "text/plain": [
              "(99355, 5)"
            ]
          },
          "execution_count": 23,
          "metadata": {},
          "output_type": "execute_result"
        }
      ],
      "source": [
        "Q1 = df_1.quantile(q=.25)\n",
        "Q3 = df_1.quantile(q=.75)\n",
        "IQR = Q3 - Q1\n",
        "df_1 = df_1[~((df_1<(Q1-1.5*IQR))|(df_1 > (Q3+1.5*IQR))).any(axis=1)]\n",
        "\n",
        "df_1.shape"
      ]
    },
    {
      "cell_type": "code",
      "execution_count": null,
      "metadata": {
        "id": "GLiGYlMoQmNh",
        "outputId": "45c29cec-a04c-469c-8ae3-b8054b53909b"
      },
      "outputs": [
        {
          "name": "stderr",
          "output_type": "stream",
          "text": [
            "/tmp/ipykernel_48/1152274535.py:4: FutureWarning: Automatic reindexing on DataFrame vs Series comparisons is deprecated and will raise ValueError in a future version.  Do `left, right = left.align(right, axis=1, copy=False)` before e.g. `left == right`\n",
            "  df_2 = df_2[~((df_2<(Q1-1.5*IQR))|(df_2 > (Q3+1.5*IQR))).any(axis=1)]\n",
            "/tmp/ipykernel_48/1152274535.py:4: FutureWarning: Automatic reindexing on DataFrame vs Series comparisons is deprecated and will raise ValueError in a future version.  Do `left, right = left.align(right, axis=1, copy=False)` before e.g. `left == right`\n",
            "  df_2 = df_2[~((df_2<(Q1-1.5*IQR))|(df_2 > (Q3+1.5*IQR))).any(axis=1)]\n"
          ]
        },
        {
          "data": {
            "text/plain": [
              "(97996, 5)"
            ]
          },
          "execution_count": 24,
          "metadata": {},
          "output_type": "execute_result"
        }
      ],
      "source": [
        "Q1 = df_2.quantile(q=.25)\n",
        "Q3 = df_2.quantile(q=.75)\n",
        "IQR = Q3 - Q1\n",
        "df_2 = df_2[~((df_2<(Q1-1.5*IQR))|(df_2 > (Q3+1.5*IQR))).any(axis=1)]\n",
        "\n",
        "df_2.shape"
      ]
    },
    {
      "cell_type": "markdown",
      "metadata": {
        "id": "CZhbPKAoQmNj"
      },
      "source": [
        "Удалены выбросы."
      ]
    },
    {
      "cell_type": "markdown",
      "metadata": {
        "id": "xk5b59MrQmNk"
      },
      "source": [
        "Посмотрим на распределения данных в датасетах по столбцу product"
      ]
    },
    {
      "cell_type": "code",
      "execution_count": null,
      "metadata": {
        "id": "O8mJt2ZTQmNk",
        "outputId": "3849dd7b-1cbc-4d01-8907-243b50880a65"
      },
      "outputs": [
        {
          "data": {
            "image/png": "[encoded data removed]",
            "text/plain": [
              "<Figure size 864x720 with 1 Axes>"
            ]
          },
          "metadata": {
            "needs_background": "light"
          },
          "output_type": "display_data"
        }
      ],
      "source": [
        "plt.figure(figsize = [12,10])\n",
        "plt.title(\"Гистограмма распределения по объему продукта в скважинах\")\n",
        "plt.ylabel(\"Количество скважин\")\n",
        "plt.xlabel(\"Объем нефти в скважине, тыс.барелей\")\n",
        "ax = df_0['product'].plot(kind='hist', grid = True, legend = True,  histtype = 'step', linewidth = 4, alpha=0.8, label = 'Регион 1')\n",
        "df_1['product'].plot(kind='hist', grid = True, legend = True, histtype = 'step', linewidth = 4, alpha=0.8, label = 'Регион 2', ax = ax)\n",
        "df_2['product'].plot(kind='hist', grid = True, legend = True, histtype = 'step', linewidth = 4, alpha=0.8, label = 'Регион 3', ax = ax)\n",
        "plt.show()"
      ]
    },
    {
      "cell_type": "markdown",
      "metadata": {
        "id": "PZ8m9aefQmNk"
      },
      "source": [
        "Также оценим распределение значений признаков f0, f1, f2 по районам:"
      ]
    },
    {
      "cell_type": "code",
      "execution_count": null,
      "metadata": {
        "id": "6yvtdcFFQmNl",
        "outputId": "767644a5-b328-4a87-d716-9af2bd14470e"
      },
      "outputs": [
        {
          "data": {
            "image/png": "[encoded data removed]",
            "text/plain": [
              "<Figure size 864x720 with 1 Axes>"
            ]
          },
          "metadata": {
            "needs_background": "light"
          },
          "output_type": "display_data"
        }
      ],
      "source": [
        "plt.figure(figsize = [12,10])\n",
        "plt.title(\"Гистограмма распределения признаков в районе 1\")\n",
        "plt.ylabel(\"Количество скважин\")\n",
        "plt.xlabel(\"Значение признака\")\n",
        "ax = df_0['f0'].plot(kind='hist', grid = True, legend = True,  histtype = 'step', linewidth = 4, alpha=0.8, label = 'f0')\n",
        "df_0['f1'].plot(kind='hist', grid = True, legend = True, histtype = 'step', linewidth = 4, alpha=0.8, label = 'f1', ax = ax)\n",
        "df_0['f2'].plot(kind='hist', grid = True, legend = True, histtype = 'step', linewidth = 4, alpha=0.8, label = 'f2', ax = ax)\n",
        "plt.show()"
      ]
    },
    {
      "cell_type": "code",
      "execution_count": null,
      "metadata": {
        "id": "4cAygJOjQmNl",
        "outputId": "4221013b-5493-4eb4-e7ff-b07941cc7a69"
      },
      "outputs": [
        {
          "data": {
            "image/png": "[encoded data removed]",
            "text/plain": [
              "<Figure size 864x720 with 1 Axes>"
            ]
          },
          "metadata": {
            "needs_background": "light"
          },
          "output_type": "display_data"
        }
      ],
      "source": [
        "plt.figure(figsize = [12,10])\n",
        "plt.title(\"Гистограмма распределения признаков в районе 2\")\n",
        "plt.ylabel(\"Количество скважин\")\n",
        "plt.xlabel(\"Значение признака\")\n",
        "ax = df_1['f0'].plot(kind='hist', grid = True, legend = True,  histtype = 'step', linewidth = 4, alpha=0.8, label = 'f0')\n",
        "df_1['f1'].plot(kind='hist', grid = True, legend = True, histtype = 'step', linewidth = 4, alpha=0.8, label = 'f1', ax = ax)\n",
        "df_1['f2'].plot(kind='hist', grid = True, legend = True, histtype = 'step', linewidth = 4, alpha=0.8, label = 'f2', ax = ax)\n",
        "plt.show()"
      ]
    },
    {
      "cell_type": "code",
      "execution_count": null,
      "metadata": {
        "id": "XXXRNj4wQmNl",
        "outputId": "6f8eea53-5c83-4877-a915-6eb7e5fd97b4"
      },
      "outputs": [
        {
          "data": {
            "image/png": "[encoded data removed]",
            "text/plain": [
              "<Figure size 864x720 with 1 Axes>"
            ]
          },
          "metadata": {
            "needs_background": "light"
          },
          "output_type": "display_data"
        }
      ],
      "source": [
        "plt.figure(figsize = [12,10])\n",
        "plt.title(\"Гистограмма распределения признаков в районе 3\")\n",
        "plt.ylabel(\"Количество скважин\")\n",
        "plt.xlabel(\"Значение признака\")\n",
        "ax = df_2['f0'].plot(kind='hist', grid = True, legend = True,  histtype = 'step', linewidth = 4, alpha=0.8, label = 'f0')\n",
        "df_2['f1'].plot(kind='hist', grid = True, legend = True, histtype = 'step', linewidth = 4, alpha=0.8, label = 'f1', ax = ax)\n",
        "df_2['f2'].plot(kind='hist', grid = True, legend = True, histtype = 'step', linewidth = 4, alpha=0.8, label = 'f2', ax = ax)\n",
        "plt.show()"
      ]
    },
    {
      "cell_type": "markdown",
      "metadata": {
        "id": "W-6bsov2QmNm"
      },
      "source": [
        "Видим, что распределение данных о продукте в 1 и 3 регионе похоже на нормальное, есть нулевые значения, но их менее 4т в датасетах, а во 2 регионе данные распределены не по нормальному закону, наблюдается большое число нулевых значений, а так же 2 конкретных диапазонов -скорее всего данные были внесены искусственно.\n",
        "Распределение признака f2 во 2 регионе повторяет форму распределения данных о продукте и тоже не выглядит нормальным."
      ]
    },
    {
      "cell_type": "code",
      "execution_count": null,
      "metadata": {
        "id": "VAw4beTxQmNm",
        "outputId": "4c3e62c5-0d85-4d4b-aac7-edd614750c82"
      },
      "outputs": [
        {
          "data": {
            "text/plain": [
              "8.226058074581049"
            ]
          },
          "execution_count": 29,
          "metadata": {},
          "output_type": "execute_result"
        }
      ],
      "source": [
        "df_1[df_1['product'] == 0]['product'].count()/df_1.shape[0]*100"
      ]
    },
    {
      "cell_type": "code",
      "execution_count": null,
      "metadata": {
        "id": "SQpYLD12QmNm",
        "outputId": "6a23dbd0-36a1-426f-d208-02048f46d9f9"
      },
      "outputs": [
        {
          "data": {
            "text/plain": [
              "0.0010052979200386035"
            ]
          },
          "execution_count": 30,
          "metadata": {},
          "output_type": "execute_result"
        }
      ],
      "source": [
        "df_0[df_0['product'] == 0]['product'].count()/df_0.shape[0]*100"
      ]
    },
    {
      "cell_type": "code",
      "execution_count": null,
      "metadata": {
        "id": "HR-20T2BQmNn",
        "outputId": "6f1043e2-1961-4b0a-d063-52afd0e66d13"
      },
      "outputs": [
        {
          "data": {
            "text/plain": [
              "0.001020449814278134"
            ]
          },
          "execution_count": 31,
          "metadata": {},
          "output_type": "execute_result"
        }
      ],
      "source": [
        "df_2[df_2['product'] == 0]['product'].count()/df_2.shape[0]*100"
      ]
    },
    {
      "cell_type": "markdown",
      "metadata": {
        "id": "IfA0YNJWQmNn"
      },
      "source": [
        "8% нулевых значений во 2 регионе против 0.001% в 1 и 3 регионах.\n",
        "\n",
        "Посмотрим на матрицы корреляции признаков"
      ]
    },
    {
      "cell_type": "code",
      "execution_count": null,
      "metadata": {
        "id": "m7B6Xy_UQmNn",
        "outputId": "d49dd33a-8e51-431e-d6a2-18af06aeccd8"
      },
      "outputs": [
        {
          "data": {
            "text/html": [
              "<div>\n",
              "<style scoped>\n",
              "    .dataframe tbody tr th:only-of-type {\n",
              "        vertical-align: middle;\n",
              "    }\n",
              "\n",
              "    .dataframe tbody tr th {\n",
              "        vertical-align: top;\n",
              "    }\n",
              "\n",
              "    .dataframe thead th {\n",
              "        text-align: right;\n",
              "    }\n",
              "</style>\n",
              "<table border=\"1\" class=\"dataframe\">\n",
              "  <thead>\n",
              "    <tr style=\"text-align: right;\">\n",
              "      <th></th>\n",
              "      <th>f0</th>\n",
              "      <th>f1</th>\n",
              "      <th>f2</th>\n",
              "      <th>product</th>\n",
              "    </tr>\n",
              "  </thead>\n",
              "  <tbody>\n",
              "    <tr>\n",
              "      <th>f0</th>\n",
              "      <td>1.000000</td>\n",
              "      <td>-0.440718</td>\n",
              "      <td>-0.003382</td>\n",
              "      <td>0.143568</td>\n",
              "    </tr>\n",
              "    <tr>\n",
              "      <th>f1</th>\n",
              "      <td>-0.440718</td>\n",
              "      <td>1.000000</td>\n",
              "      <td>0.001161</td>\n",
              "      <td>-0.192732</td>\n",
              "    </tr>\n",
              "    <tr>\n",
              "      <th>f2</th>\n",
              "      <td>-0.003382</td>\n",
              "      <td>0.001161</td>\n",
              "      <td>1.000000</td>\n",
              "      <td>0.480093</td>\n",
              "    </tr>\n",
              "    <tr>\n",
              "      <th>product</th>\n",
              "      <td>0.143568</td>\n",
              "      <td>-0.192732</td>\n",
              "      <td>0.480093</td>\n",
              "      <td>1.000000</td>\n",
              "    </tr>\n",
              "  </tbody>\n",
              "</table>\n",
              "</div>"
            ],
            "text/plain": [
              "               f0        f1        f2   product\n",
              "f0       1.000000 -0.440718 -0.003382  0.143568\n",
              "f1      -0.440718  1.000000  0.001161 -0.192732\n",
              "f2      -0.003382  0.001161  1.000000  0.480093\n",
              "product  0.143568 -0.192732  0.480093  1.000000"
            ]
          },
          "execution_count": 32,
          "metadata": {},
          "output_type": "execute_result"
        }
      ],
      "source": [
        "df_0.corr()"
      ]
    },
    {
      "cell_type": "code",
      "execution_count": null,
      "metadata": {
        "id": "5PSMSepXQmNn",
        "outputId": "e042c360-2693-42e7-ad73-8a6e1f3755dd"
      },
      "outputs": [
        {
          "data": {
            "text/html": [
              "<div>\n",
              "<style scoped>\n",
              "    .dataframe tbody tr th:only-of-type {\n",
              "        vertical-align: middle;\n",
              "    }\n",
              "\n",
              "    .dataframe tbody tr th {\n",
              "        vertical-align: top;\n",
              "    }\n",
              "\n",
              "    .dataframe thead th {\n",
              "        text-align: right;\n",
              "    }\n",
              "</style>\n",
              "<table border=\"1\" class=\"dataframe\">\n",
              "  <thead>\n",
              "    <tr style=\"text-align: right;\">\n",
              "      <th></th>\n",
              "      <th>f0</th>\n",
              "      <th>f1</th>\n",
              "      <th>f2</th>\n",
              "      <th>product</th>\n",
              "    </tr>\n",
              "  </thead>\n",
              "  <tbody>\n",
              "    <tr>\n",
              "      <th>f0</th>\n",
              "      <td>1.000000</td>\n",
              "      <td>0.178911</td>\n",
              "      <td>-0.001682</td>\n",
              "      <td>-0.030401</td>\n",
              "    </tr>\n",
              "    <tr>\n",
              "      <th>f1</th>\n",
              "      <td>0.178911</td>\n",
              "      <td>1.000000</td>\n",
              "      <td>-0.002780</td>\n",
              "      <td>-0.010199</td>\n",
              "    </tr>\n",
              "    <tr>\n",
              "      <th>f2</th>\n",
              "      <td>-0.001682</td>\n",
              "      <td>-0.002780</td>\n",
              "      <td>1.000000</td>\n",
              "      <td>0.999397</td>\n",
              "    </tr>\n",
              "    <tr>\n",
              "      <th>product</th>\n",
              "      <td>-0.030401</td>\n",
              "      <td>-0.010199</td>\n",
              "      <td>0.999397</td>\n",
              "      <td>1.000000</td>\n",
              "    </tr>\n",
              "  </tbody>\n",
              "</table>\n",
              "</div>"
            ],
            "text/plain": [
              "               f0        f1        f2   product\n",
              "f0       1.000000  0.178911 -0.001682 -0.030401\n",
              "f1       0.178911  1.000000 -0.002780 -0.010199\n",
              "f2      -0.001682 -0.002780  1.000000  0.999397\n",
              "product -0.030401 -0.010199  0.999397  1.000000"
            ]
          },
          "execution_count": 33,
          "metadata": {},
          "output_type": "execute_result"
        }
      ],
      "source": [
        "df_1.corr()"
      ]
    },
    {
      "cell_type": "code",
      "execution_count": null,
      "metadata": {
        "id": "ayxJGbB4QmNo",
        "outputId": "c8054904-4c3f-4326-ca2a-76239bfbd434"
      },
      "outputs": [
        {
          "data": {
            "text/html": [
              "<div>\n",
              "<style scoped>\n",
              "    .dataframe tbody tr th:only-of-type {\n",
              "        vertical-align: middle;\n",
              "    }\n",
              "\n",
              "    .dataframe tbody tr th {\n",
              "        vertical-align: top;\n",
              "    }\n",
              "\n",
              "    .dataframe thead th {\n",
              "        text-align: right;\n",
              "    }\n",
              "</style>\n",
              "<table border=\"1\" class=\"dataframe\">\n",
              "  <thead>\n",
              "    <tr style=\"text-align: right;\">\n",
              "      <th></th>\n",
              "      <th>f0</th>\n",
              "      <th>f1</th>\n",
              "      <th>f2</th>\n",
              "      <th>product</th>\n",
              "    </tr>\n",
              "  </thead>\n",
              "  <tbody>\n",
              "    <tr>\n",
              "      <th>f0</th>\n",
              "      <td>1.000000</td>\n",
              "      <td>0.000601</td>\n",
              "      <td>0.000455</td>\n",
              "      <td>-0.002943</td>\n",
              "    </tr>\n",
              "    <tr>\n",
              "      <th>f1</th>\n",
              "      <td>0.000601</td>\n",
              "      <td>1.000000</td>\n",
              "      <td>0.000739</td>\n",
              "      <td>-0.000951</td>\n",
              "    </tr>\n",
              "    <tr>\n",
              "      <th>f2</th>\n",
              "      <td>0.000455</td>\n",
              "      <td>0.000739</td>\n",
              "      <td>1.000000</td>\n",
              "      <td>0.441192</td>\n",
              "    </tr>\n",
              "    <tr>\n",
              "      <th>product</th>\n",
              "      <td>-0.002943</td>\n",
              "      <td>-0.000951</td>\n",
              "      <td>0.441192</td>\n",
              "      <td>1.000000</td>\n",
              "    </tr>\n",
              "  </tbody>\n",
              "</table>\n",
              "</div>"
            ],
            "text/plain": [
              "               f0        f1        f2   product\n",
              "f0       1.000000  0.000601  0.000455 -0.002943\n",
              "f1       0.000601  1.000000  0.000739 -0.000951\n",
              "f2       0.000455  0.000739  1.000000  0.441192\n",
              "product -0.002943 -0.000951  0.441192  1.000000"
            ]
          },
          "execution_count": 34,
          "metadata": {},
          "output_type": "execute_result"
        }
      ],
      "source": [
        "df_2.corr()"
      ]
    },
    {
      "cell_type": "code",
      "execution_count": null,
      "metadata": {
        "id": "m5l-FmvHQmNo",
        "outputId": "999af86f-4bf0-47c7-8a4b-b88a854b65e0"
      },
      "outputs": [
        {
          "data": {
            "text/plain": [
              "<AxesSubplot:>"
            ]
          },
          "execution_count": 35,
          "metadata": {},
          "output_type": "execute_result"
        },
        {
          "data": {
            "image/png": "[encoded data removed]",
            "text/plain": [
              "<Figure size 432x288 with 2 Axes>"
            ]
          },
          "metadata": {
            "needs_background": "light"
          },
          "output_type": "display_data"
        }
      ],
      "source": [
        "sns.heatmap(df_0.corr())"
      ]
    },
    {
      "cell_type": "code",
      "execution_count": null,
      "metadata": {
        "id": "SgWQgS4wQmNo",
        "outputId": "324e4d6e-ea16-49c2-92c2-d57e1e0d792b"
      },
      "outputs": [
        {
          "data": {
            "text/plain": [
              "<AxesSubplot:>"
            ]
          },
          "execution_count": 36,
          "metadata": {},
          "output_type": "execute_result"
        },
        {
          "data": {
            "image/png": "[encoded data removed]",
            "text/plain": [
              "<Figure size 432x288 with 2 Axes>"
            ]
          },
          "metadata": {
            "needs_background": "light"
          },
          "output_type": "display_data"
        }
      ],
      "source": [
        "sns.heatmap(df_1.corr())"
      ]
    },
    {
      "cell_type": "code",
      "execution_count": null,
      "metadata": {
        "id": "SLTEQ94XQmNp",
        "outputId": "3622003d-a536-46c6-e8d2-c90f4f06cdd0"
      },
      "outputs": [
        {
          "data": {
            "text/plain": [
              "<AxesSubplot:>"
            ]
          },
          "execution_count": 37,
          "metadata": {},
          "output_type": "execute_result"
        },
        {
          "data": {
            "image/png": "[encoded data removed]",
            "text/plain": [
              "<Figure size 432x288 with 2 Axes>"
            ]
          },
          "metadata": {
            "needs_background": "light"
          },
          "output_type": "display_data"
        }
      ],
      "source": [
        "sns.heatmap(df_2.corr())"
      ]
    },
    {
      "cell_type": "markdown",
      "metadata": {
        "id": "SFWlC83qQmNq"
      },
      "source": [
        "Во втором регионе корреляция признака f2  с целевым близка к 1, что скорее всего также является следствием искусственно введенных данных, это даст нам крайне точные прогнозы в модели, однако является непонятным, можем ли мы считать подобнеы данные достоверными и реомендовать такой регион. В регионах 1 и 3 тоже наблюдается корреляция с силой близкой к 0.5, но не такая прямолинейная."
      ]
    },
    {
      "cell_type": "markdown",
      "metadata": {
        "id": "pChmRmqLQmNq"
      },
      "source": [
        "**Вывод**\n",
        "\n",
        "    Данные из файлов со всех трех регионов были загружены, изучены на тип данных, наличие дубликатов и пропусков,изучено распределение данных, корреляция признаков.\n",
        "\n",
        "    Сделан вывод о наличии большого процента нулевых значений целевого признака в данных второго региона в сравнении с двумя другими, о несоответствии рапсределения данных целевого признака во втором регионе нормальному, о наличии сильнейшей корреляции между признаком f2 и целевым во втором регионе, сделано предположение об искусственной природе данных второго региона. также определено наличи довольно заметной корреляции между признаком f2 и целевым в двух других регионах."
      ]
    },
    {
      "cell_type": "markdown",
      "metadata": {
        "id": "WA_SjcBtQmNs"
      },
      "source": [
        "## Обучение и проверка модели"
      ]
    },
    {
      "cell_type": "markdown",
      "metadata": {
        "id": "6SOKxbgNQmNs"
      },
      "source": [
        "Разобьем данные на обучающую и валидационную выборки в соотношении 75% к 25%, отмашстабируем признаки и обучим модель линейной регрессии. Для удобства применения данной операции на каждом из 3 датасетов опишем эти операции в функции."
      ]
    },
    {
      "cell_type": "code",
      "execution_count": null,
      "metadata": {
        "id": "UDUU_xLxQmNs"
      },
      "outputs": [],
      "source": [
        "def make_linear_model(df):\n",
        "    #удалим незначащий для модели столбец с ИД скважин, разделим датасет на целевой признак и прочие.\n",
        "    target = df['product']\n",
        "    features = df.drop(['id', 'product'], axis = 1)\n",
        "\n",
        "    #делим выборку на обучающую и валидационную в соотношении 75-25\n",
        "    features_train, features_valid, target_train, target_valid = train_test_split(features,target, test_size=0.25,\n",
        "                                                                                  random_state=12345)\n",
        "    #отмасштабируем численные признаки (в нашем случае все)\n",
        "    scaler = StandardScaler()\n",
        "    scaler.fit(features_train)\n",
        "    features_train_s = scaler.transform(features_train)\n",
        "    features_valid_s = scaler.transform(features_valid)\n",
        "\n",
        "    #создадим модель линейной регрессии, обучим ее и предскажем знаечния на валидационной выборке\n",
        "    model = LinearRegression()\n",
        "    model.fit(features_train_s, target_train)\n",
        "    target_predicted = model.predict(features_valid_s)\n",
        "\n",
        "    #вычислим RMSE, r2 и средний запас предсказанный запас сырья\n",
        "    rmse = mean_squared_error(target_valid, target_predicted)**0.5\n",
        "    r2 = r2_score (target_valid, target_predicted)\n",
        "    predicted_target_sum = target_predicted.sum()\n",
        "    predicted_target_mean = round(predicted_target_sum/len(target_predicted),2)\n",
        "\n",
        "    #вернем предсказанные значения на валидационной выборке в виде Series, верные значения,\n",
        "    #знаечние RMSE и средний предсказанный запас\n",
        "    return pd.Series(target_predicted), target_valid, rmse, r2, predicted_target_mean, predicted_target_sum"
      ]
    },
    {
      "cell_type": "markdown",
      "metadata": {
        "id": "7bhZ6v52QmNt"
      },
      "source": [
        "Получим и выведем на экран соответствующие значения для каждого из регионов:"
      ]
    },
    {
      "cell_type": "code",
      "execution_count": null,
      "metadata": {
        "id": "GUAiXMjEQmNt"
      },
      "outputs": [],
      "source": [
        "predicted_target_0, target_valid_0, rmse_0, r2_0, predicted_target_mean_0, predicted_target_sum_0 = make_linear_model(df_0)\n",
        "predicted_target_1, target_valid_1, rmse_1, r2_1, predicted_target_mean_1, predicted_target_sum_1 = make_linear_model(df_1)\n",
        "predicted_target_2, target_valid_2, rmse_2, r2_2, predicted_target_mean_2, predicted_target_sum_2 = make_linear_model(df_2)"
      ]
    },
    {
      "cell_type": "code",
      "execution_count": null,
      "metadata": {
        "id": "SYS_1hz1QmNu",
        "outputId": "3cca0971-c86d-45e9-80bc-1bef397c3328"
      },
      "outputs": [
        {
          "data": {
            "text/html": [
              "<table>\n",
              "<tbody>\n",
              "<tr><td>Регион</td><td>Предсказанный ср.запас, тыс.баррелей</td><td>Предсказанный суммарный запас, тыс.баррелей</td><td>RMSE              </td><td>R2                 </td></tr>\n",
              "<tr><td>1     </td><td>92.59                               </td><td>2302701.1395925004                         </td><td>37.723754923964115</td><td>0.2745428314315571 </td></tr>\n",
              "<tr><td>2     </td><td>68.64                               </td><td>1704916.1785340065                         </td><td>0.8892698446231985</td><td>0.9996259917954178 </td></tr>\n",
              "<tr><td>3     </td><td>94.66                               </td><td>2319144.625787046                          </td><td>40.26728172753466 </td><td>0.19320716246439573</td></tr>\n",
              "</tbody>\n",
              "</table>"
            ],
            "text/plain": [
              "<IPython.core.display.HTML object>"
            ]
          },
          "metadata": {},
          "output_type": "display_data"
        }
      ],
      "source": [
        " table = [['Регион', 'Предсказанный ср.запас, тыс.баррелей','Предсказанный суммарный запас, тыс.баррелей',  'RMSE', 'R2'],\n",
        "          [1, predicted_target_mean_0, predicted_target_sum_0, rmse_0, r2_0],\n",
        "          [2, predicted_target_mean_1, predicted_target_sum_1, rmse_1, r2_1],\n",
        "          [3,predicted_target_mean_2, predicted_target_sum_2, rmse_2, r2_2]]\n",
        "display(HTML(tabulate(table, tablefmt='html')))"
      ]
    },
    {
      "cell_type": "code",
      "execution_count": null,
      "metadata": {
        "id": "913n-kM2QmNu",
        "outputId": "bd1d7960-816f-4bf8-af6c-4b8ed9861b69"
      },
      "outputs": [
        {
          "data": {
            "text/plain": [
              "<AxesSubplot:>"
            ]
          },
          "execution_count": 41,
          "metadata": {},
          "output_type": "execute_result"
        },
        {
          "data": {
            "image/png": "[encoded data removed]",
            "text/plain": [
              "<Figure size 432x288 with 1 Axes>"
            ]
          },
          "metadata": {
            "needs_background": "light"
          },
          "output_type": "display_data"
        }
      ],
      "source": [
        "predicted_target_0.hist()"
      ]
    },
    {
      "cell_type": "code",
      "execution_count": null,
      "metadata": {
        "id": "d1TASo41QmNu",
        "outputId": "19630b4b-84e4-45c8-8ee5-6f45dfc7caf7"
      },
      "outputs": [
        {
          "data": {
            "text/plain": [
              "<AxesSubplot:>"
            ]
          },
          "execution_count": 42,
          "metadata": {},
          "output_type": "execute_result"
        },
        {
          "data": {
            "image/png": "[encoded data removed]",
            "text/plain": [
              "<Figure size 432x288 with 1 Axes>"
            ]
          },
          "metadata": {
            "needs_background": "light"
          },
          "output_type": "display_data"
        }
      ],
      "source": [
        "predicted_target_1.hist()"
      ]
    },
    {
      "cell_type": "code",
      "execution_count": null,
      "metadata": {
        "id": "HZ6EsmuxQmNv",
        "outputId": "3c2e79f6-b058-464b-8277-8d367333a0b1"
      },
      "outputs": [
        {
          "data": {
            "text/plain": [
              "<AxesSubplot:>"
            ]
          },
          "execution_count": 43,
          "metadata": {},
          "output_type": "execute_result"
        },
        {
          "data": {
            "image/png": "[encoded data removed]",
            "text/plain": [
              "<Figure size 432x288 with 1 Axes>"
            ]
          },
          "metadata": {
            "needs_background": "light"
          },
          "output_type": "display_data"
        }
      ],
      "source": [
        "predicted_target_2.hist()"
      ]
    },
    {
      "cell_type": "markdown",
      "metadata": {
        "id": "kipijNgXQmNv"
      },
      "source": [
        "Показатели второго региона, конечно, впечатляют - минимальное r2 = 0.89 и r2 практическо равное 1, выглядит, как идеальная модель, однако, вспомнив количество нулевых значений, вид распределения, максимальную корреляюцию между признаком f2 и целевым и выводы об искуственной природе данных скорее можем сделать вывод,что модель переобучилась и можно рекомендовтаь этот регион только в том случае, если в рамках задачи мы считаем данные 2 региона истинными. В противном случае выбор придется делать из 1 и 3 регионов.\n",
        "1 и 3 регион близки по среднему предсказанному запасу сырья, RMSE чуть меньше у первого региона - 37.58 против 40 у третьего. Однако цифра в обоих регионах очень велика."
      ]
    },
    {
      "cell_type": "markdown",
      "metadata": {
        "id": "zliL588oQmNv"
      },
      "source": [
        "**Вывод**\n",
        "\n",
        "    Данные были разбиты на обучающую и валидационную выборки, отмасштабированы, построена модель линейной регрессии и получены предсказания для каждого из регионов.\n",
        "    По полученным предсказаниям вычислены и сравнены значения RMSE и R2 для всех трех регионов, рассмотрено распределение прогнозируемых значений на регионах, был сделан вывод о высочайших показателях второго региона, указана необходимость исключения из рассмотрения данных второго региона как возможного региона для разработки в случае, если мы не считаем, что синтетические данные второго региона истинны."
      ]
    },
    {
      "cell_type": "markdown",
      "metadata": {
        "id": "kKpuS7SLQmNw"
      },
      "source": [
        "## Подготовка к расчёту прибыли"
      ]
    },
    {
      "cell_type": "markdown",
      "metadata": {
        "id": "juhWANrtQmNw"
      },
      "source": [
        "Исходные условия задачи:\n",
        "\n",
        "- При разведке региона исследуют 500 точек, из которых с помощью машинного обучения выбирают 200 лучших для разработки.\n",
        "- Бюджет на разработку скважин в регионе — 10 млрд рублей.\n",
        "-  Доход с каждой единицы продукта составляет 450 тыс. рублей, поскольку объём указан в тысячах баррелей.\n",
        "- После оценки рисков нужно оставить лишь те регионы, в которых вероятность убытков меньше 2.5%.\n",
        "- Среди них выбирают регион с наибольшей средней прибылью.\n",
        "\n",
        "Внесем соответствующие константы в тысячах рублей"
      ]
    },
    {
      "cell_type": "code",
      "execution_count": null,
      "metadata": {
        "id": "xOM1IAY_QmNw"
      },
      "outputs": [],
      "source": [
        "BUDGHET = 10000000 #тыс руб\n",
        "INCOME_PER_WELL = 450  #тыс руб\n",
        "LOOSE_POSSIBILITY = 2.5 / 100\n",
        "WELL_COUNT = 500 #шт\n",
        "WELL_BEST_COUNT  = 200  #шт"
      ]
    },
    {
      "cell_type": "markdown",
      "metadata": {
        "id": "I-RVFIB-QmNx"
      },
      "source": [
        "Подсчитаем безубыточную разработку сырья на нужном нам количестве месторождений (200). Разделим выделенный бюджет на заданное количество скважин для разработки:"
      ]
    },
    {
      "cell_type": "code",
      "execution_count": null,
      "metadata": {
        "id": "_4uQkxHxQmNx",
        "outputId": "4e88281b-085d-48e6-f8ea-a22a64f3139b"
      },
      "outputs": [
        {
          "data": {
            "text/plain": [
              "50000.0"
            ]
          },
          "execution_count": 45,
          "metadata": {},
          "output_type": "execute_result"
        }
      ],
      "source": [
        "budghet_per_well = BUDGHET / WELL_BEST_COUNT\n",
        "budghet_per_well"
      ]
    },
    {
      "cell_type": "markdown",
      "metadata": {
        "id": "4zkVOwAGQmNx"
      },
      "source": [
        "Имеем 50000 тыс.руб на одну скважину. Подсчитаем, сколько нефти нам нужно иметь на данной скважине, учитывая ее доход с единицы продукта:"
      ]
    },
    {
      "cell_type": "code",
      "execution_count": null,
      "metadata": {
        "id": "Qa4zUa2CQmNx",
        "outputId": "a7060af4-bf1e-4b4f-eaaf-7b4d2e066db6"
      },
      "outputs": [
        {
          "data": {
            "text/plain": [
              "111.11111111111111"
            ]
          },
          "execution_count": 46,
          "metadata": {},
          "output_type": "execute_result"
        }
      ],
      "source": [
        "product_per_well = budghet_per_well / INCOME_PER_WELL\n",
        "product_per_well"
      ]
    },
    {
      "cell_type": "markdown",
      "metadata": {
        "id": "b2qx4TJhQmNx"
      },
      "source": [
        "Для безубыточной разработки требуется запас в 111.11 тыс. баррелей на скважине. Подсчитаем общий необходимый запас на регионе:"
      ]
    },
    {
      "cell_type": "code",
      "execution_count": null,
      "metadata": {
        "id": "otTHVMeQQmNy",
        "outputId": "7b150fcf-75a8-4a31-ac28-c719483a0a28"
      },
      "outputs": [
        {
          "data": {
            "text/plain": [
              "22222.222222222223"
            ]
          },
          "execution_count": 47,
          "metadata": {},
          "output_type": "execute_result"
        }
      ],
      "source": [
        "product_per_region =  product_per_well * WELL_BEST_COUNT\n",
        "product_per_region"
      ]
    },
    {
      "cell_type": "markdown",
      "metadata": {
        "id": "T-eyWiaGQmN0"
      },
      "source": [
        "На регионе суммарно должно быть 22 222.22 тыс. баррелей нефти для безубыточной разработки региона.\n",
        "Средний предсказанный запас нефти на всех регионах ниже необходимого : 92.59, 68.73 и 94.97 соответственно. Однако выбор лучших 200 скважин сможет улучшить ситуацию."
      ]
    },
    {
      "cell_type": "markdown",
      "metadata": {
        "id": "vEOvj3sgQmN1"
      },
      "source": [
        "Напишем функцию расчета прибыли с отбором нужного числа лучших скважин, умножением их на доходность одной скважины и отнимаем расходы (бюджет на разработку)"
      ]
    },
    {
      "cell_type": "code",
      "execution_count": null,
      "metadata": {
        "id": "PJHxE9UxQmN1"
      },
      "outputs": [],
      "source": [
        "def profit_calculation(target, probabilities, best_count):\n",
        "    probabilities_sorted = probabilities.sort_values(ascending=False)\n",
        "    selected_probabilities = target[probabilities_sorted.index][:best_count]\n",
        "    return INCOME_PER_WELL * selected_probabilities.sum() - BUDGHET"
      ]
    },
    {
      "cell_type": "markdown",
      "metadata": {
        "id": "d-xOugR7QmN2"
      },
      "source": [
        "**Вывод**\n",
        "\n",
        "    Были заведены все необходимые Python константы для дальнейших расчетов, проанализирован необходимый запас нефти на скважине и на регионе для безубыточной разработки, написана функция расчета прибыли."
      ]
    },
    {
      "cell_type": "markdown",
      "metadata": {
        "id": "-_9RfcGcQmN2"
      },
      "source": [
        "## Расчёт прибыли и рисков"
      ]
    },
    {
      "cell_type": "markdown",
      "metadata": {
        "id": "S3mx7rqfQmN3"
      },
      "source": [
        "При помощи технологии Bootstrap на 1000 выборок посмотрим распределение прибыли"
      ]
    },
    {
      "cell_type": "code",
      "execution_count": null,
      "metadata": {
        "id": "ecFI4057QmN3"
      },
      "outputs": [],
      "source": [
        "def bootstrap_check(target, predictions):\n",
        "    state = np.random.RandomState(12345)\n",
        "    bootstrap_samples = 1000 #количество проб\n",
        "    profits = [] #подсчитанная выручка\n",
        "\n",
        "    for i in range(bootstrap_samples):\n",
        "        target_sample = target.reset_index(drop=True).sample(n = WELL_COUNT, replace = True, random_state = state)\n",
        "        predictions_sample = predictions[target_sample.index]\n",
        "        profit = profit_calculation(target_sample, predictions_sample, WELL_BEST_COUNT)\n",
        "        profits.append(profit)\n",
        "\n",
        "    profits = pd.Series(profits)\n",
        "\n",
        "    lower = profits.quantile(LOOSE_POSSIBILITY)\n",
        "    upper = profits.quantile(1 - LOOSE_POSSIBILITY)\n",
        "    profit_mean = profits.mean()\n",
        "\n",
        "    print(f'Средняя прибыль: {profit_mean} тыс. руб')\n",
        "    print(f'2.5%-квантиль: {lower} тыс. руб')\n",
        "    print(f'97.5%-квантиль: {upper} тыс. руб')\n",
        "    print(f'95% доверительный интервал: от  {lower} тыс. руб до {upper} тыс. руб')\n",
        "    print(f'Риск убытков: {(profits < 0).mean() * 100} %')"
      ]
    },
    {
      "cell_type": "markdown",
      "metadata": {
        "id": "2s_2OIcZQmN4"
      },
      "source": [
        "Рассчитаем прибыль и риск убытков на каждом из трех регионов:"
      ]
    },
    {
      "cell_type": "code",
      "execution_count": null,
      "metadata": {
        "id": "yo706Oi7QmN4",
        "outputId": "c7c02b88-ba82-416a-8698-9b7b42162428"
      },
      "outputs": [
        {
          "name": "stdout",
          "output_type": "stream",
          "text": [
            "Средняя прибыль: 406605.82526948 тыс. руб\n",
            "2.5%-квантиль: -93101.51878182334 тыс. руб\n",
            "97.5%-квантиль: 908031.3043597329 тыс. руб\n",
            "95% доверительный интервал: от  -93101.51878182334 тыс. руб до 908031.3043597329 тыс. руб\n",
            "Риск убытков: 6.7 %\n"
          ]
        }
      ],
      "source": [
        "bootstrap_check(target_valid_0, predicted_target_0)"
      ]
    },
    {
      "cell_type": "code",
      "execution_count": null,
      "metadata": {
        "id": "gmNPyqXLQmN4",
        "outputId": "9ba10f60-0ace-4d3c-8026-75983079bc44"
      },
      "outputs": [
        {
          "name": "stdout",
          "output_type": "stream",
          "text": [
            "Средняя прибыль: 500710.183973134 тыс. руб\n",
            "2.5%-квантиль: 63836.59388120626 тыс. руб\n",
            "97.5%-квантиль: 935147.4066005903 тыс. руб\n",
            "95% доверительный интервал: от  63836.59388120626 тыс. руб до 935147.4066005903 тыс. руб\n",
            "Риск убытков: 1.2 %\n"
          ]
        }
      ],
      "source": [
        "bootstrap_check(target_valid_1, predicted_target_1)"
      ]
    },
    {
      "cell_type": "code",
      "execution_count": null,
      "metadata": {
        "id": "pIcCNBWaQmN5",
        "outputId": "0bb3f216-01ed-48da-a15a-f007b504ff15"
      },
      "outputs": [
        {
          "name": "stdout",
          "output_type": "stream",
          "text": [
            "Средняя прибыль: 341258.2117479128 тыс. руб\n",
            "2.5%-квантиль: -201815.93287134383 тыс. руб\n",
            "97.5%-квантиль: 878895.3184961762 тыс. руб\n",
            "95% доверительный интервал: от  -201815.93287134383 тыс. руб до 878895.3184961762 тыс. руб\n",
            "Риск убытков: 11.200000000000001 %\n"
          ]
        }
      ],
      "source": [
        "bootstrap_check(target_valid_2, predicted_target_2)"
      ]
    },
    {
      "cell_type": "markdown",
      "metadata": {
        "id": "KG2_-eh0QmN5"
      },
      "source": [
        "**Вывод**\n",
        "\n",
        "    Поставленному бизнесом условию о непривышении 2.5% рисков на регионе выполняется только для второго региона, да и показатели прибыли и доверительного интервала там просто поражают воображение, однако согласно ранее сделанным выводам мы считаем его синтетическим, модель переобученной и можем ссылаться на данные этого региона, распределение которых имеет явно искуственную природу, только если игнорируем данный факт в рамках учебной задачи.\n",
        "\n",
        "    В противном случае, с исключением из рассмотрения второго региона,наиболее привлекательным для разработки выглядит первый регион, т.к. в сравнении с третьим регионом  снижение средней прибыли не так велико, как хорошо выглядит снижение риска убытков на 0.4% и более узкие рамки 95% доверительного интервала. Однако требуемого урвоня рсиков -2.5% не показывает ни один из них."
      ]
    },
    {
      "cell_type": "markdown",
      "metadata": {
        "id": "6NYTkJYqQmN6"
      },
      "source": [
        "## Общий вывод\n",
        "\n",
        "- Данные из файлов со всех трех регионов были загружены\n",
        "- Файлы изучены на тип данных, наличие дубликатов и пропусков,изучено распределение данных, корреляцию признаков.\n",
        "- Сделаны выводы:\n",
        "    - о наличии большого процента нулевых значений целевого признака в данных второго региона в сравнении с двумя другими\n",
        "    - о несоответствии рапсределения данных целевого признака во втором регионе нормальному\n",
        "    - о наличии сильнейшей корреляции между признаком f2 и целевым во втором регионе, доовльно заметной корреляции между тем же признаком и целевым в двух других регионах\n",
        "    - о предположительно искусственной природе данных второго региона.\n",
        "    \n",
        "- Данные были разбиты на обучающую и валидационную выборки\n",
        "- Признаки были отмасштабированы\n",
        "- Была построена модель линейной регрессии и получены предсказания для каждого из регионов\n",
        "- По полученным предсказаниям вычислены и сравнены значения RMSE и R2 для всех трех регионов\n",
        "- Рассмотрено распределение прогнозируемых значений на регионах\n",
        "- Был сделан вывод о необходимости исключения из рассмотрения данных второго региона как возможного региона для разработки.\n",
        "- Были заведены все необходимые Python константы для дальнейших расчетов\n",
        "- Были проанализирован необходимый запас нефти на скважине и на регионе для безубыточной разработки\n",
        "- Была написана функция расчета прибыли.\n",
        "\n",
        "- Была проведена процедура проверки распределения прибыли на 1000 выборок при помощи Bootstrap на каждом регионе\n",
        "- Был оценен 95% доверительный интервал распределения прибыли на каждом регионе\n",
        "- Был оценен риск убытков на каждом из регионов\n",
        "- В результате анализа полученных результатов сделан вывод по рекомендуемому региону для разработки:\n",
        "    - Поставленному бизнесом условию о непривышении 2.5% рсиков на регионе выполняется только для второго региона, да и показатели прибыли и доверительного интервала там просто поражают воображение, однако согласно ранее сделанным выводам мы считаем его синтетическим, модель переобученной и не можем ссылаться на данные этого региона, распределение которых имеет явно искуственную природу.\n",
        "    - Таким образом, в соответствии с исключением из рассмотрения второго региона,наиболее привлекательным для разработки выглядит первый регион, т.к. в сравнении с третьим регионом  снижение средней прибыли не так велико, как хорошо выглядит снижение риска убытков на 0.4% и более узкие рамки 95% доверительного интервала. Однако требуемого урвоня рсиков -2.5% не показывает ни один из них.\n"
      ]
    },
    {
      "cell_type": "markdown",
      "metadata": {
        "id": "eZI90ORbQmN7"
      },
      "source": [
        "## Чек лист готовности проекта"
      ]
    },
    {
      "cell_type": "markdown",
      "metadata": {
        "id": "94_u5bWxQmN7"
      },
      "source": [
        "- [x]  Jupyter Notebook открыт\n",
        "- [x]  Весь код выполняется без ошибок\n",
        "- [x]  Ячейки с кодом расположены в порядке исполнения\n",
        "- [x]  Выполнен шаг 1: данные подготовлены\n",
        "- [x]  Выполнен шаг 2: модели обучены и проверены\n",
        "    - [x]  Данные корректно разбиты на обучающую и валидационную выборки\n",
        "    - [x]  Модели обучены, предсказания сделаны\n",
        "    - [x]  Предсказания и правильные ответы на валидационной выборке сохранены\n",
        "    - [x]  На экране напечатаны результаты\n",
        "    - [x]  Сделаны выводы\n",
        "- [ ]  Выполнен шаг 3: проведена подготовка к расчёту прибыли\n",
        "    - [x]  Для всех ключевых значений созданы константы Python\n",
        "    - [x]  Посчитано минимальное среднее количество продукта в месторождениях региона, достаточное для разработки\n",
        "    - [x]  По предыдущему пункту сделаны выводы\n",
        "    - [x]  Написана функция расчёта прибыли\n",
        "- [ ]  Выполнен шаг 4: посчитаны риски и прибыль\n",
        "    - [x]  Проведена процедура *Bootstrap*\n",
        "    - [x]  Все параметры бутстрепа соответствуют условию\n",
        "    - [x]  Найдены все нужные величины\n",
        "    - [x]  Предложен регион для разработки месторождения\n",
        "    - [x]  Выбор региона обоснован"
      ]
    },
    {
      "cell_type": "code",
      "execution_count": null,
      "metadata": {
        "id": "cijK9lVBQmN7"
      },
      "outputs": [],
      "source": []
    }
  ],
  "metadata": {
    "ExecuteTimeLog": [
      {
        "duration": 13,
        "start_time": "2023-04-19T14:03:29.425Z"
      },
      {
        "duration": 3,
        "start_time": "2023-04-19T14:07:56.090Z"
      },
      {
        "duration": 5,
        "start_time": "2023-04-19T14:08:08.937Z"
      },
      {
        "duration": 2298,
        "start_time": "2023-04-19T14:09:58.268Z"
      },
      {
        "duration": 904,
        "start_time": "2023-04-19T14:11:29.557Z"
      },
      {
        "duration": 309,
        "start_time": "2023-04-19T14:11:32.316Z"
      },
      {
        "duration": 255,
        "start_time": "2023-04-19T14:11:34.341Z"
      },
      {
        "duration": 24,
        "start_time": "2023-04-19T16:54:59.414Z"
      },
      {
        "duration": 23,
        "start_time": "2023-04-19T16:55:44.728Z"
      },
      {
        "duration": 135,
        "start_time": "2023-04-19T16:55:46.771Z"
      },
      {
        "duration": 16,
        "start_time": "2023-04-19T16:55:54.836Z"
      },
      {
        "duration": 15,
        "start_time": "2023-04-19T16:55:58.905Z"
      },
      {
        "duration": 13,
        "start_time": "2023-04-19T16:56:03.647Z"
      },
      {
        "duration": 52,
        "start_time": "2023-04-20T17:28:21.741Z"
      },
      {
        "duration": 1493,
        "start_time": "2023-04-20T17:28:28.223Z"
      },
      {
        "duration": 413,
        "start_time": "2023-04-20T17:28:29.718Z"
      },
      {
        "duration": 213,
        "start_time": "2023-04-20T17:28:30.134Z"
      },
      {
        "duration": 200,
        "start_time": "2023-04-20T17:28:30.350Z"
      },
      {
        "duration": 14,
        "start_time": "2023-04-20T17:28:30.552Z"
      },
      {
        "duration": 17,
        "start_time": "2023-04-20T17:28:30.568Z"
      },
      {
        "duration": 30,
        "start_time": "2023-04-20T17:28:30.587Z"
      },
      {
        "duration": 50,
        "start_time": "2023-04-20T17:59:34.039Z"
      },
      {
        "duration": 47,
        "start_time": "2023-04-20T17:59:46.660Z"
      },
      {
        "duration": 43,
        "start_time": "2023-04-20T17:59:47.645Z"
      },
      {
        "duration": 393,
        "start_time": "2023-04-20T18:01:02.538Z"
      },
      {
        "duration": 345,
        "start_time": "2023-04-20T19:12:35.710Z"
      },
      {
        "duration": 212,
        "start_time": "2023-04-20T19:12:49.263Z"
      },
      {
        "duration": 1531,
        "start_time": "2023-04-21T04:58:45.552Z"
      },
      {
        "duration": 1148,
        "start_time": "2023-04-21T04:58:47.085Z"
      },
      {
        "duration": 989,
        "start_time": "2023-04-21T04:58:48.234Z"
      },
      {
        "duration": 537,
        "start_time": "2023-04-21T04:58:49.225Z"
      },
      {
        "duration": 15,
        "start_time": "2023-04-21T04:58:49.764Z"
      },
      {
        "duration": 26,
        "start_time": "2023-04-21T04:58:49.781Z"
      },
      {
        "duration": 48,
        "start_time": "2023-04-21T04:58:49.809Z"
      },
      {
        "duration": 64,
        "start_time": "2023-04-21T04:58:49.859Z"
      },
      {
        "duration": 46,
        "start_time": "2023-04-21T04:58:49.925Z"
      },
      {
        "duration": 63,
        "start_time": "2023-04-21T04:58:49.974Z"
      },
      {
        "duration": 198,
        "start_time": "2023-04-21T04:58:50.039Z"
      },
      {
        "duration": 3,
        "start_time": "2023-04-21T04:58:50.238Z"
      },
      {
        "duration": 202,
        "start_time": "2023-04-21T04:59:28.798Z"
      },
      {
        "duration": 145,
        "start_time": "2023-04-21T04:59:34.335Z"
      },
      {
        "duration": 156,
        "start_time": "2023-04-21T05:01:42.135Z"
      },
      {
        "duration": 373,
        "start_time": "2023-04-21T05:06:56.837Z"
      },
      {
        "duration": 272,
        "start_time": "2023-04-21T05:07:13.571Z"
      },
      {
        "duration": 105,
        "start_time": "2023-04-21T05:07:37.191Z"
      },
      {
        "duration": 9,
        "start_time": "2023-04-21T05:07:41.891Z"
      },
      {
        "duration": 11,
        "start_time": "2023-04-21T05:07:46.269Z"
      },
      {
        "duration": 7,
        "start_time": "2023-04-21T05:07:55.401Z"
      },
      {
        "duration": 1605,
        "start_time": "2023-04-22T11:19:03.714Z"
      },
      {
        "duration": 536,
        "start_time": "2023-04-22T11:19:05.322Z"
      },
      {
        "duration": 593,
        "start_time": "2023-04-22T11:19:05.860Z"
      },
      {
        "duration": 573,
        "start_time": "2023-04-22T11:19:06.455Z"
      },
      {
        "duration": 18,
        "start_time": "2023-04-22T11:19:07.030Z"
      },
      {
        "duration": 14,
        "start_time": "2023-04-22T11:19:07.051Z"
      },
      {
        "duration": 16,
        "start_time": "2023-04-22T11:19:07.067Z"
      },
      {
        "duration": 77,
        "start_time": "2023-04-22T11:19:07.085Z"
      },
      {
        "duration": 54,
        "start_time": "2023-04-22T11:19:07.164Z"
      },
      {
        "duration": 75,
        "start_time": "2023-04-22T11:19:07.221Z"
      },
      {
        "duration": 312,
        "start_time": "2023-04-22T11:19:07.298Z"
      },
      {
        "duration": 11,
        "start_time": "2023-04-22T11:19:07.612Z"
      },
      {
        "duration": 3,
        "start_time": "2023-04-22T11:19:07.625Z"
      },
      {
        "duration": 7,
        "start_time": "2023-04-22T11:41:24.325Z"
      },
      {
        "duration": 7,
        "start_time": "2023-04-22T11:41:33.900Z"
      },
      {
        "duration": 6,
        "start_time": "2023-04-22T11:41:43.480Z"
      },
      {
        "duration": 102,
        "start_time": "2023-04-22T11:42:22.558Z"
      },
      {
        "duration": 17,
        "start_time": "2023-04-22T11:42:53.194Z"
      },
      {
        "duration": 17,
        "start_time": "2023-04-22T11:43:03.138Z"
      },
      {
        "duration": 14,
        "start_time": "2023-04-22T11:43:04.725Z"
      },
      {
        "duration": 47,
        "start_time": "2023-04-22T11:55:43.655Z"
      },
      {
        "duration": 6,
        "start_time": "2023-04-22T12:06:01.397Z"
      },
      {
        "duration": 11,
        "start_time": "2023-04-22T12:07:24.110Z"
      },
      {
        "duration": 5,
        "start_time": "2023-04-22T12:07:33.559Z"
      },
      {
        "duration": 5,
        "start_time": "2023-04-22T12:07:34.168Z"
      },
      {
        "duration": 12,
        "start_time": "2023-04-22T12:07:35.113Z"
      },
      {
        "duration": 5,
        "start_time": "2023-04-22T12:07:47.359Z"
      },
      {
        "duration": 35,
        "start_time": "2023-04-22T12:07:50.653Z"
      },
      {
        "duration": 8,
        "start_time": "2023-04-22T12:08:28.926Z"
      },
      {
        "duration": 5,
        "start_time": "2023-04-22T12:08:51.223Z"
      },
      {
        "duration": 24,
        "start_time": "2023-04-22T12:08:52.342Z"
      },
      {
        "duration": 5,
        "start_time": "2023-04-22T12:09:05.168Z"
      },
      {
        "duration": 33,
        "start_time": "2023-04-22T12:09:06.526Z"
      },
      {
        "duration": 3,
        "start_time": "2023-04-22T12:09:18.476Z"
      },
      {
        "duration": 5,
        "start_time": "2023-04-22T12:09:26.225Z"
      },
      {
        "duration": 26,
        "start_time": "2023-04-22T12:09:27.911Z"
      },
      {
        "duration": 5,
        "start_time": "2023-04-22T12:11:25.156Z"
      },
      {
        "duration": 918,
        "start_time": "2023-04-22T12:11:26.882Z"
      },
      {
        "duration": 4,
        "start_time": "2023-04-22T12:14:32.571Z"
      },
      {
        "duration": 31,
        "start_time": "2023-04-22T12:14:33.787Z"
      },
      {
        "duration": 5,
        "start_time": "2023-04-22T12:14:56.048Z"
      },
      {
        "duration": 81,
        "start_time": "2023-04-22T12:14:57.380Z"
      },
      {
        "duration": 4,
        "start_time": "2023-04-22T12:15:45.956Z"
      },
      {
        "duration": 6,
        "start_time": "2023-04-22T12:15:54.429Z"
      },
      {
        "duration": 27,
        "start_time": "2023-04-22T12:15:55.716Z"
      },
      {
        "duration": 199,
        "start_time": "2023-04-22T12:16:10.259Z"
      },
      {
        "duration": 264,
        "start_time": "2023-04-22T12:16:35.899Z"
      },
      {
        "duration": 12,
        "start_time": "2023-04-22T12:17:44.080Z"
      },
      {
        "duration": 10,
        "start_time": "2023-04-22T12:17:48.020Z"
      },
      {
        "duration": 10,
        "start_time": "2023-04-22T12:18:27.974Z"
      },
      {
        "duration": 2727,
        "start_time": "2023-04-22T12:22:14.208Z"
      },
      {
        "duration": 2476,
        "start_time": "2023-04-22T12:22:22.694Z"
      },
      {
        "duration": 26,
        "start_time": "2023-04-22T12:22:27.467Z"
      },
      {
        "duration": 3,
        "start_time": "2023-04-22T12:22:35.286Z"
      },
      {
        "duration": 18,
        "start_time": "2023-04-22T12:23:05.942Z"
      },
      {
        "duration": 25,
        "start_time": "2023-04-22T12:23:11.988Z"
      },
      {
        "duration": 1869,
        "start_time": "2023-04-22T12:23:27.505Z"
      },
      {
        "duration": 6,
        "start_time": "2023-04-22T12:24:55.505Z"
      },
      {
        "duration": 5,
        "start_time": "2023-04-22T12:25:06.746Z"
      },
      {
        "duration": 3,
        "start_time": "2023-04-22T12:25:13.367Z"
      },
      {
        "duration": 4,
        "start_time": "2023-04-22T12:25:20.730Z"
      },
      {
        "duration": 92,
        "start_time": "2023-04-22T12:26:14.847Z"
      },
      {
        "duration": 44,
        "start_time": "2023-04-22T12:26:24.601Z"
      },
      {
        "duration": 24,
        "start_time": "2023-04-22T12:26:40.398Z"
      },
      {
        "duration": 397,
        "start_time": "2023-04-22T12:28:10.260Z"
      },
      {
        "duration": 4,
        "start_time": "2023-04-22T12:28:11.427Z"
      },
      {
        "duration": 33,
        "start_time": "2023-04-22T12:28:12.899Z"
      },
      {
        "duration": 6,
        "start_time": "2023-04-22T12:31:58.734Z"
      },
      {
        "duration": 343,
        "start_time": "2023-04-22T12:32:00.116Z"
      },
      {
        "duration": 3,
        "start_time": "2023-04-22T12:32:01.205Z"
      },
      {
        "duration": 33,
        "start_time": "2023-04-22T12:32:03.677Z"
      },
      {
        "duration": 3,
        "start_time": "2023-04-22T12:32:58.727Z"
      },
      {
        "duration": 5,
        "start_time": "2023-04-22T12:33:38.217Z"
      },
      {
        "duration": 16,
        "start_time": "2023-04-22T12:34:09.434Z"
      },
      {
        "duration": 269,
        "start_time": "2023-04-22T12:34:14.894Z"
      },
      {
        "duration": 34,
        "start_time": "2023-04-22T12:34:15.877Z"
      },
      {
        "duration": 3,
        "start_time": "2023-04-22T12:56:41.286Z"
      },
      {
        "duration": 3,
        "start_time": "2023-04-22T12:57:13.121Z"
      },
      {
        "duration": 4,
        "start_time": "2023-04-22T12:58:51.749Z"
      },
      {
        "duration": 4,
        "start_time": "2023-04-22T13:00:31.418Z"
      },
      {
        "duration": 5,
        "start_time": "2023-04-22T13:02:06.891Z"
      },
      {
        "duration": 57,
        "start_time": "2023-04-22T13:02:07.714Z"
      },
      {
        "duration": 289,
        "start_time": "2023-04-22T13:02:49.172Z"
      },
      {
        "duration": 35,
        "start_time": "2023-04-22T13:02:53.145Z"
      },
      {
        "duration": 132,
        "start_time": "2023-04-22T13:04:32.266Z"
      },
      {
        "duration": 4,
        "start_time": "2023-04-22T13:04:45.576Z"
      },
      {
        "duration": 4,
        "start_time": "2023-04-22T13:04:52.562Z"
      },
      {
        "duration": 8,
        "start_time": "2023-04-22T13:04:58.948Z"
      },
      {
        "duration": 137,
        "start_time": "2023-04-22T13:05:08.886Z"
      },
      {
        "duration": 222,
        "start_time": "2023-04-22T13:05:09.836Z"
      },
      {
        "duration": 151,
        "start_time": "2023-04-22T13:05:12.252Z"
      },
      {
        "duration": 4,
        "start_time": "2023-04-22T13:11:36.766Z"
      },
      {
        "duration": 3,
        "start_time": "2023-04-22T13:11:42.027Z"
      },
      {
        "duration": 3,
        "start_time": "2023-04-22T13:11:44.715Z"
      },
      {
        "duration": 4,
        "start_time": "2023-04-22T13:11:48.626Z"
      },
      {
        "duration": 4,
        "start_time": "2023-04-22T13:11:52.671Z"
      },
      {
        "duration": 3,
        "start_time": "2023-04-22T13:27:02.581Z"
      },
      {
        "duration": 7,
        "start_time": "2023-04-22T13:41:54.978Z"
      },
      {
        "duration": 1647,
        "start_time": "2023-04-22T13:42:46.306Z"
      },
      {
        "duration": 3,
        "start_time": "2023-04-22T13:42:57.990Z"
      },
      {
        "duration": 5,
        "start_time": "2023-04-22T13:43:07.340Z"
      },
      {
        "duration": 1423,
        "start_time": "2023-04-22T13:43:08.082Z"
      },
      {
        "duration": 5,
        "start_time": "2023-04-22T13:43:31.580Z"
      },
      {
        "duration": 5,
        "start_time": "2023-04-22T13:43:35.898Z"
      },
      {
        "duration": 1355,
        "start_time": "2023-04-22T13:43:36.744Z"
      },
      {
        "duration": 5,
        "start_time": "2023-04-22T13:43:48.006Z"
      },
      {
        "duration": 1551,
        "start_time": "2023-04-22T13:43:48.013Z"
      },
      {
        "duration": 5,
        "start_time": "2023-04-22T13:43:57.475Z"
      },
      {
        "duration": 1521,
        "start_time": "2023-04-22T13:44:18.925Z"
      },
      {
        "duration": 54,
        "start_time": "2023-04-22T13:45:15.197Z"
      },
      {
        "duration": 5,
        "start_time": "2023-04-22T13:45:18.443Z"
      },
      {
        "duration": 1437,
        "start_time": "2023-04-22T13:45:19.682Z"
      },
      {
        "duration": 7,
        "start_time": "2023-04-22T13:46:45.437Z"
      },
      {
        "duration": 1584,
        "start_time": "2023-04-22T13:46:47.050Z"
      },
      {
        "duration": 6,
        "start_time": "2023-04-22T13:46:51.313Z"
      },
      {
        "duration": 1764,
        "start_time": "2023-04-22T13:46:52.720Z"
      },
      {
        "duration": 8,
        "start_time": "2023-04-22T13:47:06.237Z"
      },
      {
        "duration": 1432,
        "start_time": "2023-04-22T13:47:39.715Z"
      },
      {
        "duration": 1476,
        "start_time": "2023-04-22T13:47:41.149Z"
      },
      {
        "duration": 3,
        "start_time": "2023-04-22T13:57:15.888Z"
      },
      {
        "duration": 3265,
        "start_time": "2023-04-23T07:22:57.410Z"
      },
      {
        "duration": 2515,
        "start_time": "2023-04-23T07:23:00.678Z"
      },
      {
        "duration": 390,
        "start_time": "2023-04-23T07:23:03.195Z"
      },
      {
        "duration": 206,
        "start_time": "2023-04-23T07:23:03.587Z"
      },
      {
        "duration": 206,
        "start_time": "2023-04-23T07:23:03.795Z"
      },
      {
        "duration": 16,
        "start_time": "2023-04-23T07:23:04.002Z"
      },
      {
        "duration": 16,
        "start_time": "2023-04-23T07:23:04.020Z"
      },
      {
        "duration": 16,
        "start_time": "2023-04-23T07:23:04.037Z"
      },
      {
        "duration": 73,
        "start_time": "2023-04-23T07:23:04.055Z"
      },
      {
        "duration": 59,
        "start_time": "2023-04-23T07:23:04.130Z"
      },
      {
        "duration": 53,
        "start_time": "2023-04-23T07:23:04.191Z"
      },
      {
        "duration": 338,
        "start_time": "2023-04-23T07:23:04.246Z"
      },
      {
        "duration": 10,
        "start_time": "2023-04-23T07:23:04.586Z"
      },
      {
        "duration": 7,
        "start_time": "2023-04-23T07:23:04.601Z"
      },
      {
        "duration": 21,
        "start_time": "2023-04-23T07:23:04.610Z"
      },
      {
        "duration": 27,
        "start_time": "2023-04-23T07:23:04.633Z"
      },
      {
        "duration": 31,
        "start_time": "2023-04-23T07:23:04.662Z"
      },
      {
        "duration": 15,
        "start_time": "2023-04-23T07:23:04.695Z"
      },
      {
        "duration": 8,
        "start_time": "2023-04-23T07:23:04.712Z"
      },
      {
        "duration": 482,
        "start_time": "2023-04-23T07:23:04.721Z"
      },
      {
        "duration": 183,
        "start_time": "2023-04-23T07:23:05.206Z"
      },
      {
        "duration": 170,
        "start_time": "2023-04-23T07:23:05.391Z"
      },
      {
        "duration": 172,
        "start_time": "2023-04-23T07:23:05.562Z"
      },
      {
        "duration": 170,
        "start_time": "2023-04-23T07:23:05.736Z"
      },
      {
        "duration": 3,
        "start_time": "2023-04-23T07:23:05.909Z"
      },
      {
        "duration": 25,
        "start_time": "2023-04-23T07:23:05.914Z"
      },
      {
        "duration": 31,
        "start_time": "2023-04-23T07:23:05.941Z"
      },
      {
        "duration": 42,
        "start_time": "2023-04-23T07:23:05.974Z"
      },
      {
        "duration": 31,
        "start_time": "2023-04-23T07:23:06.018Z"
      },
      {
        "duration": 40,
        "start_time": "2023-04-23T07:23:06.051Z"
      },
      {
        "duration": 1703,
        "start_time": "2023-04-23T07:23:06.093Z"
      },
      {
        "duration": 1544,
        "start_time": "2023-04-23T07:23:07.798Z"
      },
      {
        "duration": 1612,
        "start_time": "2023-04-23T07:23:09.344Z"
      },
      {
        "duration": 53,
        "start_time": "2023-04-23T13:12:18.157Z"
      },
      {
        "duration": 2382,
        "start_time": "2023-04-23T13:12:38.994Z"
      },
      {
        "duration": 1511,
        "start_time": "2023-04-23T13:12:41.378Z"
      },
      {
        "duration": 478,
        "start_time": "2023-04-23T13:12:42.891Z"
      },
      {
        "duration": 618,
        "start_time": "2023-04-23T13:12:43.370Z"
      },
      {
        "duration": 553,
        "start_time": "2023-04-23T13:12:43.990Z"
      },
      {
        "duration": 16,
        "start_time": "2023-04-23T13:12:44.544Z"
      },
      {
        "duration": 19,
        "start_time": "2023-04-23T13:12:44.562Z"
      },
      {
        "duration": 16,
        "start_time": "2023-04-23T13:12:44.583Z"
      },
      {
        "duration": 70,
        "start_time": "2023-04-23T13:12:44.601Z"
      },
      {
        "duration": 43,
        "start_time": "2023-04-23T13:12:44.673Z"
      },
      {
        "duration": 64,
        "start_time": "2023-04-23T13:12:44.718Z"
      },
      {
        "duration": 345,
        "start_time": "2023-04-23T13:12:44.783Z"
      },
      {
        "duration": 9,
        "start_time": "2023-04-23T13:12:45.130Z"
      },
      {
        "duration": 26,
        "start_time": "2023-04-23T13:12:45.142Z"
      },
      {
        "duration": 20,
        "start_time": "2023-04-23T13:12:45.170Z"
      },
      {
        "duration": 22,
        "start_time": "2023-04-23T13:12:45.192Z"
      },
      {
        "duration": 15,
        "start_time": "2023-04-23T13:12:45.215Z"
      },
      {
        "duration": 15,
        "start_time": "2023-04-23T13:12:45.231Z"
      },
      {
        "duration": 75,
        "start_time": "2023-04-23T13:12:45.247Z"
      },
      {
        "duration": 0,
        "start_time": "2023-04-23T13:12:45.324Z"
      },
      {
        "duration": 0,
        "start_time": "2023-04-23T13:12:45.325Z"
      },
      {
        "duration": 0,
        "start_time": "2023-04-23T13:12:45.326Z"
      },
      {
        "duration": 0,
        "start_time": "2023-04-23T13:12:45.327Z"
      },
      {
        "duration": 0,
        "start_time": "2023-04-23T13:12:45.328Z"
      },
      {
        "duration": 0,
        "start_time": "2023-04-23T13:12:45.329Z"
      },
      {
        "duration": 0,
        "start_time": "2023-04-23T13:12:45.330Z"
      },
      {
        "duration": 0,
        "start_time": "2023-04-23T13:12:45.331Z"
      },
      {
        "duration": 0,
        "start_time": "2023-04-23T13:12:45.332Z"
      },
      {
        "duration": 0,
        "start_time": "2023-04-23T13:12:45.333Z"
      },
      {
        "duration": 0,
        "start_time": "2023-04-23T13:12:45.334Z"
      },
      {
        "duration": 0,
        "start_time": "2023-04-23T13:12:45.335Z"
      },
      {
        "duration": 0,
        "start_time": "2023-04-23T13:12:45.356Z"
      },
      {
        "duration": 0,
        "start_time": "2023-04-23T13:12:45.357Z"
      },
      {
        "duration": 0,
        "start_time": "2023-04-23T13:12:45.359Z"
      },
      {
        "duration": 369,
        "start_time": "2023-04-23T13:13:07.698Z"
      },
      {
        "duration": 253,
        "start_time": "2023-04-23T13:25:27.050Z"
      },
      {
        "duration": 314,
        "start_time": "2023-04-23T13:25:29.097Z"
      },
      {
        "duration": 71,
        "start_time": "2023-04-23T13:26:45.101Z"
      },
      {
        "duration": 20,
        "start_time": "2023-04-23T13:30:26.299Z"
      },
      {
        "duration": 22,
        "start_time": "2023-04-23T13:30:41.197Z"
      },
      {
        "duration": 13,
        "start_time": "2023-04-23T14:17:00.701Z"
      },
      {
        "duration": 22,
        "start_time": "2023-04-23T14:17:50.983Z"
      },
      {
        "duration": 18,
        "start_time": "2023-04-23T14:18:00.203Z"
      },
      {
        "duration": 16,
        "start_time": "2023-04-23T14:18:08.586Z"
      },
      {
        "duration": 29,
        "start_time": "2023-04-23T14:19:09.723Z"
      },
      {
        "duration": 3,
        "start_time": "2023-04-23T14:20:20.027Z"
      },
      {
        "duration": 47,
        "start_time": "2023-04-23T14:20:24.234Z"
      },
      {
        "duration": 46,
        "start_time": "2023-04-23T14:20:39.997Z"
      },
      {
        "duration": 18,
        "start_time": "2023-04-23T14:20:45.752Z"
      },
      {
        "duration": 23,
        "start_time": "2023-04-23T14:20:48.897Z"
      },
      {
        "duration": 835,
        "start_time": "2023-04-23T14:50:14.515Z"
      },
      {
        "duration": 4,
        "start_time": "2023-04-23T14:53:21.457Z"
      },
      {
        "duration": 26,
        "start_time": "2023-04-23T14:53:26.294Z"
      },
      {
        "duration": 25,
        "start_time": "2023-04-23T14:53:38.124Z"
      },
      {
        "duration": 17,
        "start_time": "2023-04-23T14:53:49.093Z"
      },
      {
        "duration": 27,
        "start_time": "2023-04-23T14:53:57.049Z"
      },
      {
        "duration": 25,
        "start_time": "2023-04-23T14:55:42.722Z"
      },
      {
        "duration": 25,
        "start_time": "2023-04-23T14:55:59.308Z"
      },
      {
        "duration": 27,
        "start_time": "2023-04-23T14:56:08.063Z"
      },
      {
        "duration": 20,
        "start_time": "2023-04-23T14:57:33.604Z"
      },
      {
        "duration": 20,
        "start_time": "2023-04-23T14:57:39.102Z"
      },
      {
        "duration": 24,
        "start_time": "2023-04-23T14:58:05.394Z"
      },
      {
        "duration": 3,
        "start_time": "2023-04-23T14:58:30.706Z"
      },
      {
        "duration": 18,
        "start_time": "2023-04-23T14:58:36.399Z"
      },
      {
        "duration": 9,
        "start_time": "2023-04-23T14:58:37.427Z"
      },
      {
        "duration": 4,
        "start_time": "2023-04-23T14:58:48.106Z"
      },
      {
        "duration": 1837,
        "start_time": "2023-04-23T15:02:45.246Z"
      },
      {
        "duration": 4,
        "start_time": "2023-04-23T15:02:47.085Z"
      },
      {
        "duration": 142,
        "start_time": "2023-04-23T15:02:47.090Z"
      },
      {
        "duration": 119,
        "start_time": "2023-04-23T15:02:47.234Z"
      },
      {
        "duration": 124,
        "start_time": "2023-04-23T15:02:47.356Z"
      },
      {
        "duration": 15,
        "start_time": "2023-04-23T15:02:47.481Z"
      },
      {
        "duration": 14,
        "start_time": "2023-04-23T15:02:47.497Z"
      },
      {
        "duration": 14,
        "start_time": "2023-04-23T15:02:47.512Z"
      },
      {
        "duration": 67,
        "start_time": "2023-04-23T15:02:47.528Z"
      },
      {
        "duration": 53,
        "start_time": "2023-04-23T15:02:47.598Z"
      },
      {
        "duration": 41,
        "start_time": "2023-04-23T15:02:47.656Z"
      },
      {
        "duration": 14,
        "start_time": "2023-04-23T15:02:47.698Z"
      },
      {
        "duration": 18,
        "start_time": "2023-04-23T15:02:47.713Z"
      },
      {
        "duration": 26,
        "start_time": "2023-04-23T15:02:47.732Z"
      },
      {
        "duration": 27,
        "start_time": "2023-04-23T15:02:47.759Z"
      },
      {
        "duration": 15,
        "start_time": "2023-04-23T15:02:47.787Z"
      },
      {
        "duration": 262,
        "start_time": "2023-04-23T15:02:47.803Z"
      },
      {
        "duration": 7,
        "start_time": "2023-04-23T15:02:48.066Z"
      },
      {
        "duration": 16,
        "start_time": "2023-04-23T15:02:48.074Z"
      },
      {
        "duration": 7,
        "start_time": "2023-04-23T15:02:48.091Z"
      },
      {
        "duration": 14,
        "start_time": "2023-04-23T15:02:48.100Z"
      },
      {
        "duration": 13,
        "start_time": "2023-04-23T15:02:48.115Z"
      },
      {
        "duration": 35,
        "start_time": "2023-04-23T15:02:48.129Z"
      },
      {
        "duration": 289,
        "start_time": "2023-04-23T15:02:48.166Z"
      },
      {
        "duration": 260,
        "start_time": "2023-04-23T15:02:48.457Z"
      },
      {
        "duration": 272,
        "start_time": "2023-04-23T15:02:48.719Z"
      },
      {
        "duration": 4,
        "start_time": "2023-04-23T15:02:48.993Z"
      },
      {
        "duration": 365,
        "start_time": "2023-04-23T15:02:49.001Z"
      },
      {
        "duration": 92,
        "start_time": "2023-04-23T15:02:49.368Z"
      },
      {
        "duration": 223,
        "start_time": "2023-04-23T15:02:49.462Z"
      },
      {
        "duration": 146,
        "start_time": "2023-04-23T15:02:49.686Z"
      },
      {
        "duration": 134,
        "start_time": "2023-04-23T15:02:49.834Z"
      },
      {
        "duration": 3,
        "start_time": "2023-04-23T15:02:49.970Z"
      },
      {
        "duration": 26,
        "start_time": "2023-04-23T15:02:49.974Z"
      },
      {
        "duration": 11,
        "start_time": "2023-04-23T15:02:50.001Z"
      },
      {
        "duration": 15,
        "start_time": "2023-04-23T15:02:50.014Z"
      },
      {
        "duration": 16,
        "start_time": "2023-04-23T15:02:50.031Z"
      },
      {
        "duration": 15,
        "start_time": "2023-04-23T15:02:50.048Z"
      },
      {
        "duration": 1427,
        "start_time": "2023-04-23T15:02:50.065Z"
      },
      {
        "duration": 1531,
        "start_time": "2023-04-23T15:02:51.494Z"
      },
      {
        "duration": 1537,
        "start_time": "2023-04-23T15:02:53.027Z"
      },
      {
        "duration": 4,
        "start_time": "2023-04-23T15:03:34.313Z"
      },
      {
        "duration": 18,
        "start_time": "2023-04-23T15:04:32.841Z"
      },
      {
        "duration": 22,
        "start_time": "2023-04-23T15:04:34.345Z"
      },
      {
        "duration": 3,
        "start_time": "2023-04-23T15:04:36.334Z"
      },
      {
        "duration": 21,
        "start_time": "2023-04-23T15:04:39.854Z"
      },
      {
        "duration": 23,
        "start_time": "2023-04-23T15:04:41.914Z"
      },
      {
        "duration": 3,
        "start_time": "2023-04-23T15:04:43.229Z"
      },
      {
        "duration": 228,
        "start_time": "2023-04-23T15:06:20.436Z"
      },
      {
        "duration": 254,
        "start_time": "2023-04-23T15:06:43.915Z"
      },
      {
        "duration": 231,
        "start_time": "2023-04-23T15:06:46.752Z"
      },
      {
        "duration": 374,
        "start_time": "2023-04-23T15:06:52.315Z"
      },
      {
        "duration": 247,
        "start_time": "2023-04-23T15:07:13.920Z"
      },
      {
        "duration": 231,
        "start_time": "2023-04-23T15:07:16.712Z"
      },
      {
        "duration": 47,
        "start_time": "2023-04-23T15:18:31.986Z"
      },
      {
        "duration": 53,
        "start_time": "2023-04-23T15:19:09.098Z"
      },
      {
        "duration": 47,
        "start_time": "2023-04-23T15:20:40.857Z"
      },
      {
        "duration": 45,
        "start_time": "2023-04-23T15:20:48.631Z"
      },
      {
        "duration": 84,
        "start_time": "2023-04-23T18:09:00.700Z"
      },
      {
        "duration": 78,
        "start_time": "2023-04-23T18:09:16.214Z"
      },
      {
        "duration": 69,
        "start_time": "2023-04-23T18:09:23.600Z"
      },
      {
        "duration": 66,
        "start_time": "2023-04-23T18:09:29.927Z"
      },
      {
        "duration": 4,
        "start_time": "2023-04-23T18:09:33.134Z"
      },
      {
        "duration": 47,
        "start_time": "2023-04-23T18:09:51.267Z"
      },
      {
        "duration": 2939,
        "start_time": "2023-04-23T18:09:55.117Z"
      },
      {
        "duration": 1625,
        "start_time": "2023-04-23T18:09:58.058Z"
      },
      {
        "duration": 391,
        "start_time": "2023-04-23T18:09:59.685Z"
      },
      {
        "duration": 194,
        "start_time": "2023-04-23T18:10:00.078Z"
      },
      {
        "duration": 197,
        "start_time": "2023-04-23T18:10:00.273Z"
      },
      {
        "duration": 15,
        "start_time": "2023-04-23T18:10:00.471Z"
      },
      {
        "duration": 36,
        "start_time": "2023-04-23T18:10:00.488Z"
      },
      {
        "duration": 35,
        "start_time": "2023-04-23T18:10:00.525Z"
      },
      {
        "duration": 63,
        "start_time": "2023-04-23T18:10:00.562Z"
      },
      {
        "duration": 52,
        "start_time": "2023-04-23T18:10:00.628Z"
      },
      {
        "duration": 52,
        "start_time": "2023-04-23T18:10:00.682Z"
      },
      {
        "duration": 25,
        "start_time": "2023-04-23T18:10:00.736Z"
      },
      {
        "duration": 50,
        "start_time": "2023-04-23T18:10:00.762Z"
      },
      {
        "duration": 64,
        "start_time": "2023-04-23T18:10:00.814Z"
      },
      {
        "duration": 39,
        "start_time": "2023-04-23T18:10:00.880Z"
      },
      {
        "duration": 34,
        "start_time": "2023-04-23T18:10:00.921Z"
      },
      {
        "duration": 36,
        "start_time": "2023-04-23T18:10:00.957Z"
      },
      {
        "duration": 28,
        "start_time": "2023-04-23T18:10:00.995Z"
      },
      {
        "duration": 53,
        "start_time": "2023-04-23T18:10:01.024Z"
      },
      {
        "duration": 50,
        "start_time": "2023-04-23T18:10:01.078Z"
      },
      {
        "duration": 26,
        "start_time": "2023-04-23T18:10:01.129Z"
      },
      {
        "duration": 135,
        "start_time": "2023-04-23T18:10:01.157Z"
      },
      {
        "duration": 0,
        "start_time": "2023-04-23T18:10:01.294Z"
      },
      {
        "duration": 0,
        "start_time": "2023-04-23T18:10:01.295Z"
      },
      {
        "duration": 0,
        "start_time": "2023-04-23T18:10:01.297Z"
      },
      {
        "duration": 0,
        "start_time": "2023-04-23T18:10:01.298Z"
      },
      {
        "duration": 0,
        "start_time": "2023-04-23T18:10:01.299Z"
      },
      {
        "duration": 0,
        "start_time": "2023-04-23T18:10:01.300Z"
      },
      {
        "duration": 0,
        "start_time": "2023-04-23T18:10:01.301Z"
      },
      {
        "duration": 0,
        "start_time": "2023-04-23T18:10:01.302Z"
      },
      {
        "duration": 0,
        "start_time": "2023-04-23T18:10:01.303Z"
      },
      {
        "duration": 0,
        "start_time": "2023-04-23T18:10:01.304Z"
      },
      {
        "duration": 0,
        "start_time": "2023-04-23T18:10:01.304Z"
      },
      {
        "duration": 0,
        "start_time": "2023-04-23T18:10:01.305Z"
      },
      {
        "duration": 0,
        "start_time": "2023-04-23T18:10:01.306Z"
      },
      {
        "duration": 0,
        "start_time": "2023-04-23T18:10:01.307Z"
      },
      {
        "duration": 0,
        "start_time": "2023-04-23T18:10:01.309Z"
      },
      {
        "duration": 0,
        "start_time": "2023-04-23T18:10:01.310Z"
      },
      {
        "duration": 0,
        "start_time": "2023-04-23T18:10:01.311Z"
      },
      {
        "duration": 0,
        "start_time": "2023-04-23T18:10:01.312Z"
      },
      {
        "duration": 0,
        "start_time": "2023-04-23T18:10:01.313Z"
      },
      {
        "duration": 0,
        "start_time": "2023-04-23T18:10:01.349Z"
      },
      {
        "duration": 0,
        "start_time": "2023-04-23T18:10:01.350Z"
      },
      {
        "duration": 0,
        "start_time": "2023-04-23T18:10:01.352Z"
      },
      {
        "duration": 0,
        "start_time": "2023-04-23T18:10:01.353Z"
      },
      {
        "duration": 0,
        "start_time": "2023-04-23T18:10:01.354Z"
      },
      {
        "duration": 0,
        "start_time": "2023-04-23T18:10:01.355Z"
      },
      {
        "duration": 0,
        "start_time": "2023-04-23T18:10:01.356Z"
      },
      {
        "duration": 0,
        "start_time": "2023-04-23T18:10:01.357Z"
      },
      {
        "duration": 0,
        "start_time": "2023-04-23T18:10:01.358Z"
      },
      {
        "duration": 2851,
        "start_time": "2023-04-24T17:02:54.781Z"
      },
      {
        "duration": 1519,
        "start_time": "2023-04-24T17:02:57.634Z"
      },
      {
        "duration": 535,
        "start_time": "2023-04-24T17:02:59.155Z"
      },
      {
        "duration": 908,
        "start_time": "2023-04-24T17:02:59.692Z"
      },
      {
        "duration": 525,
        "start_time": "2023-04-24T17:03:00.601Z"
      },
      {
        "duration": 13,
        "start_time": "2023-04-24T17:03:01.128Z"
      },
      {
        "duration": 41,
        "start_time": "2023-04-24T17:03:01.143Z"
      },
      {
        "duration": 70,
        "start_time": "2023-04-24T17:03:01.185Z"
      },
      {
        "duration": 65,
        "start_time": "2023-04-24T17:03:01.257Z"
      },
      {
        "duration": 41,
        "start_time": "2023-04-24T17:03:01.324Z"
      },
      {
        "duration": 61,
        "start_time": "2023-04-24T17:03:01.367Z"
      },
      {
        "duration": 22,
        "start_time": "2023-04-24T17:03:01.430Z"
      },
      {
        "duration": 72,
        "start_time": "2023-04-24T17:03:01.454Z"
      },
      {
        "duration": 65,
        "start_time": "2023-04-24T17:03:01.528Z"
      },
      {
        "duration": 45,
        "start_time": "2023-04-24T17:03:01.595Z"
      },
      {
        "duration": 54,
        "start_time": "2023-04-24T17:03:01.642Z"
      },
      {
        "duration": 61,
        "start_time": "2023-04-24T17:03:01.698Z"
      },
      {
        "duration": 24,
        "start_time": "2023-04-24T17:03:01.760Z"
      },
      {
        "duration": 57,
        "start_time": "2023-04-24T17:03:01.785Z"
      },
      {
        "duration": 81,
        "start_time": "2023-04-24T17:03:01.843Z"
      },
      {
        "duration": 37,
        "start_time": "2023-04-24T17:03:01.926Z"
      },
      {
        "duration": 179,
        "start_time": "2023-04-24T17:03:01.965Z"
      },
      {
        "duration": 0,
        "start_time": "2023-04-24T17:03:02.146Z"
      },
      {
        "duration": 0,
        "start_time": "2023-04-24T17:03:02.147Z"
      },
      {
        "duration": 0,
        "start_time": "2023-04-24T17:03:02.148Z"
      },
      {
        "duration": 0,
        "start_time": "2023-04-24T17:03:02.149Z"
      },
      {
        "duration": 0,
        "start_time": "2023-04-24T17:03:02.150Z"
      },
      {
        "duration": 0,
        "start_time": "2023-04-24T17:03:02.151Z"
      },
      {
        "duration": 0,
        "start_time": "2023-04-24T17:03:02.152Z"
      },
      {
        "duration": 0,
        "start_time": "2023-04-24T17:03:02.153Z"
      },
      {
        "duration": 0,
        "start_time": "2023-04-24T17:03:02.154Z"
      },
      {
        "duration": 0,
        "start_time": "2023-04-24T17:03:02.155Z"
      },
      {
        "duration": 0,
        "start_time": "2023-04-24T17:03:02.156Z"
      },
      {
        "duration": 0,
        "start_time": "2023-04-24T17:03:02.157Z"
      },
      {
        "duration": 0,
        "start_time": "2023-04-24T17:03:02.158Z"
      },
      {
        "duration": 0,
        "start_time": "2023-04-24T17:03:02.159Z"
      },
      {
        "duration": 0,
        "start_time": "2023-04-24T17:03:02.160Z"
      },
      {
        "duration": 0,
        "start_time": "2023-04-24T17:03:02.160Z"
      },
      {
        "duration": 0,
        "start_time": "2023-04-24T17:03:02.162Z"
      },
      {
        "duration": 0,
        "start_time": "2023-04-24T17:03:02.163Z"
      },
      {
        "duration": 0,
        "start_time": "2023-04-24T17:03:02.164Z"
      },
      {
        "duration": 0,
        "start_time": "2023-04-24T17:03:02.194Z"
      },
      {
        "duration": 0,
        "start_time": "2023-04-24T17:03:02.195Z"
      },
      {
        "duration": 0,
        "start_time": "2023-04-24T17:03:02.197Z"
      },
      {
        "duration": 0,
        "start_time": "2023-04-24T17:03:02.198Z"
      },
      {
        "duration": 0,
        "start_time": "2023-04-24T17:03:02.199Z"
      },
      {
        "duration": 0,
        "start_time": "2023-04-24T17:03:02.200Z"
      },
      {
        "duration": 0,
        "start_time": "2023-04-24T17:03:02.201Z"
      },
      {
        "duration": 0,
        "start_time": "2023-04-24T17:03:02.202Z"
      },
      {
        "duration": 0,
        "start_time": "2023-04-24T17:03:02.203Z"
      },
      {
        "duration": 1088,
        "start_time": "2023-04-24T17:06:20.084Z"
      },
      {
        "duration": 8,
        "start_time": "2023-04-24T17:16:58.813Z"
      },
      {
        "duration": 13,
        "start_time": "2023-04-24T17:17:02.753Z"
      },
      {
        "duration": 1755,
        "start_time": "2023-04-24T17:17:07.028Z"
      },
      {
        "duration": 0,
        "start_time": "2023-04-24T17:17:08.785Z"
      },
      {
        "duration": 83,
        "start_time": "2023-04-24T17:24:15.788Z"
      },
      {
        "duration": 68,
        "start_time": "2023-04-24T17:25:02.692Z"
      },
      {
        "duration": 54,
        "start_time": "2023-04-24T17:25:16.911Z"
      },
      {
        "duration": 1994,
        "start_time": "2023-04-24T17:48:36.040Z"
      },
      {
        "duration": 4,
        "start_time": "2023-04-24T17:48:38.037Z"
      },
      {
        "duration": 139,
        "start_time": "2023-04-24T17:48:38.042Z"
      },
      {
        "duration": 115,
        "start_time": "2023-04-24T17:48:38.183Z"
      },
      {
        "duration": 116,
        "start_time": "2023-04-24T17:48:38.300Z"
      },
      {
        "duration": 13,
        "start_time": "2023-04-24T17:48:38.417Z"
      },
      {
        "duration": 11,
        "start_time": "2023-04-24T17:48:38.431Z"
      },
      {
        "duration": 12,
        "start_time": "2023-04-24T17:48:38.443Z"
      },
      {
        "duration": 64,
        "start_time": "2023-04-24T17:48:38.456Z"
      },
      {
        "duration": 35,
        "start_time": "2023-04-24T17:48:38.523Z"
      },
      {
        "duration": 59,
        "start_time": "2023-04-24T17:48:38.560Z"
      },
      {
        "duration": 13,
        "start_time": "2023-04-24T17:48:38.620Z"
      },
      {
        "duration": 22,
        "start_time": "2023-04-24T17:48:38.635Z"
      },
      {
        "duration": 51,
        "start_time": "2023-04-24T17:48:38.658Z"
      },
      {
        "duration": 3,
        "start_time": "2023-04-24T17:48:38.711Z"
      },
      {
        "duration": 21,
        "start_time": "2023-04-24T17:48:38.715Z"
      },
      {
        "duration": 24,
        "start_time": "2023-04-24T17:48:38.737Z"
      },
      {
        "duration": 3,
        "start_time": "2023-04-24T17:48:38.763Z"
      },
      {
        "duration": 38,
        "start_time": "2023-04-24T17:48:38.767Z"
      },
      {
        "duration": 32,
        "start_time": "2023-04-24T17:48:38.807Z"
      },
      {
        "duration": 24,
        "start_time": "2023-04-24T17:48:38.840Z"
      },
      {
        "duration": 67,
        "start_time": "2023-04-24T17:48:38.866Z"
      },
      {
        "duration": 44,
        "start_time": "2023-04-24T17:48:38.935Z"
      },
      {
        "duration": 59,
        "start_time": "2023-04-24T17:48:38.981Z"
      },
      {
        "duration": 278,
        "start_time": "2023-04-24T17:48:39.041Z"
      },
      {
        "duration": 246,
        "start_time": "2023-04-24T17:48:39.321Z"
      },
      {
        "duration": 217,
        "start_time": "2023-04-24T17:48:39.568Z"
      },
      {
        "duration": 258,
        "start_time": "2023-04-24T17:48:39.793Z"
      },
      {
        "duration": 7,
        "start_time": "2023-04-24T17:48:40.052Z"
      },
      {
        "duration": 5,
        "start_time": "2023-04-24T17:48:40.060Z"
      },
      {
        "duration": 5,
        "start_time": "2023-04-24T17:48:40.066Z"
      },
      {
        "duration": 13,
        "start_time": "2023-04-24T17:48:40.073Z"
      },
      {
        "duration": 17,
        "start_time": "2023-04-24T17:48:40.094Z"
      },
      {
        "duration": 13,
        "start_time": "2023-04-24T17:48:40.112Z"
      },
      {
        "duration": 369,
        "start_time": "2023-04-24T17:48:40.126Z"
      },
      {
        "duration": 245,
        "start_time": "2023-04-24T17:48:40.497Z"
      },
      {
        "duration": 351,
        "start_time": "2023-04-24T17:48:40.743Z"
      },
      {
        "duration": 6,
        "start_time": "2023-04-24T17:48:41.097Z"
      },
      {
        "duration": 393,
        "start_time": "2023-04-24T17:48:41.104Z"
      },
      {
        "duration": 97,
        "start_time": "2023-04-24T17:48:41.499Z"
      },
      {
        "duration": 182,
        "start_time": "2023-04-24T17:48:41.597Z"
      },
      {
        "duration": 143,
        "start_time": "2023-04-24T17:48:41.781Z"
      },
      {
        "duration": 132,
        "start_time": "2023-04-24T17:48:41.925Z"
      },
      {
        "duration": 3,
        "start_time": "2023-04-24T17:48:42.058Z"
      },
      {
        "duration": 5,
        "start_time": "2023-04-24T17:48:42.062Z"
      },
      {
        "duration": 4,
        "start_time": "2023-04-24T17:48:42.069Z"
      },
      {
        "duration": 21,
        "start_time": "2023-04-24T17:48:42.075Z"
      },
      {
        "duration": 3,
        "start_time": "2023-04-24T17:48:42.098Z"
      },
      {
        "duration": 7,
        "start_time": "2023-04-24T17:48:42.103Z"
      },
      {
        "duration": 1389,
        "start_time": "2023-04-24T17:48:42.111Z"
      },
      {
        "duration": 1408,
        "start_time": "2023-04-24T17:48:43.502Z"
      },
      {
        "duration": 1349,
        "start_time": "2023-04-24T17:48:44.911Z"
      },
      {
        "duration": 3375,
        "start_time": "2023-04-24T18:12:16.174Z"
      },
      {
        "duration": 2571,
        "start_time": "2023-04-24T18:12:19.551Z"
      },
      {
        "duration": 348,
        "start_time": "2023-04-24T18:12:22.123Z"
      },
      {
        "duration": 216,
        "start_time": "2023-04-24T18:12:22.473Z"
      },
      {
        "duration": 218,
        "start_time": "2023-04-24T18:12:22.691Z"
      },
      {
        "duration": 14,
        "start_time": "2023-04-24T18:12:22.911Z"
      },
      {
        "duration": 24,
        "start_time": "2023-04-24T18:12:22.926Z"
      },
      {
        "duration": 38,
        "start_time": "2023-04-24T18:12:22.952Z"
      },
      {
        "duration": 45,
        "start_time": "2023-04-24T18:12:22.992Z"
      },
      {
        "duration": 43,
        "start_time": "2023-04-24T18:12:23.042Z"
      },
      {
        "duration": 60,
        "start_time": "2023-04-24T18:12:23.086Z"
      },
      {
        "duration": 17,
        "start_time": "2023-04-24T18:12:23.148Z"
      },
      {
        "duration": 49,
        "start_time": "2023-04-24T18:12:23.167Z"
      },
      {
        "duration": 40,
        "start_time": "2023-04-24T18:12:23.218Z"
      },
      {
        "duration": 3,
        "start_time": "2023-04-24T18:12:23.260Z"
      },
      {
        "duration": 30,
        "start_time": "2023-04-24T18:12:23.265Z"
      },
      {
        "duration": 32,
        "start_time": "2023-04-24T18:12:23.296Z"
      },
      {
        "duration": 6,
        "start_time": "2023-04-24T18:12:23.330Z"
      },
      {
        "duration": 32,
        "start_time": "2023-04-24T18:12:23.341Z"
      },
      {
        "duration": 33,
        "start_time": "2023-04-24T18:12:23.375Z"
      },
      {
        "duration": 4,
        "start_time": "2023-04-24T18:12:23.410Z"
      },
      {
        "duration": 79,
        "start_time": "2023-04-24T18:12:23.417Z"
      },
      {
        "duration": 93,
        "start_time": "2023-04-24T18:12:23.498Z"
      },
      {
        "duration": 73,
        "start_time": "2023-04-24T18:12:23.592Z"
      },
      {
        "duration": 284,
        "start_time": "2023-04-24T18:12:23.667Z"
      },
      {
        "duration": 271,
        "start_time": "2023-04-24T18:12:23.953Z"
      },
      {
        "duration": 261,
        "start_time": "2023-04-24T18:12:24.225Z"
      },
      {
        "duration": 264,
        "start_time": "2023-04-24T18:12:24.489Z"
      },
      {
        "duration": 7,
        "start_time": "2023-04-24T18:12:24.754Z"
      },
      {
        "duration": 9,
        "start_time": "2023-04-24T18:12:24.762Z"
      },
      {
        "duration": 10,
        "start_time": "2023-04-24T18:12:24.772Z"
      },
      {
        "duration": 20,
        "start_time": "2023-04-24T18:12:24.784Z"
      },
      {
        "duration": 29,
        "start_time": "2023-04-24T18:12:24.806Z"
      },
      {
        "duration": 18,
        "start_time": "2023-04-24T18:12:24.836Z"
      },
      {
        "duration": 381,
        "start_time": "2023-04-24T18:12:24.856Z"
      },
      {
        "duration": 245,
        "start_time": "2023-04-24T18:12:25.251Z"
      },
      {
        "duration": 295,
        "start_time": "2023-04-24T18:12:25.497Z"
      },
      {
        "duration": 6,
        "start_time": "2023-04-24T18:12:25.794Z"
      },
      {
        "duration": 348,
        "start_time": "2023-04-24T18:12:25.801Z"
      },
      {
        "duration": 92,
        "start_time": "2023-04-24T18:12:26.151Z"
      },
      {
        "duration": 251,
        "start_time": "2023-04-24T18:12:26.244Z"
      },
      {
        "duration": 166,
        "start_time": "2023-04-24T18:12:26.496Z"
      },
      {
        "duration": 139,
        "start_time": "2023-04-24T18:12:26.664Z"
      },
      {
        "duration": 3,
        "start_time": "2023-04-24T18:12:26.806Z"
      },
      {
        "duration": 9,
        "start_time": "2023-04-24T18:12:26.811Z"
      },
      {
        "duration": 22,
        "start_time": "2023-04-24T18:12:26.838Z"
      },
      {
        "duration": 26,
        "start_time": "2023-04-24T18:12:26.863Z"
      },
      {
        "duration": 15,
        "start_time": "2023-04-24T18:12:26.891Z"
      },
      {
        "duration": 10,
        "start_time": "2023-04-24T18:12:26.909Z"
      },
      {
        "duration": 1703,
        "start_time": "2023-04-24T18:12:26.922Z"
      },
      {
        "duration": 1654,
        "start_time": "2023-04-24T18:12:28.627Z"
      },
      {
        "duration": 1734,
        "start_time": "2023-04-24T18:12:30.282Z"
      }
    ],
    "kernelspec": {
      "display_name": "Python 3 (ipykernel)",
      "language": "python",
      "name": "python3"
    },
    "language_info": {
      "codemirror_mode": {
        "name": "ipython",
        "version": 3
      },
      "file_extension": ".py",
      "mimetype": "text/x-python",
      "name": "python",
      "nbconvert_exporter": "python",
      "pygments_lexer": "ipython3",
      "version": "3.9.5"
    },
    "toc": {
      "base_numbering": 1,
      "nav_menu": {},
      "number_sections": true,
      "sideBar": true,
      "skip_h1_title": true,
      "title_cell": "Table of Contents",
      "title_sidebar": "Contents",
      "toc_cell": false,
      "toc_position": {},
      "toc_section_display": true,
      "toc_window_display": true
    },
    "colab": {
      "provenance": []
    }
  },
  "nbformat": 4,
  "nbformat_minor": 0
}