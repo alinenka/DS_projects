{
  "cells": [
    {
      "cell_type": "markdown",
      "metadata": {
        "id": "0IBoxM6BNigX"
      },
      "source": [
        "# Рекомендация тарифов"
      ]
    },
    {
      "cell_type": "markdown",
      "metadata": {
        "id": "l_TuzfVvNigX"
      },
      "source": [
        "В вашем распоряжении данные о поведении клиентов, которые уже перешли на эти тарифы (из проекта курса «Статистический анализ данных»). Нужно построить модель для задачи классификации, которая выберет подходящий тариф. Предобработка данных не понадобится — вы её уже сделали.\n",
        "\n",
        "Постройте модель с максимально большим значением *accuracy*. Чтобы сдать проект успешно, нужно довести долю правильных ответов по крайней мере до 0.75. Проверьте *accuracy* на тестовой выборке самостоятельно."
      ]
    },
    {
      "cell_type": "markdown",
      "metadata": {
        "id": "Tr2huAgINigX"
      },
      "source": [
        "Для выполнения проекта я выполню следующие шаги:\n",
        "1. Открою файл и изучу данные\n",
        "2. Разобью данные на обучающую, валидационную и тестовую выборки\n",
        "3. Разделю каждую выборку на параметры и целевой показатель (тариф)\n",
        "4. Поочередно рассмотрю модели дерева решений, случайного леса и логистической регрессии:\n",
        "- задам диапазон изменения гиперпараметров модели\n",
        "- обучу соответствуюшую модель на тестовых данных с заданными гиперпараметрами\n",
        "- предскажу значение целевого параметра на валидационной выборке\n",
        "- оценю значение accuracy полученной модели\n",
        "- по значению accuracy выберу наилучшие гиперпараметры соответствующей модели\n",
        "5. Сравнив значения accuracy всех трех моделей с наилучшими значениями гиперпараметров выберу одну из них для дальнейшего использования.\n",
        "6. Проведу исследование на тестовой выборке:\n",
        "- при помощи выбранной модели предскажу значения целевого параметра на тестовой выборке\n",
        "- оценю знаечние accuracy для тестовой выборки\n",
        "- при необходимости,в ернусь на предыдущий этап\n",
        "7. Проверю на адекватность модели,с раввнив значение их accuracy с результатми случайных предсказаний."
      ]
    },
    {
      "cell_type": "markdown",
      "metadata": {
        "id": "lPf6GTSVNigY"
      },
      "source": [
        "## Откройте и изучите файл"
      ]
    },
    {
      "cell_type": "code",
      "execution_count": null,
      "metadata": {
        "id": "_JP4e-c0NigY",
        "outputId": "acf21143-d15f-4573-c251-12c0c578460e"
      },
      "outputs": [
        {
          "data": {
            "text/html": [
              "<div>\n",
              "<style scoped>\n",
              "    .dataframe tbody tr th:only-of-type {\n",
              "        vertical-align: middle;\n",
              "    }\n",
              "\n",
              "    .dataframe tbody tr th {\n",
              "        vertical-align: top;\n",
              "    }\n",
              "\n",
              "    .dataframe thead th {\n",
              "        text-align: right;\n",
              "    }\n",
              "</style>\n",
              "<table border=\"1\" class=\"dataframe\">\n",
              "  <thead>\n",
              "    <tr style=\"text-align: right;\">\n",
              "      <th></th>\n",
              "      <th>calls</th>\n",
              "      <th>minutes</th>\n",
              "      <th>messages</th>\n",
              "      <th>mb_used</th>\n",
              "      <th>is_ultra</th>\n",
              "    </tr>\n",
              "  </thead>\n",
              "  <tbody>\n",
              "    <tr>\n",
              "      <th>0</th>\n",
              "      <td>40.0</td>\n",
              "      <td>311.90</td>\n",
              "      <td>83.0</td>\n",
              "      <td>19915.42</td>\n",
              "      <td>0</td>\n",
              "    </tr>\n",
              "    <tr>\n",
              "      <th>1</th>\n",
              "      <td>85.0</td>\n",
              "      <td>516.75</td>\n",
              "      <td>56.0</td>\n",
              "      <td>22696.96</td>\n",
              "      <td>0</td>\n",
              "    </tr>\n",
              "    <tr>\n",
              "      <th>2</th>\n",
              "      <td>77.0</td>\n",
              "      <td>467.66</td>\n",
              "      <td>86.0</td>\n",
              "      <td>21060.45</td>\n",
              "      <td>0</td>\n",
              "    </tr>\n",
              "    <tr>\n",
              "      <th>3</th>\n",
              "      <td>106.0</td>\n",
              "      <td>745.53</td>\n",
              "      <td>81.0</td>\n",
              "      <td>8437.39</td>\n",
              "      <td>1</td>\n",
              "    </tr>\n",
              "    <tr>\n",
              "      <th>4</th>\n",
              "      <td>66.0</td>\n",
              "      <td>418.74</td>\n",
              "      <td>1.0</td>\n",
              "      <td>14502.75</td>\n",
              "      <td>0</td>\n",
              "    </tr>\n",
              "  </tbody>\n",
              "</table>\n",
              "</div>"
            ],
            "text/plain": [
              "   calls  minutes  messages   mb_used  is_ultra\n",
              "0   40.0   311.90      83.0  19915.42         0\n",
              "1   85.0   516.75      56.0  22696.96         0\n",
              "2   77.0   467.66      86.0  21060.45         0\n",
              "3  106.0   745.53      81.0   8437.39         1\n",
              "4   66.0   418.74       1.0  14502.75         0"
            ]
          },
          "execution_count": 1,
          "metadata": {},
          "output_type": "execute_result"
        }
      ],
      "source": [
        "import pandas as pd\n",
        "from sklearn.ensemble import RandomForestClassifier\n",
        "from sklearn.linear_model import LogisticRegression\n",
        "from sklearn.tree import DecisionTreeClassifier\n",
        "from sklearn.metrics import accuracy_score\n",
        "from sklearn.model_selection import train_test_split\n",
        "from sklearn.metrics import mean_squared_error\n",
        "df = pd.read_csv('/datasets/users_behavior.csv')\n",
        "df.head()"
      ]
    },
    {
      "cell_type": "markdown",
      "metadata": {
        "id": "GHxoGY1DNigZ"
      },
      "source": [
        "Посмотрим на данные в датасете"
      ]
    },
    {
      "cell_type": "code",
      "execution_count": null,
      "metadata": {
        "id": "-XDTz2nDNiga",
        "outputId": "50f0e7e6-0906-473f-beb3-579beed82b98"
      },
      "outputs": [
        {
          "name": "stdout",
          "output_type": "stream",
          "text": [
            "<class 'pandas.core.frame.DataFrame'>\n",
            "RangeIndex: 3214 entries, 0 to 3213\n",
            "Data columns (total 5 columns):\n",
            " #   Column    Non-Null Count  Dtype  \n",
            "---  ------    --------------  -----  \n",
            " 0   calls     3214 non-null   float64\n",
            " 1   minutes   3214 non-null   float64\n",
            " 2   messages  3214 non-null   float64\n",
            " 3   mb_used   3214 non-null   float64\n",
            " 4   is_ultra  3214 non-null   int64  \n",
            "dtypes: float64(4), int64(1)\n",
            "memory usage: 125.7 KB\n"
          ]
        }
      ],
      "source": [
        "df.info()"
      ]
    },
    {
      "cell_type": "markdown",
      "metadata": {
        "id": "c9YkJNymNiga"
      },
      "source": [
        "У нас в распоряжении 3214 строк, бзе пропусков,все готов к анализу."
      ]
    },
    {
      "cell_type": "markdown",
      "metadata": {
        "id": "1VY9xJBsNiga"
      },
      "source": [
        "Посмотрим на описание статистик по данным"
      ]
    },
    {
      "cell_type": "code",
      "execution_count": null,
      "metadata": {
        "id": "OtSRjd3UNiga",
        "outputId": "89b9e1aa-eefd-4c10-dc4f-6aae6441fb2f"
      },
      "outputs": [
        {
          "data": {
            "text/html": [
              "<div>\n",
              "<style scoped>\n",
              "    .dataframe tbody tr th:only-of-type {\n",
              "        vertical-align: middle;\n",
              "    }\n",
              "\n",
              "    .dataframe tbody tr th {\n",
              "        vertical-align: top;\n",
              "    }\n",
              "\n",
              "    .dataframe thead th {\n",
              "        text-align: right;\n",
              "    }\n",
              "</style>\n",
              "<table border=\"1\" class=\"dataframe\">\n",
              "  <thead>\n",
              "    <tr style=\"text-align: right;\">\n",
              "      <th></th>\n",
              "      <th>calls</th>\n",
              "      <th>minutes</th>\n",
              "      <th>messages</th>\n",
              "      <th>mb_used</th>\n",
              "      <th>is_ultra</th>\n",
              "    </tr>\n",
              "  </thead>\n",
              "  <tbody>\n",
              "    <tr>\n",
              "      <th>count</th>\n",
              "      <td>3214.000000</td>\n",
              "      <td>3214.000000</td>\n",
              "      <td>3214.000000</td>\n",
              "      <td>3214.000000</td>\n",
              "      <td>3214.000000</td>\n",
              "    </tr>\n",
              "    <tr>\n",
              "      <th>mean</th>\n",
              "      <td>63.038892</td>\n",
              "      <td>438.208787</td>\n",
              "      <td>38.281269</td>\n",
              "      <td>17207.673836</td>\n",
              "      <td>0.306472</td>\n",
              "    </tr>\n",
              "    <tr>\n",
              "      <th>std</th>\n",
              "      <td>33.236368</td>\n",
              "      <td>234.569872</td>\n",
              "      <td>36.148326</td>\n",
              "      <td>7570.968246</td>\n",
              "      <td>0.461100</td>\n",
              "    </tr>\n",
              "    <tr>\n",
              "      <th>min</th>\n",
              "      <td>0.000000</td>\n",
              "      <td>0.000000</td>\n",
              "      <td>0.000000</td>\n",
              "      <td>0.000000</td>\n",
              "      <td>0.000000</td>\n",
              "    </tr>\n",
              "    <tr>\n",
              "      <th>25%</th>\n",
              "      <td>40.000000</td>\n",
              "      <td>274.575000</td>\n",
              "      <td>9.000000</td>\n",
              "      <td>12491.902500</td>\n",
              "      <td>0.000000</td>\n",
              "    </tr>\n",
              "    <tr>\n",
              "      <th>50%</th>\n",
              "      <td>62.000000</td>\n",
              "      <td>430.600000</td>\n",
              "      <td>30.000000</td>\n",
              "      <td>16943.235000</td>\n",
              "      <td>0.000000</td>\n",
              "    </tr>\n",
              "    <tr>\n",
              "      <th>75%</th>\n",
              "      <td>82.000000</td>\n",
              "      <td>571.927500</td>\n",
              "      <td>57.000000</td>\n",
              "      <td>21424.700000</td>\n",
              "      <td>1.000000</td>\n",
              "    </tr>\n",
              "    <tr>\n",
              "      <th>max</th>\n",
              "      <td>244.000000</td>\n",
              "      <td>1632.060000</td>\n",
              "      <td>224.000000</td>\n",
              "      <td>49745.730000</td>\n",
              "      <td>1.000000</td>\n",
              "    </tr>\n",
              "  </tbody>\n",
              "</table>\n",
              "</div>"
            ],
            "text/plain": [
              "             calls      minutes     messages       mb_used     is_ultra\n",
              "count  3214.000000  3214.000000  3214.000000   3214.000000  3214.000000\n",
              "mean     63.038892   438.208787    38.281269  17207.673836     0.306472\n",
              "std      33.236368   234.569872    36.148326   7570.968246     0.461100\n",
              "min       0.000000     0.000000     0.000000      0.000000     0.000000\n",
              "25%      40.000000   274.575000     9.000000  12491.902500     0.000000\n",
              "50%      62.000000   430.600000    30.000000  16943.235000     0.000000\n",
              "75%      82.000000   571.927500    57.000000  21424.700000     1.000000\n",
              "max     244.000000  1632.060000   224.000000  49745.730000     1.000000"
            ]
          },
          "execution_count": 3,
          "metadata": {},
          "output_type": "execute_result"
        }
      ],
      "source": [
        "df.describe()"
      ]
    },
    {
      "cell_type": "markdown",
      "metadata": {
        "id": "LYjv-iHdNiga"
      },
      "source": [
        "Медианны значения количества звонок,минут,сообщений и Мб: 62, 430 30, 16943 и медианное значение тарифа - Смарт"
      ]
    },
    {
      "cell_type": "code",
      "execution_count": null,
      "metadata": {
        "id": "q1VZQ_-FNigb",
        "outputId": "47fbca79-d0c0-4f53-d9ea-87728ba2e45c"
      },
      "outputs": [
        {
          "data": {
            "text/plain": [
              "<AxesSubplot:>"
            ]
          },
          "execution_count": 4,
          "metadata": {},
          "output_type": "execute_result"
        },
        {
          "data": {
            "image/png": "[encoded data removed]",
            "text/plain": [
              "<Figure size 432x288 with 1 Axes>"
            ]
          },
          "metadata": {
            "needs_background": "light"
          },
          "output_type": "display_data"
        }
      ],
      "source": [
        "df['is_ultra'].hist()"
      ]
    },
    {
      "cell_type": "markdown",
      "metadata": {
        "id": "qoKf_nR4Nigb"
      },
      "source": [
        "Серьезный перевес в сторону Смарта в выборке"
      ]
    },
    {
      "cell_type": "markdown",
      "metadata": {
        "id": "ew5UG5UvNigb"
      },
      "source": [
        "**Вывод**\n",
        "\n",
        "Знакомство с данными осуществлено, можно перейти к обработке"
      ]
    },
    {
      "cell_type": "markdown",
      "metadata": {
        "id": "ZvfZN1lWNigb"
      },
      "source": [
        "## Разбейте данные на выборки"
      ]
    },
    {
      "cell_type": "markdown",
      "metadata": {
        "id": "P15vJYx_Nigb"
      },
      "source": [
        "Разобьем датасет на признаки и целевой показатель -тариф"
      ]
    },
    {
      "cell_type": "code",
      "execution_count": null,
      "metadata": {
        "id": "tB3qH1N7Nigb"
      },
      "outputs": [],
      "source": [
        "features = df.drop(['is_ultra'], axis=1)\n",
        "target = df['is_ultra']"
      ]
    },
    {
      "cell_type": "markdown",
      "metadata": {
        "id": "cSdP1oHhNigc"
      },
      "source": [
        "Разобьем датасет на обучающую выборку, тестовую и валидационную в пропоцрии 60% на 20% на 20%. Для начала выделим 60% обучающей выборки:"
      ]
    },
    {
      "cell_type": "code",
      "execution_count": null,
      "metadata": {
        "id": "RaW_fposNigc",
        "outputId": "7d80987f-2fd6-4215-e907-14b03a7d1de8"
      },
      "outputs": [
        {
          "name": "stdout",
          "output_type": "stream",
          "text": [
            "(1928, 4)\n",
            "(1286, 4)\n",
            "(1928,)\n",
            "(1286,)\n"
          ]
        }
      ],
      "source": [
        "features_train, features1, target_train, target1 = train_test_split(features, target, test_size=0.4,\n",
        "                                                                    random_state=12345, stratify = target)\n",
        "print(features_train.shape)\n",
        "print(features1.shape)\n",
        "print(target_train.shape)\n",
        "print(target1.shape)"
      ]
    },
    {
      "cell_type": "markdown",
      "metadata": {
        "id": "oUMBG5UNNigc"
      },
      "source": [
        "А теперь разделим оставшиеся 40% на валидационную и тестовые выборки, пополам, по 20% от исходной:"
      ]
    },
    {
      "cell_type": "code",
      "execution_count": null,
      "metadata": {
        "id": "w54Xk6TLNigc",
        "outputId": "6143e826-a8cd-4824-9617-27b711233df0"
      },
      "outputs": [
        {
          "name": "stdout",
          "output_type": "stream",
          "text": [
            "(643, 4)\n",
            "(643, 4)\n",
            "(643,)\n",
            "(643,)\n"
          ]
        }
      ],
      "source": [
        "features_valid, features_test, target_valid, target_test = train_test_split(features1, target1, test_size=0.5,\n",
        "                                                                            random_state=12345, stratify = target1)\n",
        "print(features_valid.shape)\n",
        "print(features_test.shape)\n",
        "print(target_valid.shape)\n",
        "print(target_test.shape)"
      ]
    },
    {
      "cell_type": "markdown",
      "metadata": {
        "id": "lQkdPrGJNigc"
      },
      "source": [
        "**Вывод**\n",
        "Выборки разделены корректно в требуемом соотношении\n"
      ]
    },
    {
      "cell_type": "markdown",
      "metadata": {
        "id": "2haxZdiNNigc"
      },
      "source": [
        "## Исследуйте модели"
      ]
    },
    {
      "cell_type": "markdown",
      "metadata": {
        "id": "1zMuvI8aNigd"
      },
      "source": [
        "Начнем с исследования модели -дерева решений. В качестве изменяемого гиперпараметра - глубина дерева. просмотрим модели с глубиной дерева от 1 до 10, оценивая для каждого из вараинтов знаечние accuracy на валидационной выборке для выбора наилучшего значения данного параметра:"
      ]
    },
    {
      "cell_type": "code",
      "execution_count": null,
      "metadata": {
        "id": "e3TJtu5GNigd",
        "outputId": "e5382073-6ea7-43d4-92e9-92737b446b12"
      },
      "outputs": [
        {
          "name": "stdout",
          "output_type": "stream",
          "text": [
            "Accuracy лучшей модели:0.8040435458786936. максимальная глубина:8\n",
            "Кол-во примеров для разбиения:8.Кол-во примеров для решения:3\n"
          ]
        }
      ],
      "source": [
        "best_tree_model = None\n",
        "best_tree_result = 0\n",
        "best_samples_leaf = 2\n",
        "best_samples_split = 2\n",
        "best_tree_depth = 1\n",
        "\n",
        "for depth in range(1, 10):\n",
        "    for samples_split in range (2, 10):\n",
        "        for samples_leaf in range (2, 10):\n",
        "            model = DecisionTreeClassifier(random_state=12345, max_depth=depth,min_samples_split=samples_split,\n",
        "                                           min_samples_leaf=samples_leaf)\n",
        "            model.fit(features_train, target_train)\n",
        "            predictions = model.predict(features_valid)\n",
        "            result = accuracy_score(target_valid, predictions)\n",
        "            if result > best_tree_result:\n",
        "                best_tree_depth = depth\n",
        "                best_tree_model = model\n",
        "                best_tree_result = result\n",
        "                best_samples_leaf = samples_leaf\n",
        "                best_samples_split = samples_split\n",
        "\n",
        "print(f\"Accuracy лучшей модели:{best_tree_result}. максимальная глубина:{best_tree_depth}\")\n",
        "print(f\"Кол-во примеров для разбиения:{best_samples_split}.Кол-во примеров для решения:{best_samples_leaf}\")"
      ]
    },
    {
      "cell_type": "markdown",
      "metadata": {
        "id": "P6bRLTUKNigd"
      },
      "source": [
        "Наилучшая глубина - 8, значение accuracy - 0.804, лучшее кол-во примеров для разбиения: 8, лучшее кол-во примеров для решения: 3"
      ]
    },
    {
      "cell_type": "markdown",
      "metadata": {
        "id": "Qx1wPGLyNigd"
      },
      "source": [
        "Перейдем к изучению модели случайного леса, будем изменять параметры количества деревьев от 1 до 50 с шагом 5 и с глубиной дерева от 1 до 10:"
      ]
    },
    {
      "cell_type": "code",
      "execution_count": null,
      "metadata": {
        "id": "QdS_tteONigd",
        "outputId": "33f614cb-479f-4032-b7eb-d7d04a194784"
      },
      "outputs": [
        {
          "name": "stdout",
          "output_type": "stream",
          "text": [
            "Accuracy лучшей модели:0.8195956454121306. Максимальная глубина:9\n",
            "Количество деревьев:36. Кол-во примеров для разбиения:2\n"
          ]
        }
      ],
      "source": [
        "best_forest_model = None\n",
        "best_forest_result = 0\n",
        "best_forest_est = 0\n",
        "best_forest_depth = 0\n",
        "best_samples_split = 2\n",
        "for est in range(1, 51, 5):\n",
        "    for depth in range (1, 10):\n",
        "        for samples_split in range (2, 10):\n",
        "            model = RandomForestClassifier(random_state=12345, n_estimators=est,\n",
        "                                           max_depth=depth, min_samples_split=samples_split)\n",
        "            model.fit(features_train, target_train)\n",
        "            predictions_valid = model.predict(features_valid)\n",
        "            result = accuracy_score(target_valid, predictions_valid)\n",
        "\n",
        "            if result > best_forest_result:\n",
        "                best_forest_model = model\n",
        "                best_forest_result = result\n",
        "                best_forest_est = est\n",
        "                best_forest_depth = depth\n",
        "                best_samples_split = samples_split\n",
        "\n",
        "print(f\"Accuracy лучшей модели:{best_forest_result}. Максимальная глубина:{best_forest_depth}\")\n",
        "print(f\"Количество деревьев:{best_forest_est}. Кол-во примеров для разбиения:{best_samples_split}\")"
      ]
    },
    {
      "cell_type": "markdown",
      "metadata": {
        "id": "IKD8_KdUNige"
      },
      "source": [
        "Наилучшая accuracy = 0.8196 у случайного леса при максимальной глубине дерева 9, 36 деревьях и 2 примерах для разделения на ветви."
      ]
    },
    {
      "cell_type": "markdown",
      "metadata": {
        "id": "qem9X_sxNige"
      },
      "source": [
        "Перейдем к изучению модели логистической регрессии,  переберем несоклько вараинтов алогритмов оптимизации:"
      ]
    },
    {
      "cell_type": "code",
      "execution_count": null,
      "metadata": {
        "id": "3EsI3CrfNige",
        "outputId": "3fbdc17d-0013-472e-fae7-b3b9589b5d3a"
      },
      "outputs": [
        {
          "name": "stdout",
          "output_type": "stream",
          "text": [
            "Accuracy лучшей модели:0.7387247278382582, Solver лучшей модели: lbfgs,коэффициент регуляризации лучшей модели: 0.01\n"
          ]
        }
      ],
      "source": [
        "solvers= ['liblinear', 'lbfgs', 'sag', 'saga'] #solvers[i]\n",
        "best_regress_model = None\n",
        "best_regress_result = 0\n",
        "best_regress_solver = ''\n",
        "best_regress_c = 0.01\n",
        "for i in range(len(solvers)):\n",
        "    for reg in range(0, 101, 5):\n",
        "        model = LogisticRegression(random_state=12345, solver=solvers[i], max_iter=10000, C=reg+0.01)\n",
        "        model.fit(features_train, target_train)\n",
        "        predictions = model.predict(features_valid)\n",
        "        result = accuracy_score(target_valid, predictions)\n",
        "        if result > best_regress_result:\n",
        "            best_regress_solver = solvers[i]\n",
        "            best_regress_model = model\n",
        "            best_regress_result = result\n",
        "            best_regress_c = reg+0.01\n",
        "\n",
        "print(f\"Accuracy лучшей модели:{best_regress_result}, Solver лучшей модели: {best_regress_solver},коэффициент регуляризации лучшей модели: {best_regress_c}\")"
      ]
    },
    {
      "cell_type": "markdown",
      "metadata": {
        "id": "qm_xvucwNigf"
      },
      "source": [
        "Наилучший алгоритм - lbfgs, ,коэффициент регуляризации лучшей модели: 0.01, значение accuracy - 0.7387"
      ]
    },
    {
      "cell_type": "markdown",
      "metadata": {
        "id": "1FNQ6581Nigf"
      },
      "source": [
        "**Вывод:**\n",
        "Таким образом, по значению accurracy  выберем наиболее точной моделью случайный лес с количеством деревьем 36, числом примеров для создания ветвей -2, максималньой глубиной 9 и значением accuray = 0,8196"
      ]
    },
    {
      "cell_type": "markdown",
      "metadata": {
        "id": "Syv6trvLNigf"
      },
      "source": [
        "## Проверьте модель на тестовой выборке"
      ]
    },
    {
      "cell_type": "markdown",
      "metadata": {
        "id": "su_CRpcTNigf"
      },
      "source": [
        "Возьмем выбранную модель случайного леса и проверим ее предсказания на тетсовой выборке:"
      ]
    },
    {
      "cell_type": "code",
      "execution_count": null,
      "metadata": {
        "id": "C1Iai8-bNigf",
        "outputId": "c95b2441-1d81-4739-b235-404f19bdb151"
      },
      "outputs": [
        {
          "name": "stdout",
          "output_type": "stream",
          "text": [
            "Accuracy лучшей модели случайного леса на тестовой выборке: 0.807153965785381\n"
          ]
        }
      ],
      "source": [
        "predictions_valid = best_forest_model.predict(features_test)\n",
        "result = accuracy_score(target_test, predictions_valid)\n",
        "print(\"Accuracy лучшей модели случайного леса на тестовой выборке:\", result)"
      ]
    },
    {
      "cell_type": "markdown",
      "metadata": {
        "id": "4qKM7BMZNigg"
      },
      "source": [
        "**Вывод**:\n",
        "\n",
        "Выбранная модель выдала на тестовой выборке accuracy 0.807,  что выше требуемых 0.75, требуемая точность достигнута."
      ]
    },
    {
      "cell_type": "markdown",
      "metadata": {
        "id": "VqtbQlUTNigg"
      },
      "source": [
        "## (бонус) Проверьте модели на адекватность"
      ]
    },
    {
      "cell_type": "markdown",
      "metadata": {
        "id": "aP7uCQ3dNigg"
      },
      "source": [
        "Для проверки модели на адекватность сравним ее ерзультат с результатом модели DummyClassifier со стратегией \"самый частый\""
      ]
    },
    {
      "cell_type": "code",
      "execution_count": null,
      "metadata": {
        "id": "-He9UTBDNigg",
        "outputId": "a1a1e08c-0396-4168-ea36-584c7cf2564c"
      },
      "outputs": [
        {
          "name": "stdout",
          "output_type": "stream",
          "text": [
            "Accuracy модели DummyClassifier: 0.7060653188180405\n"
          ]
        }
      ],
      "source": [
        "from sklearn.dummy import DummyClassifier\n",
        "model = DummyClassifier(strategy='most_frequent', random_state=12345)\n",
        "model.fit(features_train, target_train)\n",
        "predictions_valid = model.predict(features_valid)\n",
        "result = accuracy_score(predictions_valid, target_valid)\n",
        "print('Accuracy модели DummyClassifier:', result)"
      ]
    },
    {
      "cell_type": "markdown",
      "metadata": {
        "id": "vjd7zz6lNigg"
      },
      "source": [
        "Посмотрим на распределение классов с тренировочных данных:"
      ]
    },
    {
      "cell_type": "code",
      "execution_count": null,
      "metadata": {
        "id": "vBR4eFNJNigg",
        "outputId": "1a860b9e-4d72-4092-ef72-bce65ca87e02"
      },
      "outputs": [
        {
          "data": {
            "text/plain": [
              "0    69.346473\n",
              "1    30.653527\n",
              "Name: is_ultra, dtype: float64"
            ]
          },
          "execution_count": 54,
          "metadata": {},
          "output_type": "execute_result"
        }
      ],
      "source": [
        "target_train.value_counts()/len(target_train)*100"
      ]
    },
    {
      "cell_type": "markdown",
      "metadata": {
        "id": "uTA7DmeuNigh"
      },
      "source": [
        "**Вывод**\n",
        "\n",
        "Значение accuracy модели DummyClassifier 0.706\n",
        "Значение accuracy дерева решений:  0.785\n",
        "Значение accuracy случайного леса: 0.8087\n",
        "Значение accuracy логистической регресси: 0.71\n",
        "\n",
        "Все значения выше значения accuracy модели DummyClassifuer и доли наиболее встречающегося тарифа Смарт(0.693),  а значит все модели являются адекватными."
      ]
    },
    {
      "cell_type": "markdown",
      "metadata": {
        "id": "ZvBQBkYcNigh"
      },
      "source": [
        "## Общий вывод ##\n",
        "- Файл с данными был открыт и изучен\n",
        "- Данные были разбиты на обучающую, валидационную и тестовые выборки в соотношении 60:20:20\n",
        "- Были выбраны наилучшие гипарпараметры для дерева решений, случайного леса, логистической регрессии:\n",
        "    - Наилучшая глубина дерева решений - 3. Кол-во примеров для разбиения:8.Кол-во примеров для решения:3\n",
        "    - Наилучшее количество деревьев для случайного леса 36, максимальная глубина 9,минимальное кол-во примеров для разбиения- 2\n",
        "    - Наилучший алгоритм для логистической регреccии - `lbfgs`, коэффициент регуляризации -0.01\n",
        "- Были сравнены значения accuracy у всех трех моделей с наилучшими параметрами и выбрана самая точная:\n",
        "    - значение accuracy для дерева решений -  0.804\n",
        "    - значение accuracy для случайного леса - 0.8196\n",
        "    - значение accuracy для логистической регрессии - 0.7387\n",
        "    \n",
        "- Наилучшая точность accuracy у модели случайного леса.\n",
        "- Для модели случайного леса была определена accuracy на тестовой выборке, она составила 0.807 что выше требуемых 0.75.\n",
        "- Для оценки адекватности моделей была обучена модель `DummyClassifier`, оценена accuracy на валидационной выборке, она составила 0.706.\n",
        "- Была проведена оценка адекватности всех трех моделей путем сравнения их значения accuracy на валидационной выборке со значением accuracy для модели `DummyClassifier`, значениt accuracy для всех трех моделей выше и они признаны адекватными/\n",
        "- Таким образом, для наиболее точных предсказаний для данной задачи следуюет использовать модель случайного леса с количеством деревьев 36, максимальной глубиной 9 и минимальным количеством примеров для разбиения 2.\n",
        "    \n"
      ]
    },
    {
      "cell_type": "markdown",
      "metadata": {
        "id": "uu4UnfpNNigi"
      },
      "source": [
        "## Чек-лист готовности проекта"
      ]
    },
    {
      "cell_type": "markdown",
      "metadata": {
        "id": "TxvaQ0ccNigi"
      },
      "source": [
        "Поставьте 'x' в выполненных пунктах. Далее нажмите Shift+Enter."
      ]
    },
    {
      "cell_type": "markdown",
      "metadata": {
        "id": "Rm98BOdhNigi"
      },
      "source": [
        "- [x] Jupyter Notebook открыт\n",
        "- [x] Весь код исполняется без ошибок\n",
        "- [x] Ячейки с кодом расположены в порядке исполнения\n",
        "- [x] Выполнено задание 1: данные загружены и изучены\n",
        "- [x] Выполнено задание 2: данные разбиты на три выборки\n",
        "- [x] Выполнено задание 3: проведено исследование моделей\n",
        "    - [x] Рассмотрено больше одной модели\n",
        "    - [x] Рассмотрено хотя бы 3 значения гипепараметров для какой-нибудь модели\n",
        "    - [x] Написаны выводы по результатам исследования\n",
        "- [x] Выполнено задание 3: Проведено тестирование\n",
        "- [x] Удалось достичь accuracy не меньше 0.75\n"
      ]
    }
  ],
  "metadata": {
    "ExecuteTimeLog": [
      {
        "duration": 46,
        "start_time": "2023-03-19T07:00:22.319Z"
      },
      {
        "duration": 1144,
        "start_time": "2023-03-19T07:00:40.736Z"
      },
      {
        "duration": 45,
        "start_time": "2023-03-19T07:00:59.399Z"
      },
      {
        "duration": 24,
        "start_time": "2023-03-19T07:01:10.198Z"
      },
      {
        "duration": 10,
        "start_time": "2023-03-19T07:02:17.813Z"
      },
      {
        "duration": 557,
        "start_time": "2023-03-19T07:13:26.347Z"
      },
      {
        "duration": 4,
        "start_time": "2023-03-19T07:15:53.821Z"
      },
      {
        "duration": 6,
        "start_time": "2023-03-19T07:18:17.592Z"
      },
      {
        "duration": 7,
        "start_time": "2023-03-19T07:19:34.188Z"
      },
      {
        "duration": 5,
        "start_time": "2023-03-19T07:20:49.394Z"
      },
      {
        "duration": 10,
        "start_time": "2023-03-19T07:21:16.101Z"
      },
      {
        "duration": 6,
        "start_time": "2023-03-19T07:21:22.300Z"
      },
      {
        "duration": 7,
        "start_time": "2023-03-19T07:21:46.438Z"
      },
      {
        "duration": 9,
        "start_time": "2023-03-19T07:22:14.032Z"
      },
      {
        "duration": 8,
        "start_time": "2023-03-19T07:22:17.112Z"
      },
      {
        "duration": 45,
        "start_time": "2023-03-19T07:26:48.529Z"
      },
      {
        "duration": 72,
        "start_time": "2023-03-19T07:27:35.170Z"
      },
      {
        "duration": 37,
        "start_time": "2023-03-19T07:27:54.700Z"
      },
      {
        "duration": 37,
        "start_time": "2023-03-19T07:28:14.933Z"
      },
      {
        "duration": 134,
        "start_time": "2023-03-19T07:28:33.501Z"
      },
      {
        "duration": 59,
        "start_time": "2023-03-19T07:28:38.320Z"
      },
      {
        "duration": 65,
        "start_time": "2023-03-19T07:34:56.324Z"
      },
      {
        "duration": 61,
        "start_time": "2023-03-19T07:34:58.777Z"
      },
      {
        "duration": 64,
        "start_time": "2023-03-19T07:35:05.221Z"
      },
      {
        "duration": 42,
        "start_time": "2023-03-19T07:35:09.448Z"
      },
      {
        "duration": 12,
        "start_time": "2023-03-19T07:35:09.492Z"
      },
      {
        "duration": 24,
        "start_time": "2023-03-19T07:35:09.505Z"
      },
      {
        "duration": 166,
        "start_time": "2023-03-19T07:35:09.532Z"
      },
      {
        "duration": 4,
        "start_time": "2023-03-19T07:35:09.700Z"
      },
      {
        "duration": 7,
        "start_time": "2023-03-19T07:35:09.705Z"
      },
      {
        "duration": 6,
        "start_time": "2023-03-19T07:35:09.714Z"
      },
      {
        "duration": 63,
        "start_time": "2023-03-19T07:35:20.069Z"
      },
      {
        "duration": 58,
        "start_time": "2023-03-19T07:35:22.560Z"
      },
      {
        "duration": 8,
        "start_time": "2023-03-19T07:35:26.395Z"
      },
      {
        "duration": 62,
        "start_time": "2023-03-19T07:35:41.246Z"
      },
      {
        "duration": 55,
        "start_time": "2023-03-19T07:38:03.073Z"
      },
      {
        "duration": 62,
        "start_time": "2023-03-19T07:38:35.494Z"
      },
      {
        "duration": 59,
        "start_time": "2023-03-19T07:38:47.451Z"
      },
      {
        "duration": 2087,
        "start_time": "2023-03-19T07:40:34.989Z"
      },
      {
        "duration": 3676,
        "start_time": "2023-03-19T07:40:47.850Z"
      },
      {
        "duration": 917,
        "start_time": "2023-03-19T07:41:12.327Z"
      },
      {
        "duration": 912,
        "start_time": "2023-03-19T07:41:42.297Z"
      },
      {
        "duration": 885,
        "start_time": "2023-03-19T07:42:18.496Z"
      },
      {
        "duration": 6580,
        "start_time": "2023-03-19T07:42:25.955Z"
      },
      {
        "duration": 40,
        "start_time": "2023-03-19T07:43:03.996Z"
      },
      {
        "duration": 35,
        "start_time": "2023-03-19T07:43:16.401Z"
      },
      {
        "duration": 33,
        "start_time": "2023-03-19T07:43:40.302Z"
      },
      {
        "duration": 3950,
        "start_time": "2023-03-19T07:44:40.597Z"
      },
      {
        "duration": 54,
        "start_time": "2023-03-19T07:44:57.389Z"
      },
      {
        "duration": 48,
        "start_time": "2023-03-19T07:45:10.085Z"
      },
      {
        "duration": 3806,
        "start_time": "2023-03-19T07:45:14.941Z"
      },
      {
        "duration": 5,
        "start_time": "2023-03-19T07:45:44.296Z"
      },
      {
        "duration": 4134,
        "start_time": "2023-03-19T07:45:45.719Z"
      },
      {
        "duration": 4047,
        "start_time": "2023-03-19T07:46:34.047Z"
      },
      {
        "duration": 85,
        "start_time": "2023-03-19T07:46:56.397Z"
      },
      {
        "duration": 57,
        "start_time": "2023-03-19T07:47:30.637Z"
      },
      {
        "duration": 11,
        "start_time": "2023-03-19T07:47:32.666Z"
      },
      {
        "duration": 37,
        "start_time": "2023-03-19T07:47:44.550Z"
      },
      {
        "duration": 10,
        "start_time": "2023-03-19T07:47:57.482Z"
      },
      {
        "duration": 3499,
        "start_time": "2023-03-19T07:48:01.987Z"
      },
      {
        "duration": 3257,
        "start_time": "2023-03-19T07:48:07.670Z"
      },
      {
        "duration": 2383,
        "start_time": "2023-03-19T07:48:23.605Z"
      },
      {
        "duration": 3207,
        "start_time": "2023-03-19T07:48:29.918Z"
      },
      {
        "duration": 3183,
        "start_time": "2023-03-19T07:49:30.441Z"
      },
      {
        "duration": 2672,
        "start_time": "2023-03-19T07:49:57.542Z"
      },
      {
        "duration": 2340,
        "start_time": "2023-03-19T07:50:27.825Z"
      },
      {
        "duration": 2272,
        "start_time": "2023-03-19T07:51:55.086Z"
      },
      {
        "duration": 904,
        "start_time": "2023-03-19T07:52:23.447Z"
      },
      {
        "duration": 5279,
        "start_time": "2023-03-19T07:52:31.610Z"
      },
      {
        "duration": 47,
        "start_time": "2023-03-19T07:53:49.349Z"
      },
      {
        "duration": 41,
        "start_time": "2023-03-19T07:58:27.001Z"
      },
      {
        "duration": 24,
        "start_time": "2023-03-19T07:59:02.300Z"
      },
      {
        "duration": 24,
        "start_time": "2023-03-19T07:59:32.855Z"
      },
      {
        "duration": 25,
        "start_time": "2023-03-19T08:00:27.557Z"
      },
      {
        "duration": 40902,
        "start_time": "2023-03-19T08:01:22.434Z"
      },
      {
        "duration": 41673,
        "start_time": "2023-03-19T08:03:08.570Z"
      },
      {
        "duration": 12,
        "start_time": "2023-03-19T08:09:29.895Z"
      },
      {
        "duration": 11,
        "start_time": "2023-03-19T08:09:36.410Z"
      },
      {
        "duration": 11,
        "start_time": "2023-03-19T08:09:39.792Z"
      },
      {
        "duration": 41,
        "start_time": "2023-03-19T08:10:14.362Z"
      },
      {
        "duration": 231,
        "start_time": "2023-03-19T08:10:18.374Z"
      },
      {
        "duration": 549,
        "start_time": "2023-03-19T08:10:35.999Z"
      },
      {
        "duration": 103,
        "start_time": "2023-03-19T08:11:49.194Z"
      },
      {
        "duration": 38,
        "start_time": "2023-03-19T08:12:40.678Z"
      },
      {
        "duration": 64,
        "start_time": "2023-03-19T08:13:56.631Z"
      },
      {
        "duration": 36,
        "start_time": "2023-03-19T08:14:01.635Z"
      },
      {
        "duration": 27,
        "start_time": "2023-03-19T08:14:46.780Z"
      },
      {
        "duration": 541,
        "start_time": "2023-03-19T08:18:12.521Z"
      },
      {
        "duration": 41,
        "start_time": "2023-03-19T08:30:33.681Z"
      },
      {
        "duration": 42,
        "start_time": "2023-03-19T08:30:51.004Z"
      },
      {
        "duration": 860,
        "start_time": "2023-03-19T08:30:58.216Z"
      },
      {
        "duration": 641,
        "start_time": "2023-03-19T08:31:02.613Z"
      },
      {
        "duration": 659,
        "start_time": "2023-03-19T08:31:08.944Z"
      },
      {
        "duration": 1459,
        "start_time": "2023-03-19T08:31:27.577Z"
      },
      {
        "duration": 1030,
        "start_time": "2023-03-19T08:31:35.921Z"
      },
      {
        "duration": 11,
        "start_time": "2023-03-19T08:43:33.866Z"
      },
      {
        "duration": 10,
        "start_time": "2023-03-19T08:57:24.502Z"
      },
      {
        "duration": 6,
        "start_time": "2023-03-19T08:58:03.924Z"
      },
      {
        "duration": 1619,
        "start_time": "2023-03-19T17:14:25.832Z"
      },
      {
        "duration": 17,
        "start_time": "2023-03-19T17:14:28.811Z"
      },
      {
        "duration": 34,
        "start_time": "2023-03-19T17:14:30.274Z"
      },
      {
        "duration": 659,
        "start_time": "2023-03-19T17:14:31.779Z"
      },
      {
        "duration": 6,
        "start_time": "2023-03-19T17:14:34.469Z"
      },
      {
        "duration": 14,
        "start_time": "2023-03-19T17:14:35.717Z"
      },
      {
        "duration": 144,
        "start_time": "2023-03-19T17:14:45.541Z"
      },
      {
        "duration": 21,
        "start_time": "2023-03-19T17:14:55.817Z"
      },
      {
        "duration": 10,
        "start_time": "2023-03-19T17:15:01.958Z"
      },
      {
        "duration": 13,
        "start_time": "2023-03-19T17:15:03.563Z"
      },
      {
        "duration": 18,
        "start_time": "2023-03-19T17:15:15.587Z"
      },
      {
        "duration": 71,
        "start_time": "2023-03-19T17:15:21.818Z"
      },
      {
        "duration": 143,
        "start_time": "2023-03-19T17:26:50.697Z"
      },
      {
        "duration": 104,
        "start_time": "2023-03-19T17:27:10.577Z"
      },
      {
        "duration": 3862,
        "start_time": "2023-03-19T17:27:22.840Z"
      },
      {
        "duration": 57107,
        "start_time": "2023-03-19T17:35:39.480Z"
      },
      {
        "duration": 22,
        "start_time": "2023-03-19T18:31:12.786Z"
      },
      {
        "duration": 31846,
        "start_time": "2023-03-19T18:31:49.836Z"
      },
      {
        "duration": 28149,
        "start_time": "2023-03-19T18:32:37.127Z"
      },
      {
        "duration": 31378,
        "start_time": "2023-03-19T18:34:32.642Z"
      },
      {
        "duration": 148148,
        "start_time": "2023-03-19T18:35:38.627Z"
      },
      {
        "duration": 102,
        "start_time": "2023-03-19T18:38:57.518Z"
      },
      {
        "duration": 107,
        "start_time": "2023-03-19T18:39:08.034Z"
      },
      {
        "duration": 137,
        "start_time": "2023-03-19T18:39:16.331Z"
      },
      {
        "duration": 73764,
        "start_time": "2023-03-19T18:39:23.818Z"
      },
      {
        "duration": 49025,
        "start_time": "2023-03-19T18:41:26.055Z"
      },
      {
        "duration": 131,
        "start_time": "2023-03-19T18:42:22.422Z"
      },
      {
        "duration": 116,
        "start_time": "2023-03-19T18:42:27.416Z"
      },
      {
        "duration": 94,
        "start_time": "2023-03-19T18:42:37.163Z"
      },
      {
        "duration": 3656,
        "start_time": "2023-03-19T18:42:40.145Z"
      },
      {
        "duration": 51832,
        "start_time": "2023-03-19T18:43:33.939Z"
      },
      {
        "duration": 48854,
        "start_time": "2023-03-19T18:45:43.643Z"
      },
      {
        "duration": 3823,
        "start_time": "2023-03-19T18:46:32.498Z"
      },
      {
        "duration": 80887,
        "start_time": "2023-03-19T18:47:05.034Z"
      },
      {
        "duration": 12,
        "start_time": "2023-03-19T18:56:21.647Z"
      },
      {
        "duration": 32484,
        "start_time": "2023-03-19T18:56:27.328Z"
      },
      {
        "duration": 15,
        "start_time": "2023-03-19T18:59:59.018Z"
      },
      {
        "duration": 6,
        "start_time": "2023-03-19T19:03:48.277Z"
      },
      {
        "duration": 13,
        "start_time": "2023-03-19T19:04:19.418Z"
      },
      {
        "duration": 5,
        "start_time": "2023-03-19T19:04:29.855Z"
      },
      {
        "duration": 8,
        "start_time": "2023-03-19T19:04:37.263Z"
      },
      {
        "duration": 5,
        "start_time": "2023-03-19T19:04:55.469Z"
      },
      {
        "duration": 10,
        "start_time": "2023-03-19T19:05:05.236Z"
      },
      {
        "duration": 83,
        "start_time": "2023-03-19T19:05:12.600Z"
      },
      {
        "duration": 95,
        "start_time": "2023-03-19T19:05:58.928Z"
      },
      {
        "duration": 127,
        "start_time": "2023-03-19T19:06:41.910Z"
      },
      {
        "duration": 144,
        "start_time": "2023-03-19T19:06:53.423Z"
      },
      {
        "duration": 7,
        "start_time": "2023-03-19T19:07:27.532Z"
      },
      {
        "duration": 6,
        "start_time": "2023-03-19T19:08:17.114Z"
      },
      {
        "duration": 6,
        "start_time": "2023-03-19T19:08:25.363Z"
      },
      {
        "duration": 6,
        "start_time": "2023-03-19T19:08:32.721Z"
      },
      {
        "duration": 6,
        "start_time": "2023-03-19T19:08:39.059Z"
      },
      {
        "duration": 6,
        "start_time": "2023-03-19T19:08:43.733Z"
      }
    ],
    "kernelspec": {
      "display_name": "Python 3 (ipykernel)",
      "language": "python",
      "name": "python3"
    },
    "language_info": {
      "codemirror_mode": {
        "name": "ipython",
        "version": 3
      },
      "file_extension": ".py",
      "mimetype": "text/x-python",
      "name": "python",
      "nbconvert_exporter": "python",
      "pygments_lexer": "ipython3",
      "version": "3.9.5"
    },
    "toc": {
      "base_numbering": 1,
      "nav_menu": {},
      "number_sections": true,
      "sideBar": true,
      "skip_h1_title": true,
      "title_cell": "Table of Contents",
      "title_sidebar": "Contents",
      "toc_cell": false,
      "toc_position": {},
      "toc_section_display": true,
      "toc_window_display": false
    },
    "colab": {
      "provenance": []
    }
  },
  "nbformat": 4,
  "nbformat_minor": 0
}